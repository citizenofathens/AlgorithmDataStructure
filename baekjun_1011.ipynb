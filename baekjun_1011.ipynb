{
 "cells": [
  {
   "cell_type": "code",
   "execution_count": null,
   "metadata": {
    "collapsed": true
   },
   "outputs": [],
   "source": []
  },
  {
   "cell_type": "code",
   "execution_count": null,
   "outputs": [],
   "source": [
    "# Fly me to the Alpha Centauri"
   ],
   "metadata": {
    "collapsed": false
   }
  },
  {
   "cell_type": "code",
   "execution_count": null,
   "outputs": [],
   "source": [
    "#k 광년 이후에는 k-1,k ,k+1 씩 움직일 수 있다\n",
    "\n",
    "\n",
    "\n"
   ],
   "metadata": {
    "collapsed": false
   }
  },
  {
   "cell_type": "code",
   "execution_count": null,
   "outputs": [],
   "source": [
    "#x -> y 갈때의 최소한의 작동횟수\n",
    "#,y지점 바로직전으로 가야함\n"
   ],
   "metadata": {
    "collapsed": false
   }
  },
  {
   "cell_type": "code",
   "execution_count": 3,
   "outputs": [
    {
     "name": "stdout",
     "output_type": "stream",
     "text": [
      "6\n"
     ]
    }
   ],
   "source": [
    "\n",
    "# input() 이용\n",
    "a, b = map(int, input().split())\n",
    "print(a+b)"
   ],
   "metadata": {
    "collapsed": false,
    "ExecuteTime": {
     "end_time": "2023-09-21T12:11:22.745704800Z",
     "start_time": "2023-09-21T12:11:21.805843800Z"
    }
   }
  },
  {
   "cell_type": "code",
   "execution_count": 4,
   "outputs": [
    {
     "name": "stdout",
     "output_type": "stream",
     "text": [
      "8\n",
      "8\n",
      "8\n"
     ]
    }
   ],
   "source": [
    "n = int(input())\n",
    "for _ in range(n):\n",
    "    a,b = map(int, input().split())\n",
    "    print(a+b)"
   ],
   "metadata": {
    "collapsed": false,
    "ExecuteTime": {
     "end_time": "2023-09-21T12:12:18.607949Z",
     "start_time": "2023-09-21T12:12:13.753583500Z"
    }
   }
  },
  {
   "cell_type": "code",
   "execution_count": null,
   "outputs": [],
   "source": [
    "# 직전 이동거리를 1광년으로 움직일 수 있으려면 2광년이나 1광년을 이동해야 간으하다\n"
   ],
   "metadata": {
    "collapsed": false
   }
  },
  {
   "cell_type": "code",
   "execution_count": null,
   "outputs": [],
   "source": [
    "# 테스트 케이스 1번 같은 경우는\n",
    "# 1광년 이동 후 2광년을 이동해버리고 싶겠지만 그렇게는 안된다\n",
    "# 1광년,1광년,1광년\n",
    "# 도착하기 바로 직전의 이동거리는 반드시 1광년으로 해야하기 때문이다\n",
    "#\n",
    "# 2광년,3광년,,이렇게해서 움직이고 싶겠지만\n",
    "# 끝 지점 바로 전까지는 1광년을 움직일 수 있도록 조절을 해야하며\n",
    "# 그게 가능하다면 최대값씩 이동하는 것이 좋다\n",
    "\n"
   ],
   "metadata": {
    "collapsed": false
   }
  },
  {
   "cell_type": "code",
   "execution_count": null,
   "outputs": [],
   "source": [
    "# 지금"
   ],
   "metadata": {
    "collapsed": false
   }
  },
  {
   "cell_type": "code",
   "execution_count": 5,
   "outputs": [],
   "source": [
    "start_point = 0\n",
    "end_point = 3\n",
    "\n",
    "first_start = True"
   ],
   "metadata": {
    "collapsed": false,
    "ExecuteTime": {
     "end_time": "2023-09-21T12:22:34.334730Z",
     "start_time": "2023-09-21T12:22:34.323843500Z"
    }
   }
  },
  {
   "cell_type": "code",
   "execution_count": null,
   "outputs": [],
   "source": [
    "while start_point != end_point:\n",
    "\n",
    "    # 처음에는 반드시 1만큼 움직인다\n",
    "    if first_start:\n",
    "        curr_point = start_point + 1\n",
    "        curr_k =1\n",
    "        first_start =False\n",
    "        continue\n",
    "\n",
    "    #다음에 이동할 수 있는 거리\n",
    "    minus_k, curr_k, plus_k = curr_k-1,curr_k,curr_k+1\n",
    "\n",
    "\n",
    "\n",
    "    # 현재 부터 끝 지점 까지의 거리를 계속해서 판단한다\n",
    "    # k값과 거리에 따라 줄여야되는 시점이 달라진다\n",
    "    # k가 3이고 남은거리가 2인경우-> 이미 틀렸다 2를 이동할 수 밖에 없기 때문\n",
    "    # 그러니 남은 거리를 계산한다\n",
    "    leave_dist = end_point - curr_point\n",
    "    # k가 3이고 남은거리가 3인경우-> 2만큼이동하고 1만큼이동하면 가능하다\n",
    "    # k가 3이고 남은거리가 4인 경우 -> 3만큼 이동하고 1만큼이동하면 가능하다\n",
    "    # 이동할 거리를 결정하는 최대 이동값 계산식\n",
    "\n",
    "\n",
    "    # 남은 거리가 k보다 크다면 가능하다\n",
    "\n",
    "    if leave_dist>=plus_k: # 남은 거리가 최대 거리보다 크다면 k가 3인 경우는 가\n",
    "\n",
    "    # 능하지만\n",
    "        # k가 4이고 leave_dist가 5인경우는 4를 이동하면 더 이동할 수 없다\n",
    "    # 또 하나의 조건이 바로 k가 직전지점에서 1만큼 이동할 수 있느냐 이다\n",
    "    # 그러므로 그 값을 연쇄적으로 조절해야한다\n",
    "    #최대값으로 이동하지만 k값이 -1,-1,-1 을 해서 end_point -1 지점에서 1만큼 이동할 수 있도록 해야한다\n",
    "\n",
    "    # 지금 시점에서 k값만큼 이동하고 난 뒤에\n",
    "    # 지금부터 1씩 줄여나가야 하는 시점이거나,\n",
    "    # 그게 가능하다면 그렇게 이동한다\n",
    "    dist  = end_point -curr_point\n",
    "\n",
    "    for _ in range(dist):\n",
    "        curr_point+= curr_k\n",
    "\n",
    "\n",
    "    if end_point - start_point >3: #3이상의 거리차이가 난다면 최대 거리를 이동\n",
    "\n",
    "\n",
    "\n"
   ],
   "metadata": {
    "collapsed": false
   }
  },
  {
   "cell_type": "code",
   "execution_count": 1,
   "outputs": [
    {
     "ename": "SyntaxError",
     "evalue": "invalid syntax (1788929364.py, line 12)",
     "output_type": "error",
     "traceback": [
      "\u001B[1;36m  Cell \u001B[1;32mIn[1], line 12\u001B[1;36m\u001B[0m\n\u001B[1;33m    if ( distance== math.sqrt(distance)){\u001B[0m\n\u001B[1;37m                                        ^\u001B[0m\n\u001B[1;31mSyntaxError\u001B[0m\u001B[1;31m:\u001B[0m invalid syntax\n"
     ]
    }
   ],
   "source": [
    "\n",
    "import math\n",
    "Y = end_point\n",
    "X = start_point\n",
    "\n",
    "#이동횟수를 다이렉트로 파악할 수 있다 규칙을 파악해서\n",
    "\n",
    "\n",
    "distance = Y-X\n",
    "max = math.sqrt(distance)\n",
    "\n",
    "# 수열은 헷갈리지 않아야하는게\n",
    " # An+1 = An+ n/2 라는 것은 An은 그자체가 가리키고 있는 값을 뜻하고, n/2는 계산해야하는값이다\n",
    " \n",
    "if ( max== math.sqrt(distance)){\n",
    "    print(2*max -1) # count, 이동한 횟수를 뜻한다 여기서 , count를 골라내는 차례대로조건문,\n",
    "}else if((max*max) <distance <= (max*max+max){\n",
    "    print(2*max)\n",
    "\n",
    "}else{\n",
    "    print(2*max+1)\n",
    "}\n",
    "\n"
   ],
   "metadata": {
    "collapsed": false,
    "ExecuteTime": {
     "end_time": "2023-09-21T13:31:05.082442200Z",
     "start_time": "2023-09-21T13:31:05.072316900Z"
    }
   }
  },
  {
   "cell_type": "code",
   "execution_count": null,
   "outputs": [],
   "source": [],
   "metadata": {
    "collapsed": false
   }
  }
 ],
 "metadata": {
  "kernelspec": {
   "display_name": "Python 3",
   "language": "python",
   "name": "python3"
  },
  "language_info": {
   "codemirror_mode": {
    "name": "ipython",
    "version": 2
   },
   "file_extension": ".py",
   "mimetype": "text/x-python",
   "name": "python",
   "nbconvert_exporter": "python",
   "pygments_lexer": "ipython2",
   "version": "2.7.6"
  }
 },
 "nbformat": 4,
 "nbformat_minor": 0
}

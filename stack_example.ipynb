{
 "cells": [
  {
   "cell_type": "code",
   "execution_count": 1,
   "metadata": {
    "collapsed": true,
    "ExecuteTime": {
     "end_time": "2023-08-20T09:28:50.477987100Z",
     "start_time": "2023-08-20T09:28:50.467044700Z"
    }
   },
   "outputs": [
    {
     "data": {
      "text/plain": "4"
     },
     "execution_count": 1,
     "metadata": {},
     "output_type": "execute_result"
    }
   ],
   "source": [
    "stack = []\n",
    "\n",
    "stack.append(5)\n",
    "stack.append(2)\n",
    "stack.append(3)\n",
    "stack.append(7)\n",
    "stack.pop()\n",
    "stack.append(1)\n",
    "stack.append(4)\n",
    "stack.pop()"
   ]
  },
  {
   "cell_type": "code",
   "execution_count": 2,
   "outputs": [
    {
     "name": "stdout",
     "output_type": "stream",
     "text": [
      "[5, 2, 3, 1]\n",
      "[1, 3, 2, 5]\n"
     ]
    }
   ],
   "source": [
    "print(stack)\n",
    "print(stack[::-1])"
   ],
   "metadata": {
    "collapsed": false,
    "ExecuteTime": {
     "end_time": "2023-08-20T09:28:56.837204300Z",
     "start_time": "2023-08-20T09:28:56.833203500Z"
    }
   }
  },
  {
   "cell_type": "code",
   "execution_count": 3,
   "outputs": [],
   "source": [
    "from collections import deque\n",
    "\n",
    "queue = deque()"
   ],
   "metadata": {
    "collapsed": false,
    "ExecuteTime": {
     "end_time": "2023-08-20T09:29:45.863970300Z",
     "start_time": "2023-08-20T09:29:45.856330400Z"
    }
   }
  },
  {
   "cell_type": "code",
   "execution_count": 4,
   "outputs": [],
   "source": [
    "queue.append(5)"
   ],
   "metadata": {
    "collapsed": false,
    "ExecuteTime": {
     "end_time": "2023-08-20T09:29:49.010248700Z",
     "start_time": "2023-08-20T09:29:48.989326800Z"
    }
   }
  },
  {
   "cell_type": "code",
   "execution_count": 5,
   "outputs": [
    {
     "data": {
      "text/plain": "5"
     },
     "execution_count": 5,
     "metadata": {},
     "output_type": "execute_result"
    }
   ],
   "source": [
    "queue.append(2)\n",
    "queue.append(3)\n",
    "queue.append(7)\n",
    "queue.popleft()"
   ],
   "metadata": {
    "collapsed": false,
    "ExecuteTime": {
     "end_time": "2023-08-20T09:30:08.808586Z",
     "start_time": "2023-08-20T09:30:08.794997Z"
    }
   }
  },
  {
   "cell_type": "code",
   "execution_count": 6,
   "outputs": [],
   "source": [
    "queue.append(1)\n",
    "queue.append(4)"
   ],
   "metadata": {
    "collapsed": false,
    "ExecuteTime": {
     "end_time": "2023-08-20T09:30:18.462842Z",
     "start_time": "2023-08-20T09:30:18.459784200Z"
    }
   }
  },
  {
   "cell_type": "code",
   "execution_count": 7,
   "outputs": [
    {
     "data": {
      "text/plain": "2"
     },
     "execution_count": 7,
     "metadata": {},
     "output_type": "execute_result"
    }
   ],
   "source": [
    "queue.popleft()"
   ],
   "metadata": {
    "collapsed": false,
    "ExecuteTime": {
     "end_time": "2023-08-20T09:30:24.802016500Z",
     "start_time": "2023-08-20T09:30:24.792508700Z"
    }
   }
  },
  {
   "cell_type": "code",
   "execution_count": 9,
   "outputs": [
    {
     "name": "stdout",
     "output_type": "stream",
     "text": [
      "deque([3, 7, 1, 4])\n"
     ]
    }
   ],
   "source": [
    "print(queue)"
   ],
   "metadata": {
    "collapsed": false,
    "ExecuteTime": {
     "end_time": "2023-08-20T09:30:29.879924800Z",
     "start_time": "2023-08-20T09:30:29.871926700Z"
    }
   }
  },
  {
   "cell_type": "code",
   "execution_count": 11,
   "outputs": [],
   "source": [
    "queue.reverse()"
   ],
   "metadata": {
    "collapsed": false,
    "ExecuteTime": {
     "end_time": "2023-08-20T09:30:36.072653Z",
     "start_time": "2023-08-20T09:30:36.059984100Z"
    }
   }
  },
  {
   "cell_type": "code",
   "execution_count": 12,
   "outputs": [
    {
     "name": "stdout",
     "output_type": "stream",
     "text": [
      "deque([4, 1, 7, 3])\n"
     ]
    }
   ],
   "source": [
    "print(queue)"
   ],
   "metadata": {
    "collapsed": false,
    "ExecuteTime": {
     "end_time": "2023-08-20T09:30:40.524878800Z",
     "start_time": "2023-08-20T09:30:40.500534500Z"
    }
   }
  },
  {
   "cell_type": "code",
   "execution_count": 13,
   "outputs": [],
   "source": [
    "# 리스트에 비해 빠르다\n"
   ],
   "metadata": {
    "collapsed": false,
    "ExecuteTime": {
     "end_time": "2023-08-20T09:30:58.235173700Z",
     "start_time": "2023-08-20T09:30:58.221265700Z"
    }
   }
  },
  {
   "cell_type": "code",
   "execution_count": null,
   "outputs": [],
   "source": [
    "def recursive_function():\n",
    "    print(\"재귀함수를 호출합니다.\")\n",
    "    recursive_function()\n",
    "recursive_function()"
   ],
   "metadata": {
    "collapsed": false,
    "ExecuteTime": {
     "start_time": "2023-08-20T09:31:57.165136500Z"
    }
   }
  },
  {
   "cell_type": "code",
   "execution_count": 2,
   "outputs": [],
   "source": [
    "# 나중에 모든 것이 합을 이뤄 목표를 이루 게 해줄테니 목표가 있는 것 '처럼' 열심히하는거야"
   ],
   "metadata": {
    "collapsed": false,
    "ExecuteTime": {
     "end_time": "2023-08-20T09:33:52.534280900Z",
     "start_time": "2023-08-20T09:33:52.530630200Z"
    }
   }
  },
  {
   "cell_type": "code",
   "execution_count": 12,
   "outputs": [],
   "source": [
    "def recursive_function(i):\n",
    "    # 100번째 출력했을 때 종료되도록 종료 조건 명시\n",
    "    if i == 100:\n",
    "        print(i, \"번째 재귀함수가 호출되었습니다. return 만 합니다 stack구조에서 다음 껄 처리합니다\")  # 내부적으로 스택자료구조 호출, 이게 좋네\n",
    "\n",
    "        return\n",
    "    print(i, \"번째 재귀함수에서\" ,i+1, '번쨰 재귀 함수를 호출합니다.')  # 내부적으로 스택자료구조 호출, 이게 좋네\n",
    "    recursive_function(i+1)\n",
    "    print(\"호출되었던 \",i, \"번째 재귀 함수가 이제 종료합니다.\")"
   ],
   "metadata": {
    "collapsed": false,
    "ExecuteTime": {
     "end_time": "2023-08-20T09:37:04.146470500Z",
     "start_time": "2023-08-20T09:37:04.129156800Z"
    }
   }
  },
  {
   "cell_type": "code",
   "execution_count": 10,
   "outputs": [],
   "source": [],
   "metadata": {
    "collapsed": false,
    "ExecuteTime": {
     "end_time": "2023-08-20T09:36:20.755091Z",
     "start_time": "2023-08-20T09:36:20.739028900Z"
    }
   }
  },
  {
   "cell_type": "code",
   "execution_count": 10,
   "outputs": [],
   "source": [],
   "metadata": {
    "collapsed": false,
    "ExecuteTime": {
     "end_time": "2023-08-20T09:36:20.922853300Z",
     "start_time": "2023-08-20T09:36:20.916325100Z"
    }
   }
  },
  {
   "cell_type": "code",
   "execution_count": 13,
   "outputs": [
    {
     "name": "stdout",
     "output_type": "stream",
     "text": [
      "90 번째 재귀함수에서 91 번쨰 재귀 함수를 호출합니다.\n",
      "91 번째 재귀함수에서 92 번쨰 재귀 함수를 호출합니다.\n",
      "92 번째 재귀함수에서 93 번쨰 재귀 함수를 호출합니다.\n",
      "93 번째 재귀함수에서 94 번쨰 재귀 함수를 호출합니다.\n",
      "94 번째 재귀함수에서 95 번쨰 재귀 함수를 호출합니다.\n",
      "95 번째 재귀함수에서 96 번쨰 재귀 함수를 호출합니다.\n",
      "96 번째 재귀함수에서 97 번쨰 재귀 함수를 호출합니다.\n",
      "97 번째 재귀함수에서 98 번쨰 재귀 함수를 호출합니다.\n",
      "98 번째 재귀함수에서 99 번쨰 재귀 함수를 호출합니다.\n",
      "99 번째 재귀함수에서 100 번쨰 재귀 함수를 호출합니다.\n",
      "100 번째 재귀함수가 호출되었습니다. return 만 합니다 stack구조에서 다음 껄 처리합니다\n",
      "호출되었던  99 번째 재귀 함수가 이제 종료합니다.\n",
      "호출되었던  98 번째 재귀 함수가 이제 종료합니다.\n",
      "호출되었던  97 번째 재귀 함수가 이제 종료합니다.\n",
      "호출되었던  96 번째 재귀 함수가 이제 종료합니다.\n",
      "호출되었던  95 번째 재귀 함수가 이제 종료합니다.\n",
      "호출되었던  94 번째 재귀 함수가 이제 종료합니다.\n",
      "호출되었던  93 번째 재귀 함수가 이제 종료합니다.\n",
      "호출되었던  92 번째 재귀 함수가 이제 종료합니다.\n",
      "호출되었던  91 번째 재귀 함수가 이제 종료합니다.\n",
      "호출되었던  90 번째 재귀 함수가 이제 종료합니다.\n"
     ]
    }
   ],
   "source": [
    "recursive_function(90)"
   ],
   "metadata": {
    "collapsed": false,
    "ExecuteTime": {
     "end_time": "2023-08-20T09:37:04.301892600Z",
     "start_time": "2023-08-20T09:37:04.287920500Z"
    }
   }
  },
  {
   "cell_type": "code",
   "execution_count": 14,
   "outputs": [],
   "source": [
    "\n",
    "# 반복으로 구현\n",
    "def factorial_iterative(n):\n",
    "    result = 1\n",
    "    # 1 부터 n까지의  수를 차례대로 곱하기\n",
    "    for i in range(1, n+1):\n",
    "        result *=i\n",
    "    return result"
   ],
   "metadata": {
    "collapsed": false,
    "ExecuteTime": {
     "end_time": "2023-08-20T09:38:28.926810700Z",
     "start_time": "2023-08-20T09:38:28.910932200Z"
    }
   }
  },
  {
   "cell_type": "code",
   "execution_count": null,
   "outputs": [],
   "source": [
    "# 어려운 건 내생각처럼 빠르게 못한다"
   ],
   "metadata": {
    "collapsed": false
   }
  },
  {
   "cell_type": "code",
   "execution_count": 21,
   "outputs": [],
   "source": [
    "# 재귀적으로 구현한 n!\n",
    "def factorical_resursive(n):\n",
    "    if n <= 1 :\n",
    "        return 1\n",
    "# n! = n * (n-1) ! 를 그대로 코드로 작성하기\n",
    "    print('다음 재귀함수를 호출합니다.')\n",
    "    return n * factorial_iterative( n-1)\n",
    "# n 입력 다음 함수 호출 5\n",
    "# n 입력 다음 함수 호출 4\n",
    "# n 입력 다음 함수 호출 3\n",
    "# n 입력 다음 함수 호출 2\n",
    "# n 입력 당므 함수 호출  1 - 종료\n",
    "# 2이 입력된 재귀함수 호출의 리턴값 ->  2* 1 -> 2\n",
    "# 3가 입력된 재귀함수 호출의 리턴 값 ->   3 * 2(위의 결과)\n",
    "# 4가 입려된 재귀함수 호출의 리턴 값 ->  4* 6 (위의 결과)\n",
    "# 5가 입력된 재귀함수 호출의 리턴 값 -> 5 * 24 (위의 결과)"
   ],
   "metadata": {
    "collapsed": false,
    "ExecuteTime": {
     "end_time": "2023-08-20T09:42:40.802041700Z",
     "start_time": "2023-08-20T09:42:40.788017400Z"
    }
   }
  },
  {
   "cell_type": "code",
   "execution_count": null,
   "outputs": [],
   "source": [
    "# input 과 output을 기준으로 생각하면된다 재귀함수는 , 헷갈리면\n"
   ],
   "metadata": {
    "collapsed": false
   }
  },
  {
   "cell_type": "code",
   "execution_count": 24,
   "outputs": [],
   "source": [
    "INF = 9999999999\n",
    "\n",
    "# 2차원 리스트를 이용해 인접 행렬 방식으로 리스트 표현\n",
    "graph = [\n",
    "    [0,7,5],  # 0 노드의 1번째 노드와 2번째 노드와의 가중치값\n",
    "    [7,0,INF],\n",
    "    [5,INF,0]\n",
    "\n",
    "]\n"
   ],
   "metadata": {
    "collapsed": false,
    "ExecuteTime": {
     "end_time": "2023-08-20T09:47:50.461781Z",
     "start_time": "2023-08-20T09:47:50.445337300Z"
    }
   }
  },
  {
   "cell_type": "code",
   "execution_count": 25,
   "outputs": [
    {
     "name": "stdout",
     "output_type": "stream",
     "text": [
      "[[0, 7, 5], [7, 0, 9999999999], [5, 9999999999, 0]]\n"
     ]
    }
   ],
   "source": [
    "print(graph)"
   ],
   "metadata": {
    "collapsed": false,
    "ExecuteTime": {
     "end_time": "2023-08-20T09:47:51.115818700Z",
     "start_time": "2023-08-20T09:47:51.097841800Z"
    }
   }
  },
  {
   "cell_type": "code",
   "execution_count": 26,
   "outputs": [],
   "source": [
    "#그래프를  인접 리스트 방식\n"
   ],
   "metadata": {
    "collapsed": false,
    "ExecuteTime": {
     "end_time": "2023-08-20T09:48:17.156787500Z",
     "start_time": "2023-08-20T09:48:17.147520300Z"
    }
   }
  },
  {
   "cell_type": "code",
   "execution_count": 29,
   "outputs": [],
   "source": [
    "# 행이 3개인 2차원 리스트로 인접 리스트 푷녀\n",
    "graph = [[] for _ in range(3)]"
   ],
   "metadata": {
    "collapsed": false,
    "ExecuteTime": {
     "end_time": "2023-08-20T09:48:40.653390300Z",
     "start_time": "2023-08-20T09:48:40.644962900Z"
    }
   }
  },
  {
   "cell_type": "code",
   "execution_count": 30,
   "outputs": [],
   "source": [
    "# 노드 0에 연결된 노드 정보 저장 (노드 , 거리)\n",
    "graph[0].append((1,7))"
   ],
   "metadata": {
    "collapsed": false,
    "ExecuteTime": {
     "end_time": "2023-08-20T09:48:58.173730100Z",
     "start_time": "2023-08-20T09:48:58.168720500Z"
    }
   }
  },
  {
   "cell_type": "code",
   "execution_count": 31,
   "outputs": [],
   "source": [
    "graph[0].append((2,5))"
   ],
   "metadata": {
    "collapsed": false,
    "ExecuteTime": {
     "end_time": "2023-08-20T09:49:02.545709400Z",
     "start_time": "2023-08-20T09:49:02.536524500Z"
    }
   }
  },
  {
   "cell_type": "code",
   "execution_count": 33,
   "outputs": [
    {
     "data": {
      "text/plain": "[(1, 7), (2, 5)]"
     },
     "execution_count": 33,
     "metadata": {},
     "output_type": "execute_result"
    }
   ],
   "source": [
    "graph[0]"
   ],
   "metadata": {
    "collapsed": false,
    "ExecuteTime": {
     "end_time": "2023-08-20T09:49:06.242275600Z",
     "start_time": "2023-08-20T09:49:06.237531Z"
    }
   }
  },
  {
   "cell_type": "code",
   "execution_count": 35,
   "outputs": [],
   "source": [
    "# 인접 리스트는 연결 리스트로 구현\n",
    "\n"
   ],
   "metadata": {
    "collapsed": false,
    "ExecuteTime": {
     "end_time": "2023-08-20T09:50:02.530339Z",
     "start_time": "2023-08-20T09:50:02.523029300Z"
    }
   }
  },
  {
   "cell_type": "code",
   "execution_count": 36,
   "outputs": [],
   "source": [
    "# 인접 행렬은 모든 관계 표현이므로 메모리 낭비\n",
    "# 인접 리스트 방식은 연결 정보만을 젖아 하지만 검색 속도가 느리다\n",
    "\n"
   ],
   "metadata": {
    "collapsed": false,
    "ExecuteTime": {
     "end_time": "2023-08-20T09:50:50.193227700Z",
     "start_time": "2023-08-20T09:50:50.169178100Z"
    }
   }
  },
  {
   "cell_type": "code",
   "execution_count": 38,
   "outputs": [],
   "source": [
    "# 깊이 우선 탐색은 스택에 기초하므로 구현이 간단하다 재귀함수또한 스택을 쓰므로 매우 간결하게 가능하다\n"
   ],
   "metadata": {
    "collapsed": false,
    "ExecuteTime": {
     "end_time": "2023-08-20T09:52:44.494117700Z",
     "start_time": "2023-08-20T09:52:44.485778Z"
    }
   }
  },
  {
   "cell_type": "code",
   "execution_count": 73,
   "outputs": [],
   "source": [
    "def dfs(graph  , v, visited):\n",
    "    # 현재 노드를 방문 처리\n",
    "    visited[v]= True\n",
    "\n",
    "    print(v, end=' ')\n",
    "    print('방문처리')\n",
    "    # 현재 노드와 연결된 다른 노드를 재귀적으로 방문\n",
    "    for i in graph[v]:\n",
    "        if not visited[i]:\n",
    "            print(f'현재 노드  {v} 의 {i} 번째가 방문 되지 않았으므로 {i}번쨰를 방문처리하며 호출합니다')\n",
    "            dfs(graph, i , visited)"
   ],
   "metadata": {
    "collapsed": false,
    "ExecuteTime": {
     "end_time": "2023-08-20T09:59:25.925809600Z",
     "start_time": "2023-08-20T09:59:25.907379400Z"
    }
   }
  },
  {
   "cell_type": "code",
   "execution_count": 74,
   "outputs": [],
   "source": [
    "graph =[\n",
    "[],\n",
    "[2,3,8],\n",
    "    [1,7],\n",
    "    [1,4,5],\n",
    "    [3,5],\n",
    "    [3,4],\n",
    "    [7],\n",
    "    [2,6,8],\n",
    "    [1,7]\n",
    "\n",
    "]"
   ],
   "metadata": {
    "collapsed": false,
    "ExecuteTime": {
     "end_time": "2023-08-20T09:59:26.067905800Z",
     "start_time": "2023-08-20T09:59:26.051604700Z"
    }
   }
  },
  {
   "cell_type": "code",
   "execution_count": 75,
   "outputs": [],
   "source": [
    "# 각 노드가 방문도니 정보를 리스트 자료형으로 표현\n",
    "visited = [False] * 9"
   ],
   "metadata": {
    "collapsed": false,
    "ExecuteTime": {
     "end_time": "2023-08-20T09:59:26.204743600Z",
     "start_time": "2023-08-20T09:59:26.197781200Z"
    }
   }
  },
  {
   "cell_type": "code",
   "execution_count": 76,
   "outputs": [
    {
     "name": "stdout",
     "output_type": "stream",
     "text": [
      "1 방문처리\n",
      "현재 노드  1 의 2 번째가 방문 되지 않았으므로 2번쨰를 방문처리하며 호출합니다\n",
      "2 방문처리\n",
      "현재 노드  2 의 7 번째가 방문 되지 않았으므로 7번쨰를 방문처리하며 호출합니다\n",
      "7 방문처리\n",
      "현재 노드  7 의 6 번째가 방문 되지 않았으므로 6번쨰를 방문처리하며 호출합니다\n",
      "6 방문처리\n",
      "현재 노드  7 의 8 번째가 방문 되지 않았으므로 8번쨰를 방문처리하며 호출합니다\n",
      "8 방문처리\n",
      "현재 노드  1 의 3 번째가 방문 되지 않았으므로 3번쨰를 방문처리하며 호출합니다\n",
      "3 방문처리\n",
      "현재 노드  3 의 4 번째가 방문 되지 않았으므로 4번쨰를 방문처리하며 호출합니다\n",
      "4 방문처리\n",
      "현재 노드  4 의 5 번째가 방문 되지 않았으므로 5번쨰를 방문처리하며 호출합니다\n",
      "5 방문처리\n"
     ]
    }
   ],
   "source": [
    "dfs(graph, 1,visited)"
   ],
   "metadata": {
    "collapsed": false,
    "ExecuteTime": {
     "end_time": "2023-08-20T09:59:26.354573100Z",
     "start_time": "2023-08-20T09:59:26.345545600Z"
    }
   }
  },
  {
   "cell_type": "code",
   "execution_count": 77,
   "outputs": [],
   "source": [
    "# 음료수 얼ㄹ려 먹기\n"
   ],
   "metadata": {
    "collapsed": false,
    "ExecuteTime": {
     "end_time": "2023-08-20T10:27:33.518962Z",
     "start_time": "2023-08-20T10:27:33.505380300Z"
    }
   }
  },
  {
   "cell_type": "code",
   "execution_count": 78,
   "outputs": [],
   "source": [
    "# n, m"
   ],
   "metadata": {
    "collapsed": false,
    "ExecuteTime": {
     "end_time": "2023-08-20T10:27:45.919322700Z",
     "start_time": "2023-08-20T10:27:45.910328400Z"
    }
   }
  },
  {
   "cell_type": "code",
   "execution_count": 79,
   "outputs": [],
   "source": [
    "#  둘째줄부터 N+1 까지\n",
    "# 구 멍 0\n",
    "\n",
    "\n",
    "# 한번에 만들수있는 아이스크림개수, 이어져있으면 만들수잇는거야"
   ],
   "metadata": {
    "collapsed": false,
    "ExecuteTime": {
     "end_time": "2023-08-20T10:28:47.956577600Z",
     "start_time": "2023-08-20T10:28:47.945254800Z"
    }
   }
  },
  {
   "cell_type": "code",
   "execution_count": 80,
   "outputs": [],
   "source": [
    "\n",
    "# 구멍이 뚫려 있으면 반복을 한다 그리고 반복문으로 방문안한 곳을 찾는다, 방문은 너비이든 깊이이든\n",
    "n, M= 4,5\n",
    "\n",
    "visited = [[False] * M for _ in range(n)]"
   ],
   "metadata": {
    "collapsed": false,
    "ExecuteTime": {
     "end_time": "2023-08-20T10:30:44.758811700Z",
     "start_time": "2023-08-20T10:30:44.748812600Z"
    }
   }
  },
  {
   "cell_type": "code",
   "execution_count": 81,
   "outputs": [
    {
     "data": {
      "text/plain": "[[False, False, False, False, False],\n [False, False, False, False, False],\n [False, False, False, False, False],\n [False, False, False, False, False]]"
     },
     "execution_count": 81,
     "metadata": {},
     "output_type": "execute_result"
    }
   ],
   "source": [
    "visited"
   ],
   "metadata": {
    "collapsed": false,
    "ExecuteTime": {
     "end_time": "2023-08-20T10:30:47.385713100Z",
     "start_time": "2023-08-20T10:30:47.376310100Z"
    }
   }
  },
  {
   "cell_type": "code",
   "execution_count": 95,
   "outputs": [
    {
     "ename": "ValueError",
     "evalue": "not enough values to unpack (expected 2, got 1)",
     "output_type": "error",
     "traceback": [
      "\u001B[1;31m---------------------------------------------------------------------------\u001B[0m",
      "\u001B[1;31mValueError\u001B[0m                                Traceback (most recent call last)",
      "Cell \u001B[1;32mIn[95], line 2\u001B[0m\n\u001B[0;32m      1\u001B[0m \u001B[38;5;66;03m# 입력 받기\u001B[39;00m\n\u001B[1;32m----> 2\u001B[0m n, m \u001B[38;5;241m=\u001B[39m \u001B[38;5;28mmap\u001B[39m(\u001B[38;5;28mint\u001B[39m , \u001B[38;5;28minput\u001B[39m()\u001B[38;5;241m.\u001B[39msplit())\n",
      "\u001B[1;31mValueError\u001B[0m: not enough values to unpack (expected 2, got 1)"
     ]
    }
   ],
   "source": [
    "# 입력 받기\n",
    "n, m = map(int , input().split())"
   ],
   "metadata": {
    "collapsed": false,
    "ExecuteTime": {
     "end_time": "2023-08-20T10:36:55.670142800Z",
     "start_time": "2023-08-20T10:36:53.510409800Z"
    }
   }
  },
  {
   "cell_type": "code",
   "execution_count": 94,
   "outputs": [
    {
     "data": {
      "text/plain": "4"
     },
     "execution_count": 94,
     "metadata": {},
     "output_type": "execute_result"
    }
   ],
   "source": [],
   "metadata": {
    "collapsed": false,
    "ExecuteTime": {
     "end_time": "2023-08-20T10:36:51.988563100Z",
     "start_time": "2023-08-20T10:36:51.973046800Z"
    }
   }
  },
  {
   "cell_type": "code",
   "execution_count": 92,
   "outputs": [],
   "source": [
    "# 행렬로 표현 , 연결 리스트라기 보단 행렬인듯\n",
    "grpah = []\n",
    "for i in range(n):\n",
    "    graph.append(list(map(int,input())))"
   ],
   "metadata": {
    "collapsed": false,
    "ExecuteTime": {
     "end_time": "2023-08-20T10:36:42.975214900Z",
     "start_time": "2023-08-20T10:36:41.671388400Z"
    }
   }
  },
  {
   "cell_type": "code",
   "execution_count": null,
   "outputs": [],
   "source": [],
   "metadata": {
    "collapsed": false
   }
  },
  {
   "cell_type": "code",
   "execution_count": 97,
   "outputs": [
    {
     "ename": "SyntaxError",
     "evalue": "unexpected EOF while parsing (3045323823.py, line 19)",
     "output_type": "error",
     "traceback": [
      "\u001B[1;36m  Cell \u001B[1;32mIn[97], line 19\u001B[1;36m\u001B[0m\n\u001B[1;33m    # 혀\u001B[0m\n\u001B[1;37m       ^\u001B[0m\n\u001B[1;31mSyntaxError\u001B[0m\u001B[1;31m:\u001B[0m unexpected EOF while parsing\n"
     ]
    }
   ],
   "source": [
    "def dfs(x,y):\n",
    "    # 주어진 범위를 벗어나는 경우에는 즉시 종료\n",
    "    if x <= -1 or x >= n or y <= -1 or y>= m:\n",
    "        return False\n",
    "\n",
    "\n",
    "    # 방문하지 않았다면 방문 처리\n",
    "    if graph[x][y] ==0:\n",
    "        graph[x][y] = 1\n",
    "        # 상하좌우 모두 방문하도록\n",
    "        dfs(x-1,y) # 방문처리#\n",
    "        dfs(x+1,y)# 방문 처리\n",
    "        dfs(x,y-1) # 이어진 곳들 방문처리 #\n",
    "        dfs(x,y+1)# 이어진 곳들 방문처리\n",
    "        return True # 그리고 나서 모두 방문 모ㅜㄷ 끝났으면 True 처리\n",
    "    return False # 방문한 곳이라면 넘어간다 False를 내뱉고 count를 늘리지 않는다\n",
    "\n",
    "\n",
    "for i in range(n):\n",
    "    for j in range(M):\n",
    "\n",
    "        # 처음 dfs호출시 연결된 모든 곳을 방문하고 결과를 내뱉는다, 최초방문한곳이 방문한곳이거나 넘어가면 false, 다음 좌표로\n",
    "        # 방문하지 않은 곳이나오면 무조건 +1은 하는것이고 그와 연결된 모든곳을 방문처리한다\n",
    "        #\n",
    "        if dfs(i,j) ==True:\n",
    "            result +=1\n",
    "            d\n",
    "            # 방문끝났으면?, True 이면 ?\n",
    "        # 혀"
   ],
   "metadata": {
    "collapsed": false,
    "ExecuteTime": {
     "end_time": "2023-08-20T10:50:42.000796Z",
     "start_time": "2023-08-20T10:50:41.985566400Z"
    }
   }
  },
  {
   "cell_type": "code",
   "execution_count": 89,
   "outputs": [],
   "source": [
    "\n",
    "\n",
    "\n",
    "graph= []"
   ],
   "metadata": {
    "collapsed": false,
    "ExecuteTime": {
     "end_time": "2023-08-20T10:36:15.548941500Z",
     "start_time": "2023-08-20T10:36:15.535540700Z"
    }
   }
  },
  {
   "cell_type": "code",
   "execution_count": null,
   "outputs": [],
   "source": [
    "\n",
    "\n",
    "def recursive_icecream(v_i,v_j):\n",
    "\n",
    "    visited[i][j] = False\n",
    "\n",
    "    # 한 번 모두 방문하고 방문할 곳이 없다면\n",
    "    for i in range(n):\n",
    "        for j in range(M):\n",
    "            if not graph[i][j]:# 빨리 안되면 정답을 보자\n",
    "\n",
    "                recursive_icecream(i,j)\n",
    "\n",
    "    return"
   ],
   "metadata": {
    "collapsed": false
   }
  }
 ],
 "metadata": {
  "kernelspec": {
   "display_name": "Python 3",
   "language": "python",
   "name": "python3"
  },
  "language_info": {
   "codemirror_mode": {
    "name": "ipython",
    "version": 2
   },
   "file_extension": ".py",
   "mimetype": "text/x-python",
   "name": "python",
   "nbconvert_exporter": "python",
   "pygments_lexer": "ipython2",
   "version": "2.7.6"
  }
 },
 "nbformat": 4,
 "nbformat_minor": 0
}

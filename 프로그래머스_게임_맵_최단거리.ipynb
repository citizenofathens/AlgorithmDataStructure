{
 "cells": [
  {
   "cell_type": "code",
   "execution_count": null,
   "metadata": {},
   "outputs": [],
   "source": [
    "# bfs로 문제 해결\n",
    "# 아니 그래도 실력이 늘었는 지 저런 거는 뭐 힘안들이고 유연하게 생각해낼 수 있다 방문처리와 업데이틀 생각못해서그렇지 , 안보고 자연스럽게 하는것처럼 여러가지 실력이늘었는지\n",
    "# 핤수있따고 생각한다\n",
    "\n",
    "from collections import deque\n",
    "def solution(maps):\n",
    "    answer = 0\n",
    "\n",
    "    # 상하좌우\n",
    "    dx = [-1, 1, 0, 0]\n",
    "    dy = [0, 0, -1, 1]\n",
    "\n",
    "    def bfs(x, y):\n",
    "        queue = deque()\n",
    "        queue.append((x, y))\n",
    "\n",
    "        # queue가 빌 때까지 반복\n",
    "        while queue:\n",
    "            x, y = queue.popleft()\n",
    "\n",
    "            # 상하좌우 칸 확인하기\n",
    "            for i in range(4):\n",
    "                nx = x + dx[i]\n",
    "                ny = y + dy[i]\n",
    "\n",
    "                # 맵을 벗어나면 무시하기\n",
    "                if nx < 0 or nx >= len(maps) or ny < 0 or ny >= len(maps[0]): continue\n",
    "\n",
    "                # 벽이면 무시하기\n",
    "                if maps[nx][ny] == 0:  continue\n",
    "\n",
    "                # 처음 지나가는 길이면 거리계산하고 다시 상하좌우 확인하기\n",
    "                if maps[nx][ny] == 1:\n",
    "                    maps[nx][ny] = maps[x][y] + 1\n",
    "                    queue.append((nx, ny))    # 재귀\n",
    "\n",
    "        # 상대 팀 진영(제일 오른쪽 아래 칸)까지의 거리 반환\n",
    "        return maps[len(maps)-1][len(maps[0])-1]\n",
    "\n",
    "    answer = bfs(0, 0)\n",
    "    return -1 if answer == 1 else answer    # 상대 팀 진영에 도착할 수 없을 때 -1"
   ]
  }
 ],
 "metadata": {
  "language_info": {
   "name": "python"
  },
  "orig_nbformat": 4
 },
 "nbformat": 4,
 "nbformat_minor": 2
}

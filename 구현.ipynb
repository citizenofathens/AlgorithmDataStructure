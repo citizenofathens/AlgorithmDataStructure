{
 "cells": [
  {
   "cell_type": "code",
   "execution_count": 18,
   "metadata": {},
   "outputs": [],
   "source": []
  },
  {
   "cell_type": "code",
   "execution_count": null,
   "metadata": {},
   "outputs": [],
   "source": []
  },
  {
   "cell_type": "code",
   "execution_count": 1,
   "metadata": {},
   "outputs": [
    {
     "ename": "SyntaxError",
     "evalue": "invalid syntax (3800287716.py, line 2)",
     "output_type": "error",
     "traceback": [
      "\u001b[1;36m  Cell \u001b[1;32mIn[1], line 2\u001b[1;36m\u001b[0m\n\u001b[1;33m    dy = [0,0 ,1,1-]\u001b[0m\n\u001b[1;37m                   ^\u001b[0m\n\u001b[1;31mSyntaxError\u001b[0m\u001b[1;31m:\u001b[0m invalid syntax\n"
     ]
    }
   ],
   "source": []
  },
  {
   "cell_type": "code",
   "execution_count": 2,
   "metadata": {},
   "outputs": [
    {
     "ename": "AttributeError",
     "evalue": "type object 'int' has no attribute 'input'",
     "output_type": "error",
     "traceback": [
      "\u001b[1;31m---------------------------------------------------------------------------\u001b[0m",
      "\u001b[1;31mAttributeError\u001b[0m                            Traceback (most recent call last)",
      "Cell \u001b[1;32mIn[2], line 1\u001b[0m\n\u001b[1;32m----> 1\u001b[0m test \u001b[39m=\u001b[39m\u001b[39mlist\u001b[39m(\u001b[39mmap\u001b[39m(\u001b[39mint\u001b[39;49m\u001b[39m.\u001b[39;49minput()\u001b[39m.\u001b[39msplit()))\n",
      "\u001b[1;31mAttributeError\u001b[0m: type object 'int' has no attribute 'input'"
     ]
    }
   ],
   "source": [
    "test =list(map(int.input().split()))"
   ]
  },
  {
   "cell_type": "code",
   "execution_count": 11,
   "metadata": {},
   "outputs": [],
   "source": [
    "#N x N 크기 부터\n",
    "\n",
    "\n",
    "\n",
    "#2차원 배열에서 오른 쪽으로 가려면\n",
    "\n",
    "#좌표를 출력하기 \n",
    "\n",
    "board= [ (i+1, j+1) for i in range(5) for j in range(5)]\n",
    "\n",
    "start_pos = (1,1)"
   ]
  },
  {
   "cell_type": "code",
   "execution_count": null,
   "metadata": {},
   "outputs": [],
   "source": [
    "command = list(map(int,input().split()))"
   ]
  },
  {
   "cell_type": "code",
   "execution_count": 13,
   "metadata": {},
   "outputs": [],
   "source": [
    "moves = [(1,0),(-1,0),(0,1),(0,-1)]"
   ]
  },
  {
   "cell_type": "code",
   "execution_count": 14,
   "metadata": {},
   "outputs": [],
   "source": [
    "start_pos = (1,1)"
   ]
  },
  {
   "cell_type": "code",
   "execution_count": 17,
   "metadata": {},
   "outputs": [
    {
     "ename": "NameError",
     "evalue": "name 'dy' is not defined",
     "output_type": "error",
     "traceback": [
      "\u001b[1;31m---------------------------------------------------------------------------\u001b[0m",
      "\u001b[1;31mNameError\u001b[0m                                 Traceback (most recent call last)",
      "Cell \u001b[1;32mIn[17], line 1\u001b[0m\n\u001b[1;32m----> 1\u001b[0m dy\n",
      "\u001b[1;31mNameError\u001b[0m: name 'dy' is not defined"
     ]
    }
   ],
   "source": [
    "dy"
   ]
  },
  {
   "cell_type": "code",
   "execution_count": null,
   "metadata": {},
   "outputs": [],
   "source": [
    "\n",
    "\n",
    "dy = [1,-1,0,0]\n",
    "dx = [0,0 ,1,-1]\n"
   ]
  },
  {
   "cell_type": "code",
   "execution_count": 19,
   "metadata": {},
   "outputs": [],
   "source": [
    "start_pos = (start_pos[0]+dy[0],start_pos[1]+dx[0])"
   ]
  },
  {
   "cell_type": "code",
   "execution_count": 20,
   "metadata": {},
   "outputs": [
    {
     "data": {
      "text/plain": [
       "(2, 1)"
      ]
     },
     "execution_count": 20,
     "metadata": {},
     "output_type": "execute_result"
    }
   ],
   "source": [
    "start_pos"
   ]
  },
  {
   "cell_type": "code",
   "execution_count": 16,
   "metadata": {},
   "outputs": [
    {
     "data": {
      "text/plain": [
       "(2, 1)"
      ]
     },
     "execution_count": 16,
     "metadata": {},
     "output_type": "execute_result"
    }
   ],
   "source": [
    "start_pos = (start_pos[0]+moves[0][0],start_pos[1]+moves[0][1])"
   ]
  },
  {
   "cell_type": "code",
   "execution_count": 21,
   "metadata": {},
   "outputs": [
    {
     "ename": "NameError",
     "evalue": "name 'command' is not defined",
     "output_type": "error",
     "traceback": [
      "\u001b[1;31m---------------------------------------------------------------------------\u001b[0m",
      "\u001b[1;31mNameError\u001b[0m                                 Traceback (most recent call last)",
      "Cell \u001b[1;32mIn[21], line 1\u001b[0m\n\u001b[1;32m----> 1\u001b[0m \u001b[39mfor\u001b[39;00m cmd \u001b[39min\u001b[39;00m command:\n\u001b[0;32m      3\u001b[0m     \u001b[39mif\u001b[39;00m cmd \u001b[39m==\u001b[39m \u001b[39m'\u001b[39m\u001b[39mR\u001b[39m\u001b[39m'\u001b[39m:\n\u001b[0;32m      4\u001b[0m         start_pos \u001b[39m=\u001b[39m start_pos[\u001b[39m0\u001b[39m]\u001b[39m+\u001b[39mdy[\u001b[39m0\u001b[39m],start_pos[\u001b[39m1\u001b[39m]\u001b[39m+\u001b[39mdx[\u001b[39m0\u001b[39m]\n",
      "\u001b[1;31mNameError\u001b[0m: name 'command' is not defined"
     ]
    }
   ],
   "source": [
    "for cmd in command:\n",
    "\n",
    "    if cmd == 'R':\n",
    "        start_pos = start_pos[0]+dy[0],start_pos[1]+dx[0]\n",
    "    elif cmd == 'L':\n",
    "        start_pos = start_pos[0]+dy[1],start_pos[1]+dx[1]\n",
    "    elif cmd == 'U': \n",
    "        start_pos = start_pos[0]+dy[2],start_pos[1]+dx[2]\n",
    "    elif cmd == 'D':\n",
    "        start_pos = start_pos[0]+dy[3],start_pos[1]+dx[3]"
   ]
  },
  {
   "cell_type": "code",
   "execution_count": null,
   "metadata": {},
   "outputs": [],
   "source": [
    "# if문을 하나로 줄이기\n",
    "# 근데 불필요하게 move_types 를 다 순회해야함\n"
   ]
  },
  {
   "cell_type": "code",
   "execution_count": 22,
   "metadata": {},
   "outputs": [],
   "source": [
    "\n",
    "# 공간 벗어나는 경우와 이동을 수행하는 코드를 써넣는다 \n",
    "move_types =  ['R','L','D','U']\n",
    "\n",
    "for cmd in move_types:\n",
    "    if cmd == plan:\n",
    "#        왜 x에 바로 안 더하고 nx 를 만들고 나중에 x 에 더하는지?\n",
    "        nx = x +dx[i]\n",
    "        ...\n",
    "    x, y = nx,ny"
   ]
  },
  {
   "cell_type": "code",
   "execution_count": null,
   "metadata": {},
   "outputs": [],
   "source": [
    "60까지 \n",
    "\n",
    "#\n",
    "#n시59분59초까지 # 이 포함되면 카운트하기\n",
    "\n",
    "cnt = 0\n",
    "\n",
    "for i in range(N):\n",
    "    for j in range(60):\n",
    "        for k in range(60):\n",
    "            if 3 in i or 3 in j or 3 in k:\n",
    "                cnt +=1"
   ]
  }
 ],
 "metadata": {
  "kernelspec": {
   "display_name": "Python 3",
   "language": "python",
   "name": "python3"
  },
  "language_info": {
   "codemirror_mode": {
    "name": "ipython",
    "version": 3
   },
   "file_extension": ".py",
   "mimetype": "text/x-python",
   "name": "python",
   "nbconvert_exporter": "python",
   "pygments_lexer": "ipython3",
   "version": "3.11.4"
  },
  "orig_nbformat": 4
 },
 "nbformat": 4,
 "nbformat_minor": 2
}

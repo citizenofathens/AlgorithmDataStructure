{
 "cells": [
  {
   "cell_type": "code",
   "execution_count": null,
   "metadata": {},
   "outputs": [],
   "source": [
    "import sys\n",
    "from collections import deque\n",
    "input = sys.stdin.readline"
   ]
  },
  {
   "cell_type": "code",
   "execution_count": null,
   "metadata": {},
   "outputs": [],
   "source": [
    "# 개념은 개념이되 강박적으로 쓸려하지말고 유엲게 사고하기 항상\n",
    "# visited 배열은 dfs 처음 돌릴때 그 다음돌릴때 당연히 초기화 해줘야됨"
   ]
  },
  {
   "cell_type": "code",
   "execution_count": 6,
   "metadata": {},
   "outputs": [],
   "source": [
    "n, m = map(int, input().split())\n",
    "ice = [list(map(int, input().split())) for _ in range(n)]"
   ]
  },
  {
   "cell_type": "code",
   "execution_count": null,
   "metadata": {},
   "outputs": [],
   "source": [
    "def check():\n",
    "    cnt =0 \n",
    "    for i in range(m):\n",
    "        for j in range(n):\n",
    "            if ice[i][j] !=0 and not visited[i][j]:\n",
    "                dfs[i,j]\n",
    "                cnt +=1\n",
    "    \n",
    "    return cnt >=2\n"
   ]
  },
  {
   "cell_type": "code",
   "execution_count": 5,
   "metadata": {},
   "outputs": [
    {
     "data": {
      "text/plain": [
       "[[1, 1, 1], [1, 1, 1], [1, 1, 1]]"
      ]
     },
     "execution_count": 5,
     "metadata": {},
     "output_type": "execute_result"
    }
   ],
   "source": [
    "# 예제 1\n",
    "# 5 7\n",
    "# 0 0 0 0 0 0 0\n",
    "# 0 2 4 5 3 0 0\n",
    "# 0 3 0 2 5 2 0\n",
    "# 0 7 6 2 4 0 0\n",
    "# 0 0 0 0 0 0 0"
   ]
  },
  {
   "cell_type": "code",
   "execution_count": null,
   "metadata": {},
   "outputs": [],
   "source": [
    "def is_all_map_zero(ice,m,n):\n",
    "    # 모두 0인가를 체크하는 로직\n",
    "    for i in range(m):\n",
    "        for j in range(n):\n",
    "            if ice[i][j] !=0 :\n",
    "                return False\n",
    "            \n",
    "    return True\n"
   ]
  },
  {
   "cell_type": "code",
   "execution_count": null,
   "metadata": {},
   "outputs": [],
   "source": [
    "\n",
    "while True:\n",
    "    if check():\n",
    "        ok = True\n",
    "        break\n",
    "        "
   ]
  },
  {
   "cell_type": "code",
   "execution_count": null,
   "metadata": {},
   "outputs": [],
   "source": [
    "visited = [0 for _ in range(m) for _ in range(n)]\n",
    "# y를 먼저 써서 헷갈림 방지\n",
    "def dfs(y,x): \n",
    "    visited[y][x] = 1  # 방문 처리\n",
    "    dy = [-1,1,0,0]\n",
    "    dx = [0,0,1,-1] \n",
    "    visited[ny][nx] = 1 \n",
    "    for d in range(4):\n",
    "        ny = y+dy[d]\n",
    "        nx = x+dy[d]\n",
    "        if ny < 0 or ny >= m or nx < 0 or nx >= n or _map[nx][ny] or visited[nx][ny]:\n",
    "            continue\n",
    "        dfs[ny][nx]\n",
    "    return\n",
    "            \n",
    "        "
   ]
  },
  {
   "cell_type": "code",
   "execution_count": null,
   "metadata": {},
   "outputs": [],
   "source": [
    "\n",
    "dx = [-1,1,0,0]\n",
    "dy = [0,0,1,-1]\n",
    "\n",
    "m = len(board)\n",
    "n = len(board[0])\n",
    "for i in range(m):\n",
    "    for j in range(n):\n",
    "        if board[i][j] != 0:\n",
    "            cnt = 0\n",
    "            for d in range(4):\n",
    "                ny = i + dy[d]\n",
    "                nx = j + dx[d]\n",
    "                if ny < 0 or ny >= m or nx < 0 or nx >= n or _map[i][j] == 0 or visited[ny][nx]:#visited는 이미미 그 전에 방문한 경우\n",
    "                    continue\n",
    "                cnt +=1\n",
    "            board[i][j] = max(board[i][j]-cnt , 0)\n"
   ]
  },
  {
   "attachments": {},
   "cell_type": "markdown",
   "metadata": {},
   "source": []
  },
  {
   "cell_type": "code",
   "execution_count": null,
   "metadata": {},
   "outputs": [],
   "source": [
    "# 구현 연습 하기\n",
    "\n",
    "test = list(map(int, input().split()))"
   ]
  },
  {
   "cell_type": "code",
   "execution_count": null,
   "metadata": {},
   "outputs": [],
   "source": []
  }
 ],
 "metadata": {
  "kernelspec": {
   "display_name": "Python 3",
   "language": "python",
   "name": "python3"
  },
  "language_info": {
   "codemirror_mode": {
    "name": "ipython",
    "version": 3
   },
   "file_extension": ".py",
   "mimetype": "text/x-python",
   "name": "python",
   "nbconvert_exporter": "python",
   "pygments_lexer": "ipython3",
   "version": "3.11.3"
  },
  "orig_nbformat": 4
 },
 "nbformat": 4,
 "nbformat_minor": 2
}

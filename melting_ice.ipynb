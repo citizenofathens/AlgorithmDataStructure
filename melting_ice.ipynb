{
 "cells": [
  {
   "cell_type": "code",
   "execution_count": null,
   "metadata": {},
   "outputs": [],
   "source": [
    "def check():\n",
    "    "
   ]
  },
  {
   "cell_type": "code",
   "execution_count": null,
   "metadata": {},
   "outputs": [],
   "source": [
    "visited = [0 for _ in range(m) for _ in range(n)]\n",
    "# y를 먼저 써서 헷갈림 방지\n",
    "def dfs(y,x):\n",
    "    \n",
    "    visited[y][x] = 1  # 방문 처리\n",
    "    dy = [-1,1,0,0]\n",
    "    dx = [0,0,1,-1] \n",
    "    visited[ny][nx] = 1 \n",
    "    for d in range(4):\n",
    "        ny = y+dy[d]\n",
    "        nx = x+dy[d]\n",
    "        if ny < 0 or ny >= m or nx < 0 or nx >= n or _map[nx][ny] or visited[nx][ny]:\n",
    "            continue\n",
    "        dfs[ny][nx]\n",
    "    return\n",
    "            \n",
    "        "
   ]
  },
  {
   "cell_type": "code",
   "execution_count": null,
   "metadata": {},
   "outputs": [],
   "source": [
    "\n",
    "dx = [-1,1,0,0]\n",
    "dy = [0,0,1,-1]\n",
    "\n",
    "m = len(board)\n",
    "n = len(board[0])\n",
    "for i in range(m):\n",
    "    for j in range(n):\n",
    "        if board[i][j] != 0:\n",
    "            cnt = 0\n",
    "            for d in range(4):\n",
    "                ny = i + dy[d]\n",
    "                nx = j + dx[d]\n",
    "                if ny < 0 or ny >= m or nx < 0 or nx >= n or _map[i][j] == 0 or visited[ny][nx]:#visited는 이미미 그 전에 방문한 경우\n",
    "                    continue\n",
    "                cnt +=1\n",
    "            board[i][j] = max(board[i][j]-cnt , 0)\n"
   ]
  },
  {
   "attachments": {},
   "cell_type": "markdown",
   "metadata": {},
   "source": []
  },
  {
   "cell_type": "code",
   "execution_count": null,
   "metadata": {},
   "outputs": [],
   "source": [
    "# 구현 연습 하기\n",
    "\n",
    "test = list(map(int, input().split()))"
   ]
  },
  {
   "cell_type": "code",
   "execution_count": null,
   "metadata": {},
   "outputs": [],
   "source": []
  }
 ],
 "metadata": {
  "language_info": {
   "name": "python"
  },
  "orig_nbformat": 4
 },
 "nbformat": 4,
 "nbformat_minor": 2
}

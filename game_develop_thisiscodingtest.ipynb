{
 "cells": [
  {
   "cell_type": "code",
   "execution_count": null,
   "metadata": {},
   "outputs": [],
   "source": [
    "#시뮬레이션 문제\n",
    "\n",
    " # 맵 생성 후 어디로갈지 \n",
    "#가보지않을곳을\n",
    "\n",
    "#  왼쪽 방향\n",
    "# 탐욕적으로 하지말고 뜻을 갖고\n",
    "\n",
    "# 비탐욕적타맥 \n",
    "# \n",
    "\n",
    "\n",
    "# 방향을 탐색\n",
    "\n",
    "\n",
    "\n",
    "# 북쪽을 보고 잇으니\n",
    "\n",
    "# 왼쪽인 서쪽으로 갈 수 있는지 보고 , 안되면 회전만 ,\n",
    "# 서쪽에서 왼쪽인 남쪽으로 갈수있는 지 보고 \n",
    "# 갈수있으면 전진\n",
    "\n",
    "## 회전은 무조건, 4바얗ㅇ 다돌고 못가면 뒤로가고 뒤가 바다면 멈춘다 \n",
    "\n",
    "#반시계를 바라보는 로직\n",
    "\n",
    "\n",
    "rotate_left_90  = (0,-1), (1,0), (0,1),(-1,0) # 했을 때 갈 수 있는 공간인지 검사\n",
    "\n",
    "\n"
   ]
  },
  {
   "cell_type": "code",
   "execution_count": null,
   "metadata": {},
   "outputs": [],
   "source": [
    "# 북쪽을 보고 있을 때 서쪽 방향 칸을 검사하려면 위의 순서를 따른다\n",
    "\n",
    "# dx[0,1,0,-1]\n",
    "# dy[-1,0,1,0]\n",
    "\n",
    "# 서쪽을 보고 있을 때는? 인덱스 1 부터 수행한다 \n",
    "# 서 남 동 북\n",
    "\n",
    "# 검사한 후 이동했다면 캐릭터가 보고 있는 방향을 저장하기 \n",
    "\n",
    "\n",
    "\n"
   ]
  },
  {
   "cell_type": "code",
   "execution_count": null,
   "metadata": {},
   "outputs": [],
   "source": [
    "curr_pos = (1,1)\n",
    "\n",
    "# map = \n"
   ]
  },
  {
   "cell_type": "code",
   "execution_count": 1,
   "metadata": {},
   "outputs": [],
   "source": [
    "\n",
    "\n",
    "test = list(map(int,input().split()))"
   ]
  },
  {
   "cell_type": "code",
   "execution_count": null,
   "metadata": {},
   "outputs": [],
   "source": [
    "m,n"
   ]
  },
  {
   "cell_type": "code",
   "execution_count": null,
   "metadata": {},
   "outputs": [],
   "source": [
    "\n",
    "\n",
    "\n",
    "\n",
    "game_board.append(list(map(int,input().split()))"
   ]
  },
  {
   "cell_type": "code",
   "execution_count": null,
   "metadata": {},
   "outputs": [],
   "source": []
  },
  {
   "cell_type": "code",
   "execution_count": null,
   "metadata": {},
   "outputs": [],
   "source": [
    "\n",
    "\n"
   ]
  },
  {
   "cell_type": "code",
   "execution_count": null,
   "metadata": {},
   "outputs": [],
   "source": [
    "curr_pos = (1,1)\n",
    "direction_info = ['서','남','동','북']\n",
    "# \n",
    "\n",
    "\n",
    "start_idx =  (direction_info.index(curr_direction)+1) % 4 # 리스트의 전체 길이로 나누어서 간다\n",
    "\n",
    "# 움직일 수 없을 때까지 방문한 칸 수\n",
    "\n",
    " \n",
    " \n"
   ]
  },
  {
   "cell_type": "code",
   "execution_count": 7,
   "metadata": {},
   "outputs": [],
   "source": [
    "curr_pos = [0,1]"
   ]
  },
  {
   "cell_type": "code",
   "execution_count": 8,
   "metadata": {},
   "outputs": [
    {
     "data": {
      "text/plain": [
       "[0, 1]"
      ]
     },
     "execution_count": 8,
     "metadata": {},
     "output_type": "execute_result"
    }
   ],
   "source": [
    "curr_pos"
   ]
  },
  {
   "cell_type": "code",
   "execution_count": null,
   "metadata": {},
   "outputs": [],
   "source": []
  },
  {
   "cell_type": "code",
   "execution_count": 3,
   "metadata": {},
   "outputs": [
    {
     "ename": "IndentationError",
     "evalue": "expected an indented block after 'else' statement on line 22 (3306720575.py, line 24)",
     "output_type": "error",
     "traceback": [
      "\u001b[1;36m  Cell \u001b[1;32mIn[3], line 24\u001b[1;36m\u001b[0m\n\u001b[1;33m    if not can_move:\u001b[0m\n\u001b[1;37m    ^\u001b[0m\n\u001b[1;31mIndentationError\u001b[0m\u001b[1;31m:\u001b[0m expected an indented block after 'else' statement on line 22\n"
     ]
    }
   ],
   "source": [
    "\n",
    "\n",
    "while can_move:\n",
    "\n",
    "    move_idx = (direction_info.index(curr_direction)+1) % 4\n",
    "    for move_cnt in range(4):\n",
    "        # 해당 방향으로 진행할 수 있다면 회전 후 진행\n",
    "        # 북쪽이면 idx 0 부터 시작하여 회전\n",
    "        # 동서남북중 어느 방향인지 디렉션을 찾고 그 인덱스의 +1 부터 진행\n",
    "        \n",
    "        # 발음처럼 표현 명확히 하는 습관\n",
    "\n",
    "        # dx,dy는 서남동북으로 움직이낟\n",
    "        nx = curr_pos[0]+dx[move_idx]\n",
    "        ny = curr_pos[1]+dy[move_idx]\n",
    "\n",
    "        # 다음 진행 방향이 존재한다면\n",
    "        #     \n",
    "        if game_board[nx][ny]:\n",
    "            # 바라보는 방향을 바꾸고\n",
    "            curr_direction = direction\n",
    "            curr_pos[0] = nx\n",
    "            curr_pos[1] = ny\n",
    " \n",
    "            break   \n",
    "        else:\n",
    "            if move_cnt == 3: \n",
    "                # 모두 회전에도 움직일 수 없다면 뒷걸음하고 방향은 유지한다 \n",
    "                # 서쪽 방향을 보고 있었다면 동쪽방향으로 이동\n",
    "             \n",
    "                if curr_direction == '서': \n",
    "                    # 반대방향으로 움직일 수 없을 경우 탈출\n",
    "                    \n",
    "                \n",
    "                elif curr_direction == '남':\n",
    "\n",
    "                elif curr_direction == '동':\n",
    "                \n",
    "                elif curr_direction =='북': \n",
    "                    \n",
    "\n",
    "                break\n",
    "            move_idx += 1 \n",
    "\n",
    "    if not can_move:\n",
    "        break\n",
    "        \n",
    "\n",
    "\n"
   ]
  },
  {
   "cell_type": "code",
   "execution_count": null,
   "metadata": {},
   "outputs": [],
   "source": [
    "#답안 예시\n",
    "\n",
    "n , m = map(int, input().split())\n",
    "\n",
    "# 방문한 위치를 저장하기 위한 맵을 생성하여 0으로 초기화\n",
    "\n",
    "d = [[0]* m for _ in range(n)]\n",
    "#현재 캐릭터의 X 좌표  , Y좌표 , 방향을 입력받기\n",
    "x, y, direction = map(int, input().split())\n",
    "d[x][y] = 1 # 현재 좌표 방문 처리\n",
    "\n",
    "# 전체 맵 정보를 입력받기\n",
    "array = []\n",
    "for i in range(n):\n",
    "    array.append(list(map, int, input().split()))\n",
    "\n",
    "#북 , 동 , 남 , 서 방향 정의 \n",
    "\n",
    "dx = [-1,0,1,0]\n",
    "\n",
    "dy = [0,1,0,-1]\n",
    "\n",
    "\n",
    "# 왼쪽으로 회전\n",
    "\n",
    "def turn_left():\n",
    "    global direction\n",
    "    direction -= 1\n",
    "    if direction == -1:\n",
    "        direction =3 \n",
    "\n",
    "\n",
    "# 시뮬레이션 시작\n",
    "count = 1\n",
    "turn_time = 0\n",
    "while True:\n",
    "\n",
    "    # 왼쪽으로 회전\n",
    "\n",
    "    turn_left()\n",
    "\n",
    "    nx= x+dx[direction]\n",
    "    ny = y+dy[direction]\n",
    "\n",
    "    #회전한 이후 정면에 가보지 않은 칸이 존재하는 경우 이동\n",
    "    if d[nx][ny] == 0 and array[nx][ny] == 0:\n",
    "        d[nx][ny] = 1 \n",
    "        x = nx\n",
    "        y = ny\n",
    "        count +=1 \n",
    "        turn_time = 0\n",
    "        continue\n",
    "\n",
    "    # 회전한 이후 정면에 가보지 않은 칸이 없거나 바다인 경우\n",
    "    else:\n",
    "        turn_time +=1\n",
    "    # 네 방향 모두 갈 수 없는 경우 \n",
    "    if turn_time ==  4:\n",
    "        nx = x - dx[direction] # 방향을 바라 본 상태에서 -로 인해 부호를 바꿔주면 뒷걸음질로 간다 \n",
    "        ny = y - dx[direction] \n",
    "        # 뒤로 갈 수 있다면 이동하기\n",
    "\n",
    "        if array[nx][ny] == 0: \n",
    "            x = nx\n",
    "            y = ny\n",
    "        # 뒤가 바다로 막혀있는 경우\n",
    "        else:\n",
    "            break\n",
    "        turn_time = 0\n",
    "\n",
    "#정답 출력\n",
    "print(count)\n",
    "\n",
    "\n",
    "\n",
    "\n"
   ]
  }
 ],
 "metadata": {
  "kernelspec": {
   "display_name": "Python 3",
   "language": "python",
   "name": "python3"
  },
  "language_info": {
   "codemirror_mode": {
    "name": "ipython",
    "version": 3
   },
   "file_extension": ".py",
   "mimetype": "text/x-python",
   "name": "python",
   "nbconvert_exporter": "python",
   "pygments_lexer": "ipython3",
   "version": "3.11.4"
  },
  "orig_nbformat": 4
 },
 "nbformat": 4,
 "nbformat_minor": 2
}

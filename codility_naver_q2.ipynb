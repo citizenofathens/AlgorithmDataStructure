{
 "cells": [
  {
   "cell_type": "markdown",
   "source": [
    "#https://katie0809.github.io/2021/10/25/codility8/\n"
   ],
   "metadata": {
    "collapsed": false
   }
  },
  {
   "cell_type": "code",
   "execution_count": 1,
   "outputs": [],
   "source": [
    "A = [2,3,1,4,2,2]\n",
    "R = [4,2,2]"
   ],
   "metadata": {
    "collapsed": false,
    "ExecuteTime": {
     "end_time": "2023-09-23T10:15:45.037715600Z",
     "start_time": "2023-09-23T10:15:45.024791900Z"
    }
   }
  },
  {
   "cell_type": "code",
   "execution_count": null,
   "outputs": [],
   "source": [
    "# 길이가 3인 것을 어디서 부터뺴야하는지 찾아야 한다\n",
    "# 슬라이딩 윈도우 알고리즘 -> 어제풀고또까먹음 -> 암기하려고 해서그렇다 이해하려고하기\n",
    "# 천천히 생각해서 이해하는거지 외우는게아님"
   ],
   "metadata": {
    "collapsed": false
   }
  },
  {
   "cell_type": "code",
   "execution_count": 5,
   "outputs": [],
   "source": [
    "max_val = float(1e-9)"
   ],
   "metadata": {
    "collapsed": false,
    "ExecuteTime": {
     "end_time": "2023-09-23T10:17:48.076405600Z",
     "start_time": "2023-09-23T10:17:48.066382900Z"
    }
   }
  },
  {
   "cell_type": "code",
   "execution_count": 6,
   "outputs": [
    {
     "data": {
      "text/plain": "1e-09"
     },
     "execution_count": 6,
     "metadata": {},
     "output_type": "execute_result"
    }
   ],
   "source": [
    "\n",
    "max_val"
   ],
   "metadata": {
    "collapsed": false,
    "ExecuteTime": {
     "end_time": "2023-09-23T10:17:48.260422200Z",
     "start_time": "2023-09-23T10:17:48.242651900Z"
    }
   }
  },
  {
   "cell_type": "code",
   "execution_count": null,
   "outputs": [],
   "source": [
    "# 연계인덱스사용해서 for 문 idx 구성하기"
   ],
   "metadata": {
    "collapsed": false
   }
  },
  {
   "cell_type": "code",
   "execution_count": 8,
   "outputs": [],
   "source": [
    "from collections import Counter\n",
    "def solution(A,R):\n",
    "    counter = Counter\n",
    "    # 윈도우 초기화\n",
    "    # 중요한 건 종류의 개수가 최대가 되는 경우\n",
    "    # 종류에서 뺄 것인지 말 것인지 결정한다\n",
    "    max_kinds = 0\n",
    "    kinds = len(counter(A))\n",
    "\n",
    "    for i in range(R):\n",
    "\n",
    "        if counter[A[i]]==1:\n",
    "            # 한개만 있게되면 종류를 줄인다\n",
    "            kinds -=1\n",
    "                # A[i] 번째의 숫자의 개수는 R의 길이에 포함되므로 줄인다       .#그래도 어제는 이코드도 이해를 못했다\n",
    "    max_kinds = kinds\n",
    "    # 처음 종류의 개수를 구하고 난 뒤 다시 이동하기\n",
    "    for i in range(R,len(A)-R):\n",
    "        # 왜 R 부터지 ? 아닌듯\n",
    "        # 0개였다면\n",
    "        if counter[A[i-R]] == 0:\n",
    "            kinds+=1  # 이제 이동한거니까 종류를 증가시킨다\n",
    "        counter[A[i-R]] +=1\n",
    "\n",
    "        if conter[A[i]] == 1: # 현재인덱스가 하나 남았다면 종류가 줄어든다\n",
    "            kinds -=1\n",
    "\n",
    "        counter[A[i]] -= 1\n",
    "\n",
    "        max_kinds = max(max_kinds,kinds)\n",
    "\n",
    "\n",
    "    return max_kinds\n",
    "\n"
   ],
   "metadata": {
    "collapsed": false,
    "ExecuteTime": {
     "end_time": "2023-09-23T10:37:09.652792600Z",
     "start_time": "2023-09-23T10:37:09.644532900Z"
    }
   }
  },
  {
   "cell_type": "code",
   "execution_count": null,
   "outputs": [],
   "source": [
    " A=[2, 3, 1, 1, 2], R=2"
   ],
   "metadata": {
    "collapsed": false
   }
  },
  {
   "cell_type": "code",
   "execution_count": 10,
   "outputs": [
    {
     "name": "stdout",
     "output_type": "stream",
     "text": [
      "2\n"
     ]
    }
   ],
   "source": [
    "from collections import Counter\n",
    "\n",
    "def max_kinds(A, R):\n",
    "    counter = Counter(A)\n",
    "    kinds = len(counter)\n",
    "\n",
    "    # 초기 R길이만큼 구간에 대한 처리\n",
    "    for i in range(R):\n",
    "        if counter[A[i]] == 1:\n",
    "            kinds -= 1\n",
    "        counter[A[i]] -= 1\n",
    "\n",
    "    max_kinds = kinds\n",
    "\n",
    "    # 슬라이딩 윈도우 시작\n",
    "    for i in range(1, len(A)):\n",
    "        if counter[A[i-R]] == 0:\n",
    "            kinds += 1\n",
    "        counter[A[i-R]] += 1\n",
    "\n",
    "        if counter[A[i]] == 1:\n",
    "            kinds -= 1\n",
    "        counter[A[i]] -= 1\n",
    "\n",
    "        max_kinds = max(max_kinds, kinds)\n",
    "\n",
    "    return max_kinds\n",
    "\n",
    "A =[2,3,1,4,2,2]\n",
    "R=3\n",
    "print(max_kinds(A,R))   # 출력: 3\n"
   ],
   "metadata": {
    "collapsed": false,
    "ExecuteTime": {
     "end_time": "2023-09-23T10:37:24.566114Z",
     "start_time": "2023-09-23T10:37:24.553328800Z"
    }
   }
  },
  {
   "cell_type": "code",
   "execution_count": 9,
   "outputs": [
    {
     "ename": "TypeError",
     "evalue": "'list' object cannot be interpreted as an integer",
     "output_type": "error",
     "traceback": [
      "\u001B[1;31m---------------------------------------------------------------------------\u001B[0m",
      "\u001B[1;31mTypeError\u001B[0m                                 Traceback (most recent call last)",
      "Cell \u001B[1;32mIn[9], line 1\u001B[0m\n\u001B[1;32m----> 1\u001B[0m \u001B[43msolution\u001B[49m\u001B[43m(\u001B[49m\u001B[43mA\u001B[49m\u001B[43m,\u001B[49m\u001B[43mR\u001B[49m\u001B[43m)\u001B[49m\n",
      "Cell \u001B[1;32mIn[8], line 10\u001B[0m, in \u001B[0;36msolution\u001B[1;34m(A, R)\u001B[0m\n\u001B[0;32m      7\u001B[0m max_kinds \u001B[38;5;241m=\u001B[39m \u001B[38;5;241m0\u001B[39m\n\u001B[0;32m      8\u001B[0m kinds \u001B[38;5;241m=\u001B[39m \u001B[38;5;28mlen\u001B[39m(counter(A))\n\u001B[1;32m---> 10\u001B[0m \u001B[38;5;28;01mfor\u001B[39;00m i \u001B[38;5;129;01min\u001B[39;00m \u001B[38;5;28;43mrange\u001B[39;49m\u001B[43m(\u001B[49m\u001B[43mR\u001B[49m\u001B[43m)\u001B[49m:\n\u001B[0;32m     12\u001B[0m     \u001B[38;5;28;01mif\u001B[39;00m counter[A[i]]\u001B[38;5;241m==\u001B[39m\u001B[38;5;241m1\u001B[39m:\n\u001B[0;32m     13\u001B[0m         \u001B[38;5;66;03m# 한개만 있게되면 종류를 줄인다\u001B[39;00m\n\u001B[0;32m     14\u001B[0m         kinds \u001B[38;5;241m-\u001B[39m\u001B[38;5;241m=\u001B[39m\u001B[38;5;241m1\u001B[39m\n",
      "\u001B[1;31mTypeError\u001B[0m: 'list' object cannot be interpreted as an integer"
     ]
    }
   ],
   "source": [
    "solution(A,R)"
   ],
   "metadata": {
    "collapsed": false,
    "ExecuteTime": {
     "end_time": "2023-09-23T10:37:17.022217200Z",
     "start_time": "2023-09-23T10:37:16.717279600Z"
    }
   }
  },
  {
   "cell_type": "code",
   "execution_count": null,
   "outputs": [],
   "source": [
    "d"
   ],
   "metadata": {
    "collapsed": false
   }
  },
  {
   "cell_type": "code",
   "execution_count": null,
   "outputs": [],
   "source": [],
   "metadata": {
    "collapsed": false
   }
  },
  {
   "cell_type": "code",
   "execution_count": null,
   "outputs": [],
   "source": [],
   "metadata": {
    "collapsed": false
   }
  },
  {
   "cell_type": "markdown",
   "source": [
    "# 처음과끝만 검사하면된다는 것이 포인트가 아니라\n",
    "# 중간값은 줄여나가는 알고리즘\n",
    " # 슬라이딩알고리즘"
   ],
   "metadata": {
    "collapsed": false
   }
  },
  {
   "cell_type": "code",
   "execution_count": null,
   "outputs": [],
   "source": [],
   "metadata": {
    "collapsed": false
   }
  },
  {
   "cell_type": "code",
   "execution_count": 11,
   "outputs": [
    {
     "name": "stdout",
     "output_type": "stream",
     "text": [
      "3\n"
     ]
    }
   ],
   "source": [
    "# gpt4 풀이\n",
    "\n",
    "\"\"\"\n",
    "너는 알고리즘 대회우승자이고 다음은 문제설명이다. 파이썬으로 풀어줘\n",
    "\n",
    "[문제설명]\n",
    "\n",
    "배열 A와 기준R 이 주어진다\n",
    "배열 A에서 R길이만큼을 빼고 남은 값들의 종류의 개수가 최대가 되는 경우를 찾아, 그 종류의 개수를 반환해라\n",
    "배열의 순서는 바꿀 수 없다. A의 길이는 최대 10만 배열의 원소값도 최대 10만이다\n",
    "아래는 예제이다.\n",
    "[예제]\n",
    "\n",
    "A =[2,3,1,4,2,2], R=3 일때 [4,2,2]를 빼면 남은 값의 종류의 개수가 3으로 최대가된다\n",
    "\"\"\"\n",
    "from collections import Counter\n",
    "\n",
    "def max_kinds(A, R):\n",
    "    counter = Counter(A)\n",
    "    kinds = len(counter)\n",
    "\n",
    "    # 초기 R길이만큼 구간에 대한 처리\n",
    "    for i in range(R):\n",
    "        if counter[A[i]] == 1:\n",
    "            kinds -= 1\n",
    "        counter[A[i]] -= 1\n",
    "\n",
    "    max_kinds = kinds\n",
    "\n",
    "    # 슬라이딩 윈도우 시작\n",
    "    for i in range(R, len(A)):\n",
    "        if counter[A[i-R]] == 0:\n",
    "            kinds += 1\n",
    "        counter[A[i-R]] += 1\n",
    "\n",
    "        if counter[A[i]] == 1:\n",
    "            kinds -= 1\n",
    "        counter[A[i]] -= 1\n",
    "\n",
    "        max_kinds = max(max_kinds, kinds)\n",
    "\n",
    "    return max_kinds\n",
    "\n",
    "A =[2,3,1,4,2,2]\n",
    "R=3\n",
    "print(max_kinds(A,R))   # 출력: 3\n"
   ],
   "metadata": {
    "collapsed": false,
    "ExecuteTime": {
     "end_time": "2023-09-23T10:37:24.807551100Z",
     "start_time": "2023-09-23T10:37:24.800269Z"
    }
   }
  },
  {
   "cell_type": "code",
   "execution_count": null,
   "outputs": [],
   "source": [],
   "metadata": {
    "collapsed": false
   }
  },
  {
   "cell_type": "code",
   "execution_count": null,
   "outputs": [],
   "source": [
    "# 어제그렇게했는데 이해가 부족한 부분이있었다.\n",
    "# 길이가 고정되고 A[i-R] 부분을 +시키면서 R이 움직이는 것이므로\n",
    "# 반드시 for문 돌떄마다 그 idx로 늘려야하는 것이 아니라\n",
    "# idx-R 로 뒤에 줄여졌던 것을 늘리면서 0개였다면 한칸 전진한 것으로 가정하고\n",
    "# 나아가는 것이다\n",
    "# idx 가 R 즉 3이라면\n",
    "# R-R 은 0이되고\n",
    "# 이 시점에서 슬라이딩윈도우 for문은\n",
    "# 0,1,2,3 index에 위치해 있다고 가정하고\n",
    "# 0에 있던것을 줄여주고,\n",
    "# 3 index에 있는게 1개라면 종류를 하나줄인다\n",
    "#\n",
    "# 아아아 아니\n",
    "# 끝에 걸리는 counter[A[i]] ==1 가 한개라면 종류를 하나 줄여주면서 전진하는것이다\n",
    "# counter 에서도 줄여주고\n",
    "# 천천히 반복해서 해보면서 이해하기\n",
    "# 어쩄거나 컴퓨터가 내가 원하는 대로 동작하기만 하면 된다\n",
    "\n",
    "#"
   ],
   "metadata": {
    "collapsed": false
   }
  },
  {
   "cell_type": "code",
   "execution_count": 17,
   "outputs": [
    {
     "name": "stdout",
     "output_type": "stream",
     "text": [
      "3\n"
     ]
    }
   ],
   "source": [
    "def solution(A,R):\n",
    "\n",
    "    counter = Counter\n",
    "    # 초기화, 첫줄\n",
    "    for i in range(R):\n",
    "        if counter[A[i]] == 1:\n",
    "            kinds -=1\n",
    "        counter[A[i]] -=1\n",
    "\n",
    "\n",
    "    for i in range(R, len(A)-R):\n",
    "        if counter[A[i-R]] == 0:# R길이만큼 뺸것은 이제 제외되었던 것이므로\n",
    "            kinds +=1 # 종류를 늘려주는 것부터 시작한다\n",
    "        counter[A[i-R]] +=1 # 줄여졌던 개수를 늘려준다\n",
    "\n",
    "        # 현재 idx부터 길이를 다시 늘려준다, 중간에 있는 것들은 슬라이딩 되면서\n",
    "        # 위의 로직에서 늘려질것이다\n",
    "\n",
    "        if counter[A[i]] ==1: #현재 인덱스 값에서는 포함이 안될것이므로 한개남은거라면 줄여준ㄷ\n",
    "            kinds -=1\n",
    "        counter[A[i]] -= 1 # 길이가고정되서 움직이면서 뒤에는 늘려주고 앞에는 포함이 안되는 구조로 로직이 동작된다 R을 인덱스로 사용하면\n",
    "            # A 기준에서는 R범위를 항상 벗어난 한칸앞인 것이므로\n",
    "        max_kinds = max(max_kinds , kinds)\n",
    "\n",
    "    return max_kinds\n",
    "A=[2,3,1,4,2,2]\n",
    "R= 3\n",
    "print(max_kinds(A,R))"
   ],
   "metadata": {
    "collapsed": false,
    "ExecuteTime": {
     "end_time": "2023-09-23T10:47:25.334198900Z",
     "start_time": "2023-09-23T10:47:25.326868200Z"
    }
   }
  },
  {
   "cell_type": "code",
   "execution_count": null,
   "outputs": [],
   "source": [],
   "metadata": {
    "collapsed": false
   }
  },
  {
   "cell_type": "code",
   "execution_count": 18,
   "outputs": [],
   "source": [
    "# 알고리즘이 꼭 그렇게 동작하는 게 아니라\n",
    "# 알고리즘 컴퓨터가 하나씩 동작하는걸 이해하고 내가원하는대로 동작하도록하는게\n",
    "# 컴퓨팅 과학적 컴퓨터처럼 생각하는것\n"
   ],
   "metadata": {
    "collapsed": false,
    "ExecuteTime": {
     "end_time": "2023-09-23T10:57:08.725382700Z",
     "start_time": "2023-09-23T10:57:08.705476800Z"
    }
   }
  },
  {
   "cell_type": "markdown",
   "source": [],
   "metadata": {
    "collapsed": false
   }
  },
  {
   "cell_type": "code",
   "execution_count": null,
   "outputs": [],
   "source": [
    "# 지도에서 세가지 타입의 배를 찾기"
   ],
   "metadata": {
    "collapsed": false
   }
  },
  {
   "cell_type": "code",
   "execution_count": null,
   "outputs": [],
   "source": [],
   "metadata": {
    "collapsed": false
   }
  },
  {
   "cell_type": "code",
   "execution_count": 39,
   "outputs": [
    {
     "name": "stdout",
     "output_type": "stream",
     "text": [
      "0 0 .#..#\n",
      "['.#..#']\n",
      "['##..#']\n",
      "['…#.']\n",
      "1 0 ##..#\n",
      "['.#..#']\n",
      "['##..#']\n",
      "['…#.']\n",
      "2 0 …#.\n",
      "['.#..#']\n",
      "['##..#']\n",
      "['…#.']\n"
     ]
    }
   ],
   "source": [],
   "metadata": {
    "collapsed": false,
    "ExecuteTime": {
     "end_time": "2023-09-23T11:21:44.953071600Z",
     "start_time": "2023-09-23T11:21:44.936283600Z"
    }
   }
  },
  {
   "cell_type": "code",
   "execution_count": null,
   "outputs": [],
   "source": [
    "# find_patrol\n",
    "\n",
    "\n",
    "\n",
    "\n",
    "#find_submarine\n",
    "\n",
    "find_destroyers"
   ],
   "metadata": {
    "collapsed": false
   }
  }
 ],
 "metadata": {
  "kernelspec": {
   "display_name": "Python 3",
   "language": "python",
   "name": "python3"
  },
  "language_info": {
   "codemirror_mode": {
    "name": "ipython",
    "version": 2
   },
   "file_extension": ".py",
   "mimetype": "text/x-python",
   "name": "python",
   "nbconvert_exporter": "python",
   "pygments_lexer": "ipython2",
   "version": "2.7.6"
  }
 },
 "nbformat": 4,
 "nbformat_minor": 0
}

{
 "cells": [
  {
   "cell_type": "code",
   "execution_count": null,
   "metadata": {},
   "outputs": [],
   "source": [
    "\n",
    "#2xn 크기의 직사각형을 1x2, 2x1로 채우기\n",
    "\n",
    "채우는 바업ㅂ의 수를 10007로 나눈 나머지\n",
    "\n",
    "1x2와 2x1로 채우려면\n",
    "\n",
    "가로 세로 타일이니까\n",
    "\n",
    "\n",
    "한 쪽 부터\n",
    "\n",
    "# 세로 방향 부터 채우고 n까지 나아가야 하나\n",
    "\n",
    "#2x1 을 채우는 방법의 수부터 나아가기\n",
    "\n",
    "dp[1] = 1 \n",
    "\n",
    "dp[2] = 4\n",
    "\n",
    "dp[3] = dp[2] 에다가 2x1을 양쪽에\n",
    "\n",
    "dp[4] = ?\n",
    "\n",
    "# 초기 값을 정의하고 초기값부터 값을 활용할때\n",
    "# 초기 값을 제외한 사이즈의 직사각형을 채우는 방법의 수를 어떻게 구할 지 생각해보면 된다\n",
    "# s = [0, 1, 2]\n",
    "for i in range(3, 1001):\n",
    "  s.append(s[i - 2] + s[i - 1])\n",
    "n = int(input())\n",
    "print(s[n] % 10007)\n",
    " "
   ]
  }
 ],
 "metadata": {
  "language_info": {
   "name": "python"
  },
  "orig_nbformat": 4
 },
 "nbformat": 4,
 "nbformat_minor": 2
}

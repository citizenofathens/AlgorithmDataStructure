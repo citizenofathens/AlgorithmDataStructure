{
 "cells": [
  {
   "cell_type": "code",
   "execution_count": null,
   "metadata": {
    "collapsed": true
   },
   "outputs": [],
   "source": [
    "# 일부 칸에 바이러스 존재\n",
    "# 2 -> 바이러스\n",
    "# 0 -> ㅋㅣㄴ칸\n",
    "# 1 _> 벽\n",
    "\n"
   ]
  },
  {
   "cell_type": "code",
   "execution_count": null,
   "outputs": [],
   "source": [
    "바이러스는 모든 방향으로 퍼져나갈수잇고 3개로 막아야한다\n"
   ],
   "metadata": {
    "collapsed": false
   }
  },
  {
   "cell_type": "markdown",
   "source": [],
   "metadata": {
    "collapsed": false
   }
  },
  {
   "cell_type": "code",
   "execution_count": null,
   "outputs": [],
   "source": [
    "안전영역 크기의 최댓값\n",
    "\n"
   ],
   "metadata": {
    "collapsed": false
   }
  },
  {
   "cell_type": "code",
   "execution_count": null,
   "outputs": [],
   "source": [
    "# 당연히 가장적게 줄이는 곳으로 가야함"
   ],
   "metadata": {
    "collapsed": false
   }
  },
  {
   "cell_type": "code",
   "execution_count": null,
   "outputs": [],
   "source": [
    "#그냥 바이러스와 가까운곳에세우면?->안된다\n",
    "# 규칙이없을꺼같은데 완전탐색하면서 벽을 세워보고 -> 역시 인공지능 그런 게 아니기떄문에 인간이 보고 그냥결정하는 규칙은 세울수없다\n",
    "# 최댓값을 계속 저장하면서 나아가기 왜냐면 n 과 m이 작기때문에\n",
    "# 그래도 특별한 조건없이 다 탐색해야한다는걸 잘 파악했다\n"
   ],
   "metadata": {
    "collapsed": false
   }
  },
  {
   "cell_type": "markdown",
   "source": [
    "# BFS , 백트래킹"
   ],
   "metadata": {
    "collapsed": false
   }
  },
  {
   "cell_type": "code",
   "execution_count": null,
   "outputs": [],
   "source": [],
   "metadata": {
    "collapsed": false
   }
  },
  {
   "cell_type": "code",
   "execution_count": 2,
   "outputs": [
    {
     "ename": "SyntaxError",
     "evalue": "unexpected EOF while parsing (1579409943.py, line 5)",
     "output_type": "error",
     "traceback": [
      "\u001B[1;36m  Cell \u001B[1;32mIn[2], line 5\u001B[1;36m\u001B[0m\n\u001B[1;33m    \u001B[0m\n\u001B[1;37m    ^\u001B[0m\n\u001B[1;31mSyntaxError\u001B[0m\u001B[1;31m:\u001B[0m unexpected EOF while parsing\n"
     ]
    }
   ],
   "source": [
    "N=7\n",
    "M=7\n",
    "for i in N:\n",
    "    for j in M:\n"
   ],
   "metadata": {
    "collapsed": false,
    "ExecuteTime": {
     "end_time": "2023-09-24T01:58:03.584078800Z",
     "start_time": "2023-09-24T01:58:03.574509500Z"
    }
   }
  },
  {
   "cell_type": "code",
   "execution_count": 4,
   "outputs": [],
   "source": [
    "N, M = list(map(int,input().split(' ')))"
   ],
   "metadata": {
    "collapsed": false,
    "ExecuteTime": {
     "end_time": "2023-09-24T01:58:53.128511800Z",
     "start_time": "2023-09-24T01:58:52.317165600Z"
    }
   }
  },
  {
   "cell_type": "code",
   "execution_count": 6,
   "outputs": [
    {
     "data": {
      "text/plain": "3"
     },
     "execution_count": 6,
     "metadata": {},
     "output_type": "execute_result"
    }
   ],
   "source": [
    "N"
   ],
   "metadata": {
    "collapsed": false,
    "ExecuteTime": {
     "end_time": "2023-09-24T01:58:56.853702Z",
     "start_time": "2023-09-24T01:58:56.847029500Z"
    }
   }
  },
  {
   "cell_type": "code",
   "execution_count": 7,
   "outputs": [],
   "source": [
    "map_list = []\n",
    "for _ in range(N):\n",
    "    map_list.append(list(map(int,input().split(' '))))"
   ],
   "metadata": {
    "collapsed": false,
    "ExecuteTime": {
     "end_time": "2023-09-24T01:59:43.381940100Z",
     "start_time": "2023-09-24T01:59:30.938564400Z"
    }
   }
  },
  {
   "cell_type": "code",
   "execution_count": 12,
   "outputs": [
    {
     "name": "stdout",
     "output_type": "stream",
     "text": [
      "[2, 0, 0, 0, 1, 1, 0]\n",
      "[0, 0, 1, 0, 1, 2, 0]\n",
      "[0, 1, 1, 0, 1, 0, 0]\n"
     ]
    }
   ],
   "source": [
    "map_list\n",
    "print(map_list[0])\n",
    "print(map_list[1])\n",
    "print(map_list[2])"
   ],
   "metadata": {
    "collapsed": false,
    "ExecuteTime": {
     "end_time": "2023-09-24T02:00:04.421097800Z",
     "start_time": "2023-09-24T02:00:04.418212100Z"
    }
   }
  },
  {
   "cell_type": "code",
   "execution_count": null,
   "outputs": [],
   "source": [
    "wall_cnt = 0"
   ],
   "metadata": {
    "collapsed": false
   }
  },
  {
   "cell_type": "code",
   "execution_count": null,
   "outputs": [],
   "source": [],
   "metadata": {
    "collapsed": false
   }
  },
  {
   "cell_type": "code",
   "execution_count": 20,
   "outputs": [],
   "source": [
    "visitor ="
   ],
   "metadata": {
    "collapsed": false,
    "ExecuteTime": {
     "end_time": "2023-09-24T02:18:18.997066900Z",
     "start_time": "2023-09-24T02:18:18.986275100Z"
    }
   }
  },
  {
   "cell_type": "code",
   "execution_count": 21,
   "outputs": [
    {
     "data": {
      "text/plain": "[[False, False, False, False, False, False, False],\n [False, False, False, False, False, False, False],\n [False, False, False, False, False, False, False]]"
     },
     "execution_count": 21,
     "metadata": {},
     "output_type": "execute_result"
    }
   ],
   "source": [
    "visitor"
   ],
   "metadata": {
    "collapsed": false,
    "ExecuteTime": {
     "end_time": "2023-09-24T02:18:19.548515Z",
     "start_time": "2023-09-24T02:18:19.540217200Z"
    }
   }
  },
  {
   "cell_type": "code",
   "execution_count": null,
   "outputs": [],
   "source": [
    "from collections import deque\n",
    "\n",
    "def bfs(map_list,virus_pos):\n",
    "    bfs_queue = []\n",
    "    visitor = [[False for _ in range(len(map_list[0])) ]for _ in range(len(map_list))]\n",
    "\n",
    "    moves = [(1,0),(-1,0),(0,-1),(0,1)]\n",
    "    map_list[virus_x][virus_y]\n",
    "\n",
    "    for move in moves:\n",
    "        if map_list[virus_x+moves[0]][virus_y+moves[1]] == 0 and not visitor[virus_x+moves[0]][virus_y+moves[1]]:\n",
    "            bfs_queue.append([virus_x+moves[0],virus_y+moves[1]])\n",
    "            visitor[[virus_x+moves[0]][virus_y+moves[1]]]= True # 방문처리\n",
    "\n",
    "    for a , col in enumerate(map_list):\n",
    "        for b, cell in enumerate(map_list):\n",
    "\n",
    "\n"
   ],
   "metadata": {
    "collapsed": false
   }
  },
  {
   "cell_type": "code",
   "execution_count": null,
   "outputs": [],
   "source": [],
   "metadata": {
    "collapsed": false
   }
  },
  {
   "cell_type": "code",
   "execution_count": 14,
   "outputs": [
    {
     "name": "stdout",
     "output_type": "stream",
     "text": [
      "0 0\n",
      "0 1\n",
      "0 2\n",
      "1 0\n",
      "1 1\n",
      "1 2\n",
      "2 0\n",
      "2 1\n",
      "2 2\n"
     ]
    }
   ],
   "source": [
    "for a, col in enumerate(map_list):\n",
    "\n",
    "    for b , cell in enumerate(map_list):\n",
    "        if map_list[a][b] == 0 and wall_cnt ==3:\n",
    "            map_list[a][b] = 1\n",
    "            wall_cnt -=1\n",
    "            first_wall_a = a\n",
    "            first_wall_b = b\n",
    "        elif map_list[a][b] == 0 and wall_cnt ==2:\n",
    "            map_list[a][b] = 1\n",
    "            wall_cnt -=1\n",
    "            sec_wall_a = a\n",
    "            sec_wall_b = b\n",
    "        elif map_list[a][b] == 0 and wall_cnt ==3:\n",
    "            map_list[a][b] = 1\n",
    "            wall_cnt -=1\n",
    "            thr_wall_a = a\n",
    "            thr_wall_b = b\n",
    "\n",
    "\n",
    "        if wall_cnt == 0:\n",
    "\n"
   ],
   "metadata": {
    "collapsed": false,
    "ExecuteTime": {
     "end_time": "2023-09-24T02:00:47.439402500Z",
     "start_time": "2023-09-24T02:00:47.424374400Z"
    }
   }
  },
  {
   "cell_type": "code",
   "execution_count": null,
   "outputs": [],
   "source": [],
   "metadata": {
    "collapsed": false
   }
  },
  {
   "cell_type": "code",
   "execution_count": null,
   "outputs": [],
   "source": [],
   "metadata": {
    "collapsed": false
   }
  },
  {
   "cell_type": "code",
   "execution_count": null,
   "outputs": [],
   "source": [
    "# 벽퍼지기 bfs -> 후에 2를 변경시켜야하기떄문에\n",
    "# 벽세우고 바이러스를 퍼뜨려야하기떄문에 bfs\n"
   ],
   "metadata": {
    "collapsed": false
   }
  },
  {
   "cell_type": "code",
   "execution_count": 16,
   "outputs": [
    {
     "data": {
      "text/plain": "[[2, 0, 0, 0, 1, 1, 0], [0, 0, 1, 0, 1, 2, 0], [0, 1, 1, 0, 1, 0, 0]]"
     },
     "execution_count": 16,
     "metadata": {},
     "output_type": "execute_result"
    }
   ],
   "source": [],
   "metadata": {
    "collapsed": false,
    "ExecuteTime": {
     "end_time": "2023-09-24T02:15:50.439337600Z",
     "start_time": "2023-09-24T02:15:50.426863600Z"
    }
   }
  },
  {
   "cell_type": "code",
   "execution_count": null,
   "outputs": [],
   "source": [],
   "metadata": {
    "collapsed": false
   }
  }
 ],
 "metadata": {
  "kernelspec": {
   "display_name": "Python 3",
   "language": "python",
   "name": "python3"
  },
  "language_info": {
   "codemirror_mode": {
    "name": "ipython",
    "version": 2
   },
   "file_extension": ".py",
   "mimetype": "text/x-python",
   "name": "python",
   "nbconvert_exporter": "python",
   "pygments_lexer": "ipython2",
   "version": "2.7.6"
  }
 },
 "nbformat": 4,
 "nbformat_minor": 0
}

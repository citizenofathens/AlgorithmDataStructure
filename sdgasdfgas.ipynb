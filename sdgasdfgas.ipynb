{
 "cells": [
  {
   "cell_type": "code",
   "execution_count": null,
   "metadata": {
    "collapsed": true
   },
   "outputs": [],
   "source": [
    "def solution(S):\n",
    "    # Convert string to list of integers\n",
    "    S = [int(i) for i in S]\n",
    "\n",
    "    # Initialize stack\n",
    "    stack = []\n",
    "\n",
    "    # Iterate over the list\n",
    "    for num in S:\n",
    "        while stack and stack[-1] + num <= 9:\n",
    "            top = stack.pop()\n",
    "            num += top\n",
    "        stack.append(num)\n",
    "\n",
    "    # Convert result list back to string and return it\n",
    "    return ''.join(str(i) for i in stack)\n"
   ]
  }
 ],
 "metadata": {
  "kernelspec": {
   "display_name": "Python 3",
   "language": "python",
   "name": "python3"
  },
  "language_info": {
   "codemirror_mode": {
    "name": "ipython",
    "version": 2
   },
   "file_extension": ".py",
   "mimetype": "text/x-python",
   "name": "python",
   "nbconvert_exporter": "python",
   "pygments_lexer": "ipython2",
   "version": "2.7.6"
  }
 },
 "nbformat": 4,
 "nbformat_minor": 0
}

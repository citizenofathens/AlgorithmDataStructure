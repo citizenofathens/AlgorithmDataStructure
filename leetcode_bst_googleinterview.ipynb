{
 "cells": [
  {
   "cell_type": "code",
   "execution_count": null,
   "metadata": {},
   "outputs": [],
   "source": [
    "class Node():\n",
    "    \n",
    "    self.left   \n",
    "    self.right    "
   ]
  },
  {
   "cell_type": "code",
   "execution_count": null,
   "metadata": {},
   "outputs": [],
   "source": [
    "class tree():\n",
    "    self.left = "
   ]
  },
  {
   "cell_type": "code",
   "execution_count": 6,
   "metadata": {},
   "outputs": [],
   "source": [
    "class Node():\n",
    "    def __init__(self,left,right):\n",
    "        self.left = left\n",
    "        self.right = right\n",
    "    "
   ]
  },
  {
   "cell_type": "code",
   "execution_count": 7,
   "metadata": {},
   "outputs": [],
   "source": [
    "node = Node(5,6)"
   ]
  },
  {
   "cell_type": "code",
   "execution_count": null,
   "metadata": {},
   "outputs": [],
   "source": [
    " \n",
    "\n",
    "# 각 left right가 있는 tree 클래스가 주어질려나? \n",
    "# 구성을 어떻게? \n",
    "# 어쨌든 bst가 주어지면 그걸 순회한다\n",
    "\n",
    "def largest_smaller_bst_key(bst,start_node):\n",
    "    if start_node == None:\n",
    "        return None\n",
    "    parent = start_node.parent\n",
    "    while start_node == parent.right: # 현재 노드가 부모 노드의 오른쪽 노드라면,\n",
    "        # 현재 노드를 부모노드로 바꾼다\n",
    "        start_node = parent\n",
    "        largest_smaller_bst_key(bst,start_node)\n",
    "\n",
    "    # 그리고 나서 만약 현재 노드가 오른쪽 혹은 왼쪽 자식이 없고 , 오른쪽 노드가 아니라면 부모를 리턴한다\n",
    "    if start_node.left == None and start_node.right ==None:\n",
    "        return start_node.parent\n",
    "\n",
    "    # node type이 주어지겠지\n",
    "    \n",
    "    "
   ]
  },
  {
   "cell_type": "code",
   "execution_count": null,
   "metadata": {},
   "outputs": [],
   "source": [
    "# java code \n",
    "\n",
    "static class BinarySearchTree{\n",
    "\n",
    "    Node root;\n",
    "    Node findInOrderSuccessor(Node inputNode){\n",
    "        if(inputNode == null) return null;\n",
    "    }\n",
    "    if (inputNode.right != null){\n",
    "        return getMostLeft(inputNode.right);\n",
    "        \n",
    "    }\n",
    "\n",
    "    Node parent = inputNode.parent;\n",
    "    Node child = inputNode;\n",
    "\n",
    "    while (parent.right == child){\n",
    "        if(parent.parent ==null)\n",
    "            return null;\n",
    "        child = parent;\n",
    "        parent = parent.parent;\n",
    "       }\n",
    "       return parent\n",
    "}"
   ]
  },
  {
   "cell_type": "code",
   "execution_count": null,
   "metadata": {},
   "outputs": [],
   "source": [
    "\"\"\"\n",
    "Largest Smaller BST Key\n",
    "\n",
    "Given a root of a Binary Search Tree (BST) and a number num, implement an efficient function findLargestSmallerKey that finds the largest key in the tree \n",
    "that is smaller than num. If such a number doesn’t exist, return -1. Assume that all keys in the tree are nonnegative.\n",
    "\n",
    "\n",
    "For num = 17 and the binary search tree below:\n",
    "\n",
    "            20\n",
    "           /  \\\n",
    "          9    25\n",
    "         / \\ \n",
    "        5   12\n",
    "           /  \\ \n",
    "         11    14\n",
    "\n",
    "Your function would return: 14 since it’s the largest key in the tree that is still smaller than 17.\n",
    "\n",
    "\"\"\"\n",
    "\n",
    "  # O(logn) time complexity if the tree is balanced, O(N) otherwise\n",
    "  # O(1) space\n",
    "def find_largest_smaller_key(self, num):\n",
    "    predecessor = -1\n",
    "    node = self.root\n",
    "    \n",
    "    # 오른쪽 자식 노드가 없거나 왼쪽 자식 노드가 없다면\n",
    "     #predecessor의 값을 return 한다\n",
    "    while node: # num 의 값 보다 현재 키값이 크다면 우선 왼쪽으려 내려가서 탐색핟나\n",
    "      # while node: 라는 라인의 뜻 , meanging을 느껴야 한다 언어이기때문에, 컴퓨터, 일본가서 깨달음 \n",
    "      # 한번내려갔을 때 그 노드가 이제는 num 값 보다 작은 경우에는 오른쪽으로 계속해서 탐색해나간다\n",
    "      # bst에서 오른 쪾 리프노드는 모두 자신보다 커야하고, 왼쪽은 리프노드 전체는 자신보다 작아야한다는것을 이용하는 알고리즘 ( 이건 공부가 필요)\n",
    "      # node 가 존재하고 주어진 값보다 크다면 node는 node의 left 로 바꾼다 num은 node에 존재하는 값이 아니다 그러니 우선 내려 가서 찾는다 \n",
    "      if node.key >= num:\n",
    "        node = node.left\n",
    "      else:\n",
    "        # node가 존재하고 node의 키가 주어진 값보다 작다면 answer값을 그 노드의 key값으로 임시로 정하고 node의 오른쪽이 있다면 그 값으로 node를 바꾼다\n",
    "        # \n",
    "        predecessor = node.key\n",
    "        node = node.right\n",
    "\n",
    "    return predecessor "
   ]
  }
 ],
 "metadata": {
  "kernelspec": {
   "display_name": "Python 3",
   "language": "python",
   "name": "python3"
  },
  "language_info": {
   "codemirror_mode": {
    "name": "ipython",
    "version": 3
   },
   "file_extension": ".py",
   "mimetype": "text/x-python",
   "name": "python",
   "nbconvert_exporter": "python",
   "pygments_lexer": "ipython3",
   "version": "3.11.3"
  },
  "orig_nbformat": 4
 },
 "nbformat": 4,
 "nbformat_minor": 2
}

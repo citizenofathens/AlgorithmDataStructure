{
 "cells": [
  {
   "cell_type": "code",
   "execution_count": null,
   "metadata": {
    "collapsed": true
   },
   "outputs": [],
   "source": [
    "#https://katie0809.github.io/2021/10/25/codility8/"
   ]
  },
  {
   "cell_type": "code",
   "execution_count": 27,
   "outputs": [],
   "source": [
    "from collections import Counter"
   ],
   "metadata": {
    "collapsed": false,
    "ExecuteTime": {
     "end_time": "2023-09-23T09:46:32.989502100Z",
     "start_time": "2023-09-23T09:46:32.981059800Z"
    }
   }
  },
  {
   "cell_type": "code",
   "execution_count": null,
   "outputs": [],
   "source": [
    "counter = Counter\n",
    "\n",
    "\n"
   ],
   "metadata": {
    "collapsed": false
   }
  },
  {
   "cell_type": "code",
   "execution_count": 2,
   "outputs": [],
   "source": [],
   "metadata": {
    "collapsed": false,
    "ExecuteTime": {
     "end_time": "2023-09-23T09:51:37.534547400Z",
     "start_time": "2023-09-23T09:51:37.501821400Z"
    }
   }
  },
  {
   "cell_type": "code",
   "execution_count": 4,
   "outputs": [],
   "source": [
    "ldict = {}"
   ],
   "metadata": {
    "collapsed": false,
    "ExecuteTime": {
     "end_time": "2023-09-23T09:52:06.848854900Z",
     "start_time": "2023-09-23T09:52:06.833120700Z"
    }
   }
  },
  {
   "cell_type": "code",
   "execution_count": 5,
   "outputs": [],
   "source": [
    "sdict= {}"
   ],
   "metadata": {
    "collapsed": false,
    "ExecuteTime": {
     "end_time": "2023-09-23T09:52:10.529160900Z",
     "start_time": "2023-09-23T09:52:10.518652200Z"
    }
   }
  },
  {
   "cell_type": "code",
   "execution_count": 6,
   "outputs": [],
   "source": [],
   "metadata": {
    "collapsed": false,
    "ExecuteTime": {
     "end_time": "2023-09-23T09:52:31.118045100Z",
     "start_time": "2023-09-23T09:52:31.114122600Z"
    }
   }
  },
  {
   "cell_type": "markdown",
   "source": [],
   "metadata": {
    "collapsed": false
   }
  },
  {
   "cell_type": "code",
   "execution_count": 9,
   "outputs": [
    {
     "data": {
      "text/plain": "2"
     },
     "execution_count": 9,
     "metadata": {},
     "output_type": "execute_result"
    }
   ],
   "source": [
    "5//2"
   ],
   "metadata": {
    "collapsed": false,
    "ExecuteTime": {
     "end_time": "2023-09-23T09:57:14.017548800Z",
     "start_time": "2023-09-23T09:57:13.997914800Z"
    }
   }
  },
  {
   "cell_type": "code",
   "execution_count": null,
   "outputs": [],
   "source": [
    "min_cnt=0"
   ],
   "metadata": {
    "collapsed": false
   }
  },
  {
   "cell_type": "code",
   "execution_count": 12,
   "outputs": [
    {
     "data": {
      "text/plain": "dict_keys(['L', 'I', 'Y', 'B', 'O'])"
     },
     "execution_count": 12,
     "metadata": {},
     "output_type": "execute_result"
    }
   ],
   "source": [
    "sdict.keys()"
   ],
   "metadata": {
    "collapsed": false,
    "ExecuteTime": {
     "end_time": "2023-09-23T10:00:17.974855600Z",
     "start_time": "2023-09-23T10:00:17.971690100Z"
    }
   }
  },
  {
   "cell_type": "code",
   "execution_count": 14,
   "outputs": [
    {
     "data": {
      "text/plain": "True"
     },
     "execution_count": 14,
     "metadata": {},
     "output_type": "execute_result"
    }
   ],
   "source": [
    "alpha in sdict.keys()"
   ],
   "metadata": {
    "collapsed": false,
    "ExecuteTime": {
     "end_time": "2023-09-23T10:00:25.779889300Z",
     "start_time": "2023-09-23T10:00:25.771548200Z"
    }
   }
  },
  {
   "cell_type": "code",
   "execution_count": 18,
   "outputs": [],
   "source": [],
   "metadata": {
    "collapsed": false,
    "ExecuteTime": {
     "end_time": "2023-09-23T10:03:18.709376800Z",
     "start_time": "2023-09-23T10:03:18.695257100Z"
    }
   }
  },
  {
   "cell_type": "markdown",
   "source": [
    "# 예외케이스 , dictionary 활용하고 m중복문자를 잘 고려해야하는 문제\n",
    "# dictionary 사용 잘 했지만 , alphabet 중복을 고려하지 않은코드"
   ],
   "metadata": {
    "collapsed": false
   }
  },
  {
   "cell_type": "code",
   "execution_count": 21,
   "outputs": [],
   "source": [
    "S='LILLYBILLYBOO'\n",
    "L=['BILL', 'MARIA', 'LILLY']\n",
    "\n",
    "for s in S:\n",
    "    if s in sdict:\n",
    "        sdict[s] +=1\n",
    "    else:\n",
    "        sdict[s] =1\n",
    "for name in L:\n",
    "    cnt = 0\n",
    "    name_cnt = []\n",
    "    for alpha in name:\n",
    "        if alpha in sdict.keys():\n",
    "            # 최소값만큼만 만들 수 있다\n",
    "            cnt = sdict[alpha]\n",
    "            name_cnt.append(cnt)\n",
    "        elif alpha not in sdict.keys(): #1개도 만들지못하는건 pass한다\n",
    "            break\n",
    "    # 각 이름에서 최소로 만들 수 있는 값 중에서,\n",
    "    # 만들 수 있다면\n",
    "    if len(name_cnt) == len(name):\n",
    "        name_min = min(name_cnt)\n",
    "        max_name_cnt = max(name_min,max_name_cnt)\n",
    "# 아 min max 왜 두번쓰는지몰랐는데 코딩해보니 알겠다 이렇게 .\n",
    "\n"
   ],
   "metadata": {
    "collapsed": false
   }
  },
  {
   "cell_type": "markdown",
   "source": [
    "# 수정코드"
   ],
   "metadata": {
    "collapsed": false
   }
  },
  {
   "cell_type": "code",
   "execution_count": 23,
   "outputs": [],
   "source": [
    "S='LILLYBILLYBOO'\n",
    "L=['BILL', 'MARIA', 'LILLY']\n",
    "\n",
    "sdict = {}\n",
    "for s in S:\n",
    "    if s in sdict:\n",
    "        sdict[s] +=1\n",
    "    else:\n",
    "        sdict[s] =1\n",
    "\n",
    "max_name_cnt = 0\n",
    "for name in L:\n",
    "    name_dict = {}\n",
    "    for alpha in name:\n",
    "        if alpha in name_dict.keys():\n",
    "            name_dict[alpha] += 1\n",
    "        else:\n",
    "            name_dict[alpha] = 1\n",
    "\n",
    "    min_cnt_for_name = float('inf')\n",
    "    for alpha, cnt in name_dict.items():\n",
    "        if alpha not in sdict.keys(): #1개도 만들지못하는건 pass한다\n",
    "            break\n",
    "        else:\n",
    "            min_cnt_for_name = min(min_cnt_for_name, int(sdict[alpha]/cnt))\n",
    "\n",
    "    max_name_cnt = max(max_name_cnt, min_cnt_for_name)\n"
   ],
   "metadata": {
    "collapsed": false,
    "ExecuteTime": {
     "end_time": "2023-09-23T10:09:08.968855900Z",
     "start_time": "2023-09-23T10:09:08.958345400Z"
    }
   }
  },
  {
   "cell_type": "code",
   "execution_count": null,
   "outputs": [],
   "source": [],
   "metadata": {
    "collapsed": false
   }
  },
  {
   "cell_type": "code",
   "execution_count": null,
   "outputs": [],
   "source": [],
   "metadata": {
    "collapsed": false
   }
  },
  {
   "cell_type": "code",
   "execution_count": null,
   "outputs": [],
   "source": [],
   "metadata": {
    "collapsed": false
   }
  },
  {
   "cell_type": "code",
   "execution_count": null,
   "outputs": [],
   "source": [],
   "metadata": {
    "collapsed": false
   }
  },
  {
   "cell_type": "code",
   "execution_count": 22,
   "outputs": [
    {
     "data": {
      "text/plain": "2"
     },
     "execution_count": 22,
     "metadata": {},
     "output_type": "execute_result"
    }
   ],
   "source": [
    "max_name_cnt"
   ],
   "metadata": {
    "collapsed": false,
    "ExecuteTime": {
     "end_time": "2023-09-23T10:04:01.311839200Z",
     "start_time": "2023-09-23T10:04:01.308343100Z"
    }
   }
  },
  {
   "cell_type": "code",
   "execution_count": null,
   "outputs": [],
   "source": [],
   "metadata": {
    "collapsed": false
   }
  },
  {
   "cell_type": "code",
   "execution_count": 35,
   "outputs": [
    {
     "data": {
      "text/plain": "Counter({'L': 5, 'I': 2, 'Y': 2, 'B': 2, 'O': 2})"
     },
     "execution_count": 35,
     "metadata": {},
     "output_type": "execute_result"
    }
   ],
   "source": [
    "counter(S)"
   ],
   "metadata": {
    "collapsed": false,
    "ExecuteTime": {
     "end_time": "2023-09-23T09:46:43.020970600Z",
     "start_time": "2023-09-23T09:46:43.000496400Z"
    }
   }
  },
  {
   "cell_type": "code",
   "execution_count": 35,
   "outputs": [],
   "source": [
    "d"
   ],
   "metadata": {
    "collapsed": false,
    "ExecuteTime": {
     "end_time": "2023-09-23T09:46:43.032095700Z",
     "start_time": "2023-09-23T09:46:43.012964700Z"
    }
   }
  },
  {
   "cell_type": "code",
   "execution_count": 39,
   "outputs": [
    {
     "ename": "NotImplementedError",
     "evalue": "Counter.fromkeys() is undefined.  Use Counter(iterable) instead.",
     "output_type": "error",
     "traceback": [
      "\u001B[1;31m---------------------------------------------------------------------------\u001B[0m",
      "\u001B[1;31mNotImplementedError\u001B[0m                       Traceback (most recent call last)",
      "Cell \u001B[1;32mIn[39], line 1\u001B[0m\n\u001B[1;32m----> 1\u001B[0m \u001B[43mcounter\u001B[49m\u001B[38;5;241;43m.\u001B[39;49m\u001B[43mfromkeys\u001B[49m\u001B[43m(\u001B[49m\u001B[38;5;124;43m'\u001B[39;49m\u001B[38;5;124;43mB\u001B[39;49m\u001B[38;5;124;43m'\u001B[39;49m\u001B[43m)\u001B[49m\n",
      "File \u001B[1;32m~\\AppData\\Local\\Programs\\Python\\Python38\\lib\\collections\\__init__.py:605\u001B[0m, in \u001B[0;36mCounter.fromkeys\u001B[1;34m(cls, iterable, v)\u001B[0m\n\u001B[0;32m    596\u001B[0m \u001B[38;5;129m@classmethod\u001B[39m\n\u001B[0;32m    597\u001B[0m \u001B[38;5;28;01mdef\u001B[39;00m \u001B[38;5;21mfromkeys\u001B[39m(\u001B[38;5;28mcls\u001B[39m, iterable, v\u001B[38;5;241m=\u001B[39m\u001B[38;5;28;01mNone\u001B[39;00m):\n\u001B[0;32m    598\u001B[0m     \u001B[38;5;66;03m# There is no equivalent method for counters because the semantics\u001B[39;00m\n\u001B[1;32m   (...)\u001B[0m\n\u001B[0;32m    603\u001B[0m     \u001B[38;5;66;03m# more exotic cases, create a dictionary first using a dictionary\u001B[39;00m\n\u001B[0;32m    604\u001B[0m     \u001B[38;5;66;03m# comprehension or dict.fromkeys().\u001B[39;00m\n\u001B[1;32m--> 605\u001B[0m     \u001B[38;5;28;01mraise\u001B[39;00m \u001B[38;5;167;01mNotImplementedError\u001B[39;00m(\n\u001B[0;32m    606\u001B[0m         \u001B[38;5;124m'\u001B[39m\u001B[38;5;124mCounter.fromkeys() is undefined.  Use Counter(iterable) instead.\u001B[39m\u001B[38;5;124m'\u001B[39m)\n",
      "\u001B[1;31mNotImplementedError\u001B[0m: Counter.fromkeys() is undefined.  Use Counter(iterable) instead."
     ]
    }
   ],
   "source": [
    "counter.fromkeys('B')"
   ],
   "metadata": {
    "collapsed": false,
    "ExecuteTime": {
     "end_time": "2023-09-23T09:47:09.335014600Z",
     "start_time": "2023-09-23T09:47:09.258981Z"
    }
   }
  },
  {
   "cell_type": "code",
   "execution_count": 32,
   "outputs": [],
   "source": [
    "d"
   ],
   "metadata": {
    "collapsed": false,
    "ExecuteTime": {
     "end_time": "2023-09-23T09:46:35.471128Z",
     "start_time": "2023-09-23T09:46:35.466940900Z"
    }
   }
  },
  {
   "cell_type": "code",
   "execution_count": 21,
   "outputs": [
    {
     "data": {
      "text/plain": "Counter({'B': 1})"
     },
     "execution_count": 21,
     "metadata": {},
     "output_type": "execute_result"
    }
   ],
   "source": [],
   "metadata": {
    "collapsed": false,
    "ExecuteTime": {
     "end_time": "2023-09-23T09:44:56.723656900Z",
     "start_time": "2023-09-23T09:44:56.702634700Z"
    }
   }
  },
  {
   "cell_type": "code",
   "execution_count": 10,
   "outputs": [
    {
     "data": {
      "text/plain": "Counter({'B': 1})"
     },
     "execution_count": 10,
     "metadata": {},
     "output_type": "execute_result"
    }
   ],
   "source": [
    "counter('B')"
   ],
   "metadata": {
    "collapsed": false,
    "ExecuteTime": {
     "end_time": "2023-09-23T09:42:50.652552200Z",
     "start_time": "2023-09-23T09:42:50.645015900Z"
    }
   }
  },
  {
   "cell_type": "code",
   "execution_count": null,
   "outputs": [],
   "source": [],
   "metadata": {
    "collapsed": false
   }
  },
  {
   "cell_type": "code",
   "execution_count": null,
   "outputs": [],
   "source": [
    "def solution(S,L):\n",
    "\n",
    "\n"
   ],
   "metadata": {
    "collapsed": false
   }
  },
  {
   "cell_type": "code",
   "execution_count": 1,
   "outputs": [
    {
     "ename": "NameError",
     "evalue": "name 'S' is not defined",
     "output_type": "error",
     "traceback": [
      "\u001B[1;31m---------------------------------------------------------------------------\u001B[0m",
      "\u001B[1;31mNameError\u001B[0m                                 Traceback (most recent call last)",
      "Cell \u001B[1;32mIn[1], line 1\u001B[0m\n\u001B[1;32m----> 1\u001B[0m \u001B[43mS\u001B[49m\n",
      "\u001B[1;31mNameError\u001B[0m: name 'S' is not defined"
     ]
    }
   ],
   "source": [
    "S"
   ],
   "metadata": {
    "collapsed": false,
    "ExecuteTime": {
     "end_time": "2023-09-23T09:51:35.389627500Z",
     "start_time": "2023-09-23T09:51:35.010622100Z"
    }
   }
  },
  {
   "cell_type": "code",
   "execution_count": null,
   "outputs": [],
   "source": [
    "L"
   ],
   "metadata": {
    "collapsed": false
   }
  }
 ],
 "metadata": {
  "kernelspec": {
   "display_name": "Python 3",
   "language": "python",
   "name": "python3"
  },
  "language_info": {
   "codemirror_mode": {
    "name": "ipython",
    "version": 2
   },
   "file_extension": ".py",
   "mimetype": "text/x-python",
   "name": "python",
   "nbconvert_exporter": "python",
   "pygments_lexer": "ipython2",
   "version": "2.7.6"
  }
 },
 "nbformat": 4,
 "nbformat_minor": 0
}

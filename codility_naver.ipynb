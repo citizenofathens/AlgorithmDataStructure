{
 "cells": [
  {
   "cell_type": "code",
   "execution_count": null,
   "metadata": {
    "collapsed": true
   },
   "outputs": [],
   "source": [
    "def max_kinds(A,R):\n",
    "\n",
    "    counter = Counter(A)\n",
    "    kinds = counter\n",
    "\n",
    "\n",
    "    for i in range(R):\n",
    "        if counter[A[i]] == 1:\n",
    "            kinds -=1\n",
    "        counter[A[i]] -=1\n",
    "\n",
    "    max_kinds = kinds\n",
    "    for i in range(R,len(A)):\n",
    "        # 뒤쪽부분\n",
    "        if counter[A[i-R]] == 0:\n",
    "            kinds += 1\n",
    "        counter[A[i-R]] +=1\n",
    "\n",
    "        if counter[A[i]] == 1:\n",
    "            kinds-=1\n",
    "        counter[A[i]] -=1\n",
    "\n",
    "        max_kinds = max(max_kinds,kinds)\n",
    "\n",
    "    return max_kinds\n"
   ]
  }
 ],
 "metadata": {
  "kernelspec": {
   "display_name": "Python 3",
   "language": "python",
   "name": "python3"
  },
  "language_info": {
   "codemirror_mode": {
    "name": "ipython",
    "version": 2
   },
   "file_extension": ".py",
   "mimetype": "text/x-python",
   "name": "python",
   "nbconvert_exporter": "python",
   "pygments_lexer": "ipython2",
   "version": "2.7.6"
  }
 },
 "nbformat": 4,
 "nbformat_minor": 0
}

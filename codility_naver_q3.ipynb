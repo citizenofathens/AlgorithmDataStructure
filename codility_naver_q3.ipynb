{
 "cells": [
  {
   "cell_type": "code",
   "execution_count": null,
   "outputs": [],
   "source": [],
   "metadata": {
    "collapsed": false
   }
  },
  {
   "cell_type": "code",
   "execution_count": 4,
   "outputs": [],
   "source": [
    "\n",
    "B= [['.#..#'], ['##..#'], ['…#.']]"
   ],
   "metadata": {
    "collapsed": false,
    "ExecuteTime": {
     "end_time": "2023-09-23T11:30:00.505132600Z",
     "start_time": "2023-09-23T11:30:00.490019900Z"
    }
   }
  },
  {
   "cell_type": "code",
   "execution_count": 5,
   "outputs": [
    {
     "data": {
      "text/plain": "[['.#..#'], ['##..#'], ['…#.']]"
     },
     "execution_count": 5,
     "metadata": {},
     "output_type": "execute_result"
    }
   ],
   "source": [
    "B"
   ],
   "metadata": {
    "collapsed": false,
    "ExecuteTime": {
     "end_time": "2023-09-23T11:30:00.660072700Z",
     "start_time": "2023-09-23T11:30:00.640586500Z"
    }
   }
  },
  {
   "cell_type": "code",
   "execution_count": 6,
   "outputs": [],
   "source": [
    "N, M = len(B), len(B[0])\n",
    "ret = [0, 0, 0]\n",
    "B = list(list(col) for col in B)\n"
   ],
   "metadata": {
    "collapsed": false,
    "ExecuteTime": {
     "end_time": "2023-09-23T11:30:00.764904400Z",
     "start_time": "2023-09-23T11:30:00.753900600Z"
    }
   }
  },
  {
   "cell_type": "code",
   "execution_count": 7,
   "outputs": [
    {
     "data": {
      "text/plain": "3"
     },
     "execution_count": 7,
     "metadata": {},
     "output_type": "execute_result"
    }
   ],
   "source": [
    "N"
   ],
   "metadata": {
    "collapsed": false,
    "ExecuteTime": {
     "end_time": "2023-09-23T11:30:02.624549600Z",
     "start_time": "2023-09-23T11:30:02.605868200Z"
    }
   }
  },
  {
   "cell_type": "code",
   "execution_count": 26,
   "outputs": [
    {
     "data": {
      "text/plain": "[['.#..#'], ['##..#'], ['…#.']]"
     },
     "execution_count": 26,
     "metadata": {},
     "output_type": "execute_result"
    }
   ],
   "source": [
    "# B를 다시 만드는 것부터 다ㅅ\n",
    "B"
   ],
   "metadata": {
    "collapsed": false
   }
  },
  {
   "cell_type": "code",
   "execution_count": 29,
   "outputs": [],
   "source": [
    "# 위치찾기\n",
    "destroyers = [[[1,0],[2,0]],\n",
    "               [[1,0],[0,1]],\n",
    "                [[1,0],[1,1]],\n",
    "               [[0,1],[0,2]],\n",
    "                 [[0,1],[1,1]],\n",
    "               [[1,-1],[1,0]]]\n"
   ],
   "metadata": {
    "collapsed": false
   }
  },
  {
   "cell_type": "code",
   "execution_count": 30,
   "outputs": [
    {
     "data": {
      "text/plain": "[[[1, 0], [2, 0]],\n [[1, 0], [0, 1]],\n [[1, 0], [1, 1]],\n [[0, 1], [0, 2]],\n [[0, 1], [1, 1]],\n [[1, -1], [1, 0]]]"
     },
     "execution_count": 30,
     "metadata": {},
     "output_type": "execute_result"
    }
   ],
   "source": [
    "destroyers"
   ],
   "metadata": {
    "collapsed": false
   }
  },
  {
   "cell_type": "code",
   "execution_count": 1,
   "outputs": [
    {
     "ename": "SyntaxError",
     "evalue": "invalid syntax (4022671523.py, line 10)",
     "output_type": "error",
     "traceback": [
      "\u001B[1;36m  Cell \u001B[1;32mIn[1], line 10\u001B[1;36m\u001B[0m\n\u001B[1;33m    if flag =True\u001B[0m\n\u001B[1;37m            ^\u001B[0m\n\u001B[1;31mSyntaxError\u001B[0m\u001B[1;31m:\u001B[0m invalid syntax\n"
     ]
    }
   ],
   "source": [
    "def isD(B,a,b,M,N):\n",
    "    whichSpace = -1\n",
    "\n",
    "    for id , shape in enumerate(destroyers):\n",
    "        for addA, addB in shape:\n",
    "            if a +addA <0 or b + addB < 0 or a +addA >=N or b+addB > M or B[a+addA][b+addB] ==\".\": # 어쩄거나 destroyers를 검사하는것이므로\n",
    "                flag=False\n",
    "                break\n",
    "\n",
    "        if flag =True\n",
    "            whichSpace = id\n",
    "            break\n",
    "    return whichSpace"
   ],
   "metadata": {
    "collapsed": false,
    "ExecuteTime": {
     "end_time": "2023-09-23T11:27:40.014376900Z",
     "start_time": "2023-09-23T11:27:40.000204200Z"
    }
   }
  },
  {
   "cell_type": "code",
   "execution_count": null,
   "outputs": [],
   "source": [
    "def isD(B, a, b, M, N):\n",
    "    whichShape = -1\n",
    "\n",
    "    for id, shape in enumerate(destroyers):\n",
    "        flag = True\n",
    "        for addA, addB in shape:\n",
    "            if a + addA < 0 or b + addB < 0 or a + addA >= N or b + addB >= M or B[a + addA][b + addB] == \".\":\n",
    "                flag = False\n",
    "                break\n",
    "\n",
    "        if flag == True:\n",
    "            whichShape = id\n",
    "            break\n",
    "\n",
    "    return whichShape\n"
   ],
   "metadata": {
    "collapsed": false,
    "ExecuteTime": {
     "start_time": "2023-09-23T11:27:40.011389200Z"
    }
   }
  },
  {
   "cell_type": "code",
   "execution_count": null,
   "outputs": [],
   "source": [],
   "metadata": {
    "collapsed": false
   }
  },
  {
   "cell_type": "code",
   "execution_count": 34,
   "outputs": [
    {
     "name": "stdout",
     "output_type": "stream",
     "text": [
      "0 ['.#..#']\n",
      "1 ['##..#']\n",
      "2 ['…#.']\n"
     ]
    }
   ],
   "source": [
    "for a , col in enumerate(B):\n",
    "    print(a,col)"
   ],
   "metadata": {
    "collapsed": false
   }
  },
  {
   "cell_type": "code",
   "execution_count": null,
   "outputs": [],
   "source": [],
   "metadata": {
    "collapsed": false
   }
  },
  {
   "cell_type": "code",
   "execution_count": 38,
   "outputs": [],
   "source": [
    "\n",
    "def printB(B):\n",
    "    for line in B:\n",
    "        print(line)"
   ],
   "metadata": {
    "collapsed": false
   }
  },
  {
   "cell_type": "code",
   "execution_count": null,
   "outputs": [],
   "source": [],
   "metadata": {
    "collapsed": false
   }
  },
  {
   "cell_type": "code",
   "execution_count": null,
   "outputs": [],
   "source": [
    "ret = [0,0,0]"
   ],
   "metadata": {
    "collapsed": false
   }
  },
  {
   "cell_type": "code",
   "execution_count": null,
   "metadata": {
    "collapsed": true
   },
   "outputs": [],
   "source": [
    "for a, col in enumerate(B):\n",
    "    for b , cell in enumerate(col):\n",
    "        print(a,b, cell)\n",
    "        printB(B)\n",
    "\n",
    "        if cel =='#':\n",
    "            di = isD(B,a,b,M,N)\n",
    "            if di >= 0:\n",
    "                # Destroyers인 경우\n",
    "                # destroyers 인 경우 destroyers로 인식하고 처리하기위해 .으로 바꿔준다\n",
    "                B[a][b] ='.' # a,b\n",
    "                # 많이 어려워보여도 막상하면 어렵지않다 할수있다 천천히 해보면\n",
    "                B[a+destroyers[di][0][0]][b+destroyers[di][0][1]] = '.'\n",
    "                B[a+destroyers[di][1][0]][b+destroyers[di][1][1]] = '.'\n",
    "\n",
    "                ret[2] +=1\n",
    "\n",
    "            else:# 범위 안에 있고 컬럼범위확인하고 그 값이 # 이라면\n",
    "                # Error exception 이 나니까 범위를 확인해야한다\n",
    "                if a+1 < N and B[a+1][b] =='#':\n",
    "                    # submarine 발견 표시\n",
    "            # a는 컬럼의 인덱스 인덱스 +1 한 값이 N보다 작다며\n",
    "                elif b+1 < M, # 셀에서의 범위가 M 보다 작고\n",
    "                    B[a][b] = '.'\n",
    "                    B[a][b+1] = '.'\n",
    "\n",
    "                    ret[1] += 1\n",
    "\n",
    "                else:\n",
    "                    B[a][b] = '.'\n",
    "                    ret[0] +=1\n",
    "    return ret\n",
    "\n"
   ]
  },
  {
   "cell_type": "code",
   "execution_count": 2,
   "outputs": [
    {
     "ename": "NameError",
     "evalue": "name 'N' is not defined",
     "output_type": "error",
     "traceback": [
      "\u001B[1;31m---------------------------------------------------------------------------\u001B[0m",
      "\u001B[1;31mNameError\u001B[0m                                 Traceback (most recent call last)",
      "Cell \u001B[1;32mIn[2], line 1\u001B[0m\n\u001B[1;32m----> 1\u001B[0m \u001B[43mN\u001B[49m\n",
      "\u001B[1;31mNameError\u001B[0m: name 'N' is not defined"
     ]
    }
   ],
   "source": [
    "a+1이"
   ],
   "metadata": {
    "collapsed": false,
    "ExecuteTime": {
     "end_time": "2023-09-23T11:29:56.504866100Z",
     "start_time": "2023-09-23T11:29:56.207119200Z"
    }
   }
  },
  {
   "cell_type": "code",
   "execution_count": null,
   "outputs": [],
   "source": [],
   "metadata": {
    "collapsed": false
   }
  }
 ],
 "metadata": {
  "kernelspec": {
   "display_name": "Python 3",
   "language": "python",
   "name": "python3"
  },
  "language_info": {
   "codemirror_mode": {
    "name": "ipython",
    "version": 2
   },
   "file_extension": ".py",
   "mimetype": "text/x-python",
   "name": "python",
   "nbconvert_exporter": "python",
   "pygments_lexer": "ipython2",
   "version": "2.7.6"
  }
 },
 "nbformat": 4,
 "nbformat_minor": 0
}

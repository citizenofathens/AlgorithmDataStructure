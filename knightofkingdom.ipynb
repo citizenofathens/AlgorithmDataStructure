{
    "cells": [
     {
      "cell_type": "code",
      "execution_count": null,
      "metadata": {},
      "outputs": [],
      "source": [
       "\n",
       "\n",
       "# 수평 두칸이동 후 수직 한 칸 이동\n",
       "#수직 두칸 이동 뒤 수평 한칸 이동\n",
       "\n",
       "\n",
       "if nx < 0 or nx > len(x) or ny < 0 or ny > len(y): \n",
       "    continue\n",
       "\n",
       "\n"
      ]
     },
     {
      "cell_type": "code",
      "execution_count": null,
      "metadata": {},
      "outputs": [],
      "source": [
       "# 두 칸 이동할 수 있을 만한 거리가 있는가 ?\n",
       "\n"
      ]
     },
     {
      "cell_type": "code",
      "execution_count": 2,
      "metadata": {},
      "outputs": [],
      "source": [
       "row = 'abcdefgh'"
      ]
     },
     {
      "cell_type": "code",
      "execution_count": 3,
      "metadata": {},
      "outputs": [],
      "source": [
       "col = '12345678'"
      ]
     },
     {
      "cell_type": "code",
      "execution_count": 11,
      "metadata": {},
      "outputs": [],
      "source": [
       "\n",
       "board = [  [ row[alpha]+ col[number]  for number in range(8) ] for alpha in range(8)]"
      ]
     },
     {
      "cell_type": "code",
      "execution_count": 13,
      "metadata": {},
      "outputs": [],
      "source": [
       "curr = 'a1'"
      ]
     },
     {
      "cell_type": "code",
      "execution_count": 15,
      "metadata": {},
      "outputs": [],
      "source": [
       "numberofcases = 8 "
      ]
     },
     {
      "cell_type": "code",
      "execution_count": 14,
      "metadata": {},
      "outputs": [
       {
        "data": {
         "text/plain": [
          "0"
         ]
        },
        "execution_count": 14,
        "metadata": {},
        "output_type": "execute_result"
       }
      ],
      "source": [
       "\n",
       "for row in range(8):\n",
       "    if board[row].index(curr): # 현재 행에 있다면\n",
       "        col_idx = board[row].index(curr)\n",
       "        row_idx = row+1\n",
       "        # 상, 하, 좌, 우에서\n",
       "        # 한 쪽마다 가능한 경우의 수 는 2가지 이다. \n",
       "        # 상하좌우가 하나씩 안될때마다 8가지에서 마이너스된다\n",
       "        # 변수명 지정에 따라 떠올리기 쉬워질 수 있다\n",
       "        if col_idx < 2 or col_idx > 6:\n",
       "            number_of_cases -= 2\n",
       "        "
      ]
     },
     {
      "cell_type": "code",
      "execution_count": null,
      "metadata": {},
      "outputs": [],
      "source": [
       "[-2,1)]"
      ]
     }
    ],
    "metadata": {
     "kernelspec": {
      "display_name": "Python 3",
      "language": "python",
      "name": "python3"
     },
     "language_info": {
      "codemirror_mode": {
       "name": "ipython",
       "version": 3
      },
      "file_extension": ".py",
      "mimetype": "text/x-python",
      "name": "python",
      "nbconvert_exporter": "python",
      "pygments_lexer": "ipython3",
      "version": "3.11.4"
     },
     "orig_nbformat": 4
    },
    "nbformat": 4,
    "nbformat_minor": 2
   }
   
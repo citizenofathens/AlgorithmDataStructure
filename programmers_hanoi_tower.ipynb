{
 "cells": [
  {
   "cell_type": "code",
   "execution_count": null,
   "metadata": {
    "collapsed": true,
    "ExecuteTime": {
     "end_time": "2025-04-09T23:40:06.855976300Z",
     "start_time": "2025-04-09T23:40:06.851061300Z"
    }
   },
   "outputs": [],
   "source": [
    "# 문제 조건\n",
    "# 3개의 기둥\n",
    "# 작은 것들이 위에 있도록 해야함\n",
    "# 한번에 하나씩만 옮길 수 있음\n",
    "# 퍼즐의 일종임\n",
    "# 맞춰 나가는 것임\n",
    "# n 번 기둥에 있는 원판의 개수가 n이 매개 변수\n",
    "# n개의 원판(15개까지)\n",
    "# 3번 원판으로 최소의 횟수로 옮겨야함\n",
    "\n",
    "\n",
    "#우선 맨 위에 것이 작은 지 큰 지 알 수 없음\n",
    "#하지만 어쩄든 옮겨야 함\n",
    "#그러므로 일단 맨 위의 것을 빼되\n",
    "# 3번으로 바로 옮길것인가 2번으로 옮길것인가\n",
    "# 3번에 갔다 오는 것은 최소로 옮기지 못하게 되는 수가 있음\n",
    "# 그러므로\n",
    "#->\n",
    "# 처음에는 작은 것이 위에 있다 무조건\n",
    "# 그렇다는건 그냥 2번에 다 옮기고 3번으로 옮기면 될것 같지만\n",
    "# 작은 원판 위에 큰 원판이 있는 순간이 존재하면 안됨\n",
    "# 그렇다면\n",
    "# 항상 순서대로 있으니까\n",
    "# 절대로 바로 3으로 옮길 수는 없고\n",
    "# 우선 2로옮긴다해도 그 다음 원판이 3으로 가면 더큰 원판이 밑에있게된다\n",
    "# 하지만 원판은 그게 다가 아님\n",
    "# 입출력 예에서와 같이 큰원판을 나중에 옮겨야함\n",
    "# 그렇다면 2에쌓았다가 3에쌓았다가 해야하나\n",
    "# 끝나기 전까지는 다 쌓으면안됨\n",
    "\n"
   ]
  },
  {
   "cell_type": "code",
   "execution_count": 1,
   "outputs": [],
   "source": [
    "def solution(n):\n",
    "    answer = [[]]\n",
    "    temp = []\n",
    "    def hanoi(n,from,to,temp):\n",
    "        [2,1,3,2]\n",
    "\n",
    "    return answer"
   ],
   "metadata": {
    "collapsed": false,
    "ExecuteTime": {
     "end_time": "2025-04-09T23:40:06.864098300Z",
     "start_time": "2025-04-09T23:40:06.858029400Z"
    }
   }
  },
  {
   "cell_type": "code",
   "execution_count": null,
   "outputs": [],
   "source": [
    "def solution(n):\n",
    "    answer = []\n",
    "\n",
    "    def hanoi(n, start, end, temp):\n",
    "        if n == 1:\n",
    "            answer.append([start, end])\n",
    "        else:\n",
    "            hanoi(n-1, start, temp, end)\n",
    "            answer.append([start, end])\n",
    "            hanoi(n-1, temp, end, start)\n",
    "\n",
    "    hanoi(n, 1, 3, 2)\n",
    "    return answer\n"
   ],
   "metadata": {
    "collapsed": false
   }
  }
 ],
 "metadata": {
  "kernelspec": {
   "display_name": "Python 3",
   "language": "python",
   "name": "python3"
  },
  "language_info": {
   "codemirror_mode": {
    "name": "ipython",
    "version": 2
   },
   "file_extension": ".py",
   "mimetype": "text/x-python",
   "name": "python",
   "nbconvert_exporter": "python",
   "pygments_lexer": "ipython2",
   "version": "2.7.6"
  }
 },
 "nbformat": 4,
 "nbformat_minor": 0
}

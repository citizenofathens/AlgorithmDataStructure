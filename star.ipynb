{
 "cells": [
  {
   "cell_type": "code",
   "execution_count": 32,
   "metadata": {},
   "outputs": [
    {
     "name": "stdout",
     "output_type": "stream",
     "text": [
      "  *\n",
      " ***\n",
      "*****\n"
     ]
    }
   ],
   "source": [
    "# 할줄아는거부터 쉬운거부터해나가야 하게된다\n",
    "\n",
    "# 별찍기는 해보니까 먼저\n",
    "# 규칙성을 찾는다\n",
    "# 별이 1개 3개 5개\n",
    "# 공백은 3개 2개 1개니까 i를 2씩 증가 시키면서 i만큼 별도 찍고, 공백도 i가 증가하는 만큼 감소하도록 변수를 만든다\n",
    "for i in range(1,7,2): \n",
    "    for j in range((6-i)//2):\n",
    "         print(\" \", end=\"\")\n",
    "    for k in range(i):\n",
    "         print(\"*\", end=\"\")\n",
    "    print(\"\")\n",
    "# 거꾸로 찍는 별찍기\n",
    "# 규칙성 찾기\n",
    "# 공백이 앞줄부터 0개 1개 2개 , 증가하는 변수를 가지고 만든다\n",
    "# \n"
   ]
  },
  {
   "cell_type": "code",
   "execution_count": 36,
   "metadata": {},
   "outputs": [
    {
     "name": "stdout",
     "output_type": "stream",
     "text": [
      "  *\n",
      " ***\n",
      "*****\n",
      " ***\n",
      "  *\n",
      "   \n"
     ]
    }
   ],
   "source": [
    "n= int(input())\n",
    "for j in range(1,n+1):\n",
    "    print(\" \"*(n-j),end=\"\")\n",
    "    print(\"*\"*(1+(j-1)*2),end=\"\")\n",
    "    print(\"\")\n",
    "for j in range(n,0,-1):\n",
    "    print(\" \"*(n-j+1),end=\"\")\n",
    "    print(\"*\"*(1+(j-2)*2),end=\"\")\n",
    "    print(\"\") "
   ]
  },
  {
   "cell_type": "code",
   "execution_count": 33,
   "metadata": {},
   "outputs": [
    {
     "name": "stdout",
     "output_type": "stream",
     "text": [
      "   *****\n",
      "    ***\n",
      "     *\n"
     ]
    }
   ],
   "source": [
    "for i in range(5,0,-2):\n",
    "     for j in range((5-i//2)):\n",
    "         print(\" \",end=\"\")\n",
    "     for k in range(i): #end는 띄어쓰기와 개행이 안된다\n",
    "         print(\"*\",end=\"\") \n",
    "     print(\"\")"
   ]
  },
  {
   "cell_type": "code",
   "execution_count": 43,
   "metadata": {},
   "outputs": [
    {
     "name": "stdout",
     "output_type": "stream",
     "text": [
      "*****\n",
      " ***\n",
      "  *\n"
     ]
    }
   ],
   "source": [
    "for i in range(5,0,-2):\n",
    "    for j in range((5-i)//2):\n",
    "        print(\" \",end=\"\")\n",
    "    for k in range(i): #end는 띄어쓰기와 개행이 안된다\n",
    "        print(\"*\",end=\"\") \n",
    "    print(\"\")"
   ]
  },
  {
   "cell_type": "code",
   "execution_count": 42,
   "metadata": {},
   "outputs": [
    {
     "name": "stdout",
     "output_type": "stream",
     "text": [
      "***"
     ]
    }
   ],
   "source": [
    "for j in range((5-5//2)):\n",
    "    print(\"*\",end=\"\")"
   ]
  },
  {
   "cell_type": "code",
   "execution_count": null,
   "metadata": {},
   "outputs": [],
   "source": []
  },
  {
   "cell_type": "code",
   "execution_count": 19,
   "metadata": {},
   "outputs": [
    {
     "name": "stdout",
     "output_type": "stream",
     "text": [
      "*****"
     ]
    }
   ],
   "source": [
    "for j in range((5-i//2)):\n",
    "    print(\"\",end=\"\")"
   ]
  }
 ],
 "metadata": {
  "kernelspec": {
   "display_name": "Python 3",
   "language": "python",
   "name": "python3"
  },
  "language_info": {
   "codemirror_mode": {
    "name": "ipython",
    "version": 3
   },
   "file_extension": ".py",
   "mimetype": "text/x-python",
   "name": "python",
   "nbconvert_exporter": "python",
   "pygments_lexer": "ipython3",
   "version": "3.11.3"
  },
  "orig_nbformat": 4
 },
 "nbformat": 4,
 "nbformat_minor": 2
}

{
 "cells": [
  {
   "cell_type": "code",
   "execution_count": null,
   "outputs": [],
   "source": [
    "\n",
    "inputs = list(map(int,input().split()))"
   ],
   "metadata": {
    "collapsed": false,
    "is_executing": true
   },
   "id": "36d84799f31e2289"
  },
  {
   "cell_type": "code",
   "execution_count": 1,
   "outputs": [],
   "source": [
    "from collections import deque"
   ],
   "metadata": {
    "collapsed": false,
    "ExecuteTime": {
     "end_time": "2023-11-13T11:39:12.497208700Z",
     "start_time": "2023-11-13T11:39:12.429730500Z"
    }
   },
   "id": "b00607fe14138881"
  },
  {
   "cell_type": "code",
   "execution_count": 2,
   "outputs": [],
   "source": [
    "queue = deque()"
   ],
   "metadata": {
    "collapsed": false,
    "ExecuteTime": {
     "end_time": "2023-11-13T11:39:12.521211100Z",
     "start_time": "2023-11-13T11:39:12.485210400Z"
    }
   },
   "id": "82a86e524464b586"
  },
  {
   "cell_type": "code",
   "execution_count": null,
   "outputs": [],
   "source": [],
   "metadata": {
    "collapsed": false
   },
   "id": "c1b6b11574f0e16f"
  },
  {
   "cell_type": "code",
   "execution_count": 5,
   "outputs": [],
   "source": [
    "N,M = map(int, input().split())"
   ],
   "metadata": {
    "collapsed": false,
    "ExecuteTime": {
     "end_time": "2023-11-13T11:42:40.048914200Z",
     "start_time": "2023-11-13T11:42:37.537119400Z"
    }
   },
   "id": "783d7ba4dc654a94"
  },
  {
   "cell_type": "code",
   "execution_count": 6,
   "outputs": [
    {
     "data": {
      "text/plain": "4"
     },
     "execution_count": 6,
     "metadata": {},
     "output_type": "execute_result"
    }
   ],
   "source": [
    "N"
   ],
   "metadata": {
    "collapsed": false,
    "ExecuteTime": {
     "end_time": "2023-11-13T11:42:41.993384300Z",
     "start_time": "2023-11-13T11:42:41.957252200Z"
    }
   },
   "id": "440f886a41dbcda4"
  },
  {
   "cell_type": "code",
   "execution_count": null,
   "outputs": [],
   "source": [
    "graph = []\n",
    "for i in range(n):\n",
    "    graph.append(list(map(int,input())))"
   ],
   "metadata": {
    "collapsed": false
   },
   "id": "2d6edfcccf7ad8ff"
  },
  {
   "cell_type": "code",
   "execution_count": null,
   "outputs": [],
   "source": [],
   "metadata": {
    "collapsed": false
   },
   "id": "7cbe98c05862ac60"
  },
  {
   "cell_type": "code",
   "execution_count": null,
   "id": "initial_id",
   "metadata": {
    "collapsed": true
   },
   "outputs": [],
   "source": [
    "\n",
    "deque\n",
    "\n",
    "def dfs(board,queue,x,y):\n",
    "    \n",
    "        \n",
    "    \n",
    "     \n",
    "    while queue.popleft():    \n",
    "        if x <= -1 or y <=0 or y >= len(board) or x>=len(board[0]):\n",
    "            return False\n",
    "        if graph[0][1] ==0:\n",
    "            \n",
    "        dfs(queue,x-1,y)\n",
    "        dfs(queue,x,y-1)\n",
    "        dfs(queue,x+1,y)\n",
    "        dfs(queue,x,y+1)\n",
    "            \n",
    "    "
   ]
  },
  {
   "cell_type": "code",
   "execution_count": 7,
   "outputs": [],
   "source": [
    "\n",
    "# 미로 탈출\n",
    "N,M = map(int,input().split())"
   ],
   "metadata": {
    "collapsed": false,
    "ExecuteTime": {
     "end_time": "2023-11-13T11:46:09.328534100Z",
     "start_time": "2023-11-13T11:46:08.179602600Z"
    }
   },
   "id": "c19582d23bbf489e"
  },
  {
   "cell_type": "code",
   "execution_count": 8,
   "outputs": [],
   "source": [
    "#괴물이 있는 부분은 0, 없는 부분은 1로 표시된다\n",
    "# 1,1에서 출구 N,M 위치로 최단 거리\n"
   ],
   "metadata": {
    "collapsed": false,
    "ExecuteTime": {
     "end_time": "2023-11-13T11:46:50.300574800Z",
     "start_time": "2023-11-13T11:46:50.273617300Z"
    }
   },
   "id": "bae67cf71ead9426"
  },
  {
   "cell_type": "code",
   "execution_count": null,
   "outputs": [],
   "source": [
    "#없는 부분으로 우선간다\n",
    "# bfs 하면서 1점씩 높이기 방문 가능하다면 1점높이고\n",
    "# 방문 불가하다면 1점 누적 안하고 ?\n",
    "\n",
    "\n",
    "#그래프 입력하기"
   ],
   "metadata": {
    "collapsed": false
   },
   "id": "b9df97a8284d12d1"
  },
  {
   "cell_type": "code",
   "execution_count": 9,
   "outputs": [],
   "source": [
    "graph=[]\n",
    "for i in range(N):\n",
    "    graph.append(list(map(int,input())))"
   ],
   "metadata": {
    "collapsed": false,
    "ExecuteTime": {
     "end_time": "2023-11-13T11:49:22.811617700Z",
     "start_time": "2023-11-13T11:49:13.961100Z"
    }
   },
   "id": "8e82f807c5bb0427"
  },
  {
   "cell_type": "code",
   "execution_count": null,
   "outputs": [],
   "source": [
    "\n",
    "queue = deque()"
   ],
   "metadata": {
    "collapsed": false
   },
   "id": "ac39cee94061c4f1"
  },
  {
   "cell_type": "code",
   "execution_count": null,
   "outputs": [],
   "source": [
    "\n",
    "queue.append(1,1)"
   ],
   "metadata": {
    "collapsed": false
   },
   "id": "ef5af2a5fcf8615a"
  },
  {
   "cell_type": "code",
   "execution_count": null,
   "outputs": [],
   "source": [],
   "metadata": {
    "collapsed": false
   },
   "id": "a758e9565497a551"
  },
  {
   "cell_type": "code",
   "execution_count": null,
   "outputs": [],
   "source": [
    "import copy\n",
    "\n",
    "# 길이만큼 0으러 생성\n",
    "\n",
    "visit = [0 for _ in range(n) for _ in range(m)]"
   ],
   "metadata": {
    "collapsed": false
   },
   "id": "2f43d17aa7726470"
  },
  {
   "cell_type": "code",
   "execution_count": null,
   "outputs": [],
   "source": [
    "\n",
    "# if score <= min_score:\n",
    "# min_score= score\n",
    "\n",
    "board_score =[]"
   ],
   "metadata": {
    "collapsed": false
   },
   "id": "8fcc936c1aa87d3c"
  },
  {
   "cell_type": "code",
   "execution_count": 10,
   "outputs": [
    {
     "data": {
      "text/plain": "[<map at 0x20689326230>,\n <map at 0x206893245e0>,\n <map at 0x206893245b0>,\n <map at 0x20689326650>]"
     },
     "execution_count": 10,
     "metadata": {},
     "output_type": "execute_result"
    }
   ],
   "source": [
    "\n",
    "\n",
    "queue = deque()\n",
    "\n",
    "def bfs(x,y):\n",
    "    \n",
    "    if x<=-1 or y<=-1 or y>= n or x >=n:\n",
    "        return True\n",
    "    \n",
    "    while queue:\n",
    "        node =  queue.popleft()\n",
    "        x , y = node[0], node[1]\n",
    "        for i in range(4):\n",
    "            nx = x +dx[i]\n",
    "            ny = y + dy[i]\n",
    "            if nx<0 or ny<0 or nx>=n or ny>=m:\n",
    "                continue\n",
    "                \n",
    "            if graph[nx][ny] ==0:\n",
    "                continue\n",
    "            if graph[nx][ny] ==1:# 방문하기\n",
    "                graph[nx][ny] = graph[x][y]+1\n",
    "                queue.append((nx,ny))\n",
    "# bfs 는 q에 넣은 순서대로 탐색하고\n",
    "# dfs 는 재귀를 이용해 끝까지 들어간다\n",
    "# 백트래킹은 어느 지점까지 갔다가 한 스텝정도 되돌아 오게 될 수 있다 재귀함수로\n",
    "        \n",
    "            "
   ],
   "metadata": {
    "collapsed": false,
    "ExecuteTime": {
     "end_time": "2023-11-13T11:49:25.053033800Z",
     "start_time": "2023-11-13T11:49:25.025784200Z"
    }
   },
   "id": "f38ae0ddb1489e09"
  },
  {
   "cell_type": "code",
   "execution_count": null,
   "outputs": [],
   "source": [],
   "metadata": {
    "collapsed": false
   },
   "id": "7e63e5dfb380451"
  },
  {
   "cell_type": "code",
   "execution_count": null,
   "outputs": [],
   "source": [
    "\n"
   ],
   "metadata": {
    "collapsed": false
   },
   "id": "6344fb6ff8c735ea"
  }
 ],
 "metadata": {
  "kernelspec": {
   "display_name": "Python 3",
   "language": "python",
   "name": "python3"
  },
  "language_info": {
   "codemirror_mode": {
    "name": "ipython",
    "version": 2
   },
   "file_extension": ".py",
   "mimetype": "text/x-python",
   "name": "python",
   "nbconvert_exporter": "python",
   "pygments_lexer": "ipython2",
   "version": "2.7.6"
  }
 },
 "nbformat": 4,
 "nbformat_minor": 5
}

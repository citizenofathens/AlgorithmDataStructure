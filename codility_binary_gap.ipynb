{
 "cells": [
  {
   "cell_type": "code",
   "execution_count": null,
   "metadata": {
    "collapsed": true
   },
   "outputs": [],
   "source": []
  },
  {
   "cell_type": "code",
   "execution_count": null,
   "outputs": [],
   "source": [],
   "metadata": {
    "collapsed": false
   }
  },
  {
   "cell_type": "code",
   "execution_count": null,
   "outputs": [],
   "source": [
    "# 내코드\n",
    "# you can write to stdout for debugging purposes, e.g.\n",
    "# print(\"this is a debug message\")\n",
    "from collections import deque\n",
    "\n",
    "def solution(N):\n",
    "    binary_queue =deque()\n",
    "    while N != 0 or N ==1:\n",
    "        N,div=   divmod(N,2)\n",
    "        binary_queue.appendleft(div)\n",
    "    if N == 0:\n",
    "        pass\n",
    "\n",
    "    couple = False\n",
    "    cnt = 0\n",
    "    max_cnt = 0\n",
    "    while binary_queue:\n",
    "        curr_number = binary_queue.popleft()\n",
    "        if curr_number ==1 and not couple:\n",
    "            couple = True\n",
    "            pass\n",
    "        if curr_number ==1 and couple:\n",
    "            max_cnt = max(max_cnt ,cnt)\n",
    "            cnt= 0\n",
    "            couple = False\n",
    "        elif curr_number ==0:\n",
    "            cnt +=1\n",
    "    # couple 로 마무리 되면 couple이 완성되지 않은것 , 1개만 나왔을떄 couple이 True 상태\n",
    "    if couple:\n",
    "        max_cnt =0\n",
    "    return max_cnt"
   ],
   "metadata": {
    "collapsed": false
   }
  },
  {
   "cell_type": "code",
   "execution_count": null,
   "outputs": [],
   "source": [
    "\n",
    "#....?\n",
    "\n",
    "def solution(N):\n",
    "    return max([len(x) for x in format(N, 'b').strip('0').split('1')])"
   ],
   "metadata": {
    "collapsed": false
   }
  }
 ],
 "metadata": {
  "kernelspec": {
   "display_name": "Python 3",
   "language": "python",
   "name": "python3"
  },
  "language_info": {
   "codemirror_mode": {
    "name": "ipython",
    "version": 2
   },
   "file_extension": ".py",
   "mimetype": "text/x-python",
   "name": "python",
   "nbconvert_exporter": "python",
   "pygments_lexer": "ipython2",
   "version": "2.7.6"
  }
 },
 "nbformat": 4,
 "nbformat_minor": 0
}

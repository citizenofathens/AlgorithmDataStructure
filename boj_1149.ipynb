{
 "cells": [
  {
   "cell_type": "code",
   "execution_count": 1,
   "metadata": {},
   "outputs": [
    {
     "ename": "KeyboardInterrupt",
     "evalue": "Interrupted by user",
     "output_type": "error",
     "traceback": [
      "\u001b[1;31m---------------------------------------------------------------------------\u001b[0m",
      "\u001b[1;31mKeyboardInterrupt\u001b[0m                         Traceback (most recent call last)",
      "Cell \u001b[1;32mIn[1], line 12\u001b[0m\n\u001b[0;32m      1\u001b[0m \u001b[39m# RGB 거리구하기\u001b[39;00m\n\u001b[0;32m      2\u001b[0m \n\u001b[0;32m      3\u001b[0m  \u001b[39m#바킹독dp 1. 테이블 정의하기 2. 점화식 찾기 3. 초기값 정의하기 \u001b[39;00m\n\u001b[1;32m   (...)\u001b[0m\n\u001b[0;32m      9\u001b[0m \u001b[39m# N번은 N-1 !=\u001b[39;00m\n\u001b[0;32m     10\u001b[0m \u001b[39m#  i 번은 i-1번과 i+1번(양 쪽) 과 같지 않아야 한다\u001b[39;00m\n\u001b[1;32m---> 12\u001b[0m \u001b[39mmap\u001b[39m(\u001b[39minput\u001b[39;49m()\u001b[39m.\u001b[39msplit())\n",
      "File \u001b[1;32m~\\AppData\\Local\\Packages\\PythonSoftwareFoundation.Python.3.11_qbz5n2kfra8p0\\LocalCache\\local-packages\\Python311\\site-packages\\ipykernel\\kernelbase.py:1191\u001b[0m, in \u001b[0;36mKernel.raw_input\u001b[1;34m(self, prompt)\u001b[0m\n\u001b[0;32m   1189\u001b[0m     msg \u001b[39m=\u001b[39m \u001b[39m\"\u001b[39m\u001b[39mraw_input was called, but this frontend does not support input requests.\u001b[39m\u001b[39m\"\u001b[39m\n\u001b[0;32m   1190\u001b[0m     \u001b[39mraise\u001b[39;00m StdinNotImplementedError(msg)\n\u001b[1;32m-> 1191\u001b[0m \u001b[39mreturn\u001b[39;00m \u001b[39mself\u001b[39;49m\u001b[39m.\u001b[39;49m_input_request(\n\u001b[0;32m   1192\u001b[0m     \u001b[39mstr\u001b[39;49m(prompt),\n\u001b[0;32m   1193\u001b[0m     \u001b[39mself\u001b[39;49m\u001b[39m.\u001b[39;49m_parent_ident[\u001b[39m\"\u001b[39;49m\u001b[39mshell\u001b[39;49m\u001b[39m\"\u001b[39;49m],\n\u001b[0;32m   1194\u001b[0m     \u001b[39mself\u001b[39;49m\u001b[39m.\u001b[39;49mget_parent(\u001b[39m\"\u001b[39;49m\u001b[39mshell\u001b[39;49m\u001b[39m\"\u001b[39;49m),\n\u001b[0;32m   1195\u001b[0m     password\u001b[39m=\u001b[39;49m\u001b[39mFalse\u001b[39;49;00m,\n\u001b[0;32m   1196\u001b[0m )\n",
      "File \u001b[1;32m~\\AppData\\Local\\Packages\\PythonSoftwareFoundation.Python.3.11_qbz5n2kfra8p0\\LocalCache\\local-packages\\Python311\\site-packages\\ipykernel\\kernelbase.py:1234\u001b[0m, in \u001b[0;36mKernel._input_request\u001b[1;34m(self, prompt, ident, parent, password)\u001b[0m\n\u001b[0;32m   1231\u001b[0m \u001b[39mexcept\u001b[39;00m \u001b[39mKeyboardInterrupt\u001b[39;00m:\n\u001b[0;32m   1232\u001b[0m     \u001b[39m# re-raise KeyboardInterrupt, to truncate traceback\u001b[39;00m\n\u001b[0;32m   1233\u001b[0m     msg \u001b[39m=\u001b[39m \u001b[39m\"\u001b[39m\u001b[39mInterrupted by user\u001b[39m\u001b[39m\"\u001b[39m\n\u001b[1;32m-> 1234\u001b[0m     \u001b[39mraise\u001b[39;00m \u001b[39mKeyboardInterrupt\u001b[39;00m(msg) \u001b[39mfrom\u001b[39;00m \u001b[39mNone\u001b[39;00m\n\u001b[0;32m   1235\u001b[0m \u001b[39mexcept\u001b[39;00m \u001b[39mException\u001b[39;00m:\n\u001b[0;32m   1236\u001b[0m     \u001b[39mself\u001b[39m\u001b[39m.\u001b[39mlog\u001b[39m.\u001b[39mwarning(\u001b[39m\"\u001b[39m\u001b[39mInvalid Message:\u001b[39m\u001b[39m\"\u001b[39m, exc_info\u001b[39m=\u001b[39m\u001b[39mTrue\u001b[39;00m)\n",
      "\u001b[1;31mKeyboardInterrupt\u001b[0m: Interrupted by user"
     ]
    }
   ],
   "source": [
    "\n",
    "# RGB 거리구하기\n",
    "\n",
    " #바킹독dp 1. 테이블 정의하기 2. 점화식 찾기 3. 초기값 정의하기 \n",
    "# 조급해지고 그럴 때일 수록 똑바로 생각하기\n",
    "#r,g,b\n",
    "\n",
    "\n",
    "# 1!=2\n",
    "# N번은 N-1 !=\n",
    "#  i 번은 i-1번과 i+1번(양 쪽) 과 같지 않아야 한다\n",
    "\n",
    "list(map(int,input().split()))"
   ]
  },
  {
   "cell_type": "code",
   "execution_count": null,
   "metadata": {},
   "outputs": [],
   "source": [
    "# 집의 수 \n",
    "# 칠하는   \n",
    "# 집의 수 만큼\n",
    "# 각 집에는 빨 초 파 를 칠할 수 있는데 \n",
    "# 집마다 비용이 다르다\n",
    "\n",
    "# 그렇다면\n",
    "# 첫번째집을 빨강으로 칠하는 경우부터\n",
    "# dp로 담아야 하고 규칙에 맞게 분배했을 때의\n",
    "# 최소값을 구해야 한다\n",
    "\n",
    "#RGB,를 인덱스로 해서 사용#"
   ]
  },
  {
   "cell_type": "code",
   "execution_count": null,
   "metadata": {},
   "outputs": [],
   "source": [
    "#RGB 칠하는 순서 3! 6가지가 있고\n",
    "# 이 6가지에 대해 dp 에 저장하기\n",
    "\n",
    "#['RGB','RBG','GBR','GRB','BRG','BGR']\n",
    "많지 않은 이 순서대로 찾아나가ㄱ \n",
    "\n",
    "dp[0] = 'RGB'\n",
    "\n",
    "[ orders]\n",
    "\n",
    "\n",
    "D[1][0]=R[1]\n",
    "D[1][1]=G[1]\n",
    "D[1][2]=B[1]\n",
    "# r,g,b,를 칠하는 값을 미리 저장한다\n",
    "\n",
    "# table\n",
    "N = list(map(int,input().split()))\n",
    "for i in range(N):\n",
    "    r[i] =\n",
    "\n",
    "\n"
   ]
  },
  {
   "cell_type": "code",
   "execution_count": null,
   "metadata": {},
   "outputs": [],
   "source": [
    "n = int(input())\n",
    "dp = []\n",
    "for i in range(n):\n",
    "    dp.append(list(map(int,input().split())))\n",
    "\n",
    "for i in range(1,len(dp)):\n",
    "    dp[i][0] = min(dp[i-1][1],dp[i-1][2])+ dp[i][0]\n",
    "    dp[i][1] = min(dp[i-1][0],dp[i-1][2])+dp[i][1]\n",
    "    dp[i][2] = min(dp[i-1][0],dp[i-1][1])+dp[i][2]\n",
    "print(min(dp[n-1][0],dp[n-1][1],dp[n-1][2]))\n",
    "#"
   ]
  }
 ],
 "metadata": {
  "kernelspec": {
   "display_name": "Python 3",
   "language": "python",
   "name": "python3"
  },
  "language_info": {
   "codemirror_mode": {
    "name": "ipython",
    "version": 3
   },
   "file_extension": ".py",
   "mimetype": "text/x-python",
   "name": "python",
   "nbconvert_exporter": "python",
   "pygments_lexer": "ipython3",
   "version": "3.11.3"
  },
  "orig_nbformat": 4
 },
 "nbformat": 4,
 "nbformat_minor": 2
}

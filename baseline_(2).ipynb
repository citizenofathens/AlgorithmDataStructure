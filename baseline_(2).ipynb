{
  "cells": [
    {
      "cell_type": "markdown",
      "metadata": {
        "id": "view-in-github",
        "colab_type": "text"
      },
      "source": [
        "<a href=\"https://colab.research.google.com/github/seongmin0219/AlgorithmDataStructure/blob/master/baseline_(2).ipynb\" target=\"_parent\"><img src=\"https://colab.research.google.com/assets/colab-badge.svg\" alt=\"Open In Colab\"/></a>"
      ]
    },
    {
      "cell_type": "code",
      "source": [
        "import gc\n",
        "import pandas as pd\n",
        "import numpy as np\n",
        "import gc \n",
        "from datetime import datetime\n",
        "import os\n",
        "import time\n",
        "import json\n",
        "# 아이템 연관도를 봐야되는데\n",
        "import re\n",
        "from pathlib import Path\n",
        "import numba as nb\n",
        "from tqdm import tqdm\n",
        "from google.colab import drive\n",
        "import os\n",
        "from pathlib import Path\n",
        "import json\n",
        "import heapq"
      ],
      "metadata": {
        "id": "bylyuyeXijRd"
      },
      "execution_count": 1,
      "outputs": []
    },
    {
      "cell_type": "code",
      "execution_count": 2,
      "metadata": {
        "id": "IsK-H_ELr0Yq",
        "colab": {
          "base_uri": "https://localhost:8080/"
        },
        "outputId": "f547f9ac-c0f3-4d06-b41a-0e9bafc6fc48"
      },
      "outputs": [
        {
          "output_type": "stream",
          "name": "stdout",
          "text": [
            "Drive already mounted at /gdrive; to attempt to forcibly remount, call drive.mount(\"/gdrive\", force_remount=True).\n",
            "exists\n"
          ]
        }
      ],
      "source": [
        "drive.mount('/gdrive')\n",
        "\n",
        "Path('./gdrive/MyDrive/')\n",
        "file_path = '/gdrive/MyDrive/'\n",
        "\n",
        "if os.path.exists(file_path):\n",
        "  print('exists')"
      ]
    },
    {
      "cell_type": "code",
      "source": [
        "DATA_DIR = '/gdrive/MyDrive/data/'"
      ],
      "metadata": {
        "id": "sqNqRDAEsF1f"
      },
      "execution_count": 3,
      "outputs": []
    },
    {
      "cell_type": "code",
      "source": [
        "def load_json(fname):\n",
        "    with open(fname, encoding=\"utf-8\") as f:\n",
        "        json_obj = json.load(f)\n",
        "    return json_obj"
      ],
      "metadata": {
        "id": "d125K4GxuWU7"
      },
      "execution_count": 4,
      "outputs": []
    },
    {
      "cell_type": "code",
      "execution_count": 5,
      "outputs": [],
      "source": [
        "# Opening JSON file\n",
        "f = open(DATA_DIR + 'train_user_seq_log.json')\n",
        "\n",
        "# returns JSON object as\n",
        "# a dictionary\n",
        "data = json.load(f)\n",
        "\n",
        "# Iterating through the jsoa"
      ],
      "metadata": {
        "pycharm": {
          "name": "#%%\n"
        },
        "id": "uUveuaAxtuXt"
      }
    },
    {
      "cell_type": "code",
      "execution_count": 6,
      "outputs": [],
      "source": [
        "df = pd.DataFrame(list(data.items()),columns = ['user_id','item_timestamp'])"
      ],
      "metadata": {
        "pycharm": {
          "name": "#%%\n"
        },
        "id": "IQWO7o4utuXx"
      }
    },
    {
      "cell_type": "code",
      "source": [],
      "metadata": {
        "colab": {
          "base_uri": "https://localhost:8080/",
          "height": 174
        },
        "id": "n9oFiKXG2z-H",
        "outputId": "2f3c926a-493d-4343-a853-9da4a4cfd20b"
      },
      "execution_count": 73,
      "outputs": [
        {
          "output_type": "error",
          "ename": "NameError",
          "evalue": "ignored",
          "traceback": [
            "\u001b[0;31m---------------------------------------------------------------------------\u001b[0m",
            "\u001b[0;31mNameError\u001b[0m                                 Traceback (most recent call last)",
            "\u001b[0;32m<ipython-input-73-b7ec48e0f2bf>\u001b[0m in \u001b[0;36m<module>\u001b[0;34m\u001b[0m\n\u001b[0;32m----> 1\u001b[0;31m \u001b[0;32mdel\u001b[0m \u001b[0mdf\u001b[0m\u001b[0;34m\u001b[0m\u001b[0;34m\u001b[0m\u001b[0m\n\u001b[0m",
            "\u001b[0;31mNameError\u001b[0m: name 'df' is not defined"
          ]
        }
      ]
    },
    {
      "cell_type": "code",
      "source": [],
      "metadata": {
        "colab": {
          "base_uri": "https://localhost:8080/"
        },
        "id": "1lQGcEg8218f",
        "outputId": "e65c74eb-7adf-4a95-db26-1a9a6e73e041"
      },
      "execution_count": 74,
      "outputs": [
        {
          "output_type": "execute_result",
          "data": {
            "text/plain": [
              "68"
            ]
          },
          "metadata": {},
          "execution_count": 74
        }
      ]
    },
    {
      "cell_type": "code",
      "execution_count": 7,
      "outputs": [],
      "source": [
        "def generate_train(df):\n",
        "    user_ids = []\n",
        "    item_ids = []\n",
        "    timestamps = []\n",
        "    for rows in tqdm(df.iterrows()):\n",
        "        item_timestamp = rows[1]['item_timestamp']\n",
        "        user_id = rows[1]['user_id']\n",
        "        for idx in range(len(item_timestamp)):\n",
        "            item = item_timestamp[idx][0]\n",
        "            timestamp = item_timestamp[idx][1]\n",
        "            user_ids.append(user_id)\n",
        "            item_ids.append(item)\n",
        "            timestamps.append(timestamp)\n",
        "    train_df = pd.DataFrame(user_ids,columns=['user_ids'])\n",
        "    train_df['item_ids'] = item_ids\n",
        "    train_df['timestamp'] = timestamps\n",
        "    return train_df"
      ],
      "metadata": {
        "pycharm": {
          "name": "#%%\n"
        },
        "id": "KaeLO8uttuXx"
      }
    },
    {
      "cell_type": "code",
      "execution_count": 8,
      "outputs": [],
      "source": [
        "def load_json(fname):\n",
        "    with open(fname, encoding=\"utf-8\") as f:\n",
        "        json_obj = json.load(f)\n",
        "    return json_obj"
      ],
      "metadata": {
        "pycharm": {
          "name": "#%%\n"
        },
        "id": "GvZTdgXptuXx"
      }
    },
    {
      "cell_type": "code",
      "execution_count": 9,
      "outputs": [
        {
          "output_type": "stream",
          "name": "stderr",
          "text": [
            "672116it [00:35, 19085.99it/s]\n"
          ]
        }
      ],
      "source": [
        "train_db = generate_train(df)"
      ],
      "metadata": {
        "pycharm": {
          "name": "#%%\n"
        },
        "colab": {
          "base_uri": "https://localhost:8080/"
        },
        "id": "lvN-jjyctuXy",
        "outputId": "f9d99a62-e47a-4377-f823-e4eb36a8080c"
      }
    },
    {
      "cell_type": "code",
      "execution_count": 10,
      "outputs": [],
      "source": [
        "train_db = train_db.rename(columns={'item_ids': 'item_id', 'user_ids':'user_id'})"
      ],
      "metadata": {
        "pycharm": {
          "name": "#%%\n"
        },
        "id": "D7zwpokPtuXy"
      }
    },
    {
      "cell_type": "code",
      "source": [],
      "metadata": {
        "id": "mfSxsWIQ5PAW"
      },
      "execution_count": 12,
      "outputs": []
    },
    {
      "cell_type": "code",
      "execution_count": 11,
      "outputs": [],
      "source": [
        "@nb.jit(nopython=True, cache=True)\n",
        "def get_topk(cnts, topk , k ):\n",
        "    for item_id , cnt in cnts.items():\n",
        "        topk[item_id] = np.array(heap_topk(cnt,1,k))"
      ],
      "metadata": {
        "pycharm": {
          "name": "#%%\n"
        },
        "id": "Pryu0k4utuX0"
      }
    },
    {
      "cell_type": "code",
      "execution_count": 12,
      "outputs": [],
      "source": [],
      "metadata": {
        "pycharm": {
          "name": "#%%\n"
        },
        "id": "Dh9sInK4tuX0"
      }
    },
    {
      "cell_type": "code",
      "execution_count": 13,
      "outputs": [],
      "source": [
        "@nb.jit(nopython=True , cache=True)\n",
        "def heap_topk(cnt, overwrite ,cap):\n",
        "    q = [(0.0, 0, 0) for _ in range(0)]\n",
        "    for i, (k,n) in enumerate(cnt.items()):\n",
        "        if overwrite == 1:\n",
        "            heapq.heappush(q, (n,i,k))\n",
        "        else:\n",
        "            heapq.heappush(q, (n,-i,k))\n",
        "        if len(q) > cap:\n",
        "            heapq.heappop(q)\n",
        "    return [heapq.heappop(q)[2] for _ in range(len(q))][::-1]"
      ],
      "metadata": {
        "pycharm": {
          "name": "#%%\n"
        },
        "id": "p4lOJDCmtuX0"
      }
    },
    {
      "cell_type": "code",
      "execution_count": 14,
      "outputs": [],
      "source": [
        "topk = nb.typed.Dict.empty(\n",
        "    key_type=nb.types.int64,\n",
        "    value_type=nb.types.int64[:])\n",
        "cnt = nb.typed.Dict.empty(key_type=nb.types.int64, value_type=nb.types.float64)\n",
        "cnts = nb.typed.Dict.empty(\n",
        "    key_type=nb.types.int64,\n",
        "    value_type=nb.typeof(nb.typed.Dict.empty(key_type=nb.types.int64, value_type=nb.types.float64)))"
      ],
      "metadata": {
        "pycharm": {
          "name": "#%%\n"
        },
        "id": "7g4XCDDktuX0"
      }
    },
    {
      "cell_type": "code",
      "source": [
        "train_db['item_id'] = train_db['item_id'].apply(lambda x: np.int32(x.split(\"_\")[-1]) )\n",
        "train_db['timestamp'] = train_db['timestamp'].apply(lambda x: time.mktime(datetime.strptime(x,\"%Y-%m-%d %H:%M:%S\").timetuple()) )"
      ],
      "metadata": {
        "id": "uijvPe3zAUEp"
      },
      "execution_count": 15,
      "outputs": []
    },
    {
      "cell_type": "code",
      "source": [
        "# item similarity 로 가중치 줘도 되겠다 time weighted 와\n",
        "items_timestamps = train_db[['item_id','timestamp']].values"
      ],
      "metadata": {
        "id": "YTq8qoJqAk5z"
      },
      "execution_count": 16,
      "outputs": []
    },
    {
      "cell_type": "code",
      "source": [
        "df['length'] = df['item_timestamp'].apply(lambda x : len(x))\n",
        "df['idx'] = df['length'].cumsum()\n",
        "df['idx'] = df['idx'].shift(1)\n",
        "df.iloc[0]['idx'] = 0\n",
        "df.fillna(0,inplace=True)\n",
        "df['idx'] = df['idx'].astype(np.int64)\n",
        "df['user_id'] = df['user_id'].apply(lambda x : np.int32(x.split('_')[-1]))"
      ],
      "metadata": {
        "id": "Fp3kPYky82Ae",
        "colab": {
          "base_uri": "https://localhost:8080/"
        },
        "outputId": "ba5d1b2f-4235-4c35-e4b5-f4c8fb8509eb"
      },
      "execution_count": 17,
      "outputs": [
        {
          "output_type": "stream",
          "name": "stderr",
          "text": [
            "/usr/local/lib/python3.8/dist-packages/pandas/core/series.py:1056: SettingWithCopyWarning: \n",
            "A value is trying to be set on a copy of a slice from a DataFrame\n",
            "\n",
            "See the caveats in the documentation: https://pandas.pydata.org/pandas-docs/stable/user_guide/indexing.html#returning-a-view-versus-a-copy\n",
            "  cacher_needs_updating = self._check_is_chained_assignment_possible()\n"
          ]
        }
      ]
    },
    {
      "cell_type": "code",
      "source": [
        "@nb.jit(nopython = True, parallel = True, cache = True)\n",
        "def get_pairs(items_timestamps,row, cnts,par_n):\n",
        "    pairs = [{(0, 0): 0.0 for _ in range(0)} for _ in range(par_n)] \n",
        "\n",
        "    for par_i in nb.prange(par_n):\n",
        "      # if par_i % 100 ==0:\n",
        "        # print(par_i)\n",
        "      user_id,idx, length = row[par_i]\n",
        "      get_single_pair(pairs[par_i], items_timestamps ,idx, length)\n",
        "      \n",
        "    for par_i in range(par_n):\n",
        "        for (aid1, aid2), w in pairs[par_i].items():\n",
        "            if aid1 not in cnts: cnts[aid1] = {0: 0.0 for _ in range(0)}\n",
        "            cnt = cnts[aid1]\n",
        "            if aid2 not in cnt: cnt[aid2] = 0.0\n",
        "            cnt[aid2] += w\n",
        "\n",
        "    # for par_i in range(par_n):\n",
        "    #     for (aid1, aid2), w in pairs[par_i].items():\n",
        "    #         if aid1 not in cnts: cnts[aid1] = {0: 0.0 for _ in range(0)}\n",
        "    #         cnt = cnts[aid1]\n",
        "    #         if aid2 not in cnt: cnt[aid2] = 0.0\n",
        "    #         cnt[aid2] += w\n",
        "\n",
        "# 어떻게 끊느냐도 중요한데 유저 전체를 보고 timestamp 로 끊는다?\n",
        "# 시퀀스 학습시키는게\n",
        "@nb.jit(nopython=True , cache=True)\n",
        "def get_single_pair(pairs, item_timestamps,idx,length):\n",
        "    TIME_WEIGHT =1\n",
        "    mode = TIME_WEIGHT\n",
        "    min_idx = idx\n",
        "    max_idx = idx+length\n",
        "\n",
        "    for i in range(min_idx , max_idx):\n",
        "        for j in range(i+1, max_idx):\n",
        "            timestamp_i =  item_timestamps[i][1]\n",
        "            timestamp_j =  item_timestamps[j][1]\n",
        "            # 하루가 넘어가면 break\n",
        "            time_diff = timestamp_j - timestamp_i\n",
        "            if time_diff  >= 24 * 60 * 60: break\n",
        "            if item_timestamps[i][0] == item_timestamps[j][0]: continue # 두 아이템이 같으면 같은 세션이라도 넘어간다\n",
        "            # 가까운 시간이라도 전혀 다른 아이템일 수 있다\n",
        "            if mode == TIME_WEIGHT:\n",
        "               #나의 임의 시간 weighted\n",
        "                if 0 <= time_diff <= 300: w = 5\n",
        "                elif 300< time_diff <= 600: w = 4\n",
        "                elif 600< time_diff <=1800: w = 3\n",
        "                elif 1800 < time_diff <=3600: w = 2\n",
        "                elif 3600 < time_diff <= 3600 * 6: w = 1\n",
        "                else: w = 0\n",
        "              # 정규화해서 weight를 적용하는건가\n",
        "            # start_time은 session이기 때문이고 이건 user 별로 있기 때문에 session으로는 나누지 않는다 , 전체 기간 대비 얼마나 짧은 기간내에 검색으로 이어졌는지로 판단\n",
        "# w1 = 1 + 3 * (ts[i] + start_time - 1659304800) / (1662328791 - 1659304800)\n",
        "#                w2 = 1 + 3 * (ts[j] + start_time - 1659304800) / (1662328791 - 1659304800) 각 세션\n",
        "            pairs[(item_timestamps[i][0], item_timestamps[j][0])] = w\n",
        "            pairs[(item_timestamps[j][0], item_timestamps[i][0])] = w\n"
      ],
      "metadata": {
        "id": "EtKBaIziEC0B"
      },
      "execution_count": 18,
      "outputs": []
    },
    {
      "cell_type": "code",
      "source": [
        "start_time = df.iloc[0]['item_timestamp'][0][1]\n",
        "end_time = df.iloc[0]['item_timestamp'][-1][1]"
      ],
      "metadata": {
        "id": "VGx0Y5e_5KME"
      },
      "execution_count": 19,
      "outputs": []
    },
    {
      "cell_type": "code",
      "source": [
        "#test_user_seq_log['timestamp'] = test_user_seq_log['item_timestamp'].apply(lambda x: np.array([ int(time.mktime(datetime.strptime(val[1],\"%Y-%m-%d %H:%M:%S\").timetuple())) for val in x ]) )"
      ],
      "metadata": {
        "colab": {
          "base_uri": "https://localhost:8080/",
          "height": 174
        },
        "id": "oQ4JC7cG590Z",
        "outputId": "36ca1470-1dd2-4ce9-c1c1-08fd4ad4804c"
      },
      "execution_count": 24,
      "outputs": [
        {
          "output_type": "error",
          "ename": "NameError",
          "evalue": "ignored",
          "traceback": [
            "\u001b[0;31m---------------------------------------------------------------------------\u001b[0m",
            "\u001b[0;31mNameError\u001b[0m                                 Traceback (most recent call last)",
            "\u001b[0;32m<ipython-input-24-9b9424e1cf24>\u001b[0m in \u001b[0;36m<module>\u001b[0;34m\u001b[0m\n\u001b[0;32m----> 1\u001b[0;31m \u001b[0mtest_user_seq_log\u001b[0m\u001b[0;34m[\u001b[0m\u001b[0;34m'timestamp'\u001b[0m\u001b[0;34m]\u001b[0m \u001b[0;34m=\u001b[0m \u001b[0mtest_user_seq_log\u001b[0m\u001b[0;34m[\u001b[0m\u001b[0;34m'item_timestamp'\u001b[0m\u001b[0;34m]\u001b[0m\u001b[0;34m.\u001b[0m\u001b[0mapply\u001b[0m\u001b[0;34m(\u001b[0m\u001b[0;32mlambda\u001b[0m \u001b[0mx\u001b[0m\u001b[0;34m:\u001b[0m \u001b[0mnp\u001b[0m\u001b[0;34m.\u001b[0m\u001b[0marray\u001b[0m\u001b[0;34m(\u001b[0m\u001b[0;34m[\u001b[0m \u001b[0mint\u001b[0m\u001b[0;34m(\u001b[0m\u001b[0mtime\u001b[0m\u001b[0;34m.\u001b[0m\u001b[0mmktime\u001b[0m\u001b[0;34m(\u001b[0m\u001b[0mdatetime\u001b[0m\u001b[0;34m.\u001b[0m\u001b[0mstrptime\u001b[0m\u001b[0;34m(\u001b[0m\u001b[0mval\u001b[0m\u001b[0;34m[\u001b[0m\u001b[0;36m1\u001b[0m\u001b[0;34m]\u001b[0m\u001b[0;34m,\u001b[0m\u001b[0;34m\"%Y-%m-%d %H:%M:%S\"\u001b[0m\u001b[0;34m)\u001b[0m\u001b[0;34m.\u001b[0m\u001b[0mtimetuple\u001b[0m\u001b[0;34m(\u001b[0m\u001b[0;34m)\u001b[0m\u001b[0;34m)\u001b[0m\u001b[0;34m)\u001b[0m \u001b[0;32mfor\u001b[0m \u001b[0mval\u001b[0m \u001b[0;32min\u001b[0m \u001b[0mx\u001b[0m \u001b[0;34m]\u001b[0m\u001b[0;34m)\u001b[0m \u001b[0;34m)\u001b[0m\u001b[0;34m\u001b[0m\u001b[0;34m\u001b[0m\u001b[0m\n\u001b[0m",
            "\u001b[0;31mNameError\u001b[0m: name 'test_user_seq_log' is not defined"
          ]
        }
      ]
    },
    {
      "cell_type": "code",
      "source": [
        "\n",
        "#start_time_s = time.mktime(datetime.strptime(start_time, \"%Y-%m-%d %H:%M:%S\").timetuple())"
      ],
      "metadata": {
        "id": "HPGKnQYl6L8o"
      },
      "execution_count": null,
      "outputs": []
    },
    {
      "cell_type": "code",
      "source": [
        "\n",
        "#end_time_s = time.mktime(datetime.strptime(end_time, \"%Y-%m-%d %H:%M:%S\").timetuple())"
      ],
      "metadata": {
        "id": "SyPDahUT6Eiz"
      },
      "execution_count": null,
      "outputs": []
    },
    {
      "cell_type": "code",
      "source": [
        "#ts_i =time.mktime(datetime.strptime( df.iloc[500]['item_timestamp'][0][1], \"%Y-%m-%d %H:%M:%S\").timetuple())"
      ],
      "metadata": {
        "id": "JORUcU-G6YPd"
      },
      "execution_count": null,
      "outputs": []
    },
    {
      "cell_type": "code",
      "source": [
        "\n",
        "#datetime.fromtimestamp(1662328791)"
      ],
      "metadata": {
        "id": "9lDFthe66-JC"
      },
      "execution_count": null,
      "outputs": []
    },
    {
      "cell_type": "code",
      "source": [
        "\n",
        "#datetime.fromtimestamp(1659304800)"
      ],
      "metadata": {
        "colab": {
          "base_uri": "https://localhost:8080/",
          "height": 174
        },
        "id": "zV1peti8632M",
        "outputId": "6103c659-9b7b-4473-ba82-557a0da67108"
      },
      "execution_count": 1,
      "outputs": [
        {
          "output_type": "error",
          "ename": "NameError",
          "evalue": "ignored",
          "traceback": [
            "\u001b[0;31m---------------------------------------------------------------------------\u001b[0m",
            "\u001b[0;31mNameError\u001b[0m                                 Traceback (most recent call last)",
            "\u001b[0;32m<ipython-input-1-e347ac90c78d>\u001b[0m in \u001b[0;36m<module>\u001b[0;34m\u001b[0m\n\u001b[0;32m----> 1\u001b[0;31m \u001b[0mdatetime\u001b[0m\u001b[0;34m.\u001b[0m\u001b[0mfromtimestamp\u001b[0m\u001b[0;34m(\u001b[0m\u001b[0;36m1659304800\u001b[0m\u001b[0;34m)\u001b[0m\u001b[0;34m\u001b[0m\u001b[0;34m\u001b[0m\u001b[0m\n\u001b[0m",
            "\u001b[0;31mNameError\u001b[0m: name 'datetime' is not defined"
          ]
        }
      ]
    },
    {
      "cell_type": "code",
      "source": [],
      "metadata": {
        "id": "qX2-Nv75XczP"
      },
      "execution_count": null,
      "outputs": []
    },
    {
      "cell_type": "code",
      "source": [
        "#(ts_i + start_time_s - end_time_s )/ (end_time_s - start_time_s)"
      ],
      "metadata": {
        "colab": {
          "base_uri": "https://localhost:8080/"
        },
        "id": "rwxE1b5e6sbf",
        "outputId": "3635e977-0504-46aa-ca97-26e147c4f6bd"
      },
      "execution_count": 118,
      "outputs": [
        {
          "output_type": "execute_result",
          "data": {
            "text/plain": [
              "212.60009992420274"
            ]
          },
          "metadata": {},
          "execution_count": 118
        }
      ]
    },
    {
      "cell_type": "code",
      "source": [
        "#(ts_i + start_time_s - end_time_s )/ (end_time_s - start_time_s)"
      ],
      "metadata": {
        "colab": {
          "base_uri": "https://localhost:8080/"
        },
        "id": "jCsCScCQ6WJy",
        "outputId": "498931ff-0c44-4dbb-da71-5e79f17d7344"
      },
      "execution_count": 115,
      "outputs": [
        {
          "output_type": "execute_result",
          "data": {
            "text/plain": [
              "212.60004973698722"
            ]
          },
          "metadata": {},
          "execution_count": 115
        }
      ]
    },
    {
      "cell_type": "code",
      "source": [
        "# 이러니까 너무 작은 차이가 난다 \n",
        "#(ts_i + start_time_s - end_time_s )/ (start_times - start_time_s)\n",
        "\n"
      ],
      "metadata": {
        "colab": {
          "base_uri": "https://localhost:8080/"
        },
        "id": "5bvIqcib6reo",
        "outputId": "ddece31a-1067-4ce3-9694-cfaf5aaf392c"
      },
      "execution_count": 117,
      "outputs": [
        {
          "output_type": "execute_result",
          "data": {
            "text/plain": [
              "212.60009992420274"
            ]
          },
          "metadata": {},
          "execution_count": 117
        }
      ]
    },
    {
      "cell_type": "markdown",
      "source": [],
      "metadata": {
        "id": "jCCLYRAp6AXb"
      }
    },
    {
      "cell_type": "code",
      "source": [
        "datetime.fromtimestamp(items_timestamps[1][1])"
      ],
      "metadata": {
        "colab": {
          "base_uri": "https://localhost:8080/"
        },
        "id": "xpkYXFMb2167",
        "outputId": "12b042dd-03e8-4808-926e-00188b351448"
      },
      "execution_count": 75,
      "outputs": [
        {
          "output_type": "execute_result",
          "data": {
            "text/plain": [
              "datetime.datetime(2021, 2, 11, 13, 3, 52)"
            ]
          },
          "metadata": {},
          "execution_count": 75
        }
      ]
    },
    {
      "cell_type": "code",
      "source": [
        "start_time = items_timestamps[0][1]"
      ],
      "metadata": {
        "id": "68KSEpho3Pc5"
      },
      "execution_count": 79,
      "outputs": []
    },
    {
      "cell_type": "code",
      "source": [
        "# 총 시간 간격으로 나누어주면 얼마나 거기서 많은 비율과 값을 차지하는 지로 가중치를 계산하는 듯하다\n",
        "(items_timestamps[2][1]  + start_time -1659304800) / (1662328791 - 1659304800)\n"
      ],
      "metadata": {
        "colab": {
          "base_uri": "https://localhost:8080/"
        },
        "id": "3m8vG6Dj3Sd1",
        "outputId": "5be3dd30-3a33-4919-c610-115aea3401f6"
      },
      "execution_count": 82,
      "outputs": [
        {
          "output_type": "execute_result",
          "data": {
            "text/plain": [
              "518.1207447376662"
            ]
          },
          "metadata": {},
          "execution_count": 82
        }
      ]
    },
    {
      "cell_type": "code",
      "source": [
        "datetime.fromtimestamp(1659304800)  "
      ],
      "metadata": {
        "colab": {
          "base_uri": "https://localhost:8080/"
        },
        "id": "UHYVFkiM3FTi",
        "outputId": "d50fe172-b85e-43f9-dff4-92e257db8e72"
      },
      "execution_count": 77,
      "outputs": [
        {
          "output_type": "execute_result",
          "data": {
            "text/plain": [
              "datetime.datetime(2022, 7, 31, 22, 0)"
            ]
          },
          "metadata": {},
          "execution_count": 77
        }
      ]
    },
    {
      "cell_type": "code",
      "source": [
        "datetime.fromtimestamp(1662328791)"
      ],
      "metadata": {
        "colab": {
          "base_uri": "https://localhost:8080/"
        },
        "id": "zff7YkyS3G1K",
        "outputId": "f0a95e6a-0cbd-458b-8e47-0a537044fdbd"
      },
      "execution_count": 78,
      "outputs": [
        {
          "output_type": "execute_result",
          "data": {
            "text/plain": [
              "datetime.datetime(2022, 9, 4, 21, 59, 51)"
            ]
          },
          "metadata": {},
          "execution_count": 78
        }
      ]
    },
    {
      "cell_type": "code",
      "source": [
        "# datetime.strptime(,\"%Y-%m-%d %H:%M:%S\").timetuple() "
      ],
      "metadata": {
        "colab": {
          "base_uri": "https://localhost:8080/",
          "height": 174
        },
        "id": "iMXu709l2iUa",
        "outputId": "ae7a6d26-acdf-42b1-8d00-68219b168532"
      },
      "execution_count": 74,
      "outputs": [
        {
          "output_type": "error",
          "ename": "TypeError",
          "evalue": "ignored",
          "traceback": [
            "\u001b[0;31m---------------------------------------------------------------------------\u001b[0m",
            "\u001b[0;31mTypeError\u001b[0m                                 Traceback (most recent call last)",
            "\u001b[0;32m<ipython-input-74-18bdc5b734ed>\u001b[0m in \u001b[0;36m<module>\u001b[0;34m\u001b[0m\n\u001b[0;32m----> 1\u001b[0;31m \u001b[0mdatetime\u001b[0m\u001b[0;34m.\u001b[0m\u001b[0mstrptime\u001b[0m\u001b[0;34m(\u001b[0m\u001b[0mitems_timestamps\u001b[0m\u001b[0;34m[\u001b[0m\u001b[0;36m1\u001b[0m\u001b[0;34m]\u001b[0m\u001b[0;34m[\u001b[0m\u001b[0;36m1\u001b[0m\u001b[0;34m]\u001b[0m\u001b[0;34m,\u001b[0m\u001b[0;34m\"%Y-%m-%d %H:%M:%S\"\u001b[0m\u001b[0;34m)\u001b[0m\u001b[0;34m.\u001b[0m\u001b[0mtimetuple\u001b[0m\u001b[0;34m(\u001b[0m\u001b[0;34m)\u001b[0m\u001b[0;34m\u001b[0m\u001b[0;34m\u001b[0m\u001b[0m\n\u001b[0m",
            "\u001b[0;31mTypeError\u001b[0m: strptime() argument 1 must be str, not numpy.float64"
          ]
        }
      ]
    },
    {
      "cell_type": "code",
      "source": [
        "items_timestamps[0][1]"
      ],
      "metadata": {
        "colab": {
          "base_uri": "https://localhost:8080/"
        },
        "id": "UatuxQ2s1u7R",
        "outputId": "50b3c739-a012-4f40-873b-edd25f23ab10"
      },
      "execution_count": 69,
      "outputs": [
        {
          "output_type": "execute_result",
          "data": {
            "text/plain": [
              "1613048622.0"
            ]
          },
          "metadata": {},
          "execution_count": 69
        }
      ]
    },
    {
      "cell_type": "code",
      "source": [
        "items_timestamps[2][1]\n"
      ],
      "metadata": {
        "colab": {
          "base_uri": "https://localhost:8080/"
        },
        "id": "lN98teBB2k7c",
        "outputId": "7897aeee-745c-4440-d35a-ac6b61f6382c"
      },
      "execution_count": 72,
      "outputs": [
        {
          "output_type": "execute_result",
          "data": {
            "text/plain": [
              "1613048647.0"
            ]
          },
          "metadata": {},
          "execution_count": 72
        }
      ]
    },
    {
      "cell_type": "code",
      "source": [],
      "metadata": {
        "id": "wuWs55Nr2mWx"
      },
      "execution_count": 24,
      "outputs": []
    },
    {
      "cell_type": "code",
      "source": [
        "%%time\n",
        "# 30초에 1프로\n",
        "# 3000 초 100프로 50분? 갈수록 빨라지는 듯 cache 해서 그런지  1분에 65건 정도니까원래 코드랑비슷하다 내가 이전에 짠거랑 비교하기 작은 차이라도 큰 차이난다 속도가 엄청나게 !!\n",
        "\n",
        "# cnt저장이 오래걸린다 그래도 할만한 속도로 대폭 줄음\n",
        "# 빠르고 병렬적인 base line end-to-end를 위ㅎ \n",
        "tail = 30\n",
        "min_idx = 0\n",
        "# 5개 전까지 확인\n",
        "length =20\n",
        "idx = 0\n",
        "TIME_WEIGHT =1\n",
        "parallel =1024\n",
        "# 아니면 top40를 뽑고 거기서 rerank로 섞어주는 게 더 나을 수도 있다\n",
        "topn = 20\n",
        "# for start_idx in range(len(grp_df)-5):\n",
        "n = 200000  #chunk row size\n",
        "list_df = [train_db[i:i+n] for i in range(0,train_db.shape[0],n)]\n",
        "chunks_1 = list_df[0]\n",
        "grp_chunk = chunks_1.groupby('user_id')\n",
        "# chunk에서 user_id가 짤렸다면 unique user id 보다 길이가 더 늘어날 수 있으므로 len(df)+알파\n",
        "# 161개의 청크이므로 중복은 161개 정도에서만 발생, 안 발생하도록 코딩하는 게 제일 좋지만\n",
        "pairs = [{(0,0) : 0.0 for _ in range(0)} for _ in range(len(df)+300)]\n",
        "total_len = len(df) \n",
        "max_idx = len(df)\n",
        "cnts = nb.typed.Dict.empty(\n",
        "        key_type = nb.types.int64,\n",
        "        value_type = nb.typeof(nb.typed.Dict.empty(key_type = nb.types.int64, value_type = nb.types.float64)))\n",
        "# 확연히 다른 속도.. 일단은 자자 60만행에대해서 각 행 처리한듯하니 옛날같았으면 느리네하고 기다릴텐데\n",
        "\n",
        "for idx in tqdm(range(0,max_idx, parallel)):\n",
        "    row = df.iloc[idx:min(idx + parallel, max_idx)][['user_id', 'idx', 'length']].values\n",
        "    par_n = len(row)\n",
        "    get_pairs(items_timestamps, row, cnts,par_n)\n",
        "\n",
        "\n",
        "# get topk from counter\n",
        "topk = nb.typed.Dict.empty(\n",
        "        key_type = nb.types.int64,\n",
        "        value_type = nb.types.int64[:])\n",
        "get_topk(cnts, topk, topn)\n",
        "\n"
      ],
      "metadata": {
        "colab": {
          "base_uri": "https://localhost:8080/"
        },
        "id": "xQcZTu1F20qH",
        "outputId": "d679d502-1ece-4286-b61e-2e7b3096570c"
      },
      "execution_count": 20,
      "outputs": [
        {
          "output_type": "stream",
          "name": "stderr",
          "text": [
            "\r  0%|          | 0/657 [00:00<?, ?it/s]<ipython-input-18-dc6fe9c35c6b>:9: NumbaTypeSafetyWarning: unsafe cast from UniTuple(float64 x 2) to UniTuple(int64 x 2). Precision may be lost.\n",
            "  get_single_pair(pairs[par_i], items_timestamps ,idx, length)\n",
            "100%|██████████| 657/657 [06:07<00:00,  1.79it/s]\n"
          ]
        },
        {
          "output_type": "stream",
          "name": "stdout",
          "text": [
            "CPU times: user 8min 38s, sys: 6.8 s, total: 8min 45s\n",
            "Wall time: 6min 30s\n"
          ]
        }
      ]
    },
    {
      "cell_type": "code",
      "source": [
        "del cnts; gc.collect() "
      ],
      "metadata": {
        "colab": {
          "base_uri": "https://localhost:8080/"
        },
        "id": "UORPeXrEwZa_",
        "outputId": "e1e97074-abe7-4025-feb8-e1d02fa0ca34"
      },
      "execution_count": 67,
      "outputs": [
        {
          "output_type": "execute_result",
          "data": {
            "text/plain": [
              "0"
            ]
          },
          "metadata": {},
          "execution_count": 67
        }
      ]
    },
    {
      "cell_type": "code",
      "source": [
        "import numpy as np\n",
        "\n",
        "\n",
        "def ndcg(recs: dict, k: int):\n",
        "    '''\n",
        "    :param recs: reco result and label\n",
        "        example:\n",
        "            {user: {'recs': [reco_item1, ..., reco_item@], 'gt': gt_item(== label)}}\n",
        "    :param k: ndcg@k\n",
        "    :return: ndcg@k score\n",
        "    '''\n",
        "\n",
        "    ndcg_ = 0\n",
        "    for user, each in recs.items():\n",
        "        reco_items = each['recs']\n",
        "        gt_item = each['gt']\n",
        "\n",
        "        for idx, reco_item in enumerate(reco_items):\n",
        "            if gt_item == reco_item:\n",
        "                if idx < k:\n",
        "                    ndcg_ += 1 / np.log2(idx + 2)\n",
        "                break\n",
        "\n",
        "    return float(ndcg_ / len(recs))\n",
        "\n",
        "\n",
        "def hit(recs: dict, k: int):\n",
        "    '''\n",
        "    :param recs: reco result and label\n",
        "        example:\n",
        "            {user: {'recs': [reco_item1, ..., reco_item@], 'gt': gt_item(== label)}}\n",
        "    :param k: hit@k\n",
        "    :return: hit@k(==recall@k) score\n",
        "    ''' \n",
        "    hit_ = 0\n",
        "    for user, each in recs.items():\n",
        "        reco_items = each['recs']\n",
        "        gt_item = each['gt']\n",
        "\n",
        "        for idx, reco_item in enumerate(reco_items):\n",
        "            if gt_item == reco_item:\n",
        "                if idx < k:\n",
        "                    hit_ += 1\n",
        "                break\n",
        "\n",
        "    return float(hit_ / len(recs))\n"
      ],
      "metadata": {
        "id": "cS-wbuRIMklc"
      },
      "execution_count": 21,
      "outputs": []
    },
    {
      "cell_type": "code",
      "source": [
        "#cnts,topk 여기 실행할때 pairs랑 많이 잡아먹나?\n",
        "\n",
        "test_user_label = load_json('/gdrive/MyDrive/data/test_user_label.json')\n",
        "test_user_seq_log = load_json('/gdrive/MyDrive/data/test_user_seq_log.json')\n",
        "test_user_label_df = pd.DataFrame(list(test_user_label.items()), columns=['user_id', 'item_tiemstamp'])\n",
        "test_user_seq_log = pd.DataFrame(list(test_user_seq_log.items()), columns=['user_id', 'item_timestamp'])\n",
        "test_user_label_df.head()\n",
        "test_user_seq_log = test_user_seq_log.rename(columns={'text':'item_timestamp'})"
      ],
      "metadata": {
        "id": "wXD0E5ClZ9Cp"
      },
      "execution_count": 22,
      "outputs": []
    },
    {
      "cell_type": "code",
      "source": [
        "@nb.jit(nopython=True, cache=True)\n",
        "def inference(row, result_clicks,topk,seq_weight):\n",
        "  for user_id, item_id, timestamp in row:\n",
        "    unique_aids = nb.typed.Dict.empty(key_type = nb.types.int64 , value_type= nb.types.float64) \n",
        "    cnt = nb.typed.Dict.empty(key_type= nb.types.int64, value_type = nb.types.float64)\n",
        "\n",
        "    # 최신순부터 거꾸로 배열\n",
        "    new_item_id = item_id[::-1]\n",
        "    new_timestamp = timestamp[::-1]\n",
        "\n",
        "    for a in item_id:\n",
        "    # t = a[0].split(\"_\")[-1]\n",
        "    # t = int(a[0])\n",
        "      unique_aids[a] = 0 \n",
        "    \n",
        "    if len(unique_aids) >= 20:\n",
        "      sequence_weight = np.power(2 , np.linspace(seq_weight, 1, len(new_item_id)))[::-1]-1\n",
        "      for a , w in zip(new_item_id,sequence_weight):\n",
        "        if a not in cnt:\n",
        "         cnt[a] = 0\n",
        "        cnt[a[0]] += w # * 클릭 ,장바구니, 구매에 따른 가중치 추가가능\n",
        "      result_candidates = heap_topk(cnt, 0, 20)\n",
        "    else:\n",
        "      result_candidates = list(unique_aids)\n",
        "      for a in result_candidates:\n",
        "        if a not in topk: continue\n",
        "        for b in topk[a]:\n",
        "          if b in unique_aids: continue\n",
        "          if b not in cnt: cnt[b] = 0\n",
        "          cnt[b] += 1 # 정렬된 topk에서 co-visitation이 높은 아이템을 순서대로 가져와 모자란 길이만큼 채운다\n",
        "      result_candidates.extend(heap_topk(cnt, 0, 20 - len(result_candidates)))\n",
        "    result_clicks[user_id] = np.array(result_candidates)"
      ],
      "metadata": {
        "id": "hwmAxMpYZ8i3"
      },
      "execution_count": 23,
      "outputs": []
    },
    {
      "cell_type": "code",
      "source": [
        "## Function to reduce the DF size\n",
        "def reduce_mem_usage(df, verbose=True):\n",
        "    numerics = ['int16', 'int32', 'int64', 'float16', 'float32', 'float64']\n",
        "    start_mem = df.memory_usage().sum() / 1024**2    \n",
        "    for col in df.columns:\n",
        "        col_type = df[col].dtypes\n",
        "        if col_type in numerics:\n",
        "            c_min = df[col].min()\n",
        "            c_max = df[col].max()\n",
        "            if str(col_type)[:3] == 'int':\n",
        "                if c_min > np.iinfo(np.int8).min and c_max < np.iinfo(np.int8).max:\n",
        "                    df[col] = df[col].astype(np.int8)\n",
        "                elif c_min > np.iinfo(np.int16).min and c_max < np.iinfo(np.int16).max:\n",
        "                    df[col] = df[col].astype(np.int16)\n",
        "                elif c_min > np.iinfo(np.int32).min and c_max < np.iinfo(np.int32).max:\n",
        "                    df[col] = df[col].astype(np.int32)\n",
        "                elif c_min > np.iinfo(np.int64).min and c_max < np.iinfo(np.int64).max:\n",
        "                    df[col] = df[col].astype(np.int64)  \n",
        "            else:\n",
        "                if c_min > np.finfo(np.float16).min and c_max < np.finfo(np.float16).max:\n",
        "                    df[col] = df[col].astype(np.float16)\n",
        "                elif c_min > np.finfo(np.float32).min and c_max < np.finfo(np.float32).max:\n",
        "                    df[col] = df[col].astype(np.float32)\n",
        "                else:\n",
        "                    df[col] = df[col].astype(np.float64)    \n",
        "    end_mem = df.memory_usage().sum() / 1024**2\n",
        "    if verbose: print('Mem. usage decreased to {:5.2f} Mb ({:.1f}% reduction)'.format(end_mem, 100 * (start_mem - end_mem) / start_mem))\n",
        "    return df"
      ],
      "metadata": {
        "id": "tOuOv0pxjUz7"
      },
      "execution_count": 23,
      "outputs": []
    },
    {
      "cell_type": "code",
      "source": [
        "test_user_seq_log['item_id'] = test_user_seq_log['item_timestamp'].apply(lambda x: np.array([ np.int64(val[0].split(\"_\")[-1]) for val in x])  )\n",
        "test_user_seq_log['timestamp'] = test_user_seq_log['item_timestamp'].apply(lambda x: np.array([ int(time.mktime(datetime.strptime(val[1],\"%Y-%m-%d %H:%M:%S\").timetuple())) for val in x ]) )"
      ],
      "metadata": {
        "id": "dG7HYXdYaDyM"
      },
      "execution_count": 24,
      "outputs": []
    },
    {
      "cell_type": "code",
      "source": [
        "test_user_seq_log"
      ],
      "metadata": {
        "colab": {
          "base_uri": "https://localhost:8080/",
          "height": 423
        },
        "id": "k3Aj6B28cZzg",
        "outputId": "bf63e4fc-ffdd-4a14-8a7a-afa396e4103c"
      },
      "execution_count": 33,
      "outputs": [
        {
          "output_type": "execute_result",
          "data": {
            "text/plain": [
              "            user_id                                     item_timestamp  \\\n",
              "0            user_0  [[item_766598, 2021-05-05 22:05:21], [item_652...   \n",
              "1            user_1  [[item_183462, 2021-04-30 13:11:22], [item_374...   \n",
              "2            user_2  [[item_108368, 2021-05-11 19:41:28], [item_414...   \n",
              "3            user_3  [[item_520146, 2021-03-13 13:51:46], [item_670...   \n",
              "4            user_4  [[item_577279, 2021-05-06 23:23:03], [item_374...   \n",
              "...             ...                                                ...   \n",
              "587481  user_829386  [[item_554650, 2021-05-12 12:55:35], [item_810...   \n",
              "587482  user_829390  [[item_310178, 2021-05-12 12:56:18], [item_866...   \n",
              "587483  user_829393  [[item_115233, 2021-05-12 12:56:42], [item_492...   \n",
              "587484  user_829397  [[item_503200, 2021-05-12 12:58:08], [item_517...   \n",
              "587485  user_829403  [[item_183824, 2021-05-12 12:59:10], [item_292...   \n",
              "\n",
              "                                                  item_id  \\\n",
              "0       [766598, 65273, 580437, 773271, 580437, 228561...   \n",
              "1       [183462, 374145, 44563, 204302, 110301, 793635...   \n",
              "2       [108368, 41459, 667880, 869425, 932949, 869425...   \n",
              "3       [520146, 670721, 962828, 560874, 181147, 54449...   \n",
              "4       [577279, 374594, 99709, 382452, 747701, 717701...   \n",
              "...                                                   ...   \n",
              "587481           [554650, 810147, 813829, 893014, 130000]   \n",
              "587482  [310178, 866254, 945164, 47147, 851941, 712124...   \n",
              "587483                                   [115233, 492271]   \n",
              "587484                                   [503200, 517483]   \n",
              "587485  [183824, 292633, 167515, 263005, 335217, 62884...   \n",
              "\n",
              "                                                timestamp  length      idx  \n",
              "0       [1620252321, 1620252532, 1620252675, 162025294...      20        0  \n",
              "1       [1619788282, 1619788315, 1619788360, 161978848...      20       20  \n",
              "2       [1620762088, 1620766788, 1620766797, 162076680...      20       40  \n",
              "3       [1615643506, 1615935606, 1616058665, 161610918...      20       60  \n",
              "4       [1620343383, 1620343410, 1620343540, 162034357...      20       80  \n",
              "...                                                   ...     ...      ...  \n",
              "587481  [1620824135, 1620824148, 1620824177, 162082420...       5  7025309  \n",
              "587482  [1620824178, 1620824190, 1620824223, 162082423...       8  7025314  \n",
              "587483                           [1620824202, 1620824207]       2  7025322  \n",
              "587484                           [1620824288, 1620824438]       2  7025324  \n",
              "587485  [1620824350, 1620824402, 1620824419, 162082446...       8  7025326  \n",
              "\n",
              "[587486 rows x 6 columns]"
            ],
            "text/html": [
              "\n",
              "  <div id=\"df-e4b14e5c-e586-45f7-8827-2c32d7091147\">\n",
              "    <div class=\"colab-df-container\">\n",
              "      <div>\n",
              "<style scoped>\n",
              "    .dataframe tbody tr th:only-of-type {\n",
              "        vertical-align: middle;\n",
              "    }\n",
              "\n",
              "    .dataframe tbody tr th {\n",
              "        vertical-align: top;\n",
              "    }\n",
              "\n",
              "    .dataframe thead th {\n",
              "        text-align: right;\n",
              "    }\n",
              "</style>\n",
              "<table border=\"1\" class=\"dataframe\">\n",
              "  <thead>\n",
              "    <tr style=\"text-align: right;\">\n",
              "      <th></th>\n",
              "      <th>user_id</th>\n",
              "      <th>item_timestamp</th>\n",
              "      <th>item_id</th>\n",
              "      <th>timestamp</th>\n",
              "      <th>length</th>\n",
              "      <th>idx</th>\n",
              "    </tr>\n",
              "  </thead>\n",
              "  <tbody>\n",
              "    <tr>\n",
              "      <th>0</th>\n",
              "      <td>user_0</td>\n",
              "      <td>[[item_766598, 2021-05-05 22:05:21], [item_652...</td>\n",
              "      <td>[766598, 65273, 580437, 773271, 580437, 228561...</td>\n",
              "      <td>[1620252321, 1620252532, 1620252675, 162025294...</td>\n",
              "      <td>20</td>\n",
              "      <td>0</td>\n",
              "    </tr>\n",
              "    <tr>\n",
              "      <th>1</th>\n",
              "      <td>user_1</td>\n",
              "      <td>[[item_183462, 2021-04-30 13:11:22], [item_374...</td>\n",
              "      <td>[183462, 374145, 44563, 204302, 110301, 793635...</td>\n",
              "      <td>[1619788282, 1619788315, 1619788360, 161978848...</td>\n",
              "      <td>20</td>\n",
              "      <td>20</td>\n",
              "    </tr>\n",
              "    <tr>\n",
              "      <th>2</th>\n",
              "      <td>user_2</td>\n",
              "      <td>[[item_108368, 2021-05-11 19:41:28], [item_414...</td>\n",
              "      <td>[108368, 41459, 667880, 869425, 932949, 869425...</td>\n",
              "      <td>[1620762088, 1620766788, 1620766797, 162076680...</td>\n",
              "      <td>20</td>\n",
              "      <td>40</td>\n",
              "    </tr>\n",
              "    <tr>\n",
              "      <th>3</th>\n",
              "      <td>user_3</td>\n",
              "      <td>[[item_520146, 2021-03-13 13:51:46], [item_670...</td>\n",
              "      <td>[520146, 670721, 962828, 560874, 181147, 54449...</td>\n",
              "      <td>[1615643506, 1615935606, 1616058665, 161610918...</td>\n",
              "      <td>20</td>\n",
              "      <td>60</td>\n",
              "    </tr>\n",
              "    <tr>\n",
              "      <th>4</th>\n",
              "      <td>user_4</td>\n",
              "      <td>[[item_577279, 2021-05-06 23:23:03], [item_374...</td>\n",
              "      <td>[577279, 374594, 99709, 382452, 747701, 717701...</td>\n",
              "      <td>[1620343383, 1620343410, 1620343540, 162034357...</td>\n",
              "      <td>20</td>\n",
              "      <td>80</td>\n",
              "    </tr>\n",
              "    <tr>\n",
              "      <th>...</th>\n",
              "      <td>...</td>\n",
              "      <td>...</td>\n",
              "      <td>...</td>\n",
              "      <td>...</td>\n",
              "      <td>...</td>\n",
              "      <td>...</td>\n",
              "    </tr>\n",
              "    <tr>\n",
              "      <th>587481</th>\n",
              "      <td>user_829386</td>\n",
              "      <td>[[item_554650, 2021-05-12 12:55:35], [item_810...</td>\n",
              "      <td>[554650, 810147, 813829, 893014, 130000]</td>\n",
              "      <td>[1620824135, 1620824148, 1620824177, 162082420...</td>\n",
              "      <td>5</td>\n",
              "      <td>7025309</td>\n",
              "    </tr>\n",
              "    <tr>\n",
              "      <th>587482</th>\n",
              "      <td>user_829390</td>\n",
              "      <td>[[item_310178, 2021-05-12 12:56:18], [item_866...</td>\n",
              "      <td>[310178, 866254, 945164, 47147, 851941, 712124...</td>\n",
              "      <td>[1620824178, 1620824190, 1620824223, 162082423...</td>\n",
              "      <td>8</td>\n",
              "      <td>7025314</td>\n",
              "    </tr>\n",
              "    <tr>\n",
              "      <th>587483</th>\n",
              "      <td>user_829393</td>\n",
              "      <td>[[item_115233, 2021-05-12 12:56:42], [item_492...</td>\n",
              "      <td>[115233, 492271]</td>\n",
              "      <td>[1620824202, 1620824207]</td>\n",
              "      <td>2</td>\n",
              "      <td>7025322</td>\n",
              "    </tr>\n",
              "    <tr>\n",
              "      <th>587484</th>\n",
              "      <td>user_829397</td>\n",
              "      <td>[[item_503200, 2021-05-12 12:58:08], [item_517...</td>\n",
              "      <td>[503200, 517483]</td>\n",
              "      <td>[1620824288, 1620824438]</td>\n",
              "      <td>2</td>\n",
              "      <td>7025324</td>\n",
              "    </tr>\n",
              "    <tr>\n",
              "      <th>587485</th>\n",
              "      <td>user_829403</td>\n",
              "      <td>[[item_183824, 2021-05-12 12:59:10], [item_292...</td>\n",
              "      <td>[183824, 292633, 167515, 263005, 335217, 62884...</td>\n",
              "      <td>[1620824350, 1620824402, 1620824419, 162082446...</td>\n",
              "      <td>8</td>\n",
              "      <td>7025326</td>\n",
              "    </tr>\n",
              "  </tbody>\n",
              "</table>\n",
              "<p>587486 rows × 6 columns</p>\n",
              "</div>\n",
              "      <button class=\"colab-df-convert\" onclick=\"convertToInteractive('df-e4b14e5c-e586-45f7-8827-2c32d7091147')\"\n",
              "              title=\"Convert this dataframe to an interactive table.\"\n",
              "              style=\"display:none;\">\n",
              "        \n",
              "  <svg xmlns=\"http://www.w3.org/2000/svg\" height=\"24px\"viewBox=\"0 0 24 24\"\n",
              "       width=\"24px\">\n",
              "    <path d=\"M0 0h24v24H0V0z\" fill=\"none\"/>\n",
              "    <path d=\"M18.56 5.44l.94 2.06.94-2.06 2.06-.94-2.06-.94-.94-2.06-.94 2.06-2.06.94zm-11 1L8.5 8.5l.94-2.06 2.06-.94-2.06-.94L8.5 2.5l-.94 2.06-2.06.94zm10 10l.94 2.06.94-2.06 2.06-.94-2.06-.94-.94-2.06-.94 2.06-2.06.94z\"/><path d=\"M17.41 7.96l-1.37-1.37c-.4-.4-.92-.59-1.43-.59-.52 0-1.04.2-1.43.59L10.3 9.45l-7.72 7.72c-.78.78-.78 2.05 0 2.83L4 21.41c.39.39.9.59 1.41.59.51 0 1.02-.2 1.41-.59l7.78-7.78 2.81-2.81c.8-.78.8-2.07 0-2.86zM5.41 20L4 18.59l7.72-7.72 1.47 1.35L5.41 20z\"/>\n",
              "  </svg>\n",
              "      </button>\n",
              "      \n",
              "  <style>\n",
              "    .colab-df-container {\n",
              "      display:flex;\n",
              "      flex-wrap:wrap;\n",
              "      gap: 12px;\n",
              "    }\n",
              "\n",
              "    .colab-df-convert {\n",
              "      background-color: #E8F0FE;\n",
              "      border: none;\n",
              "      border-radius: 50%;\n",
              "      cursor: pointer;\n",
              "      display: none;\n",
              "      fill: #1967D2;\n",
              "      height: 32px;\n",
              "      padding: 0 0 0 0;\n",
              "      width: 32px;\n",
              "    }\n",
              "\n",
              "    .colab-df-convert:hover {\n",
              "      background-color: #E2EBFA;\n",
              "      box-shadow: 0px 1px 2px rgba(60, 64, 67, 0.3), 0px 1px 3px 1px rgba(60, 64, 67, 0.15);\n",
              "      fill: #174EA6;\n",
              "    }\n",
              "\n",
              "    [theme=dark] .colab-df-convert {\n",
              "      background-color: #3B4455;\n",
              "      fill: #D2E3FC;\n",
              "    }\n",
              "\n",
              "    [theme=dark] .colab-df-convert:hover {\n",
              "      background-color: #434B5C;\n",
              "      box-shadow: 0px 1px 3px 1px rgba(0, 0, 0, 0.15);\n",
              "      filter: drop-shadow(0px 1px 2px rgba(0, 0, 0, 0.3));\n",
              "      fill: #FFFFFF;\n",
              "    }\n",
              "  </style>\n",
              "\n",
              "      <script>\n",
              "        const buttonEl =\n",
              "          document.querySelector('#df-e4b14e5c-e586-45f7-8827-2c32d7091147 button.colab-df-convert');\n",
              "        buttonEl.style.display =\n",
              "          google.colab.kernel.accessAllowed ? 'block' : 'none';\n",
              "\n",
              "        async function convertToInteractive(key) {\n",
              "          const element = document.querySelector('#df-e4b14e5c-e586-45f7-8827-2c32d7091147');\n",
              "          const dataTable =\n",
              "            await google.colab.kernel.invokeFunction('convertToInteractive',\n",
              "                                                     [key], {});\n",
              "          if (!dataTable) return;\n",
              "\n",
              "          const docLinkHtml = 'Like what you see? Visit the ' +\n",
              "            '<a target=\"_blank\" href=https://colab.research.google.com/notebooks/data_table.ipynb>data table notebook</a>'\n",
              "            + ' to learn more about interactive tables.';\n",
              "          element.innerHTML = '';\n",
              "          dataTable['output_type'] = 'display_data';\n",
              "          await google.colab.output.renderOutput(dataTable, element);\n",
              "          const docLink = document.createElement('div');\n",
              "          docLink.innerHTML = docLinkHtml;\n",
              "          element.appendChild(docLink);\n",
              "        }\n",
              "      </script>\n",
              "    </div>\n",
              "  </div>\n",
              "  "
            ]
          },
          "metadata": {},
          "execution_count": 33
        }
      ]
    },
    {
      "cell_type": "code",
      "source": [
        "type(test_user_seq_log['item_id'].values[0][0])"
      ],
      "metadata": {
        "colab": {
          "base_uri": "https://localhost:8080/"
        },
        "id": "CpcO_LoMi2nn",
        "outputId": "fbe50740-5ab7-4a2c-ed9e-2f9e559c7745"
      },
      "execution_count": 34,
      "outputs": [
        {
          "output_type": "execute_result",
          "data": {
            "text/plain": [
              "numpy.int64"
            ]
          },
          "metadata": {},
          "execution_count": 34
        }
      ]
    },
    {
      "cell_type": "code",
      "source": [
        "type(test_user_seq_log['timestamp'].values[0][0])\n"
      ],
      "metadata": {
        "colab": {
          "base_uri": "https://localhost:8080/"
        },
        "id": "7oRSMj7pix8n",
        "outputId": "d05c7ba5-a9d2-4a82-d17a-4eb9e12d0f47"
      },
      "execution_count": 35,
      "outputs": [
        {
          "output_type": "execute_result",
          "data": {
            "text/plain": [
              "numpy.int64"
            ]
          },
          "metadata": {},
          "execution_count": 35
        }
      ]
    },
    {
      "cell_type": "code",
      "source": [],
      "metadata": {
        "id": "TG8DY15RgVwD"
      },
      "execution_count": 35,
      "outputs": []
    },
    {
      "cell_type": "code",
      "source": [
        "def generate_train(df):\n",
        "    user_ids = []\n",
        "    item_ids = []\n",
        "    timestamps = []\n",
        "    for rows in tqdm(df.iterrows()):\n",
        "        item_timestamp = rows[1]['item_timestamp']\n",
        "        user_id = rows[1]['user_id']\n",
        "        for idx in range(len(item_timestamp)):\n",
        "            item = item_timestamp[idx][0]\n",
        "            timestamp = item_timestamp[idx][1]\n",
        "            user_ids.append(user_id)\n",
        "            item_ids.append(item)\n",
        "            timestamps.append(timestamp)\n",
        "    train_df = pd.DataFrame(user_ids,columns=['user_ids'])\n",
        "    train_df['item_ids'] = item_ids\n",
        "    train_df['timestamps'] = timestamps\n",
        "    return train_df"
      ],
      "metadata": {
        "id": "2SgTJlou8uBy"
      },
      "execution_count": 36,
      "outputs": []
    },
    {
      "cell_type": "code",
      "source": [
        "\n",
        "test_db = generate_train(test_user_seq_log)"
      ],
      "metadata": {
        "colab": {
          "base_uri": "https://localhost:8080/"
        },
        "id": "WI1IRluq8ufi",
        "outputId": "9834478a-621a-4013-e95a-1e94ab182fe5"
      },
      "execution_count": 37,
      "outputs": [
        {
          "output_type": "stream",
          "name": "stderr",
          "text": [
            "587486it [00:25, 22613.50it/s]\n"
          ]
        }
      ]
    },
    {
      "cell_type": "code",
      "source": [
        "test_user_seq_log.iloc[0]['idx'] = 0 "
      ],
      "metadata": {
        "id": "DrdqWyLq9UWa",
        "colab": {
          "base_uri": "https://localhost:8080/"
        },
        "outputId": "8fed608d-5e5d-4499-f67f-50f5d1eaa508"
      },
      "execution_count": 38,
      "outputs": [
        {
          "output_type": "stream",
          "name": "stderr",
          "text": [
            "/usr/local/lib/python3.8/dist-packages/pandas/core/series.py:1056: SettingWithCopyWarning: \n",
            "A value is trying to be set on a copy of a slice from a DataFrame\n",
            "\n",
            "See the caveats in the documentation: https://pandas.pydata.org/pandas-docs/stable/user_guide/indexing.html#returning-a-view-versus-a-copy\n",
            "  cacher_needs_updating = self._check_is_chained_assignment_possible()\n"
          ]
        }
      ]
    },
    {
      "cell_type": "code",
      "source": [
        "test_user_seq_log['length'] = test_user_seq_log['item_timestamp'].apply(lambda x : len(x))\n",
        "\n",
        "test_user_seq_log['idx'] = test_user_seq_log['length'].cumsum()\n",
        "test_user_seq_log['idx'] = test_user_seq_log['idx'].shift(1)\n",
        "test_user_seq_log.fillna(0,inplace=True)\n",
        "test_user_seq_log['idx'] = test_user_seq_log['idx'].astype(np.int64) \n",
        "\n"
      ],
      "metadata": {
        "id": "nkVPz3wZ9J2P"
      },
      "execution_count": 39,
      "outputs": []
    },
    {
      "cell_type": "code",
      "source": [
        "test_user_seq_log"
      ],
      "metadata": {
        "colab": {
          "base_uri": "https://localhost:8080/",
          "height": 423
        },
        "id": "BnF-qrq_9U06",
        "outputId": "77ab7cc1-c356-470c-b149-774477eb8af0"
      },
      "execution_count": 40,
      "outputs": [
        {
          "output_type": "execute_result",
          "data": {
            "text/plain": [
              "            user_id                                     item_timestamp  \\\n",
              "0            user_0  [[item_766598, 2021-05-05 22:05:21], [item_652...   \n",
              "1            user_1  [[item_183462, 2021-04-30 13:11:22], [item_374...   \n",
              "2            user_2  [[item_108368, 2021-05-11 19:41:28], [item_414...   \n",
              "3            user_3  [[item_520146, 2021-03-13 13:51:46], [item_670...   \n",
              "4            user_4  [[item_577279, 2021-05-06 23:23:03], [item_374...   \n",
              "...             ...                                                ...   \n",
              "587481  user_829386  [[item_554650, 2021-05-12 12:55:35], [item_810...   \n",
              "587482  user_829390  [[item_310178, 2021-05-12 12:56:18], [item_866...   \n",
              "587483  user_829393  [[item_115233, 2021-05-12 12:56:42], [item_492...   \n",
              "587484  user_829397  [[item_503200, 2021-05-12 12:58:08], [item_517...   \n",
              "587485  user_829403  [[item_183824, 2021-05-12 12:59:10], [item_292...   \n",
              "\n",
              "                                                  item_id  \\\n",
              "0       [766598, 65273, 580437, 773271, 580437, 228561...   \n",
              "1       [183462, 374145, 44563, 204302, 110301, 793635...   \n",
              "2       [108368, 41459, 667880, 869425, 932949, 869425...   \n",
              "3       [520146, 670721, 962828, 560874, 181147, 54449...   \n",
              "4       [577279, 374594, 99709, 382452, 747701, 717701...   \n",
              "...                                                   ...   \n",
              "587481           [554650, 810147, 813829, 893014, 130000]   \n",
              "587482  [310178, 866254, 945164, 47147, 851941, 712124...   \n",
              "587483                                   [115233, 492271]   \n",
              "587484                                   [503200, 517483]   \n",
              "587485  [183824, 292633, 167515, 263005, 335217, 62884...   \n",
              "\n",
              "                                                timestamp  length      idx  \n",
              "0       [1620252321, 1620252532, 1620252675, 162025294...      20        0  \n",
              "1       [1619788282, 1619788315, 1619788360, 161978848...      20       20  \n",
              "2       [1620762088, 1620766788, 1620766797, 162076680...      20       40  \n",
              "3       [1615643506, 1615935606, 1616058665, 161610918...      20       60  \n",
              "4       [1620343383, 1620343410, 1620343540, 162034357...      20       80  \n",
              "...                                                   ...     ...      ...  \n",
              "587481  [1620824135, 1620824148, 1620824177, 162082420...       5  7025309  \n",
              "587482  [1620824178, 1620824190, 1620824223, 162082423...       8  7025314  \n",
              "587483                           [1620824202, 1620824207]       2  7025322  \n",
              "587484                           [1620824288, 1620824438]       2  7025324  \n",
              "587485  [1620824350, 1620824402, 1620824419, 162082446...       8  7025326  \n",
              "\n",
              "[587486 rows x 6 columns]"
            ],
            "text/html": [
              "\n",
              "  <div id=\"df-c9f21ba2-fa35-445d-886c-802c4f350c45\">\n",
              "    <div class=\"colab-df-container\">\n",
              "      <div>\n",
              "<style scoped>\n",
              "    .dataframe tbody tr th:only-of-type {\n",
              "        vertical-align: middle;\n",
              "    }\n",
              "\n",
              "    .dataframe tbody tr th {\n",
              "        vertical-align: top;\n",
              "    }\n",
              "\n",
              "    .dataframe thead th {\n",
              "        text-align: right;\n",
              "    }\n",
              "</style>\n",
              "<table border=\"1\" class=\"dataframe\">\n",
              "  <thead>\n",
              "    <tr style=\"text-align: right;\">\n",
              "      <th></th>\n",
              "      <th>user_id</th>\n",
              "      <th>item_timestamp</th>\n",
              "      <th>item_id</th>\n",
              "      <th>timestamp</th>\n",
              "      <th>length</th>\n",
              "      <th>idx</th>\n",
              "    </tr>\n",
              "  </thead>\n",
              "  <tbody>\n",
              "    <tr>\n",
              "      <th>0</th>\n",
              "      <td>user_0</td>\n",
              "      <td>[[item_766598, 2021-05-05 22:05:21], [item_652...</td>\n",
              "      <td>[766598, 65273, 580437, 773271, 580437, 228561...</td>\n",
              "      <td>[1620252321, 1620252532, 1620252675, 162025294...</td>\n",
              "      <td>20</td>\n",
              "      <td>0</td>\n",
              "    </tr>\n",
              "    <tr>\n",
              "      <th>1</th>\n",
              "      <td>user_1</td>\n",
              "      <td>[[item_183462, 2021-04-30 13:11:22], [item_374...</td>\n",
              "      <td>[183462, 374145, 44563, 204302, 110301, 793635...</td>\n",
              "      <td>[1619788282, 1619788315, 1619788360, 161978848...</td>\n",
              "      <td>20</td>\n",
              "      <td>20</td>\n",
              "    </tr>\n",
              "    <tr>\n",
              "      <th>2</th>\n",
              "      <td>user_2</td>\n",
              "      <td>[[item_108368, 2021-05-11 19:41:28], [item_414...</td>\n",
              "      <td>[108368, 41459, 667880, 869425, 932949, 869425...</td>\n",
              "      <td>[1620762088, 1620766788, 1620766797, 162076680...</td>\n",
              "      <td>20</td>\n",
              "      <td>40</td>\n",
              "    </tr>\n",
              "    <tr>\n",
              "      <th>3</th>\n",
              "      <td>user_3</td>\n",
              "      <td>[[item_520146, 2021-03-13 13:51:46], [item_670...</td>\n",
              "      <td>[520146, 670721, 962828, 560874, 181147, 54449...</td>\n",
              "      <td>[1615643506, 1615935606, 1616058665, 161610918...</td>\n",
              "      <td>20</td>\n",
              "      <td>60</td>\n",
              "    </tr>\n",
              "    <tr>\n",
              "      <th>4</th>\n",
              "      <td>user_4</td>\n",
              "      <td>[[item_577279, 2021-05-06 23:23:03], [item_374...</td>\n",
              "      <td>[577279, 374594, 99709, 382452, 747701, 717701...</td>\n",
              "      <td>[1620343383, 1620343410, 1620343540, 162034357...</td>\n",
              "      <td>20</td>\n",
              "      <td>80</td>\n",
              "    </tr>\n",
              "    <tr>\n",
              "      <th>...</th>\n",
              "      <td>...</td>\n",
              "      <td>...</td>\n",
              "      <td>...</td>\n",
              "      <td>...</td>\n",
              "      <td>...</td>\n",
              "      <td>...</td>\n",
              "    </tr>\n",
              "    <tr>\n",
              "      <th>587481</th>\n",
              "      <td>user_829386</td>\n",
              "      <td>[[item_554650, 2021-05-12 12:55:35], [item_810...</td>\n",
              "      <td>[554650, 810147, 813829, 893014, 130000]</td>\n",
              "      <td>[1620824135, 1620824148, 1620824177, 162082420...</td>\n",
              "      <td>5</td>\n",
              "      <td>7025309</td>\n",
              "    </tr>\n",
              "    <tr>\n",
              "      <th>587482</th>\n",
              "      <td>user_829390</td>\n",
              "      <td>[[item_310178, 2021-05-12 12:56:18], [item_866...</td>\n",
              "      <td>[310178, 866254, 945164, 47147, 851941, 712124...</td>\n",
              "      <td>[1620824178, 1620824190, 1620824223, 162082423...</td>\n",
              "      <td>8</td>\n",
              "      <td>7025314</td>\n",
              "    </tr>\n",
              "    <tr>\n",
              "      <th>587483</th>\n",
              "      <td>user_829393</td>\n",
              "      <td>[[item_115233, 2021-05-12 12:56:42], [item_492...</td>\n",
              "      <td>[115233, 492271]</td>\n",
              "      <td>[1620824202, 1620824207]</td>\n",
              "      <td>2</td>\n",
              "      <td>7025322</td>\n",
              "    </tr>\n",
              "    <tr>\n",
              "      <th>587484</th>\n",
              "      <td>user_829397</td>\n",
              "      <td>[[item_503200, 2021-05-12 12:58:08], [item_517...</td>\n",
              "      <td>[503200, 517483]</td>\n",
              "      <td>[1620824288, 1620824438]</td>\n",
              "      <td>2</td>\n",
              "      <td>7025324</td>\n",
              "    </tr>\n",
              "    <tr>\n",
              "      <th>587485</th>\n",
              "      <td>user_829403</td>\n",
              "      <td>[[item_183824, 2021-05-12 12:59:10], [item_292...</td>\n",
              "      <td>[183824, 292633, 167515, 263005, 335217, 62884...</td>\n",
              "      <td>[1620824350, 1620824402, 1620824419, 162082446...</td>\n",
              "      <td>8</td>\n",
              "      <td>7025326</td>\n",
              "    </tr>\n",
              "  </tbody>\n",
              "</table>\n",
              "<p>587486 rows × 6 columns</p>\n",
              "</div>\n",
              "      <button class=\"colab-df-convert\" onclick=\"convertToInteractive('df-c9f21ba2-fa35-445d-886c-802c4f350c45')\"\n",
              "              title=\"Convert this dataframe to an interactive table.\"\n",
              "              style=\"display:none;\">\n",
              "        \n",
              "  <svg xmlns=\"http://www.w3.org/2000/svg\" height=\"24px\"viewBox=\"0 0 24 24\"\n",
              "       width=\"24px\">\n",
              "    <path d=\"M0 0h24v24H0V0z\" fill=\"none\"/>\n",
              "    <path d=\"M18.56 5.44l.94 2.06.94-2.06 2.06-.94-2.06-.94-.94-2.06-.94 2.06-2.06.94zm-11 1L8.5 8.5l.94-2.06 2.06-.94-2.06-.94L8.5 2.5l-.94 2.06-2.06.94zm10 10l.94 2.06.94-2.06 2.06-.94-2.06-.94-.94-2.06-.94 2.06-2.06.94z\"/><path d=\"M17.41 7.96l-1.37-1.37c-.4-.4-.92-.59-1.43-.59-.52 0-1.04.2-1.43.59L10.3 9.45l-7.72 7.72c-.78.78-.78 2.05 0 2.83L4 21.41c.39.39.9.59 1.41.59.51 0 1.02-.2 1.41-.59l7.78-7.78 2.81-2.81c.8-.78.8-2.07 0-2.86zM5.41 20L4 18.59l7.72-7.72 1.47 1.35L5.41 20z\"/>\n",
              "  </svg>\n",
              "      </button>\n",
              "      \n",
              "  <style>\n",
              "    .colab-df-container {\n",
              "      display:flex;\n",
              "      flex-wrap:wrap;\n",
              "      gap: 12px;\n",
              "    }\n",
              "\n",
              "    .colab-df-convert {\n",
              "      background-color: #E8F0FE;\n",
              "      border: none;\n",
              "      border-radius: 50%;\n",
              "      cursor: pointer;\n",
              "      display: none;\n",
              "      fill: #1967D2;\n",
              "      height: 32px;\n",
              "      padding: 0 0 0 0;\n",
              "      width: 32px;\n",
              "    }\n",
              "\n",
              "    .colab-df-convert:hover {\n",
              "      background-color: #E2EBFA;\n",
              "      box-shadow: 0px 1px 2px rgba(60, 64, 67, 0.3), 0px 1px 3px 1px rgba(60, 64, 67, 0.15);\n",
              "      fill: #174EA6;\n",
              "    }\n",
              "\n",
              "    [theme=dark] .colab-df-convert {\n",
              "      background-color: #3B4455;\n",
              "      fill: #D2E3FC;\n",
              "    }\n",
              "\n",
              "    [theme=dark] .colab-df-convert:hover {\n",
              "      background-color: #434B5C;\n",
              "      box-shadow: 0px 1px 3px 1px rgba(0, 0, 0, 0.15);\n",
              "      filter: drop-shadow(0px 1px 2px rgba(0, 0, 0, 0.3));\n",
              "      fill: #FFFFFF;\n",
              "    }\n",
              "  </style>\n",
              "\n",
              "      <script>\n",
              "        const buttonEl =\n",
              "          document.querySelector('#df-c9f21ba2-fa35-445d-886c-802c4f350c45 button.colab-df-convert');\n",
              "        buttonEl.style.display =\n",
              "          google.colab.kernel.accessAllowed ? 'block' : 'none';\n",
              "\n",
              "        async function convertToInteractive(key) {\n",
              "          const element = document.querySelector('#df-c9f21ba2-fa35-445d-886c-802c4f350c45');\n",
              "          const dataTable =\n",
              "            await google.colab.kernel.invokeFunction('convertToInteractive',\n",
              "                                                     [key], {});\n",
              "          if (!dataTable) return;\n",
              "\n",
              "          const docLinkHtml = 'Like what you see? Visit the ' +\n",
              "            '<a target=\"_blank\" href=https://colab.research.google.com/notebooks/data_table.ipynb>data table notebook</a>'\n",
              "            + ' to learn more about interactive tables.';\n",
              "          element.innerHTML = '';\n",
              "          dataTable['output_type'] = 'display_data';\n",
              "          await google.colab.output.renderOutput(dataTable, element);\n",
              "          const docLink = document.createElement('div');\n",
              "          docLink.innerHTML = docLinkHtml;\n",
              "          element.appendChild(docLink);\n",
              "        }\n",
              "      </script>\n",
              "    </div>\n",
              "  </div>\n",
              "  "
            ]
          },
          "metadata": {},
          "execution_count": 40
        }
      ]
    },
    {
      "cell_type": "code",
      "source": [
        "type(test_user_seq_log['user_id'].values[0])\n"
      ],
      "metadata": {
        "colab": {
          "base_uri": "https://localhost:8080/"
        },
        "id": "Lc2s0sYaeQwd",
        "outputId": "4cf28120-2b4b-449f-d971-d5038a2ec436"
      },
      "execution_count": 41,
      "outputs": [
        {
          "output_type": "execute_result",
          "data": {
            "text/plain": [
              "str"
            ]
          },
          "metadata": {},
          "execution_count": 41
        }
      ]
    },
    {
      "cell_type": "code",
      "source": [
        "test_user_seq_log"
      ],
      "metadata": {
        "colab": {
          "base_uri": "https://localhost:8080/",
          "height": 423
        },
        "id": "-77jvH3JpNbq",
        "outputId": "92073e35-95b2-44f5-e97a-cf6fc5671613"
      },
      "execution_count": 42,
      "outputs": [
        {
          "output_type": "execute_result",
          "data": {
            "text/plain": [
              "            user_id                                     item_timestamp  \\\n",
              "0            user_0  [[item_766598, 2021-05-05 22:05:21], [item_652...   \n",
              "1            user_1  [[item_183462, 2021-04-30 13:11:22], [item_374...   \n",
              "2            user_2  [[item_108368, 2021-05-11 19:41:28], [item_414...   \n",
              "3            user_3  [[item_520146, 2021-03-13 13:51:46], [item_670...   \n",
              "4            user_4  [[item_577279, 2021-05-06 23:23:03], [item_374...   \n",
              "...             ...                                                ...   \n",
              "587481  user_829386  [[item_554650, 2021-05-12 12:55:35], [item_810...   \n",
              "587482  user_829390  [[item_310178, 2021-05-12 12:56:18], [item_866...   \n",
              "587483  user_829393  [[item_115233, 2021-05-12 12:56:42], [item_492...   \n",
              "587484  user_829397  [[item_503200, 2021-05-12 12:58:08], [item_517...   \n",
              "587485  user_829403  [[item_183824, 2021-05-12 12:59:10], [item_292...   \n",
              "\n",
              "                                                  item_id  \\\n",
              "0       [766598, 65273, 580437, 773271, 580437, 228561...   \n",
              "1       [183462, 374145, 44563, 204302, 110301, 793635...   \n",
              "2       [108368, 41459, 667880, 869425, 932949, 869425...   \n",
              "3       [520146, 670721, 962828, 560874, 181147, 54449...   \n",
              "4       [577279, 374594, 99709, 382452, 747701, 717701...   \n",
              "...                                                   ...   \n",
              "587481           [554650, 810147, 813829, 893014, 130000]   \n",
              "587482  [310178, 866254, 945164, 47147, 851941, 712124...   \n",
              "587483                                   [115233, 492271]   \n",
              "587484                                   [503200, 517483]   \n",
              "587485  [183824, 292633, 167515, 263005, 335217, 62884...   \n",
              "\n",
              "                                                timestamp  length      idx  \n",
              "0       [1620252321, 1620252532, 1620252675, 162025294...      20        0  \n",
              "1       [1619788282, 1619788315, 1619788360, 161978848...      20       20  \n",
              "2       [1620762088, 1620766788, 1620766797, 162076680...      20       40  \n",
              "3       [1615643506, 1615935606, 1616058665, 161610918...      20       60  \n",
              "4       [1620343383, 1620343410, 1620343540, 162034357...      20       80  \n",
              "...                                                   ...     ...      ...  \n",
              "587481  [1620824135, 1620824148, 1620824177, 162082420...       5  7025309  \n",
              "587482  [1620824178, 1620824190, 1620824223, 162082423...       8  7025314  \n",
              "587483                           [1620824202, 1620824207]       2  7025322  \n",
              "587484                           [1620824288, 1620824438]       2  7025324  \n",
              "587485  [1620824350, 1620824402, 1620824419, 162082446...       8  7025326  \n",
              "\n",
              "[587486 rows x 6 columns]"
            ],
            "text/html": [
              "\n",
              "  <div id=\"df-2fe3abc4-f5fe-466b-b409-589fa5a55fc9\">\n",
              "    <div class=\"colab-df-container\">\n",
              "      <div>\n",
              "<style scoped>\n",
              "    .dataframe tbody tr th:only-of-type {\n",
              "        vertical-align: middle;\n",
              "    }\n",
              "\n",
              "    .dataframe tbody tr th {\n",
              "        vertical-align: top;\n",
              "    }\n",
              "\n",
              "    .dataframe thead th {\n",
              "        text-align: right;\n",
              "    }\n",
              "</style>\n",
              "<table border=\"1\" class=\"dataframe\">\n",
              "  <thead>\n",
              "    <tr style=\"text-align: right;\">\n",
              "      <th></th>\n",
              "      <th>user_id</th>\n",
              "      <th>item_timestamp</th>\n",
              "      <th>item_id</th>\n",
              "      <th>timestamp</th>\n",
              "      <th>length</th>\n",
              "      <th>idx</th>\n",
              "    </tr>\n",
              "  </thead>\n",
              "  <tbody>\n",
              "    <tr>\n",
              "      <th>0</th>\n",
              "      <td>user_0</td>\n",
              "      <td>[[item_766598, 2021-05-05 22:05:21], [item_652...</td>\n",
              "      <td>[766598, 65273, 580437, 773271, 580437, 228561...</td>\n",
              "      <td>[1620252321, 1620252532, 1620252675, 162025294...</td>\n",
              "      <td>20</td>\n",
              "      <td>0</td>\n",
              "    </tr>\n",
              "    <tr>\n",
              "      <th>1</th>\n",
              "      <td>user_1</td>\n",
              "      <td>[[item_183462, 2021-04-30 13:11:22], [item_374...</td>\n",
              "      <td>[183462, 374145, 44563, 204302, 110301, 793635...</td>\n",
              "      <td>[1619788282, 1619788315, 1619788360, 161978848...</td>\n",
              "      <td>20</td>\n",
              "      <td>20</td>\n",
              "    </tr>\n",
              "    <tr>\n",
              "      <th>2</th>\n",
              "      <td>user_2</td>\n",
              "      <td>[[item_108368, 2021-05-11 19:41:28], [item_414...</td>\n",
              "      <td>[108368, 41459, 667880, 869425, 932949, 869425...</td>\n",
              "      <td>[1620762088, 1620766788, 1620766797, 162076680...</td>\n",
              "      <td>20</td>\n",
              "      <td>40</td>\n",
              "    </tr>\n",
              "    <tr>\n",
              "      <th>3</th>\n",
              "      <td>user_3</td>\n",
              "      <td>[[item_520146, 2021-03-13 13:51:46], [item_670...</td>\n",
              "      <td>[520146, 670721, 962828, 560874, 181147, 54449...</td>\n",
              "      <td>[1615643506, 1615935606, 1616058665, 161610918...</td>\n",
              "      <td>20</td>\n",
              "      <td>60</td>\n",
              "    </tr>\n",
              "    <tr>\n",
              "      <th>4</th>\n",
              "      <td>user_4</td>\n",
              "      <td>[[item_577279, 2021-05-06 23:23:03], [item_374...</td>\n",
              "      <td>[577279, 374594, 99709, 382452, 747701, 717701...</td>\n",
              "      <td>[1620343383, 1620343410, 1620343540, 162034357...</td>\n",
              "      <td>20</td>\n",
              "      <td>80</td>\n",
              "    </tr>\n",
              "    <tr>\n",
              "      <th>...</th>\n",
              "      <td>...</td>\n",
              "      <td>...</td>\n",
              "      <td>...</td>\n",
              "      <td>...</td>\n",
              "      <td>...</td>\n",
              "      <td>...</td>\n",
              "    </tr>\n",
              "    <tr>\n",
              "      <th>587481</th>\n",
              "      <td>user_829386</td>\n",
              "      <td>[[item_554650, 2021-05-12 12:55:35], [item_810...</td>\n",
              "      <td>[554650, 810147, 813829, 893014, 130000]</td>\n",
              "      <td>[1620824135, 1620824148, 1620824177, 162082420...</td>\n",
              "      <td>5</td>\n",
              "      <td>7025309</td>\n",
              "    </tr>\n",
              "    <tr>\n",
              "      <th>587482</th>\n",
              "      <td>user_829390</td>\n",
              "      <td>[[item_310178, 2021-05-12 12:56:18], [item_866...</td>\n",
              "      <td>[310178, 866254, 945164, 47147, 851941, 712124...</td>\n",
              "      <td>[1620824178, 1620824190, 1620824223, 162082423...</td>\n",
              "      <td>8</td>\n",
              "      <td>7025314</td>\n",
              "    </tr>\n",
              "    <tr>\n",
              "      <th>587483</th>\n",
              "      <td>user_829393</td>\n",
              "      <td>[[item_115233, 2021-05-12 12:56:42], [item_492...</td>\n",
              "      <td>[115233, 492271]</td>\n",
              "      <td>[1620824202, 1620824207]</td>\n",
              "      <td>2</td>\n",
              "      <td>7025322</td>\n",
              "    </tr>\n",
              "    <tr>\n",
              "      <th>587484</th>\n",
              "      <td>user_829397</td>\n",
              "      <td>[[item_503200, 2021-05-12 12:58:08], [item_517...</td>\n",
              "      <td>[503200, 517483]</td>\n",
              "      <td>[1620824288, 1620824438]</td>\n",
              "      <td>2</td>\n",
              "      <td>7025324</td>\n",
              "    </tr>\n",
              "    <tr>\n",
              "      <th>587485</th>\n",
              "      <td>user_829403</td>\n",
              "      <td>[[item_183824, 2021-05-12 12:59:10], [item_292...</td>\n",
              "      <td>[183824, 292633, 167515, 263005, 335217, 62884...</td>\n",
              "      <td>[1620824350, 1620824402, 1620824419, 162082446...</td>\n",
              "      <td>8</td>\n",
              "      <td>7025326</td>\n",
              "    </tr>\n",
              "  </tbody>\n",
              "</table>\n",
              "<p>587486 rows × 6 columns</p>\n",
              "</div>\n",
              "      <button class=\"colab-df-convert\" onclick=\"convertToInteractive('df-2fe3abc4-f5fe-466b-b409-589fa5a55fc9')\"\n",
              "              title=\"Convert this dataframe to an interactive table.\"\n",
              "              style=\"display:none;\">\n",
              "        \n",
              "  <svg xmlns=\"http://www.w3.org/2000/svg\" height=\"24px\"viewBox=\"0 0 24 24\"\n",
              "       width=\"24px\">\n",
              "    <path d=\"M0 0h24v24H0V0z\" fill=\"none\"/>\n",
              "    <path d=\"M18.56 5.44l.94 2.06.94-2.06 2.06-.94-2.06-.94-.94-2.06-.94 2.06-2.06.94zm-11 1L8.5 8.5l.94-2.06 2.06-.94-2.06-.94L8.5 2.5l-.94 2.06-2.06.94zm10 10l.94 2.06.94-2.06 2.06-.94-2.06-.94-.94-2.06-.94 2.06-2.06.94z\"/><path d=\"M17.41 7.96l-1.37-1.37c-.4-.4-.92-.59-1.43-.59-.52 0-1.04.2-1.43.59L10.3 9.45l-7.72 7.72c-.78.78-.78 2.05 0 2.83L4 21.41c.39.39.9.59 1.41.59.51 0 1.02-.2 1.41-.59l7.78-7.78 2.81-2.81c.8-.78.8-2.07 0-2.86zM5.41 20L4 18.59l7.72-7.72 1.47 1.35L5.41 20z\"/>\n",
              "  </svg>\n",
              "      </button>\n",
              "      \n",
              "  <style>\n",
              "    .colab-df-container {\n",
              "      display:flex;\n",
              "      flex-wrap:wrap;\n",
              "      gap: 12px;\n",
              "    }\n",
              "\n",
              "    .colab-df-convert {\n",
              "      background-color: #E8F0FE;\n",
              "      border: none;\n",
              "      border-radius: 50%;\n",
              "      cursor: pointer;\n",
              "      display: none;\n",
              "      fill: #1967D2;\n",
              "      height: 32px;\n",
              "      padding: 0 0 0 0;\n",
              "      width: 32px;\n",
              "    }\n",
              "\n",
              "    .colab-df-convert:hover {\n",
              "      background-color: #E2EBFA;\n",
              "      box-shadow: 0px 1px 2px rgba(60, 64, 67, 0.3), 0px 1px 3px 1px rgba(60, 64, 67, 0.15);\n",
              "      fill: #174EA6;\n",
              "    }\n",
              "\n",
              "    [theme=dark] .colab-df-convert {\n",
              "      background-color: #3B4455;\n",
              "      fill: #D2E3FC;\n",
              "    }\n",
              "\n",
              "    [theme=dark] .colab-df-convert:hover {\n",
              "      background-color: #434B5C;\n",
              "      box-shadow: 0px 1px 3px 1px rgba(0, 0, 0, 0.15);\n",
              "      filter: drop-shadow(0px 1px 2px rgba(0, 0, 0, 0.3));\n",
              "      fill: #FFFFFF;\n",
              "    }\n",
              "  </style>\n",
              "\n",
              "      <script>\n",
              "        const buttonEl =\n",
              "          document.querySelector('#df-2fe3abc4-f5fe-466b-b409-589fa5a55fc9 button.colab-df-convert');\n",
              "        buttonEl.style.display =\n",
              "          google.colab.kernel.accessAllowed ? 'block' : 'none';\n",
              "\n",
              "        async function convertToInteractive(key) {\n",
              "          const element = document.querySelector('#df-2fe3abc4-f5fe-466b-b409-589fa5a55fc9');\n",
              "          const dataTable =\n",
              "            await google.colab.kernel.invokeFunction('convertToInteractive',\n",
              "                                                     [key], {});\n",
              "          if (!dataTable) return;\n",
              "\n",
              "          const docLinkHtml = 'Like what you see? Visit the ' +\n",
              "            '<a target=\"_blank\" href=https://colab.research.google.com/notebooks/data_table.ipynb>data table notebook</a>'\n",
              "            + ' to learn more about interactive tables.';\n",
              "          element.innerHTML = '';\n",
              "          dataTable['output_type'] = 'display_data';\n",
              "          await google.colab.output.renderOutput(dataTable, element);\n",
              "          const docLink = document.createElement('div');\n",
              "          docLink.innerHTML = docLinkHtml;\n",
              "          element.appendChild(docLink);\n",
              "        }\n",
              "      </script>\n",
              "    </div>\n",
              "  </div>\n",
              "  "
            ]
          },
          "metadata": {},
          "execution_count": 42
        }
      ]
    },
    {
      "cell_type": "code",
      "source": [
        "test_db = test_db.rename(columns={'user_ids': 'user_id','item_ids':'item_id','timestamps':'timestamp'})"
      ],
      "metadata": {
        "id": "Z-aO4ITfpjVp"
      },
      "execution_count": 43,
      "outputs": []
    },
    {
      "cell_type": "code",
      "source": [
        "test_db['user_id'] = test_db['user_id'].apply(lambda x : np.int64(x.split(\"_\")[-1]))"
      ],
      "metadata": {
        "id": "Xnu3mp8A_xQY"
      },
      "execution_count": 44,
      "outputs": []
    },
    {
      "cell_type": "code",
      "source": [
        "test_db['timestamp'] = test_db['timestamp'].apply(lambda x: np.int64(time.mktime(datetime.strptime(x,\"%Y-%m-%d %H:%M:%S\").timetuple()) ))"
      ],
      "metadata": {
        "id": "e-qzb3jQ_5up"
      },
      "execution_count": 45,
      "outputs": []
    },
    {
      "cell_type": "code",
      "source": [
        "test_db['item_id'] = test_db['item_id'].apply(lambda x : np.int64(x.split(\"_\")[-1]))"
      ],
      "metadata": {
        "id": "_2LPCDIVpbOe"
      },
      "execution_count": 46,
      "outputs": []
    },
    {
      "cell_type": "code",
      "source": [
        "test_user_seq_log['user_id'] = test_user_seq_log['user_id'].apply(lambda x : np.int64(x.split(\"_\")[-1]))"
      ],
      "metadata": {
        "id": "TjDW790lpyS6"
      },
      "execution_count": 47,
      "outputs": []
    },
    {
      "cell_type": "code",
      "source": [],
      "metadata": {
        "id": "U7K8UuEjBLUC"
      },
      "execution_count": 47,
      "outputs": []
    },
    {
      "cell_type": "code",
      "source": [
        "test_items_timestamps =  test_db[['item_id','timestamp']].values"
      ],
      "metadata": {
        "id": "TAPw7mewAGkC"
      },
      "execution_count": 48,
      "outputs": []
    },
    {
      "cell_type": "code",
      "source": [
        "test_user_seq_log"
      ],
      "metadata": {
        "id": "MW6TlqPfAqGI",
        "colab": {
          "base_uri": "https://localhost:8080/",
          "height": 423
        },
        "outputId": "274fa2ad-9d02-43e7-e50b-5ae07e8d2477"
      },
      "execution_count": 49,
      "outputs": [
        {
          "output_type": "execute_result",
          "data": {
            "text/plain": [
              "        user_id                                     item_timestamp  \\\n",
              "0             0  [[item_766598, 2021-05-05 22:05:21], [item_652...   \n",
              "1             1  [[item_183462, 2021-04-30 13:11:22], [item_374...   \n",
              "2             2  [[item_108368, 2021-05-11 19:41:28], [item_414...   \n",
              "3             3  [[item_520146, 2021-03-13 13:51:46], [item_670...   \n",
              "4             4  [[item_577279, 2021-05-06 23:23:03], [item_374...   \n",
              "...         ...                                                ...   \n",
              "587481   829386  [[item_554650, 2021-05-12 12:55:35], [item_810...   \n",
              "587482   829390  [[item_310178, 2021-05-12 12:56:18], [item_866...   \n",
              "587483   829393  [[item_115233, 2021-05-12 12:56:42], [item_492...   \n",
              "587484   829397  [[item_503200, 2021-05-12 12:58:08], [item_517...   \n",
              "587485   829403  [[item_183824, 2021-05-12 12:59:10], [item_292...   \n",
              "\n",
              "                                                  item_id  \\\n",
              "0       [766598, 65273, 580437, 773271, 580437, 228561...   \n",
              "1       [183462, 374145, 44563, 204302, 110301, 793635...   \n",
              "2       [108368, 41459, 667880, 869425, 932949, 869425...   \n",
              "3       [520146, 670721, 962828, 560874, 181147, 54449...   \n",
              "4       [577279, 374594, 99709, 382452, 747701, 717701...   \n",
              "...                                                   ...   \n",
              "587481           [554650, 810147, 813829, 893014, 130000]   \n",
              "587482  [310178, 866254, 945164, 47147, 851941, 712124...   \n",
              "587483                                   [115233, 492271]   \n",
              "587484                                   [503200, 517483]   \n",
              "587485  [183824, 292633, 167515, 263005, 335217, 62884...   \n",
              "\n",
              "                                                timestamp  length      idx  \n",
              "0       [1620252321, 1620252532, 1620252675, 162025294...      20        0  \n",
              "1       [1619788282, 1619788315, 1619788360, 161978848...      20       20  \n",
              "2       [1620762088, 1620766788, 1620766797, 162076680...      20       40  \n",
              "3       [1615643506, 1615935606, 1616058665, 161610918...      20       60  \n",
              "4       [1620343383, 1620343410, 1620343540, 162034357...      20       80  \n",
              "...                                                   ...     ...      ...  \n",
              "587481  [1620824135, 1620824148, 1620824177, 162082420...       5  7025309  \n",
              "587482  [1620824178, 1620824190, 1620824223, 162082423...       8  7025314  \n",
              "587483                           [1620824202, 1620824207]       2  7025322  \n",
              "587484                           [1620824288, 1620824438]       2  7025324  \n",
              "587485  [1620824350, 1620824402, 1620824419, 162082446...       8  7025326  \n",
              "\n",
              "[587486 rows x 6 columns]"
            ],
            "text/html": [
              "\n",
              "  <div id=\"df-22e1104d-6207-4341-877e-a88de92d23dc\">\n",
              "    <div class=\"colab-df-container\">\n",
              "      <div>\n",
              "<style scoped>\n",
              "    .dataframe tbody tr th:only-of-type {\n",
              "        vertical-align: middle;\n",
              "    }\n",
              "\n",
              "    .dataframe tbody tr th {\n",
              "        vertical-align: top;\n",
              "    }\n",
              "\n",
              "    .dataframe thead th {\n",
              "        text-align: right;\n",
              "    }\n",
              "</style>\n",
              "<table border=\"1\" class=\"dataframe\">\n",
              "  <thead>\n",
              "    <tr style=\"text-align: right;\">\n",
              "      <th></th>\n",
              "      <th>user_id</th>\n",
              "      <th>item_timestamp</th>\n",
              "      <th>item_id</th>\n",
              "      <th>timestamp</th>\n",
              "      <th>length</th>\n",
              "      <th>idx</th>\n",
              "    </tr>\n",
              "  </thead>\n",
              "  <tbody>\n",
              "    <tr>\n",
              "      <th>0</th>\n",
              "      <td>0</td>\n",
              "      <td>[[item_766598, 2021-05-05 22:05:21], [item_652...</td>\n",
              "      <td>[766598, 65273, 580437, 773271, 580437, 228561...</td>\n",
              "      <td>[1620252321, 1620252532, 1620252675, 162025294...</td>\n",
              "      <td>20</td>\n",
              "      <td>0</td>\n",
              "    </tr>\n",
              "    <tr>\n",
              "      <th>1</th>\n",
              "      <td>1</td>\n",
              "      <td>[[item_183462, 2021-04-30 13:11:22], [item_374...</td>\n",
              "      <td>[183462, 374145, 44563, 204302, 110301, 793635...</td>\n",
              "      <td>[1619788282, 1619788315, 1619788360, 161978848...</td>\n",
              "      <td>20</td>\n",
              "      <td>20</td>\n",
              "    </tr>\n",
              "    <tr>\n",
              "      <th>2</th>\n",
              "      <td>2</td>\n",
              "      <td>[[item_108368, 2021-05-11 19:41:28], [item_414...</td>\n",
              "      <td>[108368, 41459, 667880, 869425, 932949, 869425...</td>\n",
              "      <td>[1620762088, 1620766788, 1620766797, 162076680...</td>\n",
              "      <td>20</td>\n",
              "      <td>40</td>\n",
              "    </tr>\n",
              "    <tr>\n",
              "      <th>3</th>\n",
              "      <td>3</td>\n",
              "      <td>[[item_520146, 2021-03-13 13:51:46], [item_670...</td>\n",
              "      <td>[520146, 670721, 962828, 560874, 181147, 54449...</td>\n",
              "      <td>[1615643506, 1615935606, 1616058665, 161610918...</td>\n",
              "      <td>20</td>\n",
              "      <td>60</td>\n",
              "    </tr>\n",
              "    <tr>\n",
              "      <th>4</th>\n",
              "      <td>4</td>\n",
              "      <td>[[item_577279, 2021-05-06 23:23:03], [item_374...</td>\n",
              "      <td>[577279, 374594, 99709, 382452, 747701, 717701...</td>\n",
              "      <td>[1620343383, 1620343410, 1620343540, 162034357...</td>\n",
              "      <td>20</td>\n",
              "      <td>80</td>\n",
              "    </tr>\n",
              "    <tr>\n",
              "      <th>...</th>\n",
              "      <td>...</td>\n",
              "      <td>...</td>\n",
              "      <td>...</td>\n",
              "      <td>...</td>\n",
              "      <td>...</td>\n",
              "      <td>...</td>\n",
              "    </tr>\n",
              "    <tr>\n",
              "      <th>587481</th>\n",
              "      <td>829386</td>\n",
              "      <td>[[item_554650, 2021-05-12 12:55:35], [item_810...</td>\n",
              "      <td>[554650, 810147, 813829, 893014, 130000]</td>\n",
              "      <td>[1620824135, 1620824148, 1620824177, 162082420...</td>\n",
              "      <td>5</td>\n",
              "      <td>7025309</td>\n",
              "    </tr>\n",
              "    <tr>\n",
              "      <th>587482</th>\n",
              "      <td>829390</td>\n",
              "      <td>[[item_310178, 2021-05-12 12:56:18], [item_866...</td>\n",
              "      <td>[310178, 866254, 945164, 47147, 851941, 712124...</td>\n",
              "      <td>[1620824178, 1620824190, 1620824223, 162082423...</td>\n",
              "      <td>8</td>\n",
              "      <td>7025314</td>\n",
              "    </tr>\n",
              "    <tr>\n",
              "      <th>587483</th>\n",
              "      <td>829393</td>\n",
              "      <td>[[item_115233, 2021-05-12 12:56:42], [item_492...</td>\n",
              "      <td>[115233, 492271]</td>\n",
              "      <td>[1620824202, 1620824207]</td>\n",
              "      <td>2</td>\n",
              "      <td>7025322</td>\n",
              "    </tr>\n",
              "    <tr>\n",
              "      <th>587484</th>\n",
              "      <td>829397</td>\n",
              "      <td>[[item_503200, 2021-05-12 12:58:08], [item_517...</td>\n",
              "      <td>[503200, 517483]</td>\n",
              "      <td>[1620824288, 1620824438]</td>\n",
              "      <td>2</td>\n",
              "      <td>7025324</td>\n",
              "    </tr>\n",
              "    <tr>\n",
              "      <th>587485</th>\n",
              "      <td>829403</td>\n",
              "      <td>[[item_183824, 2021-05-12 12:59:10], [item_292...</td>\n",
              "      <td>[183824, 292633, 167515, 263005, 335217, 62884...</td>\n",
              "      <td>[1620824350, 1620824402, 1620824419, 162082446...</td>\n",
              "      <td>8</td>\n",
              "      <td>7025326</td>\n",
              "    </tr>\n",
              "  </tbody>\n",
              "</table>\n",
              "<p>587486 rows × 6 columns</p>\n",
              "</div>\n",
              "      <button class=\"colab-df-convert\" onclick=\"convertToInteractive('df-22e1104d-6207-4341-877e-a88de92d23dc')\"\n",
              "              title=\"Convert this dataframe to an interactive table.\"\n",
              "              style=\"display:none;\">\n",
              "        \n",
              "  <svg xmlns=\"http://www.w3.org/2000/svg\" height=\"24px\"viewBox=\"0 0 24 24\"\n",
              "       width=\"24px\">\n",
              "    <path d=\"M0 0h24v24H0V0z\" fill=\"none\"/>\n",
              "    <path d=\"M18.56 5.44l.94 2.06.94-2.06 2.06-.94-2.06-.94-.94-2.06-.94 2.06-2.06.94zm-11 1L8.5 8.5l.94-2.06 2.06-.94-2.06-.94L8.5 2.5l-.94 2.06-2.06.94zm10 10l.94 2.06.94-2.06 2.06-.94-2.06-.94-.94-2.06-.94 2.06-2.06.94z\"/><path d=\"M17.41 7.96l-1.37-1.37c-.4-.4-.92-.59-1.43-.59-.52 0-1.04.2-1.43.59L10.3 9.45l-7.72 7.72c-.78.78-.78 2.05 0 2.83L4 21.41c.39.39.9.59 1.41.59.51 0 1.02-.2 1.41-.59l7.78-7.78 2.81-2.81c.8-.78.8-2.07 0-2.86zM5.41 20L4 18.59l7.72-7.72 1.47 1.35L5.41 20z\"/>\n",
              "  </svg>\n",
              "      </button>\n",
              "      \n",
              "  <style>\n",
              "    .colab-df-container {\n",
              "      display:flex;\n",
              "      flex-wrap:wrap;\n",
              "      gap: 12px;\n",
              "    }\n",
              "\n",
              "    .colab-df-convert {\n",
              "      background-color: #E8F0FE;\n",
              "      border: none;\n",
              "      border-radius: 50%;\n",
              "      cursor: pointer;\n",
              "      display: none;\n",
              "      fill: #1967D2;\n",
              "      height: 32px;\n",
              "      padding: 0 0 0 0;\n",
              "      width: 32px;\n",
              "    }\n",
              "\n",
              "    .colab-df-convert:hover {\n",
              "      background-color: #E2EBFA;\n",
              "      box-shadow: 0px 1px 2px rgba(60, 64, 67, 0.3), 0px 1px 3px 1px rgba(60, 64, 67, 0.15);\n",
              "      fill: #174EA6;\n",
              "    }\n",
              "\n",
              "    [theme=dark] .colab-df-convert {\n",
              "      background-color: #3B4455;\n",
              "      fill: #D2E3FC;\n",
              "    }\n",
              "\n",
              "    [theme=dark] .colab-df-convert:hover {\n",
              "      background-color: #434B5C;\n",
              "      box-shadow: 0px 1px 3px 1px rgba(0, 0, 0, 0.15);\n",
              "      filter: drop-shadow(0px 1px 2px rgba(0, 0, 0, 0.3));\n",
              "      fill: #FFFFFF;\n",
              "    }\n",
              "  </style>\n",
              "\n",
              "      <script>\n",
              "        const buttonEl =\n",
              "          document.querySelector('#df-22e1104d-6207-4341-877e-a88de92d23dc button.colab-df-convert');\n",
              "        buttonEl.style.display =\n",
              "          google.colab.kernel.accessAllowed ? 'block' : 'none';\n",
              "\n",
              "        async function convertToInteractive(key) {\n",
              "          const element = document.querySelector('#df-22e1104d-6207-4341-877e-a88de92d23dc');\n",
              "          const dataTable =\n",
              "            await google.colab.kernel.invokeFunction('convertToInteractive',\n",
              "                                                     [key], {});\n",
              "          if (!dataTable) return;\n",
              "\n",
              "          const docLinkHtml = 'Like what you see? Visit the ' +\n",
              "            '<a target=\"_blank\" href=https://colab.research.google.com/notebooks/data_table.ipynb>data table notebook</a>'\n",
              "            + ' to learn more about interactive tables.';\n",
              "          element.innerHTML = '';\n",
              "          dataTable['output_type'] = 'display_data';\n",
              "          await google.colab.output.renderOutput(dataTable, element);\n",
              "          const docLink = document.createElement('div');\n",
              "          docLink.innerHTML = docLinkHtml;\n",
              "          element.appendChild(docLink);\n",
              "        }\n",
              "      </script>\n",
              "    </div>\n",
              "  </div>\n",
              "  "
            ]
          },
          "metadata": {},
          "execution_count": 49
        }
      ]
    },
    {
      "cell_type": "code",
      "source": [
        "@nb.jit(nopython=True, cache=True)\n",
        "def inference(row, result_clicks,topk,seq_weight):\n",
        "  for user_id, idx, length in row:\n",
        "    unique_aids = nb.typed.Dict.empty(key_type = nb.types.int64 , value_type= nb.types.float64) \n",
        "    cnt = nb.typed.Dict.empty(key_type= nb.types.int64, value_type = nb.types.float64)\n",
        "\n",
        "    # 최신순부터 거꾸로 배열\n",
        "    #new_item_id = item_id[::-1]\n",
        "    #new_timestamp = timestamp[::-1]\n",
        "    \n",
        "    candidates = test_items_timestamps[idx:idx + length][::-1]\n",
        "\n",
        "    # for a in candidates: \n",
        "    #   unique_aids[a[0]] = 0.0\n",
        "    \n",
        "    # if len(unique_aids) >= 20:\n",
        "    #   sequence_weight = np.power(2 , np.linspace(seq_weight, 1, len(candidates)))[::-1]-1\n",
        "    for a in candidates:\n",
        "      if a[0] not in cnt:\n",
        "        cnt[a[0]] = 0.0\n",
        "      #cnt[a[0]] += w # * 클릭 ,장바구니, 구매에 따른 가중치 추가가능\n",
        "\n",
        "    result_candidates = heap_topk(cnt, 0, len(candidates))\n",
        "    # else:\n",
        "      # result_candidates = list(unique_aids)\n",
        "      # for a in result_candidates:\n",
        "      #   if a not in topk: continue\n",
        "      #   for b in topk[a]:\n",
        "      #     if b in unique_aids: continue\n",
        "      #     if b not in cnt: cnt[b] = 0.0\n",
        "      #     cnt[b] += 1 # 정렬된 topk에서 co-visitation이 높은 아이템을 순서대로 가져와 모자란 길이만큼 채운다\n",
        "      # result_candidates.extend(heap_topk(cnt, 0, 20 - len(result_candidates)))\n",
        "    result_clicks[user_id] = np.array(result_candidates)"
      ],
      "metadata": {
        "id": "mK3zAPI794CP"
      },
      "execution_count": 50,
      "outputs": []
    },
    {
      "cell_type": "code",
      "source": [
        "#result place holder\n",
        "result_clicks = nb.typed.Dict.empty(\n",
        "    key_type = nb.types.int64,\n",
        "    value_type = nb.types.int64[:])\n",
        "result_buy = nb.typed.Dict.empty(\n",
        "    key_type = nb.types.int64,\n",
        "    value_type = nb.types.int64[:]) "
      ],
      "metadata": {
        "id": "IQFwPejyEBCk"
      },
      "execution_count": 51,
      "outputs": []
    },
    {
      "cell_type": "code",
      "source": [],
      "metadata": {
        "colab": {
          "base_uri": "https://localhost:8080/",
          "height": 193
        },
        "id": "WUQqzIRDEPB6",
        "outputId": "acbf12ff-3de6-41d2-dca8-c81f103a0a8d"
      },
      "execution_count": 68,
      "outputs": [
        {
          "output_type": "error",
          "ename": "NameError",
          "evalue": "ignored",
          "traceback": [
            "\u001b[0;31m---------------------------------------------------------------------------\u001b[0m",
            "\u001b[0;31mNameError\u001b[0m                                 Traceback (most recent call last)",
            "\u001b[0;32m<ipython-input-68-e1beb6151a42>\u001b[0m in \u001b[0;36m<module>\u001b[0;34m\u001b[0m\n\u001b[1;32m      1\u001b[0m \u001b[0;32mdel\u001b[0m \u001b[0mtrain_db\u001b[0m\u001b[0;34m\u001b[0m\u001b[0;34m\u001b[0m\u001b[0m\n\u001b[0;32m----> 2\u001b[0;31m \u001b[0;32mdel\u001b[0m \u001b[0mtrain_user_seq_log\u001b[0m\u001b[0;34m\u001b[0m\u001b[0;34m\u001b[0m\u001b[0m\n\u001b[0m",
            "\u001b[0;31mNameError\u001b[0m: name 'train_user_seq_log' is not defined"
          ]
        }
      ]
    },
    {
      "cell_type": "code",
      "source": [],
      "metadata": {
        "id": "zmPmMws82oi0"
      },
      "execution_count": null,
      "outputs": []
    },
    {
      "cell_type": "code",
      "source": [
        "for idx in tqdm(range(0, len(test_user_seq_log), parallel)):\n",
        "  row = test_user_seq_log.iloc[idx:min(idx+parallel , len(test_user_seq_log))][['user_id','idx','length']].values\n",
        "  inference(row , result_clicks,topk,0.1)"
      ],
      "metadata": {
        "colab": {
          "base_uri": "https://localhost:8080/"
        },
        "id": "EdyZMe1dD0Ql",
        "outputId": "e5667339-8756-458a-f82b-2978fe716e9f"
      },
      "execution_count": 52,
      "outputs": [
        {
          "output_type": "stream",
          "name": "stderr",
          "text": [
            "  0%|          | 0/574 [00:00<?, ?it/s]<ipython-input-50-a74ab4cee94a>:1: NumbaWarning: Cannot cache compiled function \"inference\" as it uses dynamic globals (such as ctypes pointers and large global arrays)\n",
            "  @nb.jit(nopython=True, cache=True)\n",
            "100%|██████████| 574/574 [00:02<00:00, 202.77it/s]\n"
          ]
        }
      ]
    },
    {
      "cell_type": "code",
      "source": [
        "test_user_seq_log"
      ],
      "metadata": {
        "colab": {
          "base_uri": "https://localhost:8080/",
          "height": 423
        },
        "id": "D99rVlSCqcyX",
        "outputId": "19611866-6a0b-4a29-b77a-3cd3b65807cf"
      },
      "execution_count": 58,
      "outputs": [
        {
          "output_type": "execute_result",
          "data": {
            "text/plain": [
              "        user_id                                     item_timestamp  \\\n",
              "0             0  [[item_766598, 2021-05-05 22:05:21], [item_652...   \n",
              "1             1  [[item_183462, 2021-04-30 13:11:22], [item_374...   \n",
              "2             2  [[item_108368, 2021-05-11 19:41:28], [item_414...   \n",
              "3             3  [[item_520146, 2021-03-13 13:51:46], [item_670...   \n",
              "4             4  [[item_577279, 2021-05-06 23:23:03], [item_374...   \n",
              "...         ...                                                ...   \n",
              "587481   829386  [[item_554650, 2021-05-12 12:55:35], [item_810...   \n",
              "587482   829390  [[item_310178, 2021-05-12 12:56:18], [item_866...   \n",
              "587483   829393  [[item_115233, 2021-05-12 12:56:42], [item_492...   \n",
              "587484   829397  [[item_503200, 2021-05-12 12:58:08], [item_517...   \n",
              "587485   829403  [[item_183824, 2021-05-12 12:59:10], [item_292...   \n",
              "\n",
              "                                                  item_id  \\\n",
              "0       [766598, 65273, 580437, 773271, 580437, 228561...   \n",
              "1       [183462, 374145, 44563, 204302, 110301, 793635...   \n",
              "2       [108368, 41459, 667880, 869425, 932949, 869425...   \n",
              "3       [520146, 670721, 962828, 560874, 181147, 54449...   \n",
              "4       [577279, 374594, 99709, 382452, 747701, 717701...   \n",
              "...                                                   ...   \n",
              "587481           [554650, 810147, 813829, 893014, 130000]   \n",
              "587482  [310178, 866254, 945164, 47147, 851941, 712124...   \n",
              "587483                                   [115233, 492271]   \n",
              "587484                                   [503200, 517483]   \n",
              "587485  [183824, 292633, 167515, 263005, 335217, 62884...   \n",
              "\n",
              "                                                timestamp  length      idx  \n",
              "0       [1620252321, 1620252532, 1620252675, 162025294...      20        0  \n",
              "1       [1619788282, 1619788315, 1619788360, 161978848...      20       20  \n",
              "2       [1620762088, 1620766788, 1620766797, 162076680...      20       40  \n",
              "3       [1615643506, 1615935606, 1616058665, 161610918...      20       60  \n",
              "4       [1620343383, 1620343410, 1620343540, 162034357...      20       80  \n",
              "...                                                   ...     ...      ...  \n",
              "587481  [1620824135, 1620824148, 1620824177, 162082420...       5  7025309  \n",
              "587482  [1620824178, 1620824190, 1620824223, 162082423...       8  7025314  \n",
              "587483                           [1620824202, 1620824207]       2  7025322  \n",
              "587484                           [1620824288, 1620824438]       2  7025324  \n",
              "587485  [1620824350, 1620824402, 1620824419, 162082446...       8  7025326  \n",
              "\n",
              "[587486 rows x 6 columns]"
            ],
            "text/html": [
              "\n",
              "  <div id=\"df-77669404-3ad1-4bd5-bd6f-9a02ca69b6a0\">\n",
              "    <div class=\"colab-df-container\">\n",
              "      <div>\n",
              "<style scoped>\n",
              "    .dataframe tbody tr th:only-of-type {\n",
              "        vertical-align: middle;\n",
              "    }\n",
              "\n",
              "    .dataframe tbody tr th {\n",
              "        vertical-align: top;\n",
              "    }\n",
              "\n",
              "    .dataframe thead th {\n",
              "        text-align: right;\n",
              "    }\n",
              "</style>\n",
              "<table border=\"1\" class=\"dataframe\">\n",
              "  <thead>\n",
              "    <tr style=\"text-align: right;\">\n",
              "      <th></th>\n",
              "      <th>user_id</th>\n",
              "      <th>item_timestamp</th>\n",
              "      <th>item_id</th>\n",
              "      <th>timestamp</th>\n",
              "      <th>length</th>\n",
              "      <th>idx</th>\n",
              "    </tr>\n",
              "  </thead>\n",
              "  <tbody>\n",
              "    <tr>\n",
              "      <th>0</th>\n",
              "      <td>0</td>\n",
              "      <td>[[item_766598, 2021-05-05 22:05:21], [item_652...</td>\n",
              "      <td>[766598, 65273, 580437, 773271, 580437, 228561...</td>\n",
              "      <td>[1620252321, 1620252532, 1620252675, 162025294...</td>\n",
              "      <td>20</td>\n",
              "      <td>0</td>\n",
              "    </tr>\n",
              "    <tr>\n",
              "      <th>1</th>\n",
              "      <td>1</td>\n",
              "      <td>[[item_183462, 2021-04-30 13:11:22], [item_374...</td>\n",
              "      <td>[183462, 374145, 44563, 204302, 110301, 793635...</td>\n",
              "      <td>[1619788282, 1619788315, 1619788360, 161978848...</td>\n",
              "      <td>20</td>\n",
              "      <td>20</td>\n",
              "    </tr>\n",
              "    <tr>\n",
              "      <th>2</th>\n",
              "      <td>2</td>\n",
              "      <td>[[item_108368, 2021-05-11 19:41:28], [item_414...</td>\n",
              "      <td>[108368, 41459, 667880, 869425, 932949, 869425...</td>\n",
              "      <td>[1620762088, 1620766788, 1620766797, 162076680...</td>\n",
              "      <td>20</td>\n",
              "      <td>40</td>\n",
              "    </tr>\n",
              "    <tr>\n",
              "      <th>3</th>\n",
              "      <td>3</td>\n",
              "      <td>[[item_520146, 2021-03-13 13:51:46], [item_670...</td>\n",
              "      <td>[520146, 670721, 962828, 560874, 181147, 54449...</td>\n",
              "      <td>[1615643506, 1615935606, 1616058665, 161610918...</td>\n",
              "      <td>20</td>\n",
              "      <td>60</td>\n",
              "    </tr>\n",
              "    <tr>\n",
              "      <th>4</th>\n",
              "      <td>4</td>\n",
              "      <td>[[item_577279, 2021-05-06 23:23:03], [item_374...</td>\n",
              "      <td>[577279, 374594, 99709, 382452, 747701, 717701...</td>\n",
              "      <td>[1620343383, 1620343410, 1620343540, 162034357...</td>\n",
              "      <td>20</td>\n",
              "      <td>80</td>\n",
              "    </tr>\n",
              "    <tr>\n",
              "      <th>...</th>\n",
              "      <td>...</td>\n",
              "      <td>...</td>\n",
              "      <td>...</td>\n",
              "      <td>...</td>\n",
              "      <td>...</td>\n",
              "      <td>...</td>\n",
              "    </tr>\n",
              "    <tr>\n",
              "      <th>587481</th>\n",
              "      <td>829386</td>\n",
              "      <td>[[item_554650, 2021-05-12 12:55:35], [item_810...</td>\n",
              "      <td>[554650, 810147, 813829, 893014, 130000]</td>\n",
              "      <td>[1620824135, 1620824148, 1620824177, 162082420...</td>\n",
              "      <td>5</td>\n",
              "      <td>7025309</td>\n",
              "    </tr>\n",
              "    <tr>\n",
              "      <th>587482</th>\n",
              "      <td>829390</td>\n",
              "      <td>[[item_310178, 2021-05-12 12:56:18], [item_866...</td>\n",
              "      <td>[310178, 866254, 945164, 47147, 851941, 712124...</td>\n",
              "      <td>[1620824178, 1620824190, 1620824223, 162082423...</td>\n",
              "      <td>8</td>\n",
              "      <td>7025314</td>\n",
              "    </tr>\n",
              "    <tr>\n",
              "      <th>587483</th>\n",
              "      <td>829393</td>\n",
              "      <td>[[item_115233, 2021-05-12 12:56:42], [item_492...</td>\n",
              "      <td>[115233, 492271]</td>\n",
              "      <td>[1620824202, 1620824207]</td>\n",
              "      <td>2</td>\n",
              "      <td>7025322</td>\n",
              "    </tr>\n",
              "    <tr>\n",
              "      <th>587484</th>\n",
              "      <td>829397</td>\n",
              "      <td>[[item_503200, 2021-05-12 12:58:08], [item_517...</td>\n",
              "      <td>[503200, 517483]</td>\n",
              "      <td>[1620824288, 1620824438]</td>\n",
              "      <td>2</td>\n",
              "      <td>7025324</td>\n",
              "    </tr>\n",
              "    <tr>\n",
              "      <th>587485</th>\n",
              "      <td>829403</td>\n",
              "      <td>[[item_183824, 2021-05-12 12:59:10], [item_292...</td>\n",
              "      <td>[183824, 292633, 167515, 263005, 335217, 62884...</td>\n",
              "      <td>[1620824350, 1620824402, 1620824419, 162082446...</td>\n",
              "      <td>8</td>\n",
              "      <td>7025326</td>\n",
              "    </tr>\n",
              "  </tbody>\n",
              "</table>\n",
              "<p>587486 rows × 6 columns</p>\n",
              "</div>\n",
              "      <button class=\"colab-df-convert\" onclick=\"convertToInteractive('df-77669404-3ad1-4bd5-bd6f-9a02ca69b6a0')\"\n",
              "              title=\"Convert this dataframe to an interactive table.\"\n",
              "              style=\"display:none;\">\n",
              "        \n",
              "  <svg xmlns=\"http://www.w3.org/2000/svg\" height=\"24px\"viewBox=\"0 0 24 24\"\n",
              "       width=\"24px\">\n",
              "    <path d=\"M0 0h24v24H0V0z\" fill=\"none\"/>\n",
              "    <path d=\"M18.56 5.44l.94 2.06.94-2.06 2.06-.94-2.06-.94-.94-2.06-.94 2.06-2.06.94zm-11 1L8.5 8.5l.94-2.06 2.06-.94-2.06-.94L8.5 2.5l-.94 2.06-2.06.94zm10 10l.94 2.06.94-2.06 2.06-.94-2.06-.94-.94-2.06-.94 2.06-2.06.94z\"/><path d=\"M17.41 7.96l-1.37-1.37c-.4-.4-.92-.59-1.43-.59-.52 0-1.04.2-1.43.59L10.3 9.45l-7.72 7.72c-.78.78-.78 2.05 0 2.83L4 21.41c.39.39.9.59 1.41.59.51 0 1.02-.2 1.41-.59l7.78-7.78 2.81-2.81c.8-.78.8-2.07 0-2.86zM5.41 20L4 18.59l7.72-7.72 1.47 1.35L5.41 20z\"/>\n",
              "  </svg>\n",
              "      </button>\n",
              "      \n",
              "  <style>\n",
              "    .colab-df-container {\n",
              "      display:flex;\n",
              "      flex-wrap:wrap;\n",
              "      gap: 12px;\n",
              "    }\n",
              "\n",
              "    .colab-df-convert {\n",
              "      background-color: #E8F0FE;\n",
              "      border: none;\n",
              "      border-radius: 50%;\n",
              "      cursor: pointer;\n",
              "      display: none;\n",
              "      fill: #1967D2;\n",
              "      height: 32px;\n",
              "      padding: 0 0 0 0;\n",
              "      width: 32px;\n",
              "    }\n",
              "\n",
              "    .colab-df-convert:hover {\n",
              "      background-color: #E2EBFA;\n",
              "      box-shadow: 0px 1px 2px rgba(60, 64, 67, 0.3), 0px 1px 3px 1px rgba(60, 64, 67, 0.15);\n",
              "      fill: #174EA6;\n",
              "    }\n",
              "\n",
              "    [theme=dark] .colab-df-convert {\n",
              "      background-color: #3B4455;\n",
              "      fill: #D2E3FC;\n",
              "    }\n",
              "\n",
              "    [theme=dark] .colab-df-convert:hover {\n",
              "      background-color: #434B5C;\n",
              "      box-shadow: 0px 1px 3px 1px rgba(0, 0, 0, 0.15);\n",
              "      filter: drop-shadow(0px 1px 2px rgba(0, 0, 0, 0.3));\n",
              "      fill: #FFFFFF;\n",
              "    }\n",
              "  </style>\n",
              "\n",
              "      <script>\n",
              "        const buttonEl =\n",
              "          document.querySelector('#df-77669404-3ad1-4bd5-bd6f-9a02ca69b6a0 button.colab-df-convert');\n",
              "        buttonEl.style.display =\n",
              "          google.colab.kernel.accessAllowed ? 'block' : 'none';\n",
              "\n",
              "        async function convertToInteractive(key) {\n",
              "          const element = document.querySelector('#df-77669404-3ad1-4bd5-bd6f-9a02ca69b6a0');\n",
              "          const dataTable =\n",
              "            await google.colab.kernel.invokeFunction('convertToInteractive',\n",
              "                                                     [key], {});\n",
              "          if (!dataTable) return;\n",
              "\n",
              "          const docLinkHtml = 'Like what you see? Visit the ' +\n",
              "            '<a target=\"_blank\" href=https://colab.research.google.com/notebooks/data_table.ipynb>data table notebook</a>'\n",
              "            + ' to learn more about interactive tables.';\n",
              "          element.innerHTML = '';\n",
              "          dataTable['output_type'] = 'display_data';\n",
              "          await google.colab.output.renderOutput(dataTable, element);\n",
              "          const docLink = document.createElement('div');\n",
              "          docLink.innerHTML = docLinkHtml;\n",
              "          element.appendChild(docLink);\n",
              "        }\n",
              "      </script>\n",
              "    </div>\n",
              "  </div>\n",
              "  "
            ]
          },
          "metadata": {},
          "execution_count": 58
        }
      ]
    },
    {
      "cell_type": "code",
      "source": [
        "result_clicks[829403]"
      ],
      "metadata": {
        "colab": {
          "base_uri": "https://localhost:8080/"
        },
        "id": "Lh2mcP-JD04K",
        "outputId": "3485b7eb-5ba0-4a51-d65e-8faeb51601ad"
      },
      "execution_count": 50,
      "outputs": [
        {
          "output_type": "execute_result",
          "data": {
            "text/plain": [
              "array([567048, 537578, 628847, 335217, 263005, 167515, 292633, 183824])"
            ]
          },
          "metadata": {},
          "execution_count": 50
        }
      ]
    },
    {
      "cell_type": "code",
      "source": [
        "\n",
        "# 한 아이템에 이 데이터들 저장하는게 5분이면 아주 빠르다 굿 안알려진거라 공유 받은 이거 나만 잘쓰고 있는 걸 수도 드디어 해냈따 자료구조는 컴퓨터과학적으로 생각하고 꼼꼼함을 곁들여서 정성적으로\n",
        "cnts[710805]"
      ],
      "metadata": {
        "id": "51rCTYDCHBm_",
        "colab": {
          "base_uri": "https://localhost:8080/"
        },
        "outputId": "b746afcc-ebff-4a76-c2d8-d6b7e8b4524f"
      },
      "execution_count": 53,
      "outputs": [
        {
          "output_type": "execute_result",
          "data": {
            "text/plain": [
              "DictType[int64,float64]<iv=None>({205108: 974.0, 911302: 24.0, 27526: 434.0, 561965: 24.0, 716642: 66.0, 247703: 70.0, 180739: 40.0, 775306: 99.0, 852611: 108.0, 267761: 19.0, 753713: 506.0, 35296: 1097.0, 310343: 214.0, 487164: 21.0, 129407: 47.0, 102468: 65.0, 883209: 31.0, 556108: 2.0, 153293: 25.0, 399654: 501.0, 569886: 233.0, 146176: 67.0, 764004: 1382.0, 885499: 1456.0, 396738: 458.0, 319370: 433.0, 490906: 3318.0, 424308: 2440.0, 204302: 54.0, 344325: 5.0, 163988: 713.0, 31473: 284.0, 385955: 183.0, 720743: 461.0, 114789: 1284.0, 268392: 36.0, 364964: 56.0, 383142: 10.0, 731240: 6.0, 23674: 68.0, 819060: 62.0, 229779: 58.0, 53796: 47.0, 26553: 24.0, 381746: 24.0, 108179: 13.0, 366524: 34.0, 426840: 201.0, 825840: 142.0, 19529: 349.0, 466540: 125.0, 716120: 8.0, 743305: 145.0, 931859: 30.0, 379100: 13.0, 910858: 12.0, 35791: 4.0, 810648: 2.0, 363368: 170.0, 199691: 53.0, 194914: 423.0, 88696: 104.0, 479021: 49.0, 371235: 578.0, 416605: 65.0, 298705: 35.0, 32355: 76.0, 937224: 12.0, 915327: 1.0, 541704: 8.0, 910133: 24.0, 43009: 116.0, 762: 1.0, 814665: 0.0, 44977: 13.0, 553466: 51.0, 888031: 163.0, 222199: 11.0, 342408: 1.0, 212441: 617.0, 834709: 46.0, 820576: 0.0, 695950: 29.0, 512227: 99.0, 919295: 2.0, 388661: 689.0, 28431: 36.0, 202051: 228.0, 195669: 0.0, 830271: 2.0, 294768: 12.0, 911606: 29.0, 771612: 18.0, 384460: 29.0, 475724: 0.0, 255352: 0.0, 805814: 61.0, 120250: 57.0, 868849: 0.0, 967788: 1.0, 389186: 28.0, 929694: 1.0, 866867: 44.0, 647432: 0.0, 581968: 87.0, 482047: 33.0, 376299: 324.0, 229067: 28.0, 682678: 1.0, 240139: 28.0, 430453: 13.0, 82438: 47.0, 481478: 56.0, 40451: 10.0, 501114: 1.0, 171193: 0.0, 486871: 0.0, 456750: 5.0, 620977: 17.0, 933916: 52.0, 42656: 0.0, 797898: 93.0, 212991: 175.0, 511478: 145.0, 242488: 142.0, 509012: 79.0, 929500: 351.0, 835969: 133.0, 862414: 21.0, 134145: 158.0, 5678: 234.0, 636397: 364.0, 509476: 995.0, 939781: 3.0, 142400: 388.0, 443357: 166.0, 456048: 25.0, 803977: 16.0, 145550: 590.0, 18095: 159.0, 779295: 11.0, 344291: 11.0, 922455: 53.0, 403149: 718.0, 492911: 74.0, 507484: 548.0, 380570: 188.0, 943650: 56.0, 15975: 45.0, 494875: 64.0, 343227: 98.0, 71072: 6.0, 402461: 21.0, 402768: 405.0, 432517: 41.0, 566922: 38.0, 142948: 35.0, 402413: 1067.0, 743937: 798.0, 725738: 193.0, 140343: 264.0, 185225: 490.0, 398583: 191.0, 249495: 98.0, 286818: 89.0, 652716: 502.0, 810252: 24.0, 234859: 30.0, 159522: 13.0, 313949: 776.0, 563605: 237.0, 658751: 127.0, 895274: 15.0, 115351: 174.0, 145696: 33.0, 42773: 50.0, 122712: 219.0, 860364: 73.0, 825815: 113.0, 467585: 43.0, 16263: 216.0, 304508: 126.0, 931950: 29.0, 943114: 58.0, 33968: 91.0, 573189: 276.0, 77385: 78.0, 420352: 1631.0, 554798: 14.0, 602596: 467.0, 35681: 33.0, 353896: 38.0, 798252: 138.0, 701319: 281.0, 780751: 146.0, 735816: 147.0, 26471: 53.0, 813182: 214.0, 571198: 32.0, 197884: 22.0, 706026: 22.0, 87685: 94.0, 336837: 154.0, 19913: 64.0, 27845: 176.0, 946461: 101.0, 276352: 105.0, 359621: 262.0, 310178: 513.0, 829440: 14.0, 252094: 34.0, 645061: 20.0, 820087: 20.0, 916246: 58.0, 841074: 158.0, 852421: 79.0, 133388: 39.0, 241192: 31.0, 885174: 44.0, 120660: 44.0, 336843: 16.0, 37537: 2.0, 396362: 1949.0, 222666: 49.0, 665540: 60.0, 448310: 2.0, 708621: 42.0, 332228: 21.0, 403589: 31.0, 73310: 15.0, 194658: 45.0, 639192: 0.0, 73408: 0.0, 85580: 0.0, 52481: 0.0, 274523: 118.0, 374064: 14.0, 467665: 313.0, 137918: 1178.0, 847814: 388.0, 845006: 51.0, 965117: 195.0, 888904: 139.0, 371684: 146.0, 583980: 54.0, 948247: 76.0, 799852: 22.0, 198775: 400.0, 852470: 282.0, 676343: 71.0, 152604: 1.0, 704216: 406.0, 605548: 80.0, 313453: 25.0, 177519: 85.0, 422623: 20.0, 507964: 24.0, 108408: 328.0, 231851: 3.0, 943612: 8.0, 212191: 89.0, 964741: 40.0, 794020: 207.0, 756051: 23.0, 862176: 76.0, 934620: 222.0, 371346: 77.0, 228625: 190.0, 678345: 297.0, 501841: 6.0, 112543: 8.0, 136231: 325.0, 835644: 10.0, 4693: 114.0, 602711: 185.0, 461691: 252.0, 700535: 32.0, 198233: 26.0, 676875: 54.0, 643986: 99.0, 478683: 48.0, 755484: 15.0, 432156: 213.0, 429542: 0.0, 555973: 5.0, 410252: 12.0, 813632: 16.0, 462172: 146.0, 17298: 161.0, 138580: 43.0, 379717: 168.0, 491358: 67.0, 889884: 83.0, 601479: 307.0, 927129: 124.0, 601460: 3049.0, 498005: 12.0, 130125: 7.0, 249235: 15.0, 583645: 158.0, 894337: 28.0, 640101: 91.0, 54442: 67.0, 708929: 65.0, 431160: 64.0, 433569: 44.0, 89403: 0.0, 709629: 31.0, 205605: 78.0, 258793: 11.0, 268693: 78.0, 455201: 0.0, 492799: 1.0, 256730: 34.0, 213264: 1.0, 598411: 0.0, 215636: 0.0, 333011: 3.0, 321140: 15.0, 872547: 0.0, 378814: 0.0, 678140: 5.0, 452971: 40.0, 274138: 17.0, 576717: 4.0, 153718: 0.0, 75739: 3.0, 451337: 0.0, 422386: 556.0, 794131: 10.0, 665842: 48.0, 850010: 0.0, 696041: 3.0, 349798: 0.0, 143862: 0.0, 149923: 6.0, 153178: 0.0, 750049: 1472.0, 364348: 8.0, 480460: 9.0, 48468: 0.0, 12530: 47.0, 318066: 25.0, 728876: 32.0, 583519: 41.0, 750715: 39.0, 644912: 39.0, 153255: 45.0, 452872: 167.0, 535897: 302.0, 847734: 4019.0, 635858: 179.0, 929791: 346.0, 596952: 118.0, 923153: 0.0, 219577: 141.0, 866819: 2532.0, 434636: 144.0, 246836: 2928.0, 465062: 506.0, 456820: 112.0, 529349: 124.0, 98449: 72.0, 224949: 1010.0, 849723: 1198.0, 187608: 1812.0, 145353: 1095.0, 657227: 1761.0, 724560: 385.0, 529708: 308.0, 902766: 210.0, 637814: 53.0, 769043: 4.0, 725396: 2.0, 308813: 1238.0, 881471: 775.0, 426509: 16.0, 744091: 5.0, 692893: 30.0, 667880: 175.0, 622704: 31.0, 607050: 28.0, 613912: 45.0, 587532: 4.0, 92539: 4.0, 858022: 8.0, 114377: 4.0, 312285: 46.0, 274977: 18.0, 360086: 0.0, 831875: 5.0, 539042: 10.0, 718389: 0.0, 910224: 216.0, 518702: 96.0, 40577: 29.0, 67040: 21.0, 140840: 5.0, 850682: 21.0, 401502: 0.0, 759280: 7.0, 886241: 0.0, 297485: 0.0, 913754: 0.0, 845925: 102.0, 488099: 206.0, 25624: 16.0, 28643: 353.0, 455999: 85.0, 333528: 60.0, 348031: 157.0, 919616: 16.0, 128994: 7.0, 686505: 96.0, 692137: 9.0, 716050: 107.0, 164634: 0.0, 696266: 8.0, 72753: 5.0, 306243: 61.0, 375763: 31.0, 590035: 5.0, 28644: 1101.0, 404792: 913.0, 232869: 1127.0, 193309: 253.0, 378540: 40.0, 420464: 43.0, 527833: 0.0, 586736: 0.0, 237676: 55.0, 773543: 338.0, 8800: 145.0, 10251: 398.0, 584075: 388.0, 37975: 747.0, 766861: 213.0, 423491: 331.0, 146747: 300.0, 375294: 273.0, 824169: 328.0, 371468: 15.0, 732308: 10.0, 579456: 35.0, 798900: 4.0, 160949: 32.0, 478154: 1.0, 323083: 6.0, 759264: 5.0, 489604: 34.0, 967231: 6.0, 618141: 2.0, 292876: 17.0, 622386: 8.0, 582303: 0.0, 186071: 4.0, 370874: 16.0, 819926: 40.0, 16799: 39.0, 57317: 11.0, 118045: 4.0, 644028: 8.0, 364917: 6.0, 712656: 0.0, 529265: 20.0, 506822: 8.0, 716288: 1.0, 730233: 1.0, 482887: 174.0, 710942: 1.0, 553950: 7.0, 632664: 0.0, 760675: 13.0, 329748: 0.0, 15727: 0.0, 911626: 5.0, 773146: 8.0, 184447: 10.0, 232640: 301.0, 16431: 10.0, 291262: 0.0, 831257: 4.0, 86226: 2.0, 608378: 2.0, 348904: 5.0, 80641: 10.0, 356205: 0.0, 72096: 12.0, 965250: 0.0, 628445: 126.0, 567569: 891.0, 968178: 604.0, 159950: 245.0, 463347: 47.0, 674045: 120.0, 673165: 133.0, 876582: 294.0, 722418: 64.0, 312770: 230.0, 460815: 52.0, 546224: 50.0, 141845: 92.0, 188592: 26.0, 322861: 41.0, 422898: 34.0, 105530: 22.0, 886823: 58.0, 503377: 21.0, 396473: 15.0, 813829: 89.0, 609110: 150.0, 545659: 15.0, 556002: 8.0, 945512: 4.0, 882036: 35.0, 716307: 5.0, 788975: 44.0, 10660: 13.0, 394521: 171.0, 758491: 19.0, 501594: 108.0, 395697: 120.0, 491499: 25.0, 854081: 131.0, 598494: 9.0, 790281: 101.0, 75373: 33.0, 695719: 60.0, 951571: 4.0, 33569: 38.0, 280538: 33.0, 785594: 18.0, 907236: 24.0, 416899: 88.0, 797209: 184.0, 581761: 102.0, 960318: 96.0, 937350: 26.0, 154456: 3.0, 621800: 105.0, 269623: 771.0, 681727: 87.0, 256144: 24.0, 651032: 12.0, 424145: 39.0, 52936: 29.0, 90983: 3.0, 799195: 37.0, 45974: 1196.0, 52948: 24.0, 770985: 188.0, 753621: 128.0, 797175: 5.0, 563373: 22.0, 13068: 5.0, 741619: 5.0, 734473: 8.0, 426141: 101.0, 904115: 68.0, 334254: 6.0, 287195: 51.0, 90017: 3.0, 811912: 0.0, 681671: 266.0, 642374: 4.0, 60403: 7.0, 591848: 196.0, 496868: 172.0, 407904: 342.0, 240551: 166.0, 474572: 39.0, 613956: 56.0, 561979: 33.0, 42399: 58.0, 102314: 13.0, 689774: 127.0, 87015: 261.0, 777101: 49.0, 71188: 68.0, 752205: 10.0, 465559: 61.0, 82813: 47.0, 304498: 48.0, 209195: 232.0, 898865: 3.0, 492720: 29.0, 211392: 75.0, 730003: 72.0, 817003: 65.0, 15525: 186.0, 172257: 36.0, 874942: 19.0, 922611: 0.0, 278367: 0.0, 921655: 0.0, 139387: 3.0, 759644: 0.0, 550618: 6.0, 553985: 4.0, 321886: 3.0, 212567: 5.0, 627205: 49.0, 398939: 1.0, 149708: 10.0, 522061: 116.0, 260139: 72.0, 235320: 53.0, 814451: 25.0, 839777: 341.0, 822512: 123.0, 833065: 6.0, 908692: 0.0, 461471: 0.0, 926244: 86.0, 613403: 16.0, 817414: 28.0, 406780: 30.0, 326757: 178.0, 526088: 142.0, 309086: 34.0, 342172: 1.0, 904041: 1.0, 407712: 0.0, 791515: 12.0, 369842: 16.0, 112326: 0.0, 336599: 60.0, 908036: 5.0, 939946: 29.0, 725533: 554.0, 395096: 34.0, 75742: 52.0, 716847: 3.0, 370427: 46.0, 357846: 0.0, 163499: 22.0, 338790: 20.0, 721708: 41.0, 420873: 50.0, 967913: 27.0, 134242: 5.0, 727198: 12.0, 967909: 15.0, 346279: 56.0, 934743: 133.0, 280114: 0.0, 881132: 959.0, 303325: 445.0, 497479: 9.0, 770174: 84.0, 77711: 26.0, 325603: 2.0, 494088: 5.0, 920984: 1.0, 657024: 1.0, 182873: 10.0, 259995: 23.0, 187869: 2.0, 396803: 3.0, 398756: 1.0, 855523: 36.0, 350003: 3.0, 650644: 14.0, 38595: 1.0, 744434: 2.0, 677232: 1.0, 696949: 8.0, 114794: 9.0, 736093: 2.0, 44000: 20.0, 474948: 1.0, 130955: 1.0, 405565: 1.0, 877912: 129.0, 745203: 189.0, 188399: 16.0, 11080: 55.0, 119287: 32.0, 251999: 1.0, 444166: 4.0, 795126: 72.0, 483184: 46.0, 807937: 24.0, 581477: 82.0, 224795: 12.0, 558960: 30.0, 358905: 36.0, 604302: 24.0, 412160: 7.0, 79185: 38.0, 61812: 106.0, 372113: 91.0, 580618: 20.0, 769373: 2.0, 514940: 638.0, 48729: 4.0, 944518: 63.0, 71732: 4.0, 303519: 28.0, 252095: 6.0, 264943: 76.0, 701178: 120.0, 135925: 14.0, 11819: 27.0, 727534: 19.0, 684954: 3.0, 503560: 13.0, 688132: 4.0, 275897: 0.0, 963283: 85.0, 526374: 11.0, 723886: 35.0, 622567: 242.0, 656134: 59.0, 538954: 13.0, 215263: 756.0, 499571: 884.0, 817078: 334.0, 932949: 508.0, 553542: 222.0, 480112: 378.0, 694456: 70.0, 797235: 61.0, 954960: 13.0, 915559: 119.0, 174022: 78.0, 415275: 32.0, 621482: 34.0, 79287: 23.0, 227980: 36.0, 10808: 30.0, 416351: 5.0, 719981: 23.0, 576396: 9.0, 878115: 4.0, 308663: 3.0, 765606: 1.0, 944105: 73.0, 782289: 301.0, 721372: 15.0, 645013: 3.0, 126199: 6.0, 819369: 6.0, 960327: 411.0, 759126: 1.0, 716622: 7.0, 160375: 53.0, 204891: 73.0, 421200: 109.0, 128783: 10.0, 799906: 1.0, 912614: 5.0, 376083: 4.0, 412889: 44.0, 443232: 383.0, 32794: 84.0, 678142: 55.0, 53184: 245.0, 643983: 215.0, 938309: 66.0, 636202: 86.0, 619922: 82.0, 309497: 42.0, 121360: 12.0, 366416: 6.0, 775222: 7.0, 900276: 0.0, 184721: 35.0, 222095: 97.0, 543981: 14.0, 278199: 47.0, 93689: 325.0, 370053: 2.0, 221755: 62.0, 588508: 207.0, 583737: 240.0, 652865: 49.0, 238535: 131.0, 557622: 57.0, 677620: 15.0, 625464: 7.0, 656489: 273.0, 658810: 409.0, 300957: 191.0, 930666: 99.0, 752295: 61.0, 902588: 4.0, 687531: 5.0, 868081: 4.0, 236507: 0.0, 87374: 11.0, 180001: 3.0, 700237: 0.0, 668785: 10.0, 623519: 80.0, 110241: 249.0, 511054: 282.0, 270167: 567.0, 525619: 597.0, 817838: 2.0, 847047: 2.0, 28458: 6.0, 897525: 2.0, 397880: 6.0, 82144: 15.0, 555079: 13.0, 179372: 498.0, 548761: 1.0, 147347: 2.0, 832998: 242.0, 703115: 1.0, 550752: 12.0, 556854: 23.0, 52799: 0.0, 829497: 0.0, 79386: 3.0, 946996: 14.0, 428958: 0.0, 814313: 31.0, 533789: 3.0, 671820: 0.0, 968522: 7.0, 602805: 3.0, 29165: 0.0, 482690: 4.0, 537578: 4.0, 560528: 0.0, 587996: 5.0, 245735: 399.0, 566858: 926.0, 859788: 4.0, 803956: 2.0, 910290: 5.0, 464176: 58.0, 339105: 23.0, 387172: 45.0, 469993: 76.0, 385830: 39.0, 400698: 13.0, 375548: 0.0, 961127: 29.0, 894111: 57.0, 655694: 3.0, 70139: 27.0, 444848: 125.0, 583182: 1399.0, 788639: 121.0, 61287: 10.0, 307360: 6.0, 713604: 27.0, 718884: 14.0, 951826: 12.0, 782923: 98.0, 839461: 87.0, 302979: 0.0, 564974: 267.0, 157751: 225.0, 651348: 20.0, 43909: 25.0, 547561: 18.0, 739017: 1.0, 318447: 6.0, 811026: 40.0, 951008: 0.0, 343638: 9.0, 538301: 0.0, 263159: 915.0, 370092: 57.0, 228347: 137.0, 651738: 229.0, 321837: 27.0, 488543: 42.0, 413175: 59.0, 700811: 190.0, 652671: 89.0, 883083: 542.0, 397712: 69.0, 392607: 958.0, 279504: 59.0, 59544: 110.0, 779284: 166.0, 650156: 32.0, 304611: 183.0, 816623: 33.0, 532467: 26.0, 316484: 137.0, 749814: 5.0, 591423: 8.0, 411037: 4.0, 823431: 3.0, 395387: 3.0, 814342: 0.0, 742620: 0.0, 120338: 0.0, 518308: 0.0, 512702: 47.0, 363656: 0.0, 186876: 0.0, 612907: 259.0, 361915: 33.0, 502270: 1.0, 146267: 0.0, 924826: 0.0, 772607: 0.0, 670287: 4.0, 625629: 0.0, 474267: 0.0, 226156: 170.0, 297524: 13.0, 61090: 6.0, 22700: 738.0, 366266: 181.0, 949966: 43.0, 572053: 47.0, 507839: 138.0, 914628: 188.0, 815871: 68.0, 905688: 123.0, 867888: 325.0, 768703: 16.0, 848294: 71.0, 962932: 0.0, 863690: 0.0, 434326: 0.0, 128888: 0.0, 692409: 0.0, 904127: 12.0, 509519: 0.0, 751178: 0.0, 108551: 0.0, 517517: 98.0, 784311: 16.0, 371892: 6.0, 160921: 34.0, 55899: 21.0, 570711: 3.0, 751009: 42.0, 403188: 144.0, 829348: 13.0, 88976: 1.0, 466690: 35.0, 493067: 102.0, 879998: 138.0, 829564: 181.0, 183135: 32.0, 514173: 35.0, 466619: 109.0, 175966: 139.0, 335570: 20.0, 408619: 16.0, 397743: 20.0, 613841: 16.0, 728423: 91.0, 398720: 151.0, 669571: 65.0, 486989: 9.0, 758585: 544.0, 399089: 375.0, 785029: 160.0, 653718: 56.0, 176714: 128.0, 326348: 36.0, 483644: 91.0, 962510: 0.0, 653494: 11.0, 517977: 79.0, 270460: 26.0, 656456: 48.0, 823611: 73.0, 307640: 54.0, 948889: 50.0, 452819: 105.0, 511594: 28.0, 501662: 56.0, 503157: 151.0, 495302: 150.0, 222776: 82.0, 533155: 0.0, 724145: 0.0, 398119: 7.0, 757508: 3.0, 333929: 2.0, 733858: 8.0, 950714: 0.0, 765643: 0.0, 460642: 3.0, 799650: 9.0, 275041: 0.0, 454761: 20.0, 968606: 12.0, 271847: 17.0, 498215: 32.0, 824013: 24.0, 270411: 51.0, 170634: 1.0, 858286: 9.0, 346822: 12.0, 609394: 93.0, 133564: 10.0, 412176: 1.0, 711789: 36.0, 590239: 12.0, 667566: 3.0, 159963: 0.0, 786489: 9.0, 888866: 4.0, 383039: 15.0, 846246: 113.0, 180580: 57.0, 820142: 63.0, 606916: 171.0, 405817: 191.0, 965007: 28.0, 180229: 248.0, 99239: 44.0, 167165: 14.0, 191958: 49.0, 570874: 41.0, 385006: 0.0, 228398: 19.0, 171177: 29.0, 661874: 15.0, 491356: 11.0, 7041: 5.0, 67293: 57.0, 636407: 152.0, 479804: 37.0, 761754: 78.0, 419342: 63.0, 506724: 63.0, 97192: 29.0, 634636: 6.0, 353870: 42.0, 559260: 1.0, 287846: 54.0, 523427: 41.0, 536141: 5.0, 457398: 7.0, 4990: 8.0, 813732: 176.0, 65885: 267.0, 464521: 8.0, 35053: 19.0, 739245: 0.0, 422887: 93.0, 779943: 15.0, 236584: 3.0, 329615: 19.0, 963364: 18.0, 506908: 219.0, 491282: 0.0, 29817: 11.0, 912344: 0.0, 915842: 10.0, 272408: 19.0, 892232: 4.0, 38899: 2.0, 605565: 3.0, 215543: 5.0, 736368: 13.0, 45087: 0.0, 948101: 0.0, 3647: 3.0, 582742: 0.0, 964521: 5.0, 232051: 5.0, 187038: 0.0, 913289: 0.0, 508214: 0.0, 683910: 0.0, 44485: 49.0, 927732: 0.0, 280935: 15.0, 345330: 12.0, 295410: 4.0, 356010: 25.0, 917689: 383.0, 120683: 14.0, 911474: 90.0, 42616: 45.0, 791568: 154.0, 34131: 83.0, 861559: 44.0, 894319: 31.0, 122598: 22.0, 692205: 5.0, 623094: 5.0, 881729: 19.0, 863309: 0.0, 890406: 9.0, 108792: 16.0, 871573: 0.0, 209268: 25.0, 755795: 24.0, 732505: 17.0, 526173: 17.0, 465911: 1.0, 195820: 5.0, 576898: 14.0, 444474: 285.0, 882927: 27.0, 169591: 32.0, 218108: 1.0, 246239: 4.0, 282528: 0.0, 64800: 0.0, 22110: 2.0, 742173: 0.0, 594147: 37.0, 359257: 90.0, 193049: 0.0, 102354: 33.0, 96683: 56.0, 583193: 70.0, 126757: 221.0, 182880: 73.0, 478536: 36.0, 589812: 77.0, 897351: 11.0, 134060: 52.0, 434670: 157.0, 46379: 61.0, 875864: 78.0, 58949: 56.0, 799523: 106.0, 585746: 72.0, 43846: 30.0, 479745: 7.0, 333375: 32.0, 877928: 248.0, 289547: 29.0, 347024: 111.0, 329485: 7.0, 602787: 99.0, 204255: 126.0, 852980: 20.0, 724786: 88.0, 937841: 46.0, 158210: 4.0, 85876: 1.0, 214133: 1.0, 163956: 1.0, 200645: 1.0, 306802: 1.0, 290859: 1.0, 534633: 36.0, 763853: 22.0, 201604: 182.0, 371769: 33.0, 686987: 6.0, 190645: 42.0, 96491: 130.0, 631943: 10.0, 657733: 102.0, 159051: 16.0, 208929: 1.0, 506143: 3.0, 544299: 7.0, 660683: 120.0, 450365: 62.0, 316586: 5.0, 369459: 106.0, 622365: 54.0, 590078: 105.0, 570436: 122.0, 229778: 66.0, 563569: 14.0, 722518: 1.0, 724677: 50.0, 943334: 40.0, 642873: 12.0, 489868: 4.0, 945693: 59.0, 477212: 13.0, 497618: 12.0, 785265: 4.0, 905216: 3.0, 691686: 5.0, 287473: 84.0, 88024: 14.0, 911627: 1.0, 905819: 158.0, 915384: 18.0, 663686: 3.0, 126317: 0.0, 509191: 0.0, 617764: 5.0, 920792: 18.0, 29838: 23.0, 691028: 186.0, 789981: 26.0, 648292: 36.0, 358850: 4.0, 212323: 0.0, 697831: 12.0, 427934: 321.0, 652842: 163.0, 28227: 47.0, 774875: 2.0, 138197: 39.0, 789980: 21.0, 832706: 71.0, 749813: 56.0, 383567: 9.0, 506451: 19.0, 285008: 0.0, 889443: 111.0, 863495: 96.0, 602567: 124.0, 473469: 249.0, 145541: 325.0, 253141: 28.0, 850711: 27.0, 775684: 117.0, 795934: 108.0, 315456: 62.0, 329964: 61.0, 459061: 38.0, 244515: 5.0, 334924: 1.0, 497117: 0.0, 889021: 4.0, 888811: 0.0, 657091: 37.0, 417289: 8.0, 935406: 0.0, 764891: 3.0, 580800: 0.0, 384541: 2.0, 145417: 46.0, 682115: 10.0, 849821: 9.0, 201281: 8.0, 746739: 11.0, 111522: 5.0, 725074: 16.0, 637744: 46.0, 669290: 14.0, 521364: 96.0, 168299: 0.0, 47069: 0.0, 870204: 0.0, 915135: 11.0, 818914: 0.0, 223654: 36.0, 603852: 26.0, 659020: 4.0, 525414: 0.0, 367529: 4.0, 223364: 1.0, 488338: 1.0, 171139: 0.0, 112722: 44.0, 413878: 1.0, 3711: 3.0, 794387: 5.0, 722168: 4.0, 710207: 0.0, 747864: 9.0, 436712: 4.0, 337188: 359.0, 677854: 11.0, 664786: 11.0, 175484: 114.0, 143588: 35.0, 195272: 5.0, 739453: 0.0, 307040: 8.0, 274548: 37.0, 781120: 0.0, 170016: 0.0, 683189: 0.0, 911987: 0.0, 675780: 0.0, 414310: 357.0, 203195: 2.0, 167635: 101.0, 709823: 135.0, 93693: 21.0, 856413: 185.0, 580553: 10.0, 69230: 76.0, 233475: 29.0, 908604: 181.0, 430431: 7.0, 178811: 24.0, 706165: 13.0, 578602: 135.0, 103742: 29.0, 595471: 15.0, 310295: 97.0, 25348: 14.0, 692132: 54.0, 577371: 74.0, 782418: 16.0, 431779: 4.0, 720722: 34.0, 379254: 58.0, 810955: 4.0, 604784: 8.0, 525933: 8.0, 820181: 69.0, 894722: 4.0, 113074: 0.0, 319555: 0.0, 812979: 0.0, 741848: 0.0, 131836: 14.0, 796572: 21.0, 550583: 21.0, 34101: 24.0, 23170: 36.0, 432844: 9.0, 6715: 22.0, 432738: 36.0, 418854: 209.0, 325622: 117.0, 453003: 60.0, 448194: 23.0, 929196: 2.0, 432382: 11.0, 558118: 27.0, 359305: 0.0, 816693: 8.0, 471195: 23.0, 671857: 16.0, 34970: 16.0, 747677: 0.0, 441709: 24.0, 767958: 2.0, 353388: 1.0, 805585: 55.0, 577624: 368.0, 1833: 82.0, 402380: 371.0, 505038: 82.0, 930329: 4.0, 504814: 4.0, 510371: 7.0, 771166: 7.0, 603177: 7.0, 116898: 12.0, 517442: 11.0, 916166: 5.0, 349968: 6.0, 419601: 10.0, 260116: 3.0, 282032: 148.0, 949460: 19.0, 826618: 2.0, 247608: 13.0, 306718: 36.0, 492805: 29.0, 333448: 2.0, 92085: 1.0, 608101: 7.0, 796802: 4.0, 219667: 2.0, 384551: 17.0, 706245: 28.0, 129508: 14.0, 289649: 19.0, 767729: 5.0, 204082: 0.0, 60384: 25.0, 421024: 134.0, 102364: 33.0, 765529: 77.0, 668644: 136.0, 312364: 66.0, 476618: 88.0, 20711: 97.0, 616220: 18.0, 829689: 26.0, 194695: 14.0, 323496: 7.0, 413114: 1.0, 282988: 94.0, 484306: 539.0, 121905: 549.0, 51849: 67.0, 872776: 31.0, 381961: 17.0, 416302: 32.0, 741759: 24.0, 412890: 13.0, 717478: 20.0, 554259: 32.0, 442378: 41.0, 718552: 37.0, 178740: 15.0, 493045: 9.0, 840304: 14.0, 145336: 0.0, 837945: 0.0, 774182: 1.0, 844811: 13.0, 696323: 16.0, 246981: 8.0, 605160: 33.0, 650425: 35.0, 251738: 37.0, 444936: 3.0, 803058: 66.0, 290065: 15.0, 141676: 28.0, 896445: 21.0, 140623: 134.0, 157215: 142.0, 149307: 27.0, 360121: 0.0, 139765: 0.0, 84381: 14.0, 448349: 4.0, 799013: 7.0, 169813: 0.0, 514810: 1.0, 949970: 13.0, 754279: 6.0, 691076: 7.0, 873272: 0.0, 861959: 0.0, 918901: 13.0, 63255: 14.0, 397127: 3.0, 453078: 36.0, 422861: 26.0, 358058: 15.0, 419516: 53.0, 417105: 5.0, 688739: 9.0, 208055: 73.0, 784458: 33.0, 317410: 70.0, 222025: 0.0, 882569: 0.0, 129290: 0.0, 641013: 0.0, 709496: 0.0, 928115: 0.0, 654493: 4.0, 749890: 0.0, 735273: 4.0, 421108: 21.0, 146055: 31.0, 155978: 22.0, 319933: 22.0, 923625: 0.0, 264565: 7.0, 492964: 3.0, 178841: 9.0, 460971: 11.0, 796992: 20.0, 29393: 3.0, 409392: 11.0, 390937: 20.0, 364449: 47.0, 266212: 4.0, 699361: 72.0, 563066: 105.0, 144213: 9.0, 18034: 11.0, 190176: 17.0, 783370: 21.0, 545924: 427.0, 386411: 1.0, 863306: 13.0, 802732: 18.0, 564555: 24.0, 399727: 74.0, 720490: 46.0, 895414: 19.0, 938476: 1.0, 927815: 13.0, 599719: 2.0, 349340: 3.0, 263657: 12.0, 757375: 0.0, 898783: 3.0, 383047: 11.0, 395654: 1.0, 628283: 4.0, 498025: 46.0, 369215: 9.0, 503065: 161.0, 762840: 206.0, 844266: 12.0, 344131: 46.0, 358516: 0.0, 709875: 0.0, 52189: 0.0, 236863: 0.0, 552833: 0.0, 87617: 0.0, 430345: 0.0, 620618: 0.0, 540500: 0.0, 810329: 34.0, 207928: 0.0, 798467: 5.0, 454030: 10.0, 589598: 10.0, 791993: 13.0, 558428: 6.0, 151527: 3.0, 391223: 8.0, 191633: 277.0, 1523: 137.0, 441164: 150.0, 602394: 0.0, 147628: 15.0, 369422: 80.0, 968681: 1.0, 628992: 15.0, 59422: 18.0, 730440: 13.0, 572937: 21.0, 607681: 13.0, 141520: 59.0, 469295: 11.0, 168252: 32.0, 347159: 49.0, 862557: 5.0, 187489: 4.0, 171244: 15.0, 832922: 82.0, 808554: 0.0, 819351: 16.0, 943700: 30.0, 433753: 4.0, 142704: 7.0, 273753: 9.0, 841322: 1.0, 590120: 3.0, 362953: 10.0, 599466: 9.0, 375961: 5.0, 797444: 39.0, 592289: 5.0, 209958: 4.0, 53724: 26.0, 931784: 1.0, 765632: 5.0, 962227: 4.0, 964716: 39.0, 532160: 74.0, 65685: 11.0, 682098: 6.0, 167221: 8.0, 825309: 56.0, 892441: 219.0, 589004: 2.0, 39324: 7.0, 230485: 8.0, 809127: 1.0, 703337: 1.0, 622543: 14.0, 765727: 10.0, 196339: 1.0, 252057: 10.0, 744335: 27.0, 908048: 2.0, 748069: 1.0, 263611: 4.0, 577779: 4.0, 41507: 8.0, 857650: 0.0, 933506: 7.0, 487184: 0.0, 166692: 9.0, 485691: 85.0, 737440: 5.0, 949043: 48.0, 700466: 11.0, 682304: 5.0, 818770: 118.0, 942758: 1.0, 380988: 1.0, 539426: 3.0, 67237: 3.0, 382319: 3.0, 939717: 3.0, 631826: 8.0, 852967: 17.0, 179338: 19.0, 627886: 63.0, 66884: 16.0, 128665: 157.0, 556602: 1.0, 800422: 23.0, 939477: 27.0, 836496: 164.0, 228561: 7.0, 217561: 12.0, 156185: 12.0, 550319: 1.0, 807678: 1.0, 753440: 25.0, 184861: 3.0, 808498: 1.0, 668474: 22.0, 453174: 4.0, 434280: 2.0, 772326: 11.0, 159980: 1.0, 96167: 3.0, 466128: 14.0, 926636: 2.0, 758357: 1.0, 128050: 26.0, 754133: 1.0, 25629: 0.0, 46406: 1.0, 746043: 1.0, 413250: 4.0, 864913: 6.0, 958496: 1.0, 172152: 1.0, 870775: 1.0, 247388: 1.0, 218165: 1.0, 312020: 1.0, 426899: 1.0, 617086: 1.0, 847951: 1.0, 19876: 1.0, 37449: 0.0, 437840: 24.0, 859536: 29.0, 580929: 0.0, 338424: 0.0, 291821: 0.0, 709152: 9.0, 77086: 5.0, 11476: 0.0, 197741: 0.0, 587097: 0.0, 718248: 0.0, 304842: 0.0, 120340: 0.0, 654098: 0.0, 45036: 1.0, 308166: 0.0, 498826: 0.0, 916890: 177.0, 755144: 0.0, 913747: 0.0, 937030: 0.0, 109972: 0.0, 551514: 44.0, 647443: 158.0, 479146: 4.0, 881076: 58.0, 93457: 7.0, 852928: 1.0, 407633: 5.0, 883675: 5.0, 351104: 11.0, 566359: 3.0, 663812: 5.0, 923376: 30.0, 689769: 6.0, 348263: 14.0, 925709: 0.0, 838172: 15.0, 932104: 7.0, 895516: 1.0, 562660: 1.0, 309908: 21.0, 251407: 8.0, 245829: 0.0, 850269: 0.0, 821404: 3.0, 175635: 0.0, 698575: 8.0, 490353: 0.0, 723185: 1.0, 430371: 0.0, 900447: 23.0, 297316: 213.0, 742771: 0.0, 949882: 0.0, 443438: 118.0, 378407: 8.0, 317219: 15.0, 105574: 31.0, 832057: 38.0, 935638: 16.0, 735343: 13.0, 375052: 3.0, 740382: 3.0, 942000: 4.0, 670479: 13.0, 708272: 24.0, 533870: 40.0, 335193: 56.0, 195046: 5.0, 797781: 2.0, 573503: 5.0, 274936: 3.0, 265734: 17.0, 603466: 79.0, 396268: 1.0, 619592: 5.0, 503431: 0.0, 644121: 17.0, 469451: 10.0, 441783: 17.0, 478586: 18.0, 946589: 25.0, 450885: 10.0, 958661: 12.0, 843651: 10.0, 106211: 5.0, 477985: 57.0, 27093: 63.0, 156102: 41.0, 625247: 9.0, 790156: 6.0, 818052: 3.0, 161020: 22.0, 144984: 2.0, 655850: 2.0, 784005: 114.0, 128322: 5.0, 773644: 7.0, 434815: 4.0, 100875: 5.0, 631307: 14.0, 604672: 36.0, 860681: 80.0, 749417: 8.0, 259354: 3.0, 159982: 12.0, 847710: 7.0, 772497: 3.0, 574301: 0.0, 400931: 0.0, 384693: 17.0, 429225: 13.0, 904198: 39.0, 365904: 23.0, 962621: 1.0, 698190: 78.0, 591294: 73.0, 685184: 33.0, 394357: 21.0, 245645: 5.0, 485650: 36.0, 19292: 3.0, 679551: 17.0, 293540: 4.0, 420105: 11.0, 25382: 85.0, 292129: 14.0, 506320: 18.0, 469211: 18.0, 782542: 9.0, 595671: 25.0, 755398: 10.0, 567391: 24.0, 356814: 7.0, 142357: 80.0, 184671: 5.0, 467977: 3.0, 757477: 21.0, 285715: 151.0, 547198: 28.0, 941251: 56.0, 888767: 58.0, 137417: 18.0, 809832: 37.0, 766336: 46.0, 44536: 40.0, 440505: 20.0, 332855: 0.0, 717439: 42.0, 165406: 12.0, 924634: 0.0, 744563: 28.0, 518591: 7.0, 816375: 10.0, 110306: 5.0, 222836: 20.0, 365909: 8.0, 908164: 14.0, 487922: 66.0, 839898: 64.0, 568360: 1.0, 539591: 0.0, 677426: 70.0, 260430: 5.0, 646733: 123.0, 215218: 12.0, 534347: 33.0, 526303: 5.0, 274584: 4.0, 239678: 21.0, 212971: 19.0, 725304: 27.0, 412900: 3.0, 193040: 7.0, 160580: 82.0, 835442: 0.0, 402475: 10.0, 394788: 1.0, 790474: 13.0, 69212: 20.0, 562051: 271.0, 649053: 6.0, 257895: 10.0, 453848: 8.0, 308889: 24.0, 453247: 17.0, 254632: 14.0, 122127: 2.0, 52127: 7.0, 968772: 13.0, 521842: 2.0, 347080: 8.0, 936154: 3.0, 211551: 4.0, 680491: 6.0, 953135: 21.0, 157947: 18.0, 927845: 24.0, 80954: 37.0, 456257: 9.0, 768146: 6.0, 299931: 34.0, 416262: 17.0, 241666: 867.0, 411320: 4.0, 365116: 29.0, 279864: 23.0, 574113: 9.0, 863262: 3.0, 35476: 23.0, 521588: 22.0, 13472: 5.0, 714797: 62.0, 484783: 0.0, 634855: 54.0, 266660: 34.0, 845996: 11.0, 552109: 11.0, 431118: 13.0, 5280: 22.0, 636870: 5.0, 919338: 4.0, 521389: 9.0, 714339: 19.0, 37148: 3.0, 401755: 11.0, 233922: 27.0, 609272: 4.0, 29166: 11.0, 627152: 0.0, 734826: 0.0, 98981: 2.0, 38397: 31.0, 411867: 4.0, 78888: 37.0, 221258: 4.0, 677171: 9.0, 610265: 17.0, 510706: 54.0, 568661: 40.0, 837181: 4.0, 969014: 26.0, 873860: 3.0, 543568: 179.0, 198010: 74.0, 749191: 30.0, 759785: 64.0, 447134: 146.0, 190745: 5.0, 864475: 62.0, 15749: 1.0, 81199: 5.0, 297028: 1.0, 42618: 1.0, 668981: 1.0, 407250: 1.0, 537270: 17.0, 362016: 1.0, 799812: 1.0, 866207: 28.0, 541322: 0.0, 326549: 14.0, 125861: 0.0, 35955: 46.0, 962571: 23.0, 7050: 5.0, 608796: 6.0, 97491: 174.0, 164115: 124.0, 510963: 149.0, 95739: 227.0, 620599: 171.0, 851597: 112.0, 881383: 23.0, 890958: 10.0, 729119: 10.0, 602228: 8.0, 909077: 5.0, 714976: 9.0, 265335: 9.0, 401206: 16.0, 794167: 13.0, 21458: 8.0, 743609: 14.0, 936385: 41.0, 261502: 15.0, 397669: 5.0, 208019: 11.0, 717000: 10.0, 37275: 4.0, 94724: 7.0, 495214: 9.0, 836079: 8.0, 574730: 6.0, 666492: 0.0, 483745: 0.0, 232944: 7.0, 552207: 43.0, 501231: 36.0, 381276: 13.0, 756017: 82.0, 380745: 3.0, 789021: 3.0, 109072: 3.0, 185824: 0.0, 376181: 41.0, 850748: 9.0, 509040: 4.0, 846343: 70.0, 159962: 55.0, 447248: 0.0, 903739: 1.0, 445662: 0.0, 36922: 0.0, 704262: 42.0, 757980: 7.0, 235995: 5.0, 213555: 41.0, 346916: 23.0, 718243: 35.0, 705643: 9.0, 300427: 18.0, 356927: 5.0, 583986: 211.0, 93362: 30.0, 788196: 0.0, 429121: 0.0, 299540: 6.0, 132062: 5.0, 570528: 0.0, 727598: 0.0, 45860: 17.0, 656453: 0.0, 101491: 0.0, 252725: 4.0, 883909: 5.0, 926293: 43.0, 166084: 19.0, 69317: 5.0, 880906: 5.0, 606149: 4.0, 331836: 4.0, 478243: 4.0, 380489: 3.0, 190212: 25.0, 136845: 1.0, 292899: 4.0, 55471: 4.0, 680605: 55.0, 77645: 31.0, 30309: 55.0, 2633: 49.0, 582171: 5.0, 452904: 15.0, 385924: 17.0, 818039: 12.0, 532317: 23.0, 173129: 30.0, 903220: 39.0, 902092: 3.0, 715563: 6.0, 157343: 4.0, 636340: 3.0, 278934: 47.0, 60428: 6.0, 421546: 4.0, 850779: 3.0, 783792: 3.0, 10267: 11.0, 134972: 16.0, 643973: 49.0, 576518: 1.0, 476285: 3.0, 968006: 3.0, 579359: 8.0, 731383: 3.0, 907916: 3.0, 429736: 3.0, 120627: 17.0, 692851: 17.0, 478869: 21.0, 631188: 21.0, 824646: 30.0, 959564: 6.0, 394885: 1.0, 840788: 2.0, 339379: 9.0, 787122: 8.0, 603124: 11.0, 16550: 62.0, 838659: 17.0, 883003: 72.0, 489221: 43.0, 71528: 18.0, 861914: 0.0, 578654: 55.0, 182610: 38.0, 711961: 22.0, 254519: 17.0, 541183: 1.0, 596205: 8.0, 694926: 0.0, 582000: 0.0, 549764: 6.0, 769233: 21.0, 877625: 38.0, 885075: 0.0, 310236: 0.0, 281904: 11.0, 6199: 19.0, 692531: 103.0, 818956: 88.0, 743188: 317.0, 384211: 20.0, 285399: 1.0, 370702: 0.0, 537012: 4.0, 393752: 0.0, 348712: 80.0, 635154: 43.0, 447399: 13.0, 512308: 6.0, 558616: 5.0, 24467: 12.0, 733026: 2.0, 117962: 18.0, 323816: 14.0, 835861: 34.0, 860950: 5.0, 245050: 52.0, 417113: 59.0, 446994: 22.0, 621792: 3.0, 826502: 8.0, 177601: 3.0, 721621: 13.0, 510107: 24.0, 445956: 4.0, 543447: 0.0, 711163: 0.0, 673066: 0.0, 493731: 0.0, 271450: 0.0, 270239: 0.0, 793117: 0.0, 680148: 5.0, 898536: 0.0, 816987: 1.0, 765362: 0.0, 861527: 0.0, 597394: 0.0, 72727: 1.0, 768379: 0.0, 895702: 0.0, 484259: 0.0, 444066: 0.0, 73539: 0.0, 787008: 0.0, 216298: 0.0, 64650: 0.0, 197725: 0.0, 329072: 0.0, 647574: 0.0, 457538: 0.0, 435369: 0.0, 200202: 0.0, 157300: 0.0, 706632: 0.0, 205414: 0.0, 54466: 0.0, 838400: 0.0, 434053: 0.0, 313618: 0.0, 937814: 0.0, 623957: 0.0, 495121: 0.0, 20830: 0.0, 963142: 59.0, 633537: 30.0, 653156: 22.0, 968061: 7.0, 385003: 22.0, 100101: 0.0, 13809: 0.0, 356788: 1.0, 38705: 3.0, 913640: 3.0, 841914: 44.0, 373160: 0.0, 314772: 0.0, 214929: 0.0, 778207: 0.0, 373591: 4.0, 241807: 29.0, 484658: 0.0, 21470: 0.0, 654020: 19.0, 200003: 1.0, 377242: 13.0, 279993: 37.0, 508199: 3.0, 736468: 0.0, 856013: 4.0, 102208: 2.0, 117216: 4.0, 571688: 0.0, 52030: 0.0, 37651: 0.0, 262665: 0.0, 358662: 0.0, 924041: 43.0, 673533: 5.0, 220553: 4.0, 227964: 4.0, 223973: 3.0, 98836: 3.0, 11207: 16.0, 534863: 3.0, 43294: 11.0, 826997: 12.0, 15097: 3.0, 479184: 30.0, 252107: 3.0, 384704: 13.0, 693860: 6.0, 296485: 2.0, 6725: 33.0, 658902: 3.0, 63908: 2.0, 804844: 6.0, 63652: 2.0, 775701: 12.0, 490190: 0.0, 374659: 0.0, 595238: 37.0, 739475: 30.0, 254117: 64.0, 597528: 5.0, 189172: 61.0, 326244: 82.0, 62030: 11.0, 793458: 5.0, 665850: 75.0, 335015: 17.0, 593176: 6.0, 73240: 10.0, 954946: 5.0, 258682: 10.0, 613163: 5.0, 765572: 5.0, 966785: 8.0, 23353: 4.0, 331486: 31.0, 423680: 2.0, 19425: 2.0, 942884: 3.0, 690038: 5.0, 275637: 9.0, 523723: 2.0, 285368: 2.0, 87222: 3.0, 354907: 16.0, 383718: 94.0, 216389: 43.0, 933766: 25.0, 707233: 38.0, 150496: 38.0, 9157: 22.0, 793990: 0.0, 653968: 16.0, 675314: 5.0, 836569: 0.0, 434643: 10.0, 847545: 0.0, 679970: 17.0, 598934: 4.0, 244850: 9.0, 240101: 0.0, 557783: 0.0, 80468: 25.0, 636941: 12.0, 457781: 39.0, 481705: 17.0, 902535: 27.0, 186667: 6.0, 895575: 13.0, 903336: 7.0, 827560: 7.0, 560776: 4.0, 155108: 1.0, 699068: 8.0, 134724: 6.0, 930436: 4.0, 217673: 4.0, 348193: 7.0, 844876: 77.0, 463050: 6.0, 84365: 5.0, 13383: 8.0, 156118: 21.0, 378598: 35.0, 820341: 18.0, 883149: 5.0, 101309: 24.0, 919192: 3.0, 769766: 3.0, 530399: 3.0, 746558: 3.0, 693813: 3.0, 898073: 3.0, 195868: 36.0, 319823: 9.0, 875701: 3.0, 778786: 3.0, 622890: 2.0, 96940: 18.0, 174938: 2.0, 194941: 2.0, 345562: 22.0, 519087: 97.0, 629066: 12.0, 246899: 7.0, 205043: 9.0, 45946: 7.0, 230322: 14.0, 818242: 12.0, 543704: 2.0, 410189: 2.0, 869052: 2.0, 93079: 6.0, 211087: 6.0, 821935: 2.0, 162331: 1.0, 350690: 0.0, 33348: 11.0, 347075: 4.0, 184786: 1.0, 945777: 74.0, 52847: 49.0, 803187: 6.0, 113365: 7.0, 633246: 3.0, 695049: 1.0, 562509: 1.0, 121121: 1.0, 479301: 13.0, 547802: 4.0, 873749: 2.0, 581926: 5.0, 16815: 5.0, 850887: 4.0, 333606: 1.0, 924953: 37.0, 882128: 1.0, 185347: 1.0, 23498: 1.0, 439385: 1.0, 61098: 3.0, 46977: 1.0, 408914: 2.0, 20467: 1.0, 36165: 2.0, 177693: 3.0, 68776: 1.0, 75694: 1.0, 252080: 1.0, 418221: 1.0, 431799: 1.0, 514532: 1.0, 152104: 1.0, 458239: 1.0, 782405: 1.0, 772242: 2.0, 624694: 1.0, 795840: 1.0, 765789: 3.0, 68181: 1.0, 8218: 6.0, 854696: 1.0, 241339: 1.0, 101730: 1.0, 479708: 1.0, 920253: 2.0, 594613: 1.0, 791091: 2.0, 7967: 0.0, 942905: 7.0, 568677: 9.0, 889289: 44.0, 564412: 1.0, 594824: 15.0, 302758: 1.0, 791943: 1.0, 121884: 9.0, 424507: 1.0, 691222: 0.0, 451745: 0.0, 657984: 4.0, 524495: 31.0, 573290: 6.0, 913058: 4.0, 259615: 0.0, 342966: 12.0, 524543: 3.0, 635794: 3.0, 303912: 0.0, 752654: 0.0, 202635: 1.0, 844525: 9.0, 825336: 0.0, 743526: 0.0, 118015: 5.0, 457695: 36.0, 803997: 6.0, 766192: 8.0, 887072: 0.0, 648470: 13.0, 845310: 16.0, 546612: 53.0, 747119: 3.0, 475961: 15.0, 232202: 22.0, 167505: 8.0, 446955: 9.0, 46434: 45.0, 472404: 12.0, 69370: 15.0, 812726: 45.0, 855792: 5.0, 543008: 10.0, 53084: 0.0, 804534: 0.0, 226711: 10.0, 10954: 16.0, 654988: 5.0, 96717: 5.0, 252859: 3.0, 359211: 3.0, 307780: 0.0, 438187: 0.0, 643653: 0.0, 75643: 0.0, 941706: 0.0, 913134: 1.0, 787909: 7.0, 317639: 5.0, 30213: 11.0, 921826: 0.0, 492436: 0.0, 345547: 3.0, 273693: 6.0, 484263: 1.0, 790351: 0.0, 338209: 10.0, 506577: 5.0, 291301: 0.0, 228029: 0.0, 592926: 5.0, 456942: 0.0, 365385: 0.0, 14128: 5.0, 559134: 0.0, 664991: 0.0, 836986: 0.0, 24483: 3.0, 913044: 0.0, 551605: 0.0, 498551: 9.0, 15754: 0.0, 840396: 8.0, 508392: 19.0, 191250: 7.0, 92317: 0.0, 675673: 5.0, 61274: 0.0, 961430: 2.0, 227722: 3.0, 735690: 0.0, 848959: 6.0, 306629: 38.0, 497551: 13.0, 967502: 0.0, 689434: 3.0, 68411: 7.0, 131200: 16.0, 685912: 0.0, 14518: 179.0, 412172: 23.0, 570062: 1.0, 192374: 0.0, 279607: 8.0, 161587: 10.0, 556681: 11.0, 24856: 32.0, 728929: 17.0, 492180: 13.0, 484189: 4.0, 646901: 0.0, 537963: 5.0, 545837: 25.0, 673547: 12.0, 923011: 4.0, 30349: 12.0, 968340: 19.0, 105527: 9.0, 619419: 6.0, 863764: 11.0, 331031: 81.0, 620617: 6.0, 496439: 13.0, 334914: 20.0, 952425: 17.0, 29841: 30.0, 178588: 0.0, 742750: 0.0, 421837: 235.0, 651693: 4.0, 39415: 30.0, 699832: 17.0, 68515: 0.0, 307982: 5.0, 550288: 5.0, 850468: 18.0, 99518: 73.0, 711512: 22.0, 360667: 11.0, 76194: 7.0, 894965: 10.0, 663522: 10.0, 635776: 109.0, 762636: 24.0, 665749: 1.0, 123458: 0.0, 780515: 0.0, 857735: 0.0, 738005: 11.0, 120609: 47.0, 330598: 21.0, 751642: 18.0, 898453: 31.0, 578375: 30.0, 32874: 0.0, 323845: 0.0, 38409: 0.0, 947233: 16.0, 168502: 0.0, 123476: 13.0, 591371: 10.0, 164165: 4.0, 339902: 12.0, 895621: 10.0, 111120: 3.0, 282879: 3.0, 655896: 10.0, 654331: 4.0, 641769: 18.0, 656407: 2.0, 604469: 3.0, 37317: 2.0, 777799: 29.0, 786190: 58.0, 171829: 89.0, 263272: 1.0, 412135: 11.0, 92720: 15.0, 633201: 8.0, 190638: 4.0, 159234: 0.0, 952452: 1.0, 682407: 7.0, 803059: 6.0, 887527: 8.0, 940359: 1.0, 529344: 25.0, 560177: 0.0, 143915: 1.0, 230189: 0.0, 767014: 0.0, 765347: 1.0, 643880: 21.0, 547115: 13.0, 260175: 7.0, 755169: 2.0, 281670: 39.0, 881446: 19.0, 801972: 0.0, 525943: 13.0, 142747: 1.0, 72498: 4.0, 763516: 0.0, 425811: 0.0, 341990: 0.0, 694494: 5.0, 348198: 1.0, 902970: 6.0, 840615: 0.0, 521483: 4.0, 939275: 3.0, 953658: 24.0, 671392: 16.0, 891406: 0.0, 609564: 0.0, 21670: 10.0, 479503: 3.0, 342365: 7.0, 820250: 0.0, 682467: 10.0, 514358: 5.0, 720810: 8.0, 508526: 4.0, 668776: 6.0, 279279: 4.0, 107416: 1.0, 582378: 0.0, 578007: 8.0, 838932: 0.0, 206132: 0.0, 696640: 33.0, 596184: 6.0, 853937: 4.0, 351951: 0.0, 806716: 23.0, 493956: 18.0, 151341: 13.0, 7765: 52.0, 324018: 10.0, 790825: 20.0, 745573: 4.0, 547155: 1.0, 970073: 4.0, 956144: 0.0, 245945: 82.0, 125336: 58.0, 293219: 34.0, 745157: 20.0, 471762: 52.0, 761620: 7.0, 201362: 17.0, 639356: 23.0, 204057: 3.0, 440069: 1.0, 438548: 17.0, 729188: 19.0, 895899: 5.0, 733008: 5.0, 35440: 2.0, 402490: 0.0, 579193: 72.0, 593286: 20.0, 60893: 10.0, 801725: 1.0, 284512: 74.0, 275132: 4.0, 1813: 4.0, 624039: 4.0, 545990: 49.0, 383630: 41.0, 247468: 20.0, 929052: 2.0, 933744: 10.0, 200288: 1.0, 326972: 4.0, 476830: 13.0, 285653: 2.0, 658705: 2.0, 270570: 2.0, 967462: 11.0, 150934: 1.0, 430559: 35.0, 497073: 0.0, 173341: 5.0, 809717: 0.0, 32596: 0.0, 177549: 0.0, 3414: 2.0, 486992: 24.0, 160261: 7.0, 29763: 18.0, 333775: 22.0, 730311: 2.0, 607439: 4.0, 755499: 101.0, 237410: 30.0, 712012: 113.0, 619606: 14.0, 590785: 49.0, 768883: 20.0, 418456: 5.0, 504243: 6.0, 602648: 12.0, 159452: 4.0, 86170: 9.0, 396030: 4.0, 404077: 3.0, 542237: 16.0, 849196: 8.0, 595063: 3.0, 696068: 20.0, 909697: 8.0, 652412: 35.0, 863261: 8.0, 140701: 26.0, 291455: 93.0, 133903: 36.0, 545185: 22.0, 319024: 19.0, 397231: 11.0, 378751: 30.0, 840224: 5.0, 850646: 24.0, 427447: 12.0, 56482: 3.0, 448574: 1.0, 410623: 35.0, 263764: 37.0, 191068: 29.0, 125423: 5.0, 384672: 2.0, 274392: 3.0, 457324: 4.0, 911241: 10.0, 460970: 1.0, 375652: 12.0, 477237: 11.0, 317900: 35.0, 122403: 1.0, 414549: 10.0, 923024: 15.0, 277493: 3.0, 23076: 9.0, 43325: 1.0, 563194: 0.0, 601678: 42.0, 141299: 22.0, 457850: 0.0, 563383: 15.0, 189003: 4.0, 770284: 9.0, 682366: 15.0, 239179: 1.0, 271404: 5.0, 819421: 29.0, 680804: 19.0, 349539: 16.0, 132171: 13.0, 631938: 3.0, 763144: 5.0, 118436: 7.0, 195138: 12.0, 384012: 14.0, 666027: 0.0, 45762: 2.0, 787593: 1.0, 815701: 10.0, 287551: 1.0, 764122: 8.0, 37981: 1.0, 859087: 0.0, 701091: 0.0, 893304: 0.0, 577157: 24.0, 542554: 0.0, 550382: 4.0, 559950: 12.0, 826994: 8.0, 880656: 14.0, 748444: 21.0, 759814: 1.0, 948915: 19.0, 797228: 4.0, 897451: 87.0, 311413: 35.0, 225444: 2.0, 780925: 15.0, 848682: 4.0, 400626: 4.0, 603171: 7.0, 590578: 1.0, 680636: 1.0, 439723: 11.0, 390765: 1.0, 4853: 6.0, 650318: 5.0, 93969: 3.0, 753302: 1.0, 789244: 1.0, 532636: 1.0, 617124: 1.0, 510769: 1.0, 33355: 11.0, 888435: 1.0, 166135: 22.0, 142892: 9.0, 571805: 6.0, 321638: 46.0, 314208: 11.0, 298650: 5.0, 35030: 1.0, 397756: 1.0, 565398: 14.0, 567613: 1.0, 44483: 20.0, 140607: 7.0, 588415: 1.0, 566829: 7.0, 714898: 20.0, 45332: 49.0, 882061: 17.0, 885984: 6.0, 303478: 47.0, 883297: 65.0, 907009: 17.0, 370558: 3.0, 706006: 8.0, 333772: 4.0, 464044: 6.0, 164241: 0.0, 593508: 0.0, 345202: 0.0, 370453: 17.0, 499673: 0.0, 750783: 3.0, 734416: 33.0, 160734: 15.0, 134421: 5.0, 723202: 24.0, 397265: 0.0, 604147: 33.0, 552265: 30.0, 11190: 10.0, 817368: 52.0, 416192: 34.0, 957899: 7.0, 517216: 117.0, 786875: 8.0, 290408: 36.0, 856602: 34.0, 535344: 2.0, 260332: 1.0, 419761: 8.0, 93099: 0.0, 428769: 8.0, 610726: 0.0, 314184: 0.0, 386633: 0.0, 203183: 0.0, 694681: 0.0, 467706: 1.0, 248888: 0.0, 735975: 0.0, 782327: 0.0, 380144: 1.0, 255873: 0.0, 266922: 0.0, 29182: 0.0, 302072: 5.0, 900526: 0.0, 807754: 0.0, 218822: 4.0, 202548: 102.0, 678984: 19.0, 641656: 3.0, 765627: 3.0, 421275: 0.0, 468100: 32.0, 472205: 1.0, 747498: 1.0, 382603: 34.0, 42494: 21.0, 811993: 4.0, 15420: 3.0, 671868: 21.0, 140231: 133.0, 313874: 35.0, 528187: 17.0, 575182: 11.0, 562942: 4.0, 896076: 12.0, 810999: 1.0, 260870: 5.0, 486880: 2.0, 880672: 6.0, 107874: 8.0, 777616: 0.0, 299097: 0.0, 713920: 0.0, 314680: 0.0, 35851: 0.0, 535842: 0.0, 387330: 3.0, 195962: 0.0, 305297: 0.0, 183655: 0.0, 70889: 3.0, 297115: 204.0, 336441: 21.0, 184775: 1.0, 249557: 1.0, 402997: 63.0, 173995: 7.0, 232188: 14.0, 178032: 29.0, 649124: 6.0, 15850: 4.0, 359865: 11.0, 574653: 2.0, 448755: 4.0, 542238: 1.0, 640348: 4.0, 84219: 4.0, 282116: 1.0, 373485: 18.0, 63692: 5.0, 819992: 6.0, 641029: 11.0, 871911: 51.0, 838525: 0.0, 655933: 24.0, 332131: 1.0, 619220: 24.0, 229529: 1.0, 143212: 0.0, 400558: 73.0, 550853: 29.0, 16823: 0.0, 93011: 13.0, 89573: 2.0, 66283: 0.0, 793478: 0.0, 369148: 0.0, 388644: 5.0, 845668: 79.0, 6027: 3.0, 351017: 6.0, 931605: 0.0, 727335: 0.0, 103870: 8.0, 804805: 1.0, 77455: 0.0, 910976: 0.0, 924475: 0.0, 665481: 0.0, 268983: 4.0, 411680: 1.0, 808441: 8.0, 532035: 0.0, 637617: 31.0, 242192: 6.0, 647384: 10.0, 161055: 2.0, 794581: 13.0, 506261: 2.0, 711025: 8.0, 754073: 7.0, 301360: 30.0, 246787: 65.0, 650640: 6.0, 839005: 10.0, 463455: 2.0, 886496: 17.0, 702262: 0.0, 906426: 2.0, 737259: 18.0, 158353: 0.0, 420406: 12.0, 504132: 63.0, 228827: 62.0, 79520: 41.0, 680038: 8.0, 80965: 8.0, 420861: 3.0, 559526: 0.0, 939743: 0.0, 621848: 0.0, 671564: 0.0, 728115: 0.0, 902995: 0.0, 676667: 0.0, 881744: 0.0, 201769: 3.0, 949590: 0.0, 895883: 0.0, 1108: 0.0, 280318: 0.0, 171064: 0.0, 525483: 10.0, 196697: 0.0, 458617: 0.0, 290808: 0.0, 830316: 0.0, 185528: 0.0, 525849: 0.0, 789643: 0.0, 407092: 0.0, 296305: 0.0, 81590: 0.0, 606703: 0.0, 610768: 10.0, 140485: 0.0, 196374: 5.0, 338090: 5.0, 74205: 0.0, 477902: 0.0, 940420: 3.0, 161057: 36.0, 682445: 5.0, 612909: 4.0, 84584: 3.0, 311036: 5.0, 43921: 0.0, 603848: 0.0, 697414: 1.0, 811460: 10.0, 426657: 0.0, 509979: 3.0, 439022: 20.0, 805644: 0.0, 540801: 0.0, 525990: 0.0, 414318: 0.0, 938136: 0.0, 566522: 0.0, 254005: 0.0, 247278: 0.0, 825505: 0.0, 185119: 0.0, 589835: 0.0, 41459: 229.0, 168465: 2.0, 573776: 0.0, 178918: 0.0, 665514: 0.0, 822317: 0.0, 909221: 8.0, 822630: 6.0, 222398: 3.0, 742442: 0.0, 387848: 3.0, 317208: 3.0, 530903: 4.0, 461104: 3.0, 671833: 3.0, 644374: 1.0, 495181: 28.0, 149243: 6.0, 189490: 9.0, 536600: 9.0, 576610: 63.0, 795681: 4.0, 356178: 20.0, 869425: 409.0, 464196: 21.0, 696347: 19.0, 656344: 0.0, 349722: 0.0, 100112: 8.0, 531164: 0.0, 369691: 1.0, 856425: 17.0, 912246: 11.0, 698227: 2.0, 309896: 7.0, 518132: 9.0, 768661: 0.0, 451551: 7.0, 79048: 0.0, 231917: 0.0, 855907: 0.0, 138115: 21.0, 117359: 6.0, 957745: 0.0, 469149: 0.0, 525308: 7.0, 737447: 8.0, 255093: 5.0, 453552: 4.0, 808218: 4.0, 835480: 61.0, 531822: 0.0, 244796: 0.0, 441951: 0.0, 83673: 19.0, 260361: 0.0, 103058: 7.0, 689524: 0.0, 208895: 0.0, 712038: 3.0, 739620: 0.0, 626404: 16.0, 691849: 4.0, 202115: 0.0, 481722: 0.0, 304364: 0.0, 209374: 1.0, 742358: 21.0, 329378: 20.0, 842740: 23.0, 7930: 29.0, 702941: 1.0, 841003: 10.0, 612517: 7.0, 689842: 0.0, 204532: 0.0, 67263: 6.0, 627587: 14.0, 921139: 4.0, 433603: 11.0, 904670: 4.0, 152271: 11.0, 315660: 13.0, 279974: 4.0, 804457: 4.0, 70597: 3.0, 562854: 3.0, 267351: 3.0, 421508: 9.0, 901050: 13.0, 621218: 3.0, 959290: 3.0, 716520: 11.0, 446384: 6.0, 734236: 2.0, 46800: 4.0, 304604: 4.0, 737164: 15.0, 764459: 19.0, 14286: 10.0, 290413: 6.0, 690231: 10.0, 345817: 3.0, 238364: 5.0, 514523: 6.0, 76118: 41.0, 750926: 3.0, 301564: 8.0, 506983: 4.0, 606930: 6.0, 618834: 0.0, 663565: 0.0, 959726: 0.0, 659553: 0.0, 202215: 0.0, 413919: 2.0, 915655: 1.0, 826103: 1.0, 638562: 4.0, 289652: 24.0, 536531: 1.0, 256470: 1.0, 113998: 7.0, 376727: 5.0, 935603: 4.0, 156678: 10.0, 536904: 5.0, 636863: 4.0, 719207: 1.0, 314226: 8.0, 576081: 11.0, 276070: 3.0, 921401: 1.0, 144390: 1.0, 99982: 6.0, 48854: 1.0, 56362: 11.0, 598116: 1.0, 41689: 2.0, 424387: 2.0, 127484: 1.0, 231650: 1.0, 44673: 1.0, 350713: 1.0, 200579: 1.0, 116258: 1.0, 887439: 1.0, 529214: 12.0, 5235: 35.0, 627228: 8.0, 930547: 18.0, 689070: 5.0, 185657: 5.0, 339952: 17.0, 571358: 4.0, 859350: 0.0, 327459: 6.0, 233442: 10.0, 671424: 4.0, 739059: 0.0, 393955: 3.0, 94745: 0.0, 814410: 0.0, 882071: 7.0, 901130: 9.0, 186434: 16.0, 415144: 18.0, 512749: 4.0, 22749: 0.0, 812271: 9.0, 110262: 0.0, 727333: 4.0, 622257: 18.0, 278200: 3.0, 479348: 2.0, 454232: 80.0, 868924: 32.0, 281651: 3.0, 61057: 3.0, 945955: 3.0, 919755: 83.0, 731099: 0.0, 346610: 24.0, 293702: 6.0, 547897: 3.0, 411552: 6.0, 586253: 2.0, 83193: 10.0, 830749: 150.0, 843884: 196.0, 433423: 5.0, 422123: 2.0, 625280: 34.0, 861719: 20.0, 634023: 22.0, 433052: 16.0, 74125: 38.0, 226555: 25.0, 807955: 5.0, 178886: 16.0, 508849: 10.0, 149185: 3.0, 141313: 3.0, 338886: 13.0, 530514: 22.0, 857410: 9.0, 811295: 24.0, 892780: 5.0, 57900: 2.0, 783302: 14.0, 955374: 5.0, 715804: 4.0, 60826: 4.0, 426755: 4.0, 572499: 4.0, 342143: 4.0, 25206: 14.0, 362279: 13.0, 392087: 3.0, 666504: 3.0, 927310: 1.0, 209555: 6.0, 487789: 8.0, 845324: 6.0, 471971: 3.0, 798131: 3.0, 305106: 11.0, 655848: 27.0, 482125: 12.0, 114130: 0.0, 381389: 7.0, 321969: 34.0, 866254: 34.0, 836209: 10.0, 739691: 67.0, 2376: 23.0, 498008: 13.0, 161672: 15.0, 352018: 5.0, 528772: 1.0, 62562: 0.0, 570091: 2.0, 106726: 3.0, 593792: 6.0, 265244: 4.0, 955587: 15.0, 288301: 2.0, 896675: 1.0, 592340: 6.0, 400209: 0.0, 957295: 3.0, 203892: 0.0, 805495: 4.0, 255561: 2.0, 619865: 3.0, 488984: 44.0, 611871: 5.0, 572392: 62.0, 806213: 58.0, 513809: 0.0, 293715: 0.0, 182626: 5.0, 773392: 3.0, 647134: 16.0, 939289: 3.0, 524865: 29.0, 236158: 5.0, 634054: 2.0, 42920: 18.0, 796530: 0.0, 797433: 7.0, 52904: 13.0, 377737: 50.0, 743585: 12.0, 213353: 1.0, 741242: 1.0, 39177: 6.0, 469382: 11.0, 330965: 0.0, 476006: 0.0, 525253: 5.0, 913312: 32.0, 432182: 1.0, 606092: 0.0, 436312: 19.0, 8104: 8.0, 378092: 4.0, 536947: 30.0, 13087: 8.0, 449733: 4.0, 776099: 2.0, 46732: 2.0, 767388: 1.0, 937384: 5.0, 57280: 4.0, 347082: 17.0, 539453: 1.0, 793751: 5.0, 469868: 4.0, 899924: 5.0, 408904: 1.0, 796314: 1.0, 761448: 6.0, 25894: 0.0, 133432: 15.0, 717188: 13.0, 329528: 2.0, 480099: 3.0, 957119: 0.0, 887808: 3.0, 935501: 0.0, 76688: 1.0, 230763: 0.0, 721853: 0.0, 105462: 29.0, 826720: 4.0, 639254: 2.0, 819099: 8.0, 55528: 8.0, 660330: 14.0, 199788: 29.0, 91697: 10.0, 406980: 5.0, 469559: 12.0, 853550: 5.0, 18509: 7.0, 61721: 5.0, 480201: 9.0, 282545: 13.0, 351160: 18.0, 745264: 28.0, 872788: 0.0, 548352: 3.0, 87345: 9.0, 531273: 19.0, 89087: 1.0, 212956: 8.0, 497257: 6.0, 33710: 24.0, 443340: 9.0, 359928: 3.0, 614796: 6.0, 162694: 1.0, 528655: 0.0, 662688: 4.0, 731222: 8.0, 153547: 44.0, 111243: 12.0, 310285: 9.0, 258754: 4.0, 952796: 4.0, 159036: 3.0, 604947: 14.0, 412051: 4.0, 876680: 3.0, 170319: 6.0, 93835: 28.0, 265492: 22.0, 21926: 17.0, 52231: 3.0, 327035: 0.0, 394003: 3.0, 196758: 30.0, 477584: 33.0, 189720: 9.0, 490875: 5.0, 185880: 8.0, 837038: 4.0, 154237: 0.0, 420275: 27.0, 752630: 2.0, 861263: 110.0, 123246: 4.0, 570942: 0.0, 969404: 8.0, 103125: 11.0, 603934: 0.0, 900079: 5.0, 436014: 7.0, 756390: 4.0, 658707: 7.0, 87816: 6.0, 813607: 1.0, 401192: 1.0, 695344: 8.0, 691805: 2.0, 965052: 14.0, 540538: 5.0, 829476: 9.0, 212433: 1.0, 782219: 76.0, 52655: 3.0, 207325: 18.0, 733577: 12.0, 168178: 28.0, 430821: 8.0, 321938: 23.0, 628402: 5.0, 629508: 10.0, 653819: 3.0, 843340: 5.0, 330025: 3.0, 664987: 7.0, 118115: 15.0, 370668: 8.0, 734563: 1.0, 561538: 1.0, 328851: 22.0, 916692: 17.0, 308305: 9.0, 655470: 1.0, 440566: 9.0, 233106: 1.0, 308566: 37.0, 245075: 14.0, 11507: 10.0, 56806: 2.0, 714886: 7.0, 824225: 7.0, 415314: 12.0, 852891: 16.0, 630147: 10.0, 197487: 0.0, 757839: 9.0, 864156: 0.0, 164383: 1.0, 744178: 0.0, 153779: 0.0, 662754: 0.0, 942547: 1.0, 323563: 2.0, 476743: 5.0, 61019: 0.0, 566438: 0.0, 199585: 0.0, 486729: 0.0, 887644: 0.0, 601545: 0.0, 290414: 0.0, 189770: 0.0, 640071: 0.0, 375683: 0.0, 561769: 0.0, 238743: 3.0, 563757: 0.0, 712112: 0.0, 96415: 0.0, 438664: 0.0, 684025: 21.0, 754582: 15.0, 561828: 5.0, 532508: 4.0, 966870: 2.0, 782720: 8.0, 190157: 13.0, 652663: 33.0, 781850: 5.0, 805959: 11.0, 363988: 1.0, 869024: 4.0, 196375: 25.0, 231077: 18.0, 874848: 27.0, 260700: 23.0, 290027: 1.0, 509851: 6.0, 53668: 24.0, 38550: 28.0, 675674: 6.0, 156667: 0.0, 47718: 0.0, 789381: 3.0, 722407: 2.0, 81551: 8.0, 414347: 10.0, 572574: 9.0, 571626: 18.0, 892214: 2.0, 553268: 2.0, 259825: 1.0, 443658: 14.0, 908506: 24.0, 213382: 0.0, 384343: 1.0, 190516: 1.0, 531638: 0.0, 41181: 1.0, 605214: 4.0, 232707: 10.0, 376885: 0.0, 773841: 27.0, 101601: 14.0, 117365: 4.0, 428884: 1.0, 133476: 0.0, 137909: 7.0, 473422: 8.0, 253485: 1.0, 329679: 5.0, 919288: 14.0, 124865: 11.0, 246091: 17.0, 494058: 13.0, 361623: 10.0, 965794: 12.0, 373568: 24.0, 593616: 17.0, 903106: 2.0, 470060: 6.0, 839698: 2.0, 327615: 2.0, 740614: 0.0, 934796: 0.0, 286506: 0.0, 151379: 0.0, 329344: 4.0, 944280: 42.0, 440377: 9.0, 59543: 9.0, 823472: 0.0, 600959: 5.0, 535391: 4.0, 885762: 4.0, 486103: 7.0, 176145: 2.0, 913629: 6.0, 662933: 2.0, 721567: 5.0, 785843: 12.0, 114543: 3.0, 696445: 0.0, 388113: 41.0, 773520: 1.0, 177380: 1.0, 522375: 17.0, 9340: 26.0, 965347: 43.0, 666576: 10.0, 882616: 3.0, 142442: 3.0, 783612: 10.0, 948688: 37.0, 468670: 21.0, 211953: 4.0, 183816: 1.0, 185961: 1.0, 388110: 5.0, 709298: 0.0, 259316: 4.0, 19776: 14.0, 517058: 0.0, 295886: 5.0, 904250: 30.0, 850305: 5.0, 94832: 11.0, 774339: 1.0, 239912: 4.0, 878010: 1.0, 857270: 11.0, 298365: 1.0, 553938: 1.0, 494891: 1.0, 576346: 1.0, 365624: 0.0, 939575: 1.0, 321935: 20.0, 383067: 5.0, 240691: 176.0, 335144: 13.0, 751356: 1.0, 134846: 7.0, 126608: 4.0, 180641: 4.0, 840733: 3.0, 887231: 0.0, 164492: 6.0, 773537: 10.0, 755210: 4.0, 864805: 4.0, 187825: 0.0, 140191: 0.0, 437498: 0.0, 547926: 6.0, 403076: 1.0, 439754: 5.0, 557653: 0.0, 220376: 14.0, 461445: 2.0, 92672: 0.0, 511845: 8.0, 520195: 11.0, 765218: 1.0, 583347: 33.0, 871918: 0.0, 858014: 0.0, 725233: 30.0, 383206: 2.0, 933437: 1.0, 719559: 2.0, 157034: 36.0, 682761: 4.0, 49208: 57.0, 232023: 1.0, 623146: 1.0, 911952: 1.0, 845367: 0.0, 966502: 12.0, 854765: 15.0, 514728: 0.0, 69706: 0.0, 223285: 0.0, 190418: 0.0, 193534: 0.0, 942552: 0.0, 349014: 4.0, 945364: 4.0, 811778: 0.0, 932979: 1.0, 827924: 0.0, 143179: 0.0, 813896: 3.0, 126257: 0.0, 700419: 3.0, 329543: 0.0, 676639: 3.0, 254631: 4.0, 550211: 5.0, 465006: 0.0, 889652: 18.0, 596601: 0.0, 34406: 2.0, 250543: 1.0, 287826: 44.0, 528660: 7.0, 668674: 27.0, 156510: 17.0, 649877: 54.0, 37714: 0.0, 214923: 3.0, 222096: 14.0, 41041: 4.0, 887621: 0.0, 630509: 15.0, 635069: 1.0, 737389: 2.0, 236889: 0.0, 371114: 1.0, 840793: 0.0, 285523: 0.0, 476697: 3.0, 137748: 0.0, 970230: 0.0, 882666: 17.0, 521934: 15.0, 537171: 8.0, 814114: 1.0, 713103: 0.0, 158699: 14.0, 453863: 0.0, 935067: 19.0, 356706: 57.0, 456694: 8.0, 663308: 4.0, 560562: 26.0, 615851: 8.0, 199872: 2.0, 548300: 47.0, 703189: 14.0, 44722: 16.0, 429740: 7.0, 80916: 30.0, 264261: 0.0, 277829: 4.0, 34247: 18.0, 7862: 23.0, 144094: 8.0, 382024: 20.0, 554453: 4.0, 743246: 13.0, 845525: 10.0, 208776: 7.0, 822508: 11.0, 179901: 15.0, 886167: 11.0, 656416: 15.0, 113902: 6.0, 81663: 9.0, 131667: 0.0, 766462: 8.0, 394664: 25.0, 868908: 0.0, 670194: 151.0, 816893: 84.0, 264350: 3.0, 296185: 19.0, 671347: 5.0, 661448: 18.0, 572503: 5.0, 280020: 7.0, 234133: 27.0, 421592: 5.0, 588268: 32.0, 965706: 38.0, 909930: 1.0, 843334: 22.0, 691161: 122.0, 67673: 12.0, 924353: 61.0, 3832: 15.0, 540819: 3.0, 113101: 3.0, 28939: 26.0, 28244: 6.0, 358322: 12.0, 101873: 11.0, 958133: 9.0, 134456: 24.0, 918833: 25.0, 923264: 10.0, 291625: 1.0, 530395: 0.0, 702320: 5.0, 405256: 0.0, 749765: 0.0, 360115: 0.0, 20008: 0.0, 668150: 0.0, 713007: 0.0, 529170: 3.0, 886574: 0.0, 686501: 0.0, 85796: 3.0, 341839: 3.0, 813244: 0.0, 703507: 1.0, 730879: 9.0, 247641: 6.0, 762885: 0.0, 473204: 7.0, 495830: 9.0, 257802: 0.0, 159291: 2.0, 304446: 4.0, 826458: 4.0, 399595: 2.0, 384491: 10.0, 556072: 2.0, 338582: 2.0, 646849: 2.0, 942058: 2.0, 187375: 12.0, 798115: 4.0, 590795: 2.0, 533321: 3.0, 925611: 11.0, 612981: 4.0, 567822: 2.0, 557951: 9.0, 655774: 2.0, 330635: 3.0, 90963: 4.0, 766160: 2.0, 847742: 6.0, 370437: 0.0, 158508: 0.0, 956331: 0.0, 474008: 3.0, 922397: 16.0, 636019: 12.0, 922718: 4.0, 891032: 6.0, 304503: 15.0, 116881: 10.0, 64675: 4.0, 263658: 4.0, 119003: 4.0, 346426: 4.0, 379114: 0.0, 841736: 5.0, 524724: 3.0, 922971: 5.0, 351460: 23.0, 244793: 1.0, 649550: 88.0, 655320: 30.0, 566284: 9.0, 637260: 33.0, 562819: 49.0, 861823: 10.0, 327340: 3.0, 789520: 9.0, 871217: 6.0, 119563: 5.0, 455102: 9.0, 314926: 4.0, 732182: 1.0, 392779: 6.0, 442518: 6.0, 761693: 1.0, 692516: 1.0, 328447: 4.0, 809869: 0.0, 731103: 9.0, 931712: 0.0, 584189: 0.0, 910821: 0.0, 837403: 0.0, 905826: 1.0, 199188: 0.0, 94531: 1.0, 49742: 4.0, 753758: 0.0, 338940: 10.0, 691329: 0.0, 909188: 6.0, 556841: 1.0, 180269: 0.0, 428949: 4.0, 552679: 6.0, 455987: 5.0, 338161: 5.0, 939245: 4.0, 392734: 5.0, 365728: 7.0, 374878: 4.0, 582874: 4.0, 710987: 4.0, 463919: 3.0, 468251: 3.0, 507600: 3.0, 929540: 3.0, 655376: 3.0, 903501: 3.0, 866434: 1.0, 591221: 13.0, 909922: 3.0, 40807: 7.0, 317256: 3.0, 442768: 3.0, 869372: 3.0, 516475: 14.0, 518643: 7.0, 218453: 19.0, 176879: 3.0, 369557: 5.0, 766051: 6.0, 453065: 2.0, 665507: 2.0, 534779: 65.0, 937937: 21.0, 933157: 60.0, 527236: 14.0, 385285: 2.0, 15880: 19.0, 501928: 2.0, 558561: 55.0, 167358: 2.0, 468401: 1.0, 823815: 49.0, 775882: 1.0, 940602: 0.0, 245763: 0.0, 144845: 3.0, 255016: 2.0, 804975: 7.0, 396718: 1.0, 685297: 1.0, 353658: 1.0, 126577: 1.0, 581285: 4.0, 685302: 3.0, 250682: 1.0, 787751: 11.0, 659492: 11.0, 15188: 22.0, 38992: 0.0, 530594: 4.0, 100518: 0.0, 79431: 0.0, 455210: 0.0, 460131: 1.0, 424489: 0.0, 235157: 8.0, 620076: 1.0, 164380: 1.0, 410014: 1.0, 744056: 20.0, 652565: 0.0, 38206: 4.0, 745642: 1.0, 887290: 0.0, 572112: 0.0, 766392: 9.0, 596037: 1.0, 60866: 3.0, 497547: 3.0, 401431: 10.0, 454760: 1.0, 403110: 9.0, 762621: 1.0, 529868: 1.0, 741461: 4.0, 93917: 4.0, 11174: 1.0, 960376: 1.0, 345731: 1.0, 634350: 1.0, 891684: 1.0, 109421: 1.0, 729832: 1.0, 615673: 1.0, 117451: 1.0, 748473: 1.0, 919420: 1.0, 357322: 12.0, 437635: 30.0, 832025: 10.0, 501206: 1.0, 802663: 0.0, 247783: 3.0, 331177: 0.0, 902981: 19.0, 131275: 0.0, 837142: 0.0, 306455: 7.0, 861260: 6.0, 588970: 1.0, 83709: 9.0, 10455: 3.0, 242094: 0.0, 406829: 42.0, 903552: 0.0, 304515: 29.0, 848459: 6.0, 123869: 35.0, 950441: 2.0, 307730: 5.0, 435769: 10.0, 895920: 1.0, 58304: 38.0, 344194: 0.0, 549655: 1.0, 785454: 1.0, 221397: 1.0, 515251: 0.0, 193710: 0.0, 579494: 0.0, 336229: 7.0, 453188: 3.0, 865279: 3.0, 256172: 4.0, 872605: 3.0, 801128: 1.0, 123026: 1.0, 820263: 1.0, 242209: 9.0, 181469: 12.0, 97338: 0.0, 303153: 0.0, 887162: 0.0, 794460: 0.0, 701888: 0.0, 556930: 0.0, 528130: 11.0, 257261: 3.0, 496029: 0.0, 582116: 0.0, 29866: 3.0, 738826: 26.0, 582648: 0.0, 671337: 0.0, 670955: 0.0, 588551: 4.0, 162004: 9.0, 630124: 32.0, 200833: 37.0, 630706: 32.0, 395884: 9.0, 200183: 2.0, 501812: 2.0, 649763: 11.0, 684676: 29.0, 855844: 17.0, 397844: 5.0, 21433: 2.0, 848461: 3.0, 324590: 16.0, 297356: 58.0, 292581: 4.0, 297280: 6.0, 631838: 3.0, 525456: 3.0, 572844: 0.0, 680426: 6.0, 599167: 3.0, 172488: 8.0, 790196: 3.0, 290806: 12.0, 688088: 7.0, 836579: 2.0, 821805: 1.0, 935010: 1.0, 485832: 7.0, 942324: 5.0, 737163: 9.0, 558717: 5.0, 555814: 0.0, 787820: 4.0, 276346: 3.0, 964166: 0.0, 780959: 0.0, 741060: 0.0, 610369: 25.0, 657674: 0.0, 197245: 6.0, 257769: 5.0, 89239: 2.0, 174308: 1.0, 951422: 6.0, 184186: 58.0, 724524: 3.0, 63465: 1.0, 787574: 1.0, 795254: 1.0, 916291: 1.0, 676739: 6.0, 608638: 1.0, 120356: 0.0, 423068: 6.0, 429764: 57.0, 609117: 10.0, 525240: 0.0, 390484: 5.0, 458977: 3.0, 821314: 56.0, 564822: 3.0, 323213: 7.0, 632341: 1.0, 607607: 1.0, 90254: 0.0, 450496: 1.0, 442914: 6.0, 438892: 4.0, 766598: 2.0, 812667: 7.0, 805135: 1.0, 352630: 14.0, 12437: 20.0, 791735: 13.0, 381178: 9.0, 338540: 4.0, 294651: 38.0, 903600: 1.0, 151562: 1.0, 641177: 3.0, 302160: 1.0, 513435: 0.0, 244336: 51.0, 533090: 2.0, 606086: 6.0, 84788: 4.0, 969906: 12.0, 608695: 0.0, 424479: 0.0, 306282: 4.0, 12305: 0.0, 475982: 0.0, 100919: 0.0, 876849: 0.0, 373743: 0.0, 522102: 0.0, 282435: 10.0, 452712: 5.0, 772502: 3.0, 288491: 8.0, 53248: 0.0, 606861: 0.0, 447007: 0.0, 146500: 0.0, 812900: 13.0, 460675: 2.0, 659547: 0.0, 501738: 0.0, 310004: 8.0, 492016: 0.0, 565062: 11.0, 258803: 7.0, 736844: 9.0, 70145: 18.0, 519588: 0.0, 872127: 0.0, 812524: 11.0, 275509: 39.0, 33259: 11.0, 211290: 9.0, 373178: 0.0, 541844: 21.0, 785844: 3.0, 502295: 8.0, 965769: 0.0, 821279: 0.0, 816684: 1.0, 10218: 0.0, 217992: 0.0, 867689: 5.0, 236596: 0.0, 705369: 0.0, 277997: 0.0, 814684: 4.0, 690188: 0.0, 90673: 0.0, 604846: 1.0, 348851: 1.0, 654198: 1.0, 239186: 5.0, 537216: 1.0, 38986: 0.0, 690608: 0.0, 202339: 0.0, 575623: 0.0, 731026: 3.0, 238601: 26.0, 46806: 3.0, 343772: 3.0, 258944: 0.0, 139006: 2.0, 82981: 49.0, 212637: 61.0, 751614: 22.0, 796987: 85.0, 347449: 17.0, 933736: 12.0, 194835: 0.0, 582056: 0.0, 338407: 0.0, 268884: 0.0, 699367: 0.0, 528615: 12.0, 591413: 0.0, 347035: 30.0, 268999: 16.0, 407860: 22.0, 952467: 0.0, 801399: 0.0, 926961: 0.0, 763061: 0.0, 613392: 4.0, 924136: 0.0, 431753: 0.0, 580577: 0.0, 110959: 1.0, 179057: 62.0, 52983: 14.0, 854622: 1.0, 266267: 3.0, 520745: 14.0, 334386: 5.0, 180502: 4.0, 336143: 12.0, 428557: 18.0, 699191: 3.0, 794447: 14.0, 248816: 3.0, 787282: 13.0, 880872: 3.0, 886577: 2.0, 410433: 16.0, 917541: 6.0, 7392: 9.0, 564930: 2.0, 777066: 3.0, 229536: 4.0, 627782: 6.0, 291932: 0.0, 827994: 11.0, 447784: 0.0, 55072: 4.0, 901423: 6.0, 391112: 0.0, 86688: 4.0, 175791: 5.0, 539555: 3.0, 820452: 0.0, 192667: 6.0, 40277: 0.0, 6793: 4.0, 900248: 0.0, 743117: 0.0, 875678: 4.0, 368850: 5.0, 245217: 21.0, 863410: 0.0, 731180: 7.0, 176332: 5.0, 374012: 6.0, 890821: 7.0, 523986: 0.0, 514014: 0.0, 21616: 10.0, 928610: 5.0, 829810: 28.0, 331772: 52.0, 23042: 5.0, 72774: 5.0, 802272: 5.0, 947053: 4.0, 153556: 19.0, 47147: 18.0, 586603: 8.0, 399044: 5.0, 595389: 0.0, 673311: 56.0, 673024: 27.0, 86085: 32.0, 321607: 14.0, 765653: 4.0, 269068: 3.0, 839552: 0.0, 413252: 0.0, 16078: 0.0, 678238: 1.0, 96220: 12.0, 274260: 14.0, 119612: 4.0, 778968: 5.0, 361131: 0.0, 635373: 0.0, 655807: 32.0, 926735: 8.0, 575527: 6.0, 404179: 3.0, 500538: 25.0, 316623: 19.0, 509257: 12.0, 298353: 0.0, 949123: 4.0, 185357: 0.0, 84508: 0.0, 953944: 0.0, 193113: 6.0, 938961: 0.0, 967394: 15.0, 668358: 15.0, 582865: 5.0, 370522: 4.0, 111860: 5.0, 234316: 0.0, 543172: 13.0, 57314: 0.0, 477337: 0.0, 967272: 1.0, 954437: 1.0, 632739: 0.0, 771287: 1.0, 514995: 1.0, 172252: 1.0, 723119: 0.0, 495123: 1.0, 113294: 1.0, 432621: 1.0, 491157: 1.0, 299730: 1.0, 253109: 4.0, 518058: 39.0, 778243: 4.0, 427098: 0.0, 273589: 0.0, 404920: 0.0, 922577: 0.0, 339604: 0.0, 747549: 0.0, 501639: 0.0, 509498: 0.0, 906054: 0.0, 947273: 0.0, 366635: 13.0, 44488: 5.0, 608041: 6.0, 2073: 5.0, 717797: 4.0, 815595: 9.0, 554169: 15.0, 894493: 3.0, 561213: 3.0, 238924: 3.0, 37099: 3.0, 314932: 0.0, 37801: 0.0, 34866: 0.0, 705667: 4.0, 240875: 0.0, 933159: 0.0, 205001: 7.0, 869834: 0.0, 393090: 0.0, 460796: 0.0, 11231: 0.0, 78510: 0.0, 249490: 0.0, 832416: 1.0, 589962: 4.0, 882574: 20.0, 34684: 2.0, 110887: 6.0, 240632: 2.0, 435968: 1.0, 65247: 1.0, 834935: 1.0, 448873: 1.0, 21124: 1.0, 861152: 4.0, 300385: 20.0, 603717: 1.0, 200186: 2.0, 401361: 6.0, 771676: 1.0, 547890: 4.0, 80377: 7.0, 910405: 2.0, 609475: 16.0, 764886: 2.0, 47882: 1.0, 909200: 1.0, 749018: 1.0, 801282: 1.0, 283122: 4.0, 692843: 1.0, 18878: 1.0, 726057: 1.0, 707857: 1.0, 908877: 1.0, 596340: 4.0, 819645: 1.0, 756457: 1.0, 26489: 1.0, 90596: 1.0, 849334: 1.0, 721703: 10.0, 294660: 1.0, 457618: 2.0, 957532: 1.0, 804303: 2.0, 664772: 10.0, 576439: 1.0, 773461: 1.0, 486706: 1.0, 131444: 1.0, 24249: 1.0, 775842: 1.0, 218248: 4.0, 455550: 18.0, 850862: 1.0, 681242: 0.0, 116439: 46.0, 489259: 4.0, 332139: 0.0, 71061: 0.0, 913900: 0.0, 40653: 2.0, 442271: 13.0, 768596: 6.0, 243456: 4.0, 528790: 5.0, 72596: 9.0, 250357: 0.0, 220030: 7.0, 858457: 0.0, 781375: 0.0, 667749: 0.0, 845213: 0.0, 245460: 0.0, 309265: 0.0, 618949: 0.0, 498432: 0.0, 21573: 0.0, 822889: 0.0, 618556: 0.0, 496162: 56.0, 776545: 5.0, 815047: 1.0, 483808: 1.0, 273252: 28.0, 569634: 6.0, 455938: 1.0, 122126: 0.0, 530198: 0.0, 895555: 14.0, 693783: 9.0, 709373: 0.0, 194032: 59.0, 398433: 0.0, 736543: 16.0, 740805: 36.0, 779323: 3.0, 645792: 9.0, 343246: 1.0, 469834: 12.0, 143376: 79.0, 907797: 13.0, 776054: 0.0, 414629: 0.0, 424903: 5.0, 873373: 0.0, 356315: 7.0, 77016: 4.0, 530402: 0.0, 951292: 0.0, 481213: 11.0, 803535: 0.0, 665362: 0.0, 292766: 0.0, 70095: 7.0, 390849: 52.0, 65840: 7.0, 357472: 1.0, 892233: 4.0, 960436: 1.0, 452617: 1.0, 708270: 1.0, 113430: 2.0, 55457: 1.0, 379210: 0.0, 124618: 0.0, 544081: 0.0, 365837: 0.0, 793183: 8.0, 957619: 0.0, 328767: 9.0, 557178: 7.0, 610584: 15.0, 135346: 2.0, 473343: 1.0, 673400: 2.0, 887992: 14.0, 462582: 10.0, 201474: 2.0, 815027: 0.0, 424424: 5.0, 961871: 5.0, 143143: 25.0, 382196: 3.0, 582292: 1.0, 942171: 5.0, 231956: 5.0, 391541: 1.0, 227060: 16.0, 13461: 3.0, 417479: 0.0, 74511: 0.0, 207447: 8.0, 92503: 6.0, 303662: 25.0, 312940: 2.0, 712551: 1.0, 550958: 15.0, 878399: 5.0, 261705: 0.0, 661734: 57.0, 449643: 3.0, 57891: 1.0, 95675: 6.0, 966763: 6.0, 699862: 1.0, 583993: 0.0, 919613: 0.0, 119974: 5.0, 900279: 5.0, 636268: 4.0, 448252: 4.0, 320641: 5.0, 202072: 4.0, 828990: 4.0, 164072: 20.0, 838698: 9.0, 652983: 18.0, 170584: 4.0, 691263: 0.0, 279554: 4.0, 695200: 0.0, 105728: 6.0, 251924: 36.0, 906908: 5.0, 688925: 7.0, 727466: 17.0, 799130: 12.0, 44506: 13.0, 223650: 7.0, 278489: 5.0, 710952: 6.0, 386032: 14.0, 369451: 3.0, 288429: 15.0, 645396: 5.0, 38145: 2.0, 162064: 2.0, 670031: 13.0, 934018: 2.0, 405792: 18.0, 696361: 2.0, 789025: 8.0, 311151: 0.0, 62569: 2.0, 58128: 2.0, 23633: 2.0, 280117: 5.0, 167972: 10.0, 176568: 13.0, 108842: 1.0, 635340: 1.0, 332910: 4.0, 295517: 2.0, 620355: 1.0, 327775: 1.0, 875378: 1.0, 523527: 7.0, 577179: 0.0, 504497: 0.0, 12266: 10.0, 6339: 5.0, 910830: 0.0, 259405: 1.0, 113014: 0.0, 704485: 8.0, 780652: 0.0, 903029: 1.0, 263499: 4.0, 314437: 7.0, 267675: 1.0, 46717: 9.0, 377728: 2.0, 694147: 22.0, 275854: 0.0, 583878: 17.0, 219871: 0.0, 795172: 2.0, 56430: 1.0, 932954: 3.0, 123663: 3.0, 332566: 1.0, 518116: 1.0, 395652: 1.0, 319943: 1.0, 46086: 6.0, 272851: 2.0, 349710: 0.0, 944321: 0.0, 512608: 8.0, 877582: 0.0, 859461: 0.0, 416439: 3.0, 129142: 0.0, 769986: 1.0, 160887: 36.0, 195020: 3.0, 912792: 2.0, 768550: 2.0, 853811: 12.0, 265191: 26.0, 714262: 21.0, 699130: 6.0, 634048: 2.0, 690322: 0.0, 133222: 8.0, 255914: 0.0, 682466: 0.0, 949320: 5.0, 924428: 10.0, 859396: 39.0, 67718: 5.0, 267066: 5.0, 423033: 1.0, 202173: 0.0, 715577: 0.0, 737561: 0.0, 288606: 0.0, 825252: 0.0, 298798: 1.0, 44406: 25.0, 396149: 25.0, 284583: 1.0, 516514: 3.0, 238627: 1.0, 667856: 1.0, 635232: 2.0, 865329: 3.0, 629911: 5.0, 18748: 1.0, 748797: 4.0, 612161: 1.0, 892478: 1.0, 818975: 1.0, 193827: 2.0, 753702: 2.0, 65367: 1.0, 773374: 7.0, 171464: 0.0, 856046: 0.0, 956399: 0.0, 570493: 11.0, 605256: 0.0, 142250: 0.0, 920022: 16.0, 143322: 0.0, 417008: 0.0, 826372: 0.0, 394005: 3.0, 408356: 0.0, 67747: 12.0, 180385: 15.0, 57026: 8.0, 968789: 7.0, 272541: 0.0, 279853: 5.0, 797718: 1.0, 443040: 3.0, 965446: 0.0, 518630: 0.0, 657435: 0.0, 524241: 5.0, 235562: 0.0, 246257: 0.0, 439864: 4.0, 936985: 0.0, 659789: 0.0, 783269: 2.0, 108488: 1.0, 252012: 0.0, 33407: 0.0, 630986: 0.0, 142485: 5.0, 382493: 0.0, 595189: 0.0, 136357: 0.0, 707171: 6.0, 958594: 0.0, 687826: 28.0, 347471: 12.0, 852081: 0.0, 641207: 3.0, 643043: 14.0, 36464: 1.0, 804836: 4.0, 477139: 1.0, 916383: 44.0, 407279: 3.0, 243922: 8.0, 683386: 15.0, 696490: 47.0, 463087: 0.0, 37948: 1.0, 521655: 1.0, 330091: 2.0, 356327: 9.0, 473691: 11.0, 694145: 4.0, 833375: 0.0, 140530: 6.0, 823521: 2.0, 778290: 2.0, 438670: 6.0, 964034: 4.0, 25838: 20.0, 968005: 0.0, 452789: 0.0, 447318: 22.0, 142315: 2.0, 698530: 0.0, 737354: 5.0, 269839: 10.0, 624249: 0.0, 196054: 2.0, 671936: 5.0, 659258: 57.0, 723672: 31.0, 221157: 18.0, 97297: 4.0, 168597: 13.0, 403922: 2.0, 911326: 6.0, 801080: 6.0, 775137: 0.0, 819294: 0.0, 58749: 0.0, 183722: 24.0, 720706: 29.0, 385258: 24.0, 487730: 10.0, 28298: 3.0, 8181: 0.0, 822007: 0.0, 581198: 0.0, 722162: 4.0, 365764: 10.0, 550674: 4.0, 782101: 1.0, 923102: 13.0, 54986: 4.0, 211818: 7.0, 599800: 4.0, 940329: 1.0, 584910: 1.0, 358335: 1.0, 466828: 18.0, 787546: 6.0, 464027: 17.0, 559225: 26.0, 670591: 46.0, 917484: 38.0, 203169: 44.0, 116846: 66.0, 635393: 47.0, 954998: 0.0, 609542: 0.0, 16152: 0.0, 722547: 0.0, 374684: 0.0, 35983: 0.0, 371749: 0.0, 163093: 0.0, 402891: 3.0, 437069: 0.0, 906513: 0.0, 79482: 0.0, 750368: 0.0, 717528: 0.0, 245956: 12.0, 443587: 2.0, 112574: 2.0, 666503: 2.0, 182840: 2.0, 153015: 0.0, 252965: 12.0, 472643: 49.0, 346700: 7.0, 853773: 2.0, 416572: 1.0, 23424: 1.0, 123507: 1.0, 532604: 1.0, 169952: 1.0, 161678: 1.0, 408155: 1.0, 335607: 10.0, 183497: 1.0, 273684: 1.0, 502309: 1.0, 335092: 2.0, 538893: 0.0, 114140: 0.0, 521380: 0.0, 595036: 8.0, 774220: 0.0, 425451: 0.0, 719408: 5.0, 548475: 20.0, 702084: 18.0, 99888: 0.0, 964633: 0.0, 762467: 0.0, 507941: 3.0, 936167: 0.0, 338923: 0.0, 375407: 0.0, 716119: 0.0, 459874: 4.0, 879285: 0.0, 544495: 0.0, 502906: 0.0, 514905: 0.0, 719748: 9.0, 445263: 0.0, 639264: 14.0, 706665: 0.0, 71262: 0.0, 676377: 1.0, 328570: 0.0, 699807: 3.0, 553445: 0.0, 649469: 1.0, 513507: 9.0, 316215: 0.0, 577494: 0.0, 544730: 3.0, 871356: 7.0, 353701: 0.0, 904146: 0.0, 849015: 4.0, 400534: 0.0, 752807: 6.0, 603367: 0.0, 402026: 0.0, 599137: 0.0, 185707: 3.0, 807830: 0.0, 180875: 6.0, 546380: 0.0, 660750: 32.0, 208301: 3.0, 917333: 0.0, 18100: 1.0, 83717: 5.0, 470136: 1.0, 528072: 0.0, 599176: 6.0, 712834: 11.0, 380334: 0.0, 152155: 0.0, 15411: 11.0, 700762: 1.0, 414383: 5.0, 579351: 13.0, 568273: 4.0, 475215: 8.0, 80552: 15.0, 140590: 3.0, 594778: 1.0, 799950: 1.0, 503897: 1.0, 175590: 9.0, 968680: 7.0, 625210: 9.0, 565781: 3.0, 770931: 0.0, 565204: 3.0, 443708: 1.0, 313691: 11.0, 932767: 1.0, 892988: 0.0, 126355: 0.0, 847567: 7.0, 339793: 4.0, 799984: 1.0, 480078: 1.0, 124170: 7.0, 687980: 9.0, 79396: 5.0, 767229: 10.0, 435767: 9.0, 573089: 13.0, 835857: 3.0, 411927: 2.0, 12742: 1.0, 148090: 1.0, 120804: 3.0, 17182: 1.0, 297695: 2.0, 823933: 1.0, 324475: 1.0, 879959: 5.0, 782656: 12.0, 40923: 0.0, 766551: 8.0, 372400: 11.0, 423242: 6.0, 296850: 15.0, 625569: 3.0, 94213: 1.0, 182969: 0.0, 554920: 2.0, 719175: 10.0, 888346: 14.0, 342793: 0.0, 427239: 0.0, 809068: 0.0, 710119: 20.0, 390382: 0.0, 337793: 1.0, 413763: 0.0, 809188: 0.0, 483215: 0.0, 726717: 0.0, 684509: 0.0, 546485: 7.0, 921363: 7.0, 600870: 8.0, 286218: 17.0, 117061: 2.0, 223610: 1.0, 521879: 1.0, 810244: 1.0, 271760: 3.0, 486743: 5.0, 660739: 1.0, 301057: 1.0, 220160: 16.0, 867705: 5.0, 598153: 0.0, 107370: 0.0, 16107: 0.0, 887845: 0.0, 592041: 0.0, 780123: 6.0, 361394: 8.0, 680292: 5.0, 2482: 4.0, 188147: 3.0, 868569: 3.0, 123701: 3.0, 684052: 7.0, 620333: 3.0, 199973: 0.0, 707823: 2.0, 765490: 5.0, 714407: 2.0, 594301: 2.0, 915696: 2.0, 517711: 2.0, 350674: 2.0, 678961: 2.0, 29779: 7.0, 41102: 1.0, 387294: 6.0, 450115: 7.0, 826288: 0.0, 440718: 0.0, 311279: 0.0, 444834: 11.0, 297083: 0.0, 798456: 0.0, 548426: 0.0, 364922: 0.0, 724451: 0.0, 729562: 0.0, 881103: 0.0, 277699: 0.0, 879718: 0.0, 375889: 0.0, 221451: 9.0, 285370: 12.0, 369420: 0.0, 585494: 0.0, 783377: 5.0, 418964: 0.0, 358162: 3.0, 247674: 9.0, 849796: 0.0, 358965: 4.0, 87495: 0.0, 662838: 0.0, 739290: 4.0, 846041: 0.0, 161669: 1.0, 280817: 0.0, 9025: 0.0, 768271: 3.0, 218845: 5.0, 623525: 5.0, 828392: 13.0, 915804: 4.0, 374112: 0.0, 110610: 4.0, 497232: 0.0, 272497: 0.0, 666512: 0.0, 493065: 7.0, 326477: 0.0, 79067: 0.0, 792867: 0.0, 718595: 1.0, 745054: 0.0, 505257: 1.0, 938355: 0.0, 416278: 0.0, 551472: 0.0, 874054: 0.0, 925020: 0.0, 55410: 0.0, 342423: 0.0, 663370: 14.0, 11244: 5.0, 629919: 0.0, 615688: 0.0, 947413: 0.0, 266890: 0.0, 742390: 0.0, 938592: 0.0, 120010: 0.0, 269896: 0.0, 504545: 53.0, 594216: 0.0, 182521: 5.0, 124370: 15.0, 789896: 5.0, 824504: 9.0, 153728: 0.0, 939236: 0.0, 865563: 15.0, 412092: 2.0, 52945: 0.0, 193779: 0.0, 323325: 2.0, 437664: 2.0, 327414: 2.0, 807112: 2.0, 725842: 6.0, 100987: 1.0, 877261: 1.0, 296528: 1.0, 505115: 0.0, 892967: 5.0, 196286: 3.0, 537293: 5.0, 754377: 3.0, 525484: 5.0, 511428: 2.0, 747338: 8.0, 54673: 0.0, 848165: 0.0, 513777: 0.0, 73356: 0.0, 468348: 12.0, 403046: 5.0, 440700: 0.0, 769710: 5.0, 700021: 28.0, 469013: 0.0, 833393: 0.0, 402237: 5.0, 13445: 0.0, 6176: 0.0, 225741: 3.0, 801307: 0.0, 504034: 3.0, 902206: 0.0, 135672: 1.0, 757638: 19.0, 179562: 9.0, 156165: 14.0, 32617: 18.0, 812086: 14.0, 936530: 1.0, 500152: 6.0, 352473: 1.0, 246632: 0.0, 65107: 0.0, 805955: 2.0, 940802: 2.0, 113255: 2.0, 611423: 2.0, 480923: 0.0, 884977: 0.0, 760578: 0.0, 710101: 5.0, 443083: 9.0, 865261: 0.0, 146985: 20.0, 77546: 0.0, 187552: 0.0, 229081: 4.0, 311082: 4.0, 865955: 0.0, 757974: 1.0, 72015: 0.0, 395019: 1.0, 367149: 1.0, 149696: 14.0, 77702: 0.0, 221238: 6.0, 193224: 7.0, 675686: 2.0, 746737: 0.0, 848178: 5.0, 186935: 12.0, 295035: 3.0, 942178: 0.0, 251562: 3.0, 88183: 0.0, 279729: 0.0, 584051: 0.0, 928903: 1.0, 942548: 0.0, 920364: 0.0, 458804: 0.0, 903488: 0.0, 241793: 0.0, 728099: 23.0, 638300: 3.0, 294866: 3.0, 209294: 3.0, 466714: 28.0, 113984: 10.0, 51589: 0.0, 129776: 3.0, 761131: 4.0, 53856: 4.0, 80206: 3.0, 725192: 0.0, 463252: 18.0, 479464: 0.0, 720350: 0.0, 163987: 0.0, 380212: 0.0, 813380: 0.0, 773877: 0.0, 937850: 0.0, 740054: 0.0, 906795: 0.0, 361437: 0.0, 375248: 0.0, 870053: 0.0, 486456: 0.0, 730102: 0.0, 524679: 0.0, 371369: 3.0, 54125: 3.0, 594636: 0.0, 244471: 34.0, 142830: 0.0, 139357: 0.0, 759870: 4.0, 965602: 0.0, 850309: 0.0, 13644: 0.0, 377855: 0.0, 42201: 0.0, 942301: 0.0, 537153: 0.0, 404433: 0.0, 251734: 0.0, 13625: 25.0, 673080: 0.0, 208429: 0.0, 640959: 0.0, 340668: 0.0, 8293: 0.0, 41708: 0.0, 667766: 0.0, 855385: 1.0, 399164: 0.0, 704050: 16.0, 646049: 0.0, 418107: 1.0, 787963: 1.0, 761014: 1.0, 352271: 1.0, 513366: 0.0, 222620: 1.0, 236964: 0.0, 510049: 1.0, 759443: 4.0, 121166: 1.0, 573933: 1.0, 877914: 1.0, 291850: 0.0, 728887: 10.0, 107512: 0.0, 241577: 0.0, 191389: 0.0, 81369: 0.0, 193598: 0.0, 832654: 0.0, 663402: 0.0, 107240: 0.0, 141448: 0.0, 29462: 0.0, 29287: 0.0, 806517: 0.0, 797686: 0.0, 844782: 0.0, 810046: 0.0, 454497: 0.0, 367834: 0.0, 381756: 4.0, 732406: 4.0, 627895: 4.0, 777073: 0.0, 946176: 0.0, 448739: 0.0, 210844: 0.0, 297559: 0.0, 265614: 0.0, 494633: 4.0, 49228: 0.0, 477001: 0.0, 200377: 0.0, 149717: 0.0, 943944: 0.0, 941911: 0.0, 294514: 0.0, 8304: 0.0, 189285: 0.0, 430699: 2.0, 322286: 0.0, 16035: 0.0, 669899: 0.0, 410479: 0.0, 169488: 6.0, 489070: 1.0, 83753: 1.0, 529052: 1.0, 937197: 8.0, 696314: 5.0, 9860: 1.0, 647031: 1.0, 324981: 1.0, 913337: 1.0, 396204: 1.0, 836457: 1.0, 875778: 1.0, 735425: 1.0, 208598: 2.0, 634680: 1.0, 165002: 1.0, 313168: 1.0, 364414: 1.0, 842062: 1.0, 308860: 1.0, 296624: 1.0, 275971: 1.0, 965720: 1.0, 795523: 1.0, 519299: 3.0, 519009: 3.0, 408505: 4.0, 927128: 13.0, 52858: 1.0, 501668: 1.0, 496623: 1.0, 915558: 17.0, 698830: 0.0, 714846: 0.0, 818146: 0.0, 911978: 0.0, 232588: 0.0, 505011: 0.0, 524039: 0.0, 375138: 1.0, 842976: 0.0, 813321: 0.0, 533297: 0.0, 750162: 0.0, 855606: 3.0, 559857: 3.0, 558418: 3.0, 821446: 1.0, 926354: 1.0, 544489: 1.0, 813080: 0.0, 324412: 0.0, 50718: 0.0, 126308: 10.0, 317039: 1.0, 487487: 1.0, 250339: 0.0, 700394: 0.0, 446821: 26.0, 727078: 23.0, 363182: 1.0, 374791: 0.0, 663149: 19.0, 57587: 11.0, 259201: 0.0, 429777: 5.0, 58173: 0.0, 822188: 0.0, 639482: 1.0, 619288: 4.0, 939680: 0.0, 14336: 1.0, 770111: 0.0, 769717: 17.0, 506005: 0.0, 851291: 0.0, 915788: 28.0, 895106: 0.0, 649450: 0.0, 969105: 4.0, 61755: 3.0, 801683: 5.0, 124141: 6.0, 99981: 2.0, 85531: 2.0, 528593: 2.0, 40035: 2.0, 201342: 20.0, 80196: 7.0, 222191: 3.0, 234081: 38.0, 236634: 11.0, 960934: 0.0, 927383: 5.0, 132400: 3.0, 265442: 4.0, 83692: 6.0, 696053: 5.0, 99247: 0.0, 432780: 5.0, 257092: 5.0, 794589: 0.0, 675880: 15.0, 683497: 22.0, 454527: 14.0, 4778: 5.0, 410995: 1.0, 440589: 4.0, 879325: 1.0, 138601: 8.0, 230469: 0.0, 333063: 5.0, 626961: 25.0, 100532: 0.0, 937399: 0.0, 381513: 0.0, 560874: 0.0, 728808: 11.0, 830825: 1.0, 235372: 1.0, 154244: 5.0, 212724: 17.0, 893730: 7.0, 374048: 4.0, 405495: 4.0, 383586: 3.0, 430325: 15.0, 729623: 3.0, 233764: 6.0, 868504: 3.0, 13922: 3.0, 931626: 3.0, 771726: 4.0, 298246: 3.0, 250084: 3.0, 808470: 0.0, 423568: 3.0, 794956: 0.0, 595282: 0.0, 471190: 8.0, 127719: 0.0, 579267: 4.0, 775476: 0.0, 782132: 0.0, 549260: 0.0, 563397: 0.0, 65614: 3.0, 602879: 0.0, 563340: 5.0, 935600: 0.0, 899136: 0.0, 715667: 1.0, 950339: 0.0, 599521: 6.0, 190488: 0.0, 654965: 0.0, 689817: 7.0, 362181: 0.0, 882768: 4.0, 749829: 0.0, 636556: 10.0, 141567: 6.0, 246281: 9.0, 366044: 5.0, 50359: 6.0, 457323: 6.0, 502369: 6.0, 483575: 3.0, 187784: 3.0, 92493: 3.0, 240326: 3.0, 546768: 0.0, 283936: 0.0, 191660: 3.0, 242490: 11.0, 249273: 24.0, 838855: 16.0, 324503: 1.0, 651415: 0.0, 409676: 1.0, 815590: 1.0, 3762: 1.0, 73383: 1.0, 422708: 4.0, 469660: 3.0, 520597: 3.0, 377081: 3.0, 192454: 0.0, 294186: 0.0, 103491: 0.0, 812467: 4.0, 507051: 2.0, 314925: 0.0, 408056: 4.0, 279538: 0.0, 507041: 5.0, 812539: 0.0, 366496: 0.0, 229848: 4.0, 521169: 14.0, 430690: 7.0, 608201: 24.0, 227058: 0.0, 695853: 0.0, 926297: 0.0, 550545: 8.0, 521895: 0.0, 671867: 0.0, 436087: 1.0, 454321: 0.0, 826545: 0.0, 353144: 0.0, 650788: 13.0, 215426: 3.0, 383272: 6.0, 885314: 5.0, 623217: 3.0, 564123: 3.0, 838229: 4.0, 588156: 10.0, 635869: 10.0, 703344: 17.0, 498065: 5.0, 480791: 3.0, 882445: 9.0, 318448: 3.0, 53061: 5.0, 656029: 5.0, 305652: 4.0, 899411: 4.0, 805448: 4.0, 679840: 4.0, 344918: 4.0, 870774: 3.0, 370513: 0.0, 8628: 0.0, 721438: 3.0, 635218: 8.0, 360846: 2.0, 54792: 1.0, 618653: 3.0, 472020: 4.0, 801211: 2.0, 915490: 2.0, 663100: 25.0, 103426: 5.0, 254099: 10.0, 183845: 5.0, 731160: 3.0, 852150: 0.0, 248810: 0.0, 42065: 3.0, 563460: 4.0, 394159: 0.0, 750215: 7.0, 279604: 3.0, 830727: 10.0, 442904: 5.0, 907601: 8.0, 925469: 5.0, 369238: 0.0, 337458: 0.0, 361285: 0.0, 837248: 0.0, 279995: 0.0, 444134: 0.0, 855224: 0.0, 132502: 0.0, 311489: 0.0, 738398: 0.0, 668087: 3.0, 14567: 0.0, 611096: 5.0, 624043: 1.0, 892018: 2.0, 423763: 5.0, 485790: 0.0, 557374: 3.0, 642787: 12.0, 763084: 0.0, 466406: 0.0, 114843: 1.0, 131221: 13.0, 648537: 6.0, 564760: 8.0, 319390: 30.0, 465131: 1.0, 548158: 0.0, 473086: 0.0, 761740: 8.0, 820942: 33.0, 251188: 13.0, 165980: 1.0, 464025: 6.0, 196170: 1.0, 98503: 0.0, 859697: 0.0, 941541: 7.0, 312817: 3.0, 540788: 5.0, 341760: 5.0, 266946: 5.0, 475047: 5.0, 650921: 5.0, 50979: 0.0, 62544: 1.0, 444832: 1.0, 282725: 9.0, 26514: 9.0, 791812: 0.0, 270789: 18.0, 24065: 69.0, 816716: 39.0, 496928: 9.0, 121476: 5.0, 315115: 17.0, 417665: 40.0, 751814: 5.0, 455416: 5.0, 393189: 10.0, 88801: 1.0, 721349: 1.0, 54836: 1.0, 961995: 1.0, 77536: 1.0, 828945: 6.0, 661085: 1.0, 966955: 1.0, 279852: 5.0, 563823: 2.0, 375154: 1.0, 968393: 1.0, 729332: 15.0, 53734: 8.0, 643794: 2.0, 90806: 35.0, 500745: 11.0, 614359: 1.0, 30409: 1.0, 364624: 1.0, 634882: 1.0, 512645: 4.0, 229410: 5.0, 390432: 4.0, 340974: 14.0, 417036: 1.0, 475686: 0.0, 608665: 0.0, 655859: 8.0, 421368: 0.0, 453521: 6.0, 368894: 5.0, 463980: 8.0, 324911: 1.0, 709954: 8.0, 545734: 0.0, 194754: 6.0, 346494: 0.0, 110558: 9.0, 211803: 3.0, 903560: 1.0, 636818: 23.0, 437111: 5.0, 481526: 0.0, 659808: 2.0, 552387: 1.0, 752463: 4.0, 547025: 25.0, 516619: 5.0, 797344: 0.0, 581883: 10.0, 344295: 3.0, 309679: 9.0, 398387: 11.0, 594448: 1.0, 46774: 8.0, 120601: 7.0, 631475: 6.0, 448682: 3.0, 809765: 33.0, 11232: 0.0, 619534: 0.0, 80633: 19.0, 458168: 7.0, 475945: 0.0, 401402: 0.0, 788539: 0.0, 638079: 0.0, 779801: 0.0, 353362: 0.0, 208099: 0.0, 122956: 0.0, 129360: 4.0, 138672: 4.0, 71541: 8.0, 256510: 4.0, 747860: 11.0, 665459: 9.0, 261136: 4.0, 314743: 10.0, 274728: 3.0, 610820: 3.0, 428233: 3.0, 802938: 0.0, 55692: 0.0, 408709: 0.0, 686409: 6.0, 818514: 7.0, 165895: 5.0, 428019: 15.0, 661282: 6.0, 939808: 3.0, 605901: 3.0, 347285: 8.0, 768048: 8.0, 162927: 17.0, 313555: 10.0, 257192: 3.0, 846748: 0.0, 304900: 0.0, 831231: 3.0, 217123: 4.0, 729862: 3.0, 92556: 6.0, 538949: 2.0, 840755: 0.0, 808627: 0.0, 641581: 1.0, 162785: 8.0, 259837: 7.0, 238452: 6.0, 325085: 6.0, 703028: 10.0, 153371: 9.0, 576546: 4.0, 862811: 8.0, 246819: 4.0, 886206: 4.0, 506106: 7.0, 875255: 8.0, 675632: 4.0, 76818: 4.0, 374420: 4.0, 833894: 17.0, 55876: 11.0, 367562: 3.0, 364147: 3.0, 799292: 3.0, 967115: 5.0, 881595: 3.0, 783024: 3.0, 622771: 3.0, 386561: 3.0, 274278: 3.0, 290302: 3.0, 646862: 3.0, 522822: 3.0, 604669: 3.0, 41413: 7.0, 670302: 3.0, 29146: 3.0, 396818: 17.0, 5023: 31.0, 259015: 6.0, 628679: 0.0, 501654: 19.0, 215036: 0.0, 391378: 0.0, 709190: 0.0, 798762: 0.0, 390898: 3.0, 530581: 2.0, 202840: 20.0, 890948: 5.0, 847356: 13.0, 585849: 3.0, 207268: 11.0, 161451: 9.0, 514459: 21.0, 470909: 3.0, 320331: 17.0, 836875: 13.0, 740439: 6.0, 150259: 9.0, 575975: 3.0, 751679: 3.0, 474547: 3.0, 758153: 1.0, 897958: 9.0, 553526: 10.0, 44184: 9.0, 496704: 1.0, 956517: 5.0, 226860: 4.0, 682673: 4.0, 240661: 36.0, 957631: 0.0, 294284: 0.0, 916284: 15.0, 841497: 5.0, 158255: 0.0, 652883: 2.0, 209203: 0.0, 785586: 1.0, 736678: 12.0, 638446: 0.0, 740046: 4.0, 717030: 0.0, 686927: 0.0, 816178: 0.0, 650672: 0.0, 76689: 5.0, 449489: 0.0, 917393: 0.0, 575509: 4.0, 102194: 10.0, 541905: 18.0, 673750: 0.0, 166756: 1.0, 255557: 2.0, 528377: 2.0, 77979: 0.0, 63183: 0.0, 114309: 6.0, 331832: 4.0, 654404: 4.0, 735193: 11.0, 957322: 2.0, 239801: 31.0, 592711: 18.0, 607201: 0.0, 474084: 0.0, 420581: 0.0, 513562: 1.0, 384838: 0.0, 253702: 0.0, 556716: 0.0, 271488: 0.0, 135920: 0.0, 51581: 0.0, 34867: 0.0, 758439: 6.0, 629144: 0.0, 19002: 0.0, 286462: 4.0, 970143: 15.0, 159210: 10.0, 249260: 21.0, 661238: 0.0, 548854: 1.0, 648764: 3.0, 416338: 2.0, 365686: 3.0, 379163: 5.0, 256649: 1.0, 281106: 1.0, 369704: 4.0, 373304: 1.0, 917081: 1.0, 104227: 3.0, 366318: 6.0, 227874: 4.0, 830737: 8.0, 882628: 8.0, 267698: 2.0, 664330: 4.0, 417424: 0.0, 251421: 0.0, 62299: 6.0, 373756: 5.0, 541320: 1.0, 859911: 0.0, 566672: 1.0, 82991: 0.0, 733194: 3.0, 630807: 0.0, 725287: 6.0, 25675: 4.0, 833202: 5.0, 766106: 0.0, 215509: 1.0, 72898: 9.0, 732343: 11.0, 189316: 12.0, 2444: 0.0, 36092: 3.0, 931377: 3.0, 354640: 3.0, 168495: 0.0, 947277: 0.0, 610700: 0.0, 59214: 5.0, 719016: 0.0, 868623: 30.0, 831473: 5.0, 891925: 0.0, 947725: 4.0, 907473: 4.0, 380729: 8.0, 965898: 4.0, 159122: 3.0, 822172: 2.0, 744883: 7.0, 552820: 8.0, 644483: 20.0, 553911: 21.0, 834767: 0.0, 856849: 0.0, 159038: 0.0, 665228: 0.0, 213309: 0.0, 744104: 3.0, 425453: 0.0, 722912: 5.0, 845933: 3.0, 852533: 0.0, 676624: 32.0, 942112: 4.0, 853792: 14.0, 764721: 3.0, 168035: 0.0, 858010: 11.0, 644463: 30.0, 390902: 3.0, 582619: 0.0, 889286: 40.0, 18373: 0.0, 947429: 5.0, 263834: 11.0, 62912: 0.0, 115163: 5.0, 348700: 0.0, 41513: 0.0, 122834: 1.0, 294031: 0.0, 732498: 6.0, 653293: 22.0, 625398: 7.0, 669933: 5.0, 907909: 5.0, 360874: 0.0, 29197: 41.0, 552274: 0.0, 580461: 0.0, 423384: 0.0, 2543: 3.0, 33659: 0.0, 596032: 0.0, 56030: 0.0, 807031: 4.0, 558792: 6.0, 278610: 11.0, 305559: 5.0, 675920: 9.0, 385462: 3.0, 648133: 3.0, 141829: 6.0, 659877: 7.0, 672730: 1.0, 458608: 1.0, 327170: 1.0, 80175: 0.0, 824322: 0.0, 24348: 16.0, 433055: 12.0, 247916: 0.0, 183462: 0.0, 741615: 0.0, 695847: 3.0, 373797: 8.0, 514504: 4.0, 721620: 8.0, 730114: 3.0, 140109: 6.0, 759497: 2.0, 958976: 0.0, 188060: 9.0, 236339: 0.0, 490619: 30.0, 136568: 0.0, 21927: 0.0, 576564: 0.0, 758000: 0.0, 614722: 0.0, 876611: 0.0, 295983: 0.0, 431664: 0.0, 814952: 0.0, 270348: 11.0, 234991: 1.0, 491348: 1.0, 881867: 1.0, 766888: 4.0, 661438: 1.0, 258467: 1.0, 926364: 1.0, 787390: 8.0, 920723: 9.0, 348843: 0.0, 952586: 2.0, 948970: 0.0, 125916: 10.0, 431691: 1.0, 766374: 3.0, 634528: 4.0, 126336: 0.0, 371162: 0.0, 170148: 0.0, 69729: 0.0, 960676: 1.0, 9580: 2.0, 807741: 0.0, 151194: 5.0, 195153: 0.0, 561859: 0.0, 503792: 10.0, 764092: 4.0, 281377: 1.0, 532727: 0.0, 199093: 13.0, 708: 0.0, 613333: 5.0, 323271: 0.0, 762753: 0.0, 823097: 0.0, 874162: 1.0, 46808: 2.0, 579540: 0.0, 707189: 0.0, 187516: 4.0, 249238: 3.0, 106073: 0.0, 560006: 18.0, 172458: 5.0, 965674: 4.0, 837160: 4.0, 467209: 1.0, 737334: 1.0, 377829: 0.0, 707806: 0.0, 367885: 4.0, 153532: 0.0, 387358: 5.0, 517688: 5.0, 268057: 4.0, 161264: 3.0, 397095: 4.0, 431026: 3.0, 819193: 0.0, 814300: 15.0, 884404: 0.0, 674777: 0.0, 11649: 0.0, 597849: 0.0, 108520: 0.0, 824309: 0.0, 954977: 0.0, 44079: 13.0, 272351: 4.0, 499781: 0.0, 663273: 0.0, 594758: 0.0, 843763: 0.0, 244908: 7.0, 808299: 0.0, 919182: 2.0, 277004: 2.0, 266899: 2.0, 935947: 2.0, 642995: 2.0, 640267: 2.0, 594309: 2.0, 19438: 2.0, 667719: 13.0, 382385: 0.0, 516205: 0.0, 60529: 0.0, 109943: 0.0, 785335: 4.0, 261078: 1.0, 60540: 1.0, 334899: 5.0, 909685: 5.0, 429906: 9.0, 412224: 0.0, 83123: 1.0, 111729: 1.0, 499769: 1.0, 170311: 0.0, 406924: 0.0, 194737: 2.0, 626792: 0.0, 332555: 0.0, 657019: 1.0, 150240: 0.0, 655262: 5.0, 214660: 0.0, 232781: 0.0, 504776: 5.0, 200881: 0.0, 781488: 0.0, 494750: 0.0, 187562: 0.0, 692290: 0.0, 211781: 0.0, 631529: 1.0, 5540: 0.0, 311612: 6.0, 371900: 0.0, 497653: 0.0, 114862: 0.0, 534994: 0.0, 274830: 0.0, 157045: 0.0, 680472: 3.0, 714995: 1.0, 215083: 0.0, 367134: 0.0, 49354: 0.0, 966428: 0.0, 914745: 3.0, 905481: 0.0, 367301: 0.0, 256401: 12.0, 520416: 0.0, 854803: 0.0, 964404: 0.0, 958754: 0.0, 122566: 6.0, 110014: 0.0, 742256: 0.0, 553539: 1.0, 368754: 0.0, 278884: 5.0, 163460: 4.0, 665278: 0.0, 459501: 3.0, 426388: 2.0, 539086: 0.0, 313140: 0.0, 68148: 0.0, 781564: 1.0, 870406: 0.0, 766357: 0.0, 548540: 3.0, 618267: 1.0, 852597: 0.0, 379344: 0.0, 836182: 3.0, 200413: 0.0, 108678: 0.0, 771657: 1.0, 474979: 2.0, 110835: 0.0, 415804: 0.0, 353117: 0.0, 264540: 3.0, 557875: 0.0, 967099: 4.0, 235661: 0.0, 630512: 0.0, 509873: 0.0, 107036: 5.0, 786608: 5.0, 691242: 4.0, 845078: 11.0, 427871: 8.0, 284565: 6.0, 47174: 5.0, 149345: 4.0, 165275: 10.0, 664175: 0.0, 460727: 5.0, 470648: 9.0, 133151: 7.0, 28366: 4.0, 809933: 4.0, 35724: 0.0, 865907: 4.0, 230047: 0.0, 634107: 0.0, 252448: 0.0, 710164: 2.0, 640932: 0.0, 645725: 2.0, 824388: 3.0, 280616: 0.0, 33516: 0.0, 921475: 0.0, 370710: 0.0, 854607: 0.0, 489314: 5.0, 569421: 0.0, 212359: 3.0, 412184: 6.0, 362008: 5.0, 57379: 4.0, 731636: 6.0, 212772: 0.0, 696697: 9.0, 806878: 3.0, 197443: 5.0, 795209: 4.0, 115087: 0.0, 337932: 0.0, 731419: 5.0, 462591: 2.0, 529404: 0.0, 225891: 0.0, 741389: 0.0, 957327: 0.0, 219874: 0.0, 608811: 4.0, 78504: 2.0, 155851: 0.0, 310842: 5.0, 116683: 0.0, 601997: 11.0, 775330: 2.0, 729884: 1.0, 472597: 1.0, 369709: 2.0, 7613: 3.0, 681317: 0.0, 893134: 4.0, 625728: 0.0, 335785: 8.0, 215401: 4.0, 578527: 2.0, 925988: 6.0, 811200: 1.0, 668606: 6.0, 958730: 0.0, 758841: 9.0, 369162: 8.0, 530579: 8.0, 676448: 6.0, 479568: 3.0, 380512: 7.0, 554276: 2.0, 849407: 8.0, 247800: 1.0, 698055: 1.0, 669016: 2.0, 797760: 3.0, 604600: 22.0, 560871: 4.0, 907261: 4.0, 203253: 1.0, 707764: 1.0, 389913: 1.0, 16698: 10.0, 212171: 1.0, 247814: 5.0, 332915: 1.0, 74209: 1.0, 567476: 11.0, 382275: 1.0, 721042: 1.0, 660584: 1.0, 702895: 1.0, 179800: 1.0, 144239: 6.0, 226128: 1.0, 517405: 1.0, 418424: 1.0, 509961: 1.0, 231476: 1.0, 808755: 15.0, 116311: 7.0, 775957: 0.0, 200476: 1.0, 50954: 5.0, 733597: 0.0, 513582: 0.0, 897581: 19.0, 730504: 0.0, 939623: 0.0, 865044: 9.0, 413704: 10.0, 658413: 3.0, 970001: 1.0, 768330: 4.0, 537542: 3.0, 151896: 3.0, 194672: 3.0, 5651: 4.0, 64031: 4.0, 411167: 0.0, 874457: 5.0, 863920: 1.0, 951996: 13.0, 479987: 5.0, 379760: 1.0, 595528: 0.0, 428024: 4.0, 279042: 3.0, 266978: 9.0, 724355: 10.0, 338245: 0.0, 298816: 0.0, 598030: 6.0, 30699: 0.0, 622285: 0.0, 782064: 3.0, 772300: 0.0, 159686: 3.0, 296917: 7.0, 447691: 2.0, 941802: 7.0, 590255: 0.0, 583084: 53.0, 707085: 9.0, 431573: 0.0, 693181: 0.0, 118173: 1.0, 19041: 1.0, 831019: 1.0, 641913: 1.0, 160291: 29.0, 128792: 8.0, 877879: 5.0, 703744: 7.0, 183429: 10.0, 283793: 3.0, 451470: 3.0, 436263: 0.0, 159336: 5.0, 938461: 5.0, 651091: 5.0, 64074: 5.0, 706521: 11.0, 359646: 20.0, 478378: 5.0, 123547: 10.0, 865365: 3.0, 678628: 3.0, 746768: 3.0, 300046: 6.0, 483636: 3.0, 137374: 6.0, 309930: 4.0, 678127: 8.0, 673253: 2.0, 515522: 2.0, 359783: 7.0, 362148: 2.0, 488591: 2.0, 916731: 5.0, 274941: 1.0, 872689: 2.0, 471174: 2.0, 405151: 2.0, 52544: 2.0, 412203: 2.0, 90088: 2.0, 309411: 2.0, 672651: 1.0, 751678: 1.0, 780948: 0.0, 68799: 6.0, 638263: 3.0, 252421: 20.0, 882432: 10.0, 485658: 12.0, 259186: 4.0, 714232: 3.0, 527145: 0.0, 601723: 0.0, 248998: 0.0, 617340: 0.0, 106307: 0.0, 924027: 0.0, 912359: 0.0, 381177: 1.0, 401526: 2.0, 427791: 5.0, 192396: 8.0, 900739: 4.0, 249430: 4.0, 593258: 3.0, 101341: 8.0, 357214: 2.0, 835178: 3.0, 772996: 3.0, 836608: 10.0, 368090: 8.0, 893013: 4.0, 671279: 4.0, 36195: 5.0, 454673: 0.0, 510849: 3.0, 715353: 0.0, 832227: 0.0, 36028: 3.0, 520146: 8.0, 888145: 2.0, 94601: 2.0, 57851: 2.0, 159533: 2.0, 498028: 2.0, 928161: 1.0, 923345: 1.0, 107145: 7.0, 904704: 11.0, 534502: 0.0, 99248: 0.0, 335226: 5.0, 124516: 3.0, 326743: 5.0, 801597: 0.0, 438643: 2.0, 751713: 4.0, 817346: 0.0, 766596: 9.0, 439037: 6.0, 526601: 1.0, 451148: 1.0, 722720: 1.0, 177945: 1.0, 399674: 1.0, 49267: 1.0, 683156: 1.0, 510275: 1.0, 773746: 1.0, 630182: 0.0, 803621: 0.0, 782578: 0.0, 79986: 0.0, 859443: 0.0, 513604: 3.0, 659141: 0.0, 780625: 0.0, 752033: 0.0, 302417: 0.0, 432476: 0.0, 407537: 0.0, 408826: 0.0, 108525: 0.0, 564635: 0.0, 502907: 0.0, 667834: 0.0, 639986: 0.0, 684881: 0.0, 888073: 0.0, 155844: 0.0, 34399: 0.0, 406126: 0.0, 57471: 0.0, 240485: 0.0, 778541: 0.0, 600216: 0.0, 898545: 0.0, 371387: 0.0, 489555: 0.0, 30585: 0.0, 17782: 9.0, 152965: 8.0, 822010: 3.0, 106153: 1.0, 900560: 4.0, 515493: 4.0, 176938: 4.0, 917073: 5.0, 712705: 3.0, 274445: 4.0, 724007: 4.0, 565037: 3.0, 320593: 0.0, 590450: 0.0, 720703: 8.0, 239346: 1.0, 521243: 4.0, 143183: 0.0, 415795: 5.0, 703856: 0.0, 681911: 2.0, 150030: 0.0, 789576: 0.0, 592691: 5.0, 227357: 0.0, 470480: 0.0, 909127: 3.0, 566528: 0.0, 311802: 0.0, 214424: 0.0, 336911: 0.0, 573787: 14.0, 927744: 5.0, 341047: 5.0, 422022: 3.0, 891811: 1.0, 85083: 3.0, 134304: 0.0, 725754: 0.0, 798054: 0.0, 592736: 0.0, 688793: 0.0, 249051: 3.0, 429897: 1.0, 577335: 1.0, 45252: 1.0, 541932: 0.0, 148127: 0.0, 918184: 5.0, 415767: 9.0, 21834: 0.0, 376322: 0.0, 125616: 4.0, 743256: 0.0, 723497: 1.0, 471855: 6.0, 700459: 5.0, 796920: 7.0, 945013: 1.0, 279672: 3.0, 726486: 1.0, 697670: 16.0, 163129: 1.0, 815288: 1.0, 921472: 1.0, 727905: 4.0, 887283: 0.0, 587077: 4.0, 882222: 0.0, 67551: 1.0, 112513: 0.0, 209850: 9.0, 220859: 18.0, 248671: 0.0, 953221: 0.0, 237161: 0.0, 372694: 0.0, 207878: 5.0, 594742: 5.0, 387038: 0.0, 703315: 7.0, 519594: 0.0, 679142: 0.0, 372591: 6.0, 475921: 27.0, 383020: 3.0, 128328: 3.0, 412502: 4.0, 615806: 3.0, 648191: 3.0, 124832: 7.0, 506227: 0.0, 633841: 0.0, 377545: 0.0, 935915: 2.0, 600230: 6.0, 511411: 3.0, 63007: 0.0, 163476: 3.0, 251966: 1.0, 426668: 4.0, 623574: 0.0, 12873: 3.0, 589201: 3.0, 346084: 8.0, 272000: 0.0, 607804: 5.0, 10100: 2.0, 718374: 2.0, 405782: 2.0, 646187: 5.0, 280084: 2.0, 626070: 2.0, 587646: 0.0, 859826: 5.0, 489579: 0.0, 583685: 0.0, 24374: 0.0, 293684: 1.0, 146979: 1.0, 25198: 1.0, 165125: 10.0, 151458: 1.0, 660510: 3.0, 773401: 8.0, 921178: 0.0, 377725: 1.0, 146252: 4.0, 943915: 15.0, 950695: 3.0, 421556: 3.0, 19534: 1.0, 36093: 1.0, 600443: 1.0, 845366: 1.0, 421026: 0.0, 411072: 0.0, 560933: 0.0, 744083: 0.0, 69351: 0.0, 784869: 4.0, 367714: 5.0, 636612: 0.0, 414210: 4.0, 724967: 0.0, 965046: 0.0, 390951: 0.0, 787775: 0.0, 794138: 0.0, 874021: 0.0, 818304: 0.0, 380979: 0.0, 316547: 0.0, 662459: 0.0, 846296: 0.0, 90732: 0.0, 156576: 7.0, 678838: 0.0, 124047: 1.0, 704748: 1.0, 338832: 6.0, 121954: 1.0, 815013: 4.0, 573052: 2.0, 400849: 1.0, 708013: 1.0, 782025: 37.0, 324938: 5.0, 183663: 6.0, 365749: 22.0, 387604: 0.0, 100651: 0.0, 737238: 0.0, 966426: 3.0, 858620: 4.0, 738724: 0.0, 167637: 1.0, 275966: 5.0, 800255: 5.0, 243836: 8.0, 813949: 0.0, 729476: 2.0, 906408: 9.0, 263098: 0.0, 737200: 0.0, 267162: 13.0, 125848: 5.0, 287057: 18.0, 530767: 5.0, 889789: 4.0, 623996: 4.0, 260125: 10.0, 889310: 4.0, 264690: 3.0, 210154: 4.0, 76834: 3.0, 356997: 18.0, 873454: 3.0, 334978: 4.0, 1979: 3.0, 363925: 3.0, 688532: 3.0, 551568: 2.0, 329720: 2.0, 250789: 0.0, 176143: 1.0, 548098: 0.0, 732732: 0.0, 737008: 0.0, 537567: 0.0, 509070: 0.0, 766317: 0.0, 313881: 0.0, 338073: 3.0, 845131: 0.0, 716373: 0.0, 616560: 0.0, 268401: 0.0, 260078: 3.0, 657967: 8.0, 500849: 3.0, 426369: 5.0, 637477: 11.0, 892002: 0.0, 131278: 0.0, 832845: 5.0, 781637: 5.0, 239784: 1.0, 398723: 0.0, 11662: 0.0, 489620: 2.0, 91064: 0.0, 620450: 0.0, 646367: 0.0, 389989: 8.0, 123735: 9.0, 175754: 4.0, 611855: 5.0, 383219: 5.0, 759958: 5.0, 929350: 4.0, 952690: 4.0, 929210: 4.0, 603723: 5.0, 209277: 5.0, 352662: 5.0, 495137: 5.0, 765403: 11.0, 735162: 8.0, 433572: 0.0, 590430: 0.0, 147776: 0.0, 295782: 0.0, 708015: 24.0, 754204: 3.0, 499388: 3.0, 863604: 3.0, 946264: 3.0, 395290: 5.0, 776621: 0.0, 90811: 4.0, 577689: 3.0, 893946: 0.0, 266583: 0.0, 266994: 0.0, 329532: 5.0, 536759: 35.0, 617952: 0.0, 139537: 0.0, 113535: 2.0, 440109: 12.0, 86119: 1.0, 478851: 9.0, 541452: 3.0, 13042: 12.0, 548701: 4.0, 765016: 0.0, 516957: 5.0, 417315: 2.0, 820686: 6.0, 865043: 0.0, 193365: 1.0, 42328: 1.0, 127809: 1.0, 10255: 1.0, 878688: 1.0, 89034: 1.0, 69709: 1.0, 403645: 1.0, 369076: 1.0, 436968: 9.0, 226567: 1.0, 324808: 1.0, 876992: 1.0, 618859: 1.0, 473440: 1.0, 646394: 1.0, 338157: 1.0, 556380: 1.0, 620201: 1.0, 390444: 1.0, 848608: 1.0, 134781: 0.0, 439894: 3.0, 910241: 12.0, 149023: 1.0, 96998: 1.0, 399945: 1.0, 576397: 1.0, 885304: 1.0, 425863: 1.0, 288544: 1.0, 288493: 1.0, 58062: 1.0, 269883: 1.0, 776043: 1.0, 615152: 3.0, 763602: 10.0, 881241: 1.0, 36340: 1.0, 154199: 1.0, 153086: 1.0, 440526: 1.0, 736991: 1.0, 7760: 1.0, 937037: 1.0, 344714: 1.0, 187515: 1.0, 375982: 1.0, 50380: 2.0, 196456: 2.0, 897756: 1.0, 577184: 1.0, 582543: 0.0, 51024: 23.0, 917396: 2.0, 732778: 5.0, 791169: 2.0, 783632: 0.0, 644052: 0.0, 445375: 0.0, 278784: 0.0, 772520: 0.0, 438479: 5.0, 414101: 0.0, 450204: 0.0, 301651: 5.0, 460022: 0.0, 666237: 0.0, 195291: 0.0, 146568: 0.0, 759355: 0.0, 473594: 0.0, 907894: 0.0, 307921: 0.0, 964036: 7.0, 691691: 0.0, 431355: 5.0, 842317: 3.0, 906984: 0.0, 12540: 0.0, 684311: 12.0, 8645: 6.0, 927202: 0.0, 406463: 0.0, 195078: 0.0, 866297: 0.0, 51044: 1.0, 558380: 0.0, 799626: 0.0, 922921: 0.0, 719414: 1.0, 281095: 13.0, 348611: 6.0, 74792: 3.0, 443447: 3.0, 52820: 3.0, 303653: 0.0, 943908: 4.0, 148154: 15.0, 310246: 4.0, 908108: 6.0, 341271: 2.0, 588373: 4.0, 702748: 0.0, 543993: 0.0, 85465: 2.0, 809558: 4.0, 489610: 0.0, 550080: 0.0, 332208: 0.0, 235234: 0.0, 476954: 3.0, 745437: 5.0, 611460: 4.0, 399855: 13.0, 679470: 1.0, 717587: 6.0, 474032: 7.0, 545967: 0.0, 876592: 1.0, 526563: 3.0, 752999: 0.0, 356672: 8.0, 450475: 5.0, 691628: 0.0, 687844: 0.0, 393758: 15.0, 586561: 7.0, 855247: 2.0, 813358: 3.0, 621533: 3.0, 924016: 0.0, 700258: 12.0, 611886: 4.0, 919793: 2.0, 548301: 1.0, 123741: 1.0, 246158: 0.0, 244734: 1.0, 825638: 1.0, 101034: 0.0, 651213: 2.0, 108223: 0.0, 729845: 7.0, 840174: 8.0, 921522: 0.0, 604756: 5.0, 838736: 0.0, 283586: 8.0, 911142: 0.0, 96501: 0.0, 108299: 0.0, 679603: 12.0, 267418: 4.0, 260223: 3.0, 394187: 1.0, 325202: 7.0, 448330: 10.0, 197469: 0.0, 922734: 0.0, 322020: 6.0, 414226: 4.0, 860489: 0.0, 758852: 0.0, 58840: 0.0, 375369: 0.0, 947367: 5.0, 859112: 0.0, 630568: 0.0, 782983: 0.0, 233508: 0.0, 119447: 1.0, 768998: 10.0, 306241: 8.0, 225616: 9.0, 739537: 6.0, 301177: 2.0, 648462: 2.0, 576225: 2.0, 249083: 8.0, 164122: 7.0, 420498: 4.0, 863348: 4.0, 660556: 18.0, 786351: 10.0, 301474: 4.0, 353508: 4.0, 39963: 4.0, 620226: 3.0, 74026: 3.0, 224121: 3.0, 135450: 3.0, 88341: 3.0, 286828: 7.0, 444301: 3.0, 661211: 3.0, 766004: 3.0, 248086: 12.0, 308692: 3.0, 220711: 2.0, 614762: 2.0, 435949: 2.0, 25901: 1.0, 877714: 1.0, 820975: 5.0, 829987: 5.0, 661705: 4.0, 784526: 4.0, 481071: 4.0, 9017: 4.0, 482017: 4.0, 377132: 4.0, 24675: 3.0, 36497: 9.0, 521323: 10.0, 424601: 5.0, 200462: 3.0, 469047: 0.0, 953975: 1.0, 526072: 1.0, 301966: 1.0, 634213: 0.0, 624419: 0.0, 352919: 3.0, 87501: 0.0, 728205: 3.0, 166842: 2.0, 883529: 0.0, 655284: 0.0, 672380: 4.0, 943245: 0.0, 935766: 0.0, 554006: 1.0, 433300: 1.0, 843435: 1.0, 370418: 7.0, 672195: 3.0, 191184: 6.0, 278852: 0.0, 268577: 1.0, 807415: 0.0, 533537: 0.0, 531556: 9.0, 511559: 6.0, 416466: 0.0, 949497: 13.0, 191813: 4.0, 723637: 0.0, 859979: 0.0, 43153: 10.0, 594881: 3.0, 279695: 0.0, 20663: 3.0, 61071: 1.0, 469415: 17.0, 164746: 0.0, 968951: 6.0, 754250: 4.0, 301239: 6.0, 918568: 1.0, 33012: 0.0, 204116: 9.0, 25972: 9.0, 112269: 29.0, 840723: 8.0, 719686: 3.0, 564023: 3.0, 656101: 3.0, 363634: 3.0, 70415: 3.0, 520991: 3.0, 544115: 6.0, 52340: 2.0, 513008: 5.0, 929137: 0.0, 498363: 1.0, 304872: 1.0, 584292: 1.0, 444683: 1.0, 690635: 1.0, 952102: 1.0, 808404: 1.0, 24853: 1.0, 25916: 2.0, 948032: 1.0, 411443: 1.0, 754272: 0.0, 272591: 0.0, 898633: 0.0, 355494: 0.0, 797826: 0.0, 888901: 0.0, 146535: 9.0, 440943: 1.0, 149121: 1.0, 905270: 1.0, 199864: 1.0, 857838: 17.0, 188054: 0.0, 92481: 0.0, 428863: 0.0, 26602: 0.0, 421300: 5.0, 533787: 0.0, 919976: 1.0, 482138: 1.0, 750024: 1.0, 85082: 3.0, 92949: 1.0, 376562: 0.0, 242556: 4.0, 745903: 0.0, 159006: 0.0, 910951: 0.0, 864844: 26.0, 349765: 4.0, 790748: 3.0, 313474: 4.0, 211036: 2.0, 582165: 2.0, 190085: 4.0, 644455: 4.0, 483929: 4.0, 895934: 8.0, 838399: 4.0, 844804: 3.0, 208254: 3.0, 21816: 3.0, 238879: 3.0, 718527: 2.0, 807845: 1.0, 197770: 11.0, 285050: 3.0, 515114: 0.0, 120382: 0.0, 230610: 1.0, 181264: 1.0, 797170: 2.0, 20972: 3.0, 559883: 11.0, 815683: 0.0, 817231: 0.0, 676814: 0.0, 746605: 0.0, 72684: 0.0, 17663: 0.0, 40474: 0.0, 572903: 0.0, 572663: 0.0, 436017: 5.0, 867539: 0.0, 289661: 0.0, 787608: 7.0, 281801: 0.0, 581942: 6.0, 385973: 0.0, 862812: 0.0, 701897: 0.0, 281267: 0.0, 448997: 4.0, 175652: 0.0, 858495: 3.0, 763780: 3.0, 61855: 3.0, 383028: 2.0, 165366: 2.0, 623126: 1.0, 120403: 5.0, 61960: 3.0, 55814: 9.0, 7624: 1.0, 783674: 5.0, 225377: 5.0, 499189: 3.0, 709952: 5.0, 846479: 0.0, 779684: 5.0, 630076: 1.0, 182542: 11.0, 906834: 2.0, 504398: 2.0, 687957: 2.0, 617274: 1.0, 782009: 0.0, 66199: 2.0, 523401: 6.0, 16722: 0.0, 639078: 8.0, 391298: 5.0, 38196: 0.0, 305287: 4.0, 128372: 10.0, 622397: 4.0, 818066: 3.0, 557493: 13.0, 646531: 3.0, 296752: 1.0, 79841: 5.0, 131174: 1.0, 336283: 0.0, 496822: 1.0, 945233: 1.0, 2371: 0.0, 871407: 0.0, 101254: 0.0, 48131: 0.0, 714057: 0.0, 127976: 2.0, 869046: 2.0, 8275: 2.0, 637621: 0.0, 782196: 10.0, 775363: 2.0, 636093: 1.0, 949137: 7.0, 193166: 1.0, 708311: 1.0, 661226: 1.0, 250390: 1.0, 260736: 1.0, 906401: 1.0, 437117: 1.0, 730561: 9.0, 669870: 0.0, 785474: 0.0, 486203: 5.0, 712410: 4.0, 135999: 4.0, 62496: 4.0, 21932: 4.0, 251296: 0.0, 142170: 0.0, 692131: 0.0, 113627: 0.0, 450380: 0.0, 204489: 0.0, 746004: 0.0, 532978: 5.0, 23196: 5.0, 671860: 0.0, 746370: 0.0, 172249: 5.0, 573842: 0.0, 156420: 3.0, 825518: 4.0, 677701: 1.0, 409945: 0.0, 245342: 0.0, 694698: 0.0, 510884: 0.0, 172855: 0.0, 429120: 0.0, 817345: 1.0, 86260: 0.0, 454423: 5.0, 407240: 4.0, 831637: 3.0, 118989: 3.0, 25229: 2.0, 191204: 2.0, 527407: 0.0, 219750: 0.0, 957568: 3.0, 644312: 3.0, 660447: 0.0, 816095: 5.0, 374352: 3.0, 215755: 0.0, 392605: 0.0, 519653: 0.0, 63174: 0.0, 886878: 0.0, 761996: 0.0, 540483: 0.0, 253093: 5.0, 877360: 3.0, 740400: 0.0, 288183: 0.0, 777227: 0.0, 69936: 0.0, 453802: 0.0, 752739: 0.0, 152354: 0.0, 401155: 0.0, 602532: 0.0, 337666: 0.0, 285305: 0.0, 641563: 8.0, 759543: 0.0, 724884: 1.0, 742799: 0.0, 836104: 1.0, 352229: 0.0, 912471: 0.0, 682191: 7.0, 31640: 12.0, 430362: 4.0, 786963: 10.0, 418960: 0.0, 343005: 0.0, 272251: 0.0, 259923: 0.0, 246654: 0.0, 385322: 0.0, 119883: 10.0, 754253: 1.0, 818208: 10.0, 280571: 0.0, 513325: 3.0, 716366: 12.0, 667213: 8.0, 699803: 0.0, 191306: 1.0, 537829: 6.0, 642839: 5.0, 939415: 19.0, 534040: 1.0, 892132: 7.0, 314632: 9.0, 172560: 2.0, 560631: 3.0, 784689: 4.0, 567048: 7.0, 257744: 4.0, 394283: 4.0, 566574: 0.0, 917141: 8.0, 714396: 0.0, 387027: 1.0, 317093: 0.0, 903745: 0.0, 520445: 2.0, 404302: 1.0, 24895: 6.0, 560561: 1.0, 578524: 1.0, 212867: 1.0, 119391: 4.0, 921140: 1.0, 81275: 1.0, 494868: 1.0, 10330: 11.0, 489169: 0.0, 687165: 1.0, 687187: 1.0, 476869: 1.0, 70369: 1.0, 892835: 0.0, 493764: 1.0, 94846: 0.0, 359794: 1.0, 742838: 1.0, 149750: 4.0, 601012: 1.0, 522606: 1.0, 908703: 1.0, 122: 1.0, 844825: 1.0, 778612: 1.0, 939461: 1.0, 59680: 1.0, 71351: 1.0, 651640: 1.0, 778390: 1.0, 914842: 1.0, 52541: 2.0, 117077: 1.0, 665575: 1.0, 958748: 1.0, 569735: 1.0, 162992: 1.0, 28022: 0.0, 638909: 0.0, 12814: 0.0, 592249: 0.0, 185013: 0.0, 22732: 0.0, 474627: 0.0, 915701: 0.0, 220124: 0.0, 646110: 0.0, 669488: 0.0, 16627: 0.0, 11321: 0.0, 497938: 0.0, 318553: 0.0, 15370: 0.0, 852810: 0.0, 20137: 0.0, 766653: 0.0, 954297: 0.0, 321982: 1.0, 559359: 0.0, 731658: 0.0, 912180: 1.0, 184275: 1.0, 884835: 1.0, 368403: 1.0, 843891: 4.0, 288801: 1.0, 178242: 1.0, 842514: 6.0, 61070: 0.0, 405456: 0.0, 93821: 1.0, 635262: 1.0, 886755: 0.0, 554849: 0.0, 421979: 0.0, 97269: 3.0, 773518: 7.0, 831608: 5.0, 480223: 5.0, 469709: 0.0, 372671: 0.0, 617353: 0.0, 111235: 0.0, 596106: 0.0, 107719: 0.0, 803998: 0.0, 759414: 0.0, 569289: 0.0, 584463: 11.0, 319374: 3.0, 381577: 3.0, 932704: 18.0, 79098: 35.0, 368535: 0.0, 914360: 0.0, 875338: 7.0, 219474: 0.0, 879387: 2.0, 917329: 6.0, 619284: 6.0, 806007: 0.0, 132354: 0.0, 590901: 4.0, 766354: 0.0, 838609: 0.0, 381318: 0.0, 872635: 0.0, 275083: 3.0, 859855: 0.0, 576615: 1.0, 898286: 2.0, 240540: 1.0, 391975: 0.0, 315224: 0.0, 910120: 15.0, 568489: 3.0, 848759: 4.0, 174799: 3.0, 37041: 0.0, 528354: 0.0, 831597: 0.0, 415718: 0.0, 140558: 0.0, 272216: 0.0, 193225: 0.0, 200648: 8.0, 786224: 0.0, 688589: 3.0, 48455: 19.0, 370665: 3.0, 650422: 3.0, 412361: 3.0, 5945: 3.0, 653249: 0.0, 70155: 0.0, 485081: 2.0, 383240: 0.0, 591671: 4.0, 598645: 3.0, 593343: 22.0, 125514: 18.0, 557969: 14.0, 473381: 14.0, 285176: 3.0, 556286: 3.0, 231749: 3.0, 243982: 3.0, 598757: 3.0, 91928: 6.0, 913936: 3.0, 689326: 4.0, 75265: 2.0, 114940: 3.0, 246561: 2.0, 814358: 2.0, 666121: 2.0, 549387: 0.0, 476257: 1.0, 254275: 5.0, 301273: 4.0, 654003: 0.0, 296148: 0.0, 894921: 0.0, 385763: 7.0, 624067: 14.0, 228359: 3.0, 850891: 3.0, 372235: 3.0, 247493: 3.0, 617125: 2.0, 819779: 7.0, 190319: 2.0, 923743: 2.0, 4145: 5.0, 698422: 0.0, 627009: 7.0, 268215: 0.0, 660415: 0.0, 562199: 1.0, 817437: 1.0, 294964: 0.0, 495957: 3.0, 268162: 0.0, 829371: 0.0, 263066: 0.0, 212591: 5.0, 546048: 1.0, 91552: 3.0, 651797: 1.0, 337961: 1.0, 535077: 3.0, 563025: 1.0, 815594: 1.0, 317445: 1.0, 635134: 0.0, 799476: 0.0, 260228: 0.0, 364227: 0.0, 722203: 0.0, 112361: 8.0, 101759: 0.0, 433705: 0.0, 918530: 0.0, 188250: 0.0, 750555: 0.0, 704619: 5.0, 511829: 5.0, 846345: 5.0, 348965: 12.0, 325911: 4.0, 776642: 6.0, 417796: 2.0, 30256: 2.0, 294152: 2.0, 256400: 1.0, 934826: 1.0, 284442: 6.0, 226970: 1.0, 34892: 1.0, 459974: 1.0, 256286: 1.0, 941796: 1.0, 915704: 1.0, 936768: 1.0, 835280: 0.0, 697914: 8.0, 755462: 0.0, 858001: 0.0, 27487: 0.0, 594828: 0.0, 157216: 8.0, 634614: 2.0, 715215: 0.0, 236871: 8.0, 263708: 0.0, 902804: 4.0, 209421: 7.0, 568574: 10.0, 155320: 3.0, 536054: 3.0, 698288: 3.0, 763325: 2.0, 354289: 2.0, 162012: 2.0, 883058: 2.0, 480022: 5.0, 885130: 7.0, 545855: 4.0, 783479: 1.0, 850567: 18.0, 734387: 6.0, 533327: 2.0, 246540: 5.0, 326033: 4.0, 705938: 1.0, 582548: 1.0, 665244: 1.0, 200777: 1.0, 254771: 1.0, 771063: 1.0, 892312: 1.0, 298900: 1.0, 58232: 1.0, 813405: 1.0, 942690: 1.0, 413207: 1.0, 629477: 1.0, 852061: 1.0, 531053: 1.0, 920369: 1.0, 164908: 1.0, 595913: 1.0, 328309: 1.0, 690692: 5.0, 871584: 2.0, 261882: 2.0, 685764: 2.0, 891824: 2.0, 848521: 3.0, 767604: 3.0, 145608: 3.0, 248939: 3.0, 209065: 2.0, 107948: 1.0, 704345: 6.0, 83604: 4.0, 198309: 4.0, 163289: 3.0, 299433: 2.0, 240870: 12.0, 739745: 0.0, 893614: 0.0, 35197: 8.0, 475992: 0.0, 707262: 14.0, 962602: 6.0, 718633: 0.0, 61708: 4.0, 547785: 1.0, 671003: 8.0, 635082: 0.0, 860801: 0.0, 380470: 0.0, 854309: 0.0, 928854: 0.0, 714004: 0.0, 625132: 1.0, 228611: 5.0, 832418: 5.0, 605452: 2.0, 8902: 2.0, 545429: 4.0, 103708: 3.0, 542952: 3.0, 51498: 12.0, 200995: 0.0, 606766: 0.0, 306320: 0.0, 435292: 0.0, 108626: 0.0, 452435: 1.0, 475168: 1.0, 116280: 1.0, 498614: 4.0, 817689: 1.0, 865178: 1.0, 220506: 2.0, 57277: 4.0, 765447: 4.0, 572515: 0.0, 341023: 2.0, 452846: 4.0, 141455: 0.0, 492547: 0.0, 596316: 5.0, 84350: 0.0, 67944: 5.0, 870598: 4.0, 484124: 4.0, 346008: 4.0, 907952: 3.0, 292685: 3.0, 630826: 3.0, 356964: 4.0, 513187: 3.0, 125464: 3.0, 965785: 3.0, 229769: 3.0, 870627: 0.0, 243727: 15.0, 718135: 9.0, 362901: 4.0, 357524: 1.0, 876419: 1.0, 6129: 0.0, 234356: 0.0, 441064: 3.0, 266590: 5.0, 322337: 5.0, 594211: 1.0, 720860: 6.0, 823082: 3.0, 751070: 7.0, 650774: 0.0, 576584: 0.0, 900458: 0.0, 77746: 0.0, 211985: 3.0, 182617: 3.0, 521287: 3.0, 928052: 3.0, 120206: 3.0, 199690: 3.0, 440336: 10.0, 718944: 5.0, 565455: 0.0, 472885: 0.0, 664331: 0.0, 204990: 0.0, 356055: 4.0, 243844: 0.0, 822067: 5.0, 283159: 25.0, 754007: 4.0, 170472: 0.0, 26204: 4.0, 199250: 3.0, 611026: 2.0, 913811: 2.0, 492163: 0.0, 549449: 1.0, 457216: 4.0, 902834: 0.0, 729577: 3.0, 115184: 3.0, 662877: 10.0, 852329: 5.0, 747805: 3.0, 794282: 3.0, 487097: 3.0, 513147: 3.0, 116728: 6.0, 330442: 4.0, 508848: 5.0, 21714: 4.0, 775995: 8.0, 727431: 9.0, 930221: 5.0, 382467: 0.0, 456821: 5.0, 863344: 0.0, 238467: 5.0, 492044: 4.0, 588605: 4.0, 203447: 4.0, 607328: 4.0, 750307: 4.0, 426815: 4.0, 527942: 4.0, 148048: 3.0, 114676: 3.0, 122776: 3.0, 952492: 3.0, 647316: 3.0, 591466: 3.0, 956771: 3.0, 618168: 3.0, 176277: 3.0, 723104: 3.0, 627726: 3.0, 424809: 3.0, 713584: 3.0, 259412: 12.0, 676685: 1.0, 235338: 5.0, 252773: 0.0, 527368: 0.0, 707225: 0.0, 35418: 2.0, 759971: 5.0, 715143: 5.0, 10733: 5.0, 886567: 5.0, 612678: 5.0, 795530: 2.0, 653627: 0.0, 360097: 0.0, 246760: 0.0, 58830: 0.0, 735993: 0.0, 832275: 0.0, 758531: 0.0, 124566: 5.0, 377991: 8.0, 261038: 3.0, 724141: 3.0, 505237: 7.0, 593659: 3.0, 155017: 3.0, 67214: 0.0, 778317: 4.0, 799494: 0.0, 608829: 4.0, 168312: 4.0, 168567: 0.0, 148719: 0.0, 55555: 0.0, 650897: 0.0, 655032: 0.0, 291265: 0.0, 663256: 0.0, 655605: 0.0, 729515: 5.0, 682510: 0.0, 201929: 0.0, 926561: 0.0, 1862: 0.0, 167436: 0.0, 227191: 0.0, 572554: 0.0, 466802: 8.0, 818000: 0.0, 3725: 0.0, 166241: 0.0, 97504: 0.0, 519243: 0.0, 388208: 0.0, 208463: 0.0, 764976: 0.0, 613955: 0.0, 505113: 5.0, 958134: 2.0, 615110: 1.0, 495552: 2.0, 444975: 1.0, 650272: 1.0, 359528: 0.0, 317013: 0.0, 735197: 0.0, 707309: 1.0, 804287: 0.0, 894293: 0.0, 850827: 0.0, 558065: 3.0, 233457: 0.0, 251627: 0.0, 214479: 0.0, 620559: 0.0, 650879: 4.0, 146486: 4.0, 723935: 0.0, 2568: 4.0, 966468: 5.0, 178311: 1.0, 457035: 1.0, 110789: 0.0, 94556: 5.0, 648359: 0.0, 688365: 0.0, 829469: 0.0, 198510: 0.0, 229238: 0.0, 443394: 0.0, 139798: 0.0, 307371: 0.0, 149452: 0.0, 954116: 9.0, 923916: 0.0, 173495: 0.0, 698597: 0.0, 542014: 0.0, 929976: 0.0, 455659: 3.0, 448580: 1.0, 115718: 0.0, 834299: 0.0, 882955: 4.0, 221062: 8.0, 68467: 4.0, 431012: 4.0, 82081: 4.0, 189988: 7.0, 597278: 7.0, 550580: 6.0, 705916: 1.0, 534349: 0.0, 440145: 1.0, 768219: 3.0, 397435: 0.0, 694365: 0.0, 268064: 2.0, 732751: 4.0, 152264: 3.0, 744226: 3.0, 128335: 5.0, 286931: 3.0, 228782: 8.0, 258453: 3.0, 38670: 3.0, 108286: 10.0, 878385: 1.0, 741476: 1.0, 85913: 0.0, 109338: 0.0, 413055: 2.0, 231342: 2.0, 454799: 2.0, 246481: 9.0, 112358: 1.0, 869963: 1.0, 686462: 3.0, 704062: 3.0, 792128: 3.0, 540790: 3.0, 609848: 3.0, 448092: 3.0, 421306: 3.0, 959014: 3.0, 888516: 3.0, 67112: 3.0, 560977: 1.0, 256880: 11.0, 114337: 1.0, 493441: 1.0, 103026: 9.0, 118060: 0.0, 866547: 9.0, 300557: 0.0, 366797: 0.0, 915756: 0.0, 472714: 0.0, 396992: 0.0, 300249: 0.0, 544207: 1.0, 437478: 0.0, 302064: 0.0, 687143: 0.0, 916076: 0.0, 440914: 0.0, 937362: 35.0, 380998: 14.0, 811128: 8.0, 839292: 2.0, 358309: 2.0, 802477: 2.0, 833610: 2.0, 227: 1.0, 26964: 0.0, 535717: 0.0, 713603: 0.0, 127871: 0.0, 450497: 0.0, 660159: 5.0, 741356: 10.0, 792587: 15.0, 732400: 9.0, 967247: 0.0, 207948: 5.0, 272412: 5.0, 772829: 0.0, 923515: 65.0, 552112: 0.0, 694060: 0.0, 641068: 0.0, 587279: 0.0, 860002: 0.0, 839525: 0.0, 78389: 0.0, 958526: 0.0, 883136: 0.0, 404980: 0.0, 112081: 0.0, 707916: 0.0, 148487: 0.0, 954549: 6.0, 503139: 20.0, 666878: 1.0, 37464: 5.0, 541896: 12.0, 685453: 7.0, 899135: 8.0, 188966: 3.0, 95016: 0.0, 42272: 10.0, 784308: 4.0, 803284: 0.0, 661610: 3.0, 224269: 3.0, 768618: 1.0, 466014: 0.0, 197117: 1.0, 160344: 1.0, 120199: 1.0, 440981: 1.0, 366724: 0.0, 481949: 0.0, 521079: 0.0, 818415: 0.0, 231327: 5.0, 446986: 3.0, 355322: 0.0, 936919: 1.0, 901217: 1.0, 244562: 1.0, 347781: 0.0, 144039: 1.0, 668543: 0.0, 774200: 1.0, 863889: 1.0, 309073: 1.0, 55677: 0.0, 575995: 5.0, 177556: 1.0, 887112: 1.0, 323681: 0.0, 388082: 0.0, 49318: 0.0, 188981: 0.0, 546879: 0.0, 657373: 0.0, 390618: 0.0, 61207: 0.0, 485013: 0.0, 553050: 5.0, 1737: 0.0, 626876: 5.0, 493869: 4.0, 362278: 4.0, 722018: 0.0, 594772: 3.0, 768808: 3.0, 848914: 0.0, 257026: 0.0, 150199: 8.0, 608553: 0.0, 766568: 1.0, 433893: 10.0, 234444: 3.0, 466804: 1.0, 627241: 1.0, 400212: 0.0, 323021: 1.0, 110345: 0.0, 249731: 0.0, 357604: 0.0, 104420: 18.0, 494011: 0.0, 754983: 0.0, 832361: 0.0, 581322: 0.0, 557210: 5.0, 85790: 7.0, 504751: 15.0, 744559: 4.0, 923143: 5.0, 263263: 26.0, 594163: 1.0, 63619: 0.0, 734032: 0.0, 696317: 0.0, 435337: 4.0, 378207: 11.0, 519136: 1.0, 926796: 1.0, 187356: 1.0, 80943: 1.0, 882339: 1.0, 935100: 1.0, 426190: 1.0, 244729: 1.0, 742458: 1.0, 144901: 1.0, 179349: 1.0, 687638: 4.0, 527842: 0.0, 931113: 0.0, 322471: 0.0, 217784: 0.0, 804357: 0.0, 883304: 0.0, 913208: 11.0, 715581: 4.0, 561540: 6.0, 838914: 1.0, 189017: 0.0, 736555: 0.0, 77793: 0.0, 682884: 0.0, 408018: 0.0, 693531: 0.0, 473349: 1.0, 61554: 1.0, 826543: 1.0, 380611: 1.0, 939332: 0.0, 68843: 0.0, 727343: 0.0, 370441: 0.0, 488426: 0.0, 434413: 3.0, 64408: 0.0, 886132: 0.0, 942633: 0.0, 551466: 5.0, 941118: 0.0, 54428: 0.0, 574093: 1.0, 210702: 1.0, 605581: 4.0, 104279: 4.0, 625112: 3.0, 83910: 3.0, 497611: 7.0, 382237: 7.0, 580476: 6.0, 302533: 3.0, 285418: 3.0, 679674: 3.0, 118018: 7.0, 638602: 6.0, 551474: 2.0, 856630: 2.0, 205705: 1.0, 193478: 1.0, 260398: 2.0, 884173: 1.0, 732142: 1.0, 633599: 1.0, 253264: 1.0, 204942: 1.0, 231171: 1.0, 791489: 1.0, 183392: 1.0, 876754: 1.0, 286327: 1.0, 56603: 1.0, 62455: 1.0, 840067: 0.0, 908960: 1.0, 725940: 1.0, 590036: 1.0, 287346: 1.0, 744218: 1.0, 793635: 0.0, 428200: 1.0, 678425: 1.0, 812716: 1.0, 753271: 1.0, 713294: 1.0, 408495: 1.0, 98463: 1.0, 200343: 1.0, 362147: 1.0, 394835: 0.0, 337840: 0.0, 253217: 0.0, 193125: 0.0, 786639: 0.0, 95183: 4.0, 881402: 0.0, 170432: 0.0, 246529: 3.0, 605034: 0.0, 587829: 0.0, 954919: 0.0, 887295: 0.0, 654716: 6.0, 295537: 8.0, 380370: 5.0, 883730: 8.0, 245796: 3.0, 297822: 2.0, 262414: 2.0, 563130: 2.0, 373635: 2.0, 628819: 2.0, 886339: 0.0, 478094: 0.0, 517658: 0.0, 298603: 3.0, 897484: 0.0, 28876: 0.0, 418780: 0.0, 967317: 0.0, 910708: 0.0, 338281: 0.0, 82502: 0.0, 921250: 0.0, 476695: 0.0, 395199: 0.0, 668308: 0.0, 739455: 0.0, 796711: 0.0, 96574: 0.0, 50237: 0.0, 375537: 4.0, 337096: 0.0, 162909: 4.0, 216400: 1.0, 704756: 7.0, 254238: 0.0, 197853: 0.0, 467451: 32.0, 323638: 2.0, 195409: 1.0, 332693: 13.0, 962922: 1.0, 50740: 0.0, 878930: 4.0, 849078: 0.0, 788529: 0.0, 410767: 5.0, 471951: 7.0, 324778: 0.0, 603838: 0.0, 141756: 1.0, 569730: 11.0, 497596: 0.0, 788867: 4.0, 228902: 0.0, 96682: 5.0, 631643: 5.0, 363549: 5.0, 828177: 0.0, 547057: 0.0, 260889: 0.0, 420601: 0.0, 806246: 0.0, 595366: 1.0, 864887: 1.0, 203507: 20.0, 733594: 5.0, 963013: 5.0, 725674: 1.0, 380313: 1.0, 877145: 1.0, 274045: 1.0, 908251: 1.0, 638417: 1.0, 456073: 1.0, 951828: 1.0, 621102: 1.0, 342560: 1.0, 780723: 1.0, 825932: 1.0, 690878: 0.0, 452577: 10.0, 141993: 0.0, 276027: 0.0, 163867: 7.0, 387423: 12.0, 785600: 0.0, 586542: 3.0, 254868: 3.0, 367711: 3.0, 961362: 0.0, 787940: 0.0, 486690: 0.0, 662725: 0.0, 154855: 4.0, 517468: 3.0, 902439: 5.0, 241645: 0.0, 569388: 5.0, 260249: 0.0, 150464: 9.0, 731583: 4.0, 522903: 3.0, 6377: 3.0, 816105: 3.0, 695260: 3.0, 858551: 3.0, 4575: 4.0, 56811: 3.0, 793786: 0.0, 223527: 0.0, 868700: 0.0, 507106: 5.0, 121511: 3.0, 453683: 15.0, 642057: 5.0, 850389: 0.0, 17422: 3.0, 819026: 6.0, 61912: 2.0, 755594: 0.0, 250928: 3.0, 490969: 0.0, 553404: 0.0, 854198: 3.0, 96866: 3.0, 827743: 1.0, 761353: 7.0, 699244: 0.0, 420462: 0.0, 950694: 1.0, 621099: 0.0, 517495: 0.0, 80632: 0.0, 695599: 0.0, 114648: 0.0, 959510: 0.0, 129315: 5.0, 666808: 3.0, 497328: 5.0, 271988: 1.0, 295349: 1.0, 518191: 1.0, 659519: 1.0, 886043: 1.0, 634386: 3.0, 543319: 3.0, 636767: 1.0, 763469: 1.0, 470048: 5.0, 962243: 0.0, 159141: 0.0, 885794: 0.0, 812395: 0.0, 673579: 0.0, 675531: 7.0, 275726: 0.0, 816970: 0.0, 427284: 12.0, 8359: 2.0, 385940: 5.0, 582792: 8.0, 926939: 4.0, 530979: 0.0, 277822: 0.0, 404888: 0.0, 314073: 3.0, 784746: 0.0, 50597: 4.0, 712635: 0.0, 4396: 0.0, 933478: 5.0, 794578: 5.0, 652666: 3.0, 427676: 3.0, 717381: 3.0, 269458: 13.0, 281292: 2.0, 678814: 2.0, 260699: 0.0, 470649: 1.0, 916449: 0.0, 295970: 1.0, 501276: 1.0, 58793: 1.0, 386580: 1.0, 881199: 1.0, 878023: 1.0, 25621: 0.0, 36785: 0.0, 512746: 0.0, 334401: 0.0, 481621: 0.0, 369587: 0.0, 603135: 0.0, 287795: 0.0, 564836: 0.0, 824974: 0.0, 349524: 0.0, 613581: 0.0, 850630: 0.0, 772557: 0.0, 361420: 0.0, 39252: 0.0, 735236: 0.0, 959767: 0.0, 906396: 0.0, 408373: 0.0, 608449: 1.0, 287502: 7.0, 106639: 1.0, 13230: 1.0, 223200: 5.0, 198184: 7.0, 728157: 0.0, 112845: 0.0, 502344: 0.0, 746096: 0.0, 292615: 0.0, 785651: 0.0, 42783: 0.0, 491572: 0.0, 859319: 0.0, 500036: 0.0, 532633: 0.0, 206202: 0.0, 416793: 0.0, 879371: 0.0, 968022: 0.0, 58904: 0.0, 463029: 0.0, 421143: 0.0, 386277: 0.0, 629893: 0.0, 830545: 0.0, 565581: 6.0, 316457: 0.0, 873364: 0.0, 686863: 5.0, 171851: 5.0, 781489: 6.0, 50592: 1.0, 53599: 1.0, 749865: 1.0, 488737: 1.0, 924827: 1.0, 673153: 1.0, 390816: 5.0, 294729: 0.0, 503242: 0.0, 844302: 0.0, 447482: 0.0, 806962: 1.0, 479167: 1.0, 479304: 0.0, 29403: 0.0, 940983: 3.0, 5624: 0.0, 370554: 0.0, 38542: 0.0, 615793: 40.0, 304030: 8.0, 250995: 0.0, 175565: 0.0, 700117: 3.0, 391299: 5.0, 859141: 1.0, 660070: 5.0, 871690: 0.0, 802200: 1.0, 420028: 0.0, 100806: 2.0, 264492: 0.0, 660316: 0.0, 457978: 0.0, 571087: 0.0, 542639: 6.0, 360764: 0.0, 151513: 1.0, 540237: 1.0, 637498: 8.0, 496109: 0.0, 172450: 0.0, 357035: 0.0, 27809: 0.0, 363001: 0.0, 388905: 0.0, 730069: 22.0, 203537: 5.0, 393499: 5.0, 322911: 5.0, 417462: 4.0, 180564: 1.0, 855217: 1.0, 310097: 1.0, 830343: 1.0, 208048: 6.0, 223068: 5.0, 759093: 0.0, 849887: 0.0, 873687: 0.0, 900919: 0.0, 24024: 0.0, 222226: 5.0, 770143: 0.0, 839166: 4.0, 389400: 3.0, 943607: 1.0, 969897: 3.0, 70065: 1.0, 770105: 5.0, 820755: 1.0, 819225: 5.0, 459903: 5.0, 673954: 6.0, 348465: 3.0, 799853: 3.0, 213142: 7.0, 887008: 2.0, 151631: 1.0, 892612: 1.0, 527126: 0.0, 591251: 0.0, 614909: 0.0, 810032: 0.0, 284056: 0.0, 630552: 0.0, 505574: 0.0, 321035: 1.0, 704914: 1.0, 947148: 7.0, 852678: 2.0, 742314: 6.0, 807740: 0.0, 952965: 0.0, 800816: 0.0, 670428: 9.0, 641216: 3.0, 504494: 1.0, 460092: 1.0, 816865: 1.0, 87496: 1.0, 851930: 1.0, 792880: 0.0, 463491: 0.0, 943399: 6.0, 956248: 3.0, 718701: 3.0, 96960: 3.0, 846973: 3.0, 592880: 3.0, 884636: 3.0, 448111: 3.0, 531464: 3.0, 269802: 3.0, 827304: 3.0, 425545: 3.0, 606171: 3.0, 489241: 3.0, 449335: 0.0, 358972: 0.0, 219445: 3.0, 728872: 4.0, 716085: 3.0, 310568: 3.0, 37610: 3.0, 320855: 4.0, 777832: 0.0, 625011: 4.0, 295860: 0.0, 275724: 1.0, 825220: 4.0, 643956: 0.0, 793076: 0.0, 545830: 4.0, 494845: 4.0, 526299: 0.0, 689775: 0.0, 699761: 0.0, 293818: 6.0, 942671: 4.0, 296074: 13.0, 614885: 0.0, 712980: 0.0, 956169: 0.0, 549881: 0.0, 252785: 5.0, 424582: 0.0, 640602: 5.0, 99360: 3.0, 539940: 0.0, 738485: 0.0, 772900: 0.0, 393150: 0.0, 905228: 0.0, 903043: 0.0, 934260: 0.0, 566636: 0.0, 550987: 0.0, 855655: 0.0, 452343: 0.0, 650055: 0.0, 624598: 0.0, 956397: 0.0, 787165: 0.0, 397207: 0.0, 831746: 0.0, 189296: 0.0, 271687: 0.0, 795667: 0.0, 140398: 0.0, 570763: 0.0, 729109: 0.0, 862217: 0.0, 917586: 0.0, 82302: 0.0, 28163: 0.0, 676816: 0.0, 506398: 0.0, 37808: 0.0, 852361: 0.0, 465860: 0.0, 314519: 0.0, 496285: 0.0, 492785: 0.0, 564792: 0.0, 523204: 0.0, 310502: 0.0, 295717: 1.0, 493656: 1.0, 483344: 0.0, 851988: 8.0, 449204: 0.0, 673059: 6.0, 677648: 5.0, 405826: 5.0, 229592: 5.0, 192697: 6.0, 329103: 5.0, 387566: 8.0, 251933: 5.0, 321682: 5.0, 716985: 4.0, 126712: 6.0, 169144: 6.0, 120714: 13.0, 53281: 54.0, 355677: 14.0, 831649: 3.0, 558128: 11.0, 60788: 2.0, 669788: 2.0, 283997: 6.0, 223693: 7.0, 484576: 7.0, 929302: 16.0, 635108: 8.0, 185718: 2.0, 910309: 2.0, 69870: 4.0, 526208: 1.0, 502567: 1.0, 366192: 0.0, 605948: 0.0, 810196: 0.0, 702239: 0.0, 880255: 6.0, 159034: 6.0, 381325: 3.0, 573079: 16.0, 149547: 3.0, 779161: 2.0, 959759: 7.0, 558767: 5.0, 819284: 3.0, 810682: 0.0, 907122: 16.0, 112191: 0.0, 445486: 0.0, 1956: 0.0, 501078: 1.0, 782835: 0.0, 307598: 0.0, 154915: 0.0, 688648: 15.0, 769855: 0.0, 604410: 2.0, 932200: 0.0, 547775: 0.0, 861622: 5.0, 403504: 5.0, 776478: 2.0, 492270: 0.0, 963899: 0.0, 574308: 0.0, 452252: 1.0, 292216: 1.0, 122670: 1.0, 360618: 1.0, 93752: 1.0, 267270: 1.0, 18568: 0.0, 209786: 0.0, 962895: 0.0, 609988: 0.0, 962713: 0.0, 426330: 0.0, 362961: 2.0, 16419: 2.0, 913525: 2.0, 557233: 1.0, 284035: 1.0, 434486: 1.0, 630077: 1.0, 456593: 5.0, 234176: 5.0, 721474: 5.0, 484403: 6.0, 288304: 8.0, 304516: 0.0, 277748: 0.0, 231960: 0.0, 795875: 0.0, 547745: 0.0, 143490: 2.0, 433128: 0.0, 676987: 0.0, 316191: 10.0, 232740: 0.0, 729589: 5.0, 515116: 4.0, 492030: 4.0, 464674: 16.0, 376795: 7.0, 374996: 1.0, 266523: 5.0, 368263: 5.0, 740807: 4.0, 361239: 8.0, 772197: 5.0, 688660: 5.0, 558280: 5.0, 310136: 0.0, 550012: 0.0, 559924: 0.0, 560660: 0.0, 962157: 0.0, 963925: 0.0, 557004: 0.0, 797526: 8.0, 4467: 1.0, 964080: 4.0, 757971: 0.0, 860290: 1.0, 335638: 1.0, 224644: 0.0, 19522: 0.0, 188375: 0.0, 648878: 1.0, 555856: 1.0, 96326: 5.0, 503728: 5.0, 126085: 3.0, 907572: 12.0, 677695: 5.0, 193633: 3.0, 627464: 5.0, 286778: 0.0, 894820: 0.0, 254857: 0.0, 86553: 8.0, 710483: 0.0, 511717: 5.0, 506281: 5.0, 41223: 2.0, 92235: 2.0, 720430: 2.0, 696212: 2.0, 170117: 3.0, 901146: 36.0, 80630: 3.0, 808838: 3.0, 702677: 3.0, 945017: 3.0, 868515: 3.0, 633632: 3.0, 937269: 2.0, 43447: 2.0, 638638: 4.0, 166844: 3.0, 365049: 3.0, 371788: 3.0, 672934: 3.0, 902578: 3.0, 347419: 1.0, 148679: 5.0, 601934: 4.0, 424323: 4.0, 176342: 0.0, 903930: 0.0, 703734: 1.0, 429537: 3.0, 660643: 0.0, 28317: 5.0, 7200: 4.0, 346111: 0.0, 375160: 3.0, 217492: 5.0, 475075: 0.0, 305171: 0.0, 292424: 3.0, 853228: 5.0, 415447: 7.0, 889986: 0.0, 692172: 4.0, 675307: 3.0, 708729: 0.0, 765852: 9.0, 497981: 5.0, 151482: 1.0, 317004: 0.0, 43513: 0.0, 253553: 3.0, 761199: 10.0, 231163: 8.0, 37992: 0.0, 412038: 0.0, 38826: 9.0, 62773: 0.0, 2799: 0.0, 570883: 0.0, 144610: 0.0, 7106: 0.0, 414298: 0.0, 763515: 1.0, 91888: 13.0, 802417: 7.0, 532057: 0.0, 409033: 1.0, 299096: 0.0, 521132: 4.0, 185784: 15.0, 524758: 5.0, 33914: 1.0, 268697: 0.0, 953503: 1.0, 887807: 0.0, 289776: 0.0, 781139: 0.0, 577543: 0.0, 464457: 0.0, 48188: 0.0, 797656: 0.0, 559300: 12.0, 153206: 0.0, 27971: 6.0, 629428: 9.0, 924751: 7.0, 87566: 4.0, 619578: 4.0, 331649: 3.0, 181173: 3.0, 862170: 1.0, 832285: 5.0, 402072: 0.0, 883413: 5.0, 83487: 6.0, 98777: 3.0, 772050: 0.0, 668541: 0.0, 844349: 1.0, 276706: 3.0, 226000: 0.0, 687745: 12.0, 871903: 0.0, 448929: 2.0, 8409: 0.0, 911269: 0.0, 96359: 0.0, 307522: 4.0, 312374: 0.0, 293673: 8.0, 897219: 2.0, 53590: 0.0, 386721: 2.0, 449402: 5.0, 927286: 2.0, 900812: 0.0, 944806: 5.0, 790504: 6.0, 462239: 5.0, 159532: 4.0, 704091: 4.0, 172708: 4.0, 527146: 4.0, 842064: 4.0, 773110: 9.0, 834130: 4.0, 736180: 4.0, 558116: 4.0, 886813: 9.0, 411423: 2.0, 94511: 2.0, 725548: 0.0, 264151: 0.0, 68045: 0.0, 859528: 0.0, 919387: 5.0, 3937: 4.0, 478134: 0.0, 322006: 5.0, 53063: 4.0, 716406: 4.0, 961079: 3.0, 501906: 3.0, 383418: 3.0, 281648: 4.0, 397600: 3.0, 597318: 3.0, 313808: 2.0, 717921: 2.0, 12709: 2.0, 743090: 9.0, 878529: 4.0, 32727: 4.0, 309189: 4.0, 936252: 4.0, 794431: 1.0, 378499: 0.0, 150250: 5.0, 591614: 5.0, 528234: 1.0, 141291: 5.0, 177878: 6.0, 433267: 4.0, 402425: 4.0, 302978: 0.0, 943415: 1.0, 53554: 1.0, 111795: 0.0, 59822: 0.0, 654470: 0.0, 743858: 0.0, 916557: 0.0, 23780: 5.0, 694914: 8.0, 878648: 2.0, 606549: 3.0, 471382: 3.0, 345349: 3.0, 51684: 3.0, 479066: 3.0, 409607: 2.0, 218961: 2.0, 732587: 0.0, 705004: 17.0, 892490: 0.0, 571343: 0.0, 371040: 0.0, 963664: 8.0, 901380: 9.0, 430396: 5.0, 718637: 4.0, 853138: 4.0, 849184: 4.0, 115557: 1.0, 374123: 4.0, 658423: 4.0, 131936: 0.0, 311933: 0.0, 206165: 4.0, 133018: 1.0, 491774: 1.0, 215001: 0.0, 416419: 0.0, 308115: 0.0, 84957: 0.0, 254449: 0.0, 708195: 0.0, 514363: 5.0, 393963: 1.0, 126143: 1.0, 24183: 1.0, 2159: 0.0, 511756: 5.0, 708918: 6.0, 402446: 3.0, 951157: 3.0, 337771: 12.0, 579788: 3.0, 603198: 3.0, 103810: 5.0, 12667: 5.0, 98663: 5.0, 51171: 5.0, 780080: 4.0, 504889: 0.0, 802667: 5.0, 526422: 0.0, 433986: 4.0, 228549: 0.0, 114734: 5.0, 438959: 0.0, 351793: 0.0, 604988: 1.0, 768135: 1.0, 2719: 1.0, 174093: 6.0, 111216: 5.0, 339421: 5.0, 781814: 5.0, 42209: 5.0, 411015: 1.0, 786663: 0.0, 371968: 0.0, 804560: 0.0, 365571: 0.0, 178433: 1.0, 368734: 5.0, 907328: 10.0, 442291: 5.0, 50116: 0.0, 445900: 0.0, 425984: 0.0, 447035: 2.0, 786733: 1.0, 689033: 5.0, 923787: 5.0, 653344: 16.0, 289118: 14.0, 535644: 0.0, 407804: 0.0, 395093: 1.0, 379637: 1.0, 32486: 1.0, 293910: 1.0, 295376: 0.0, 523744: 0.0, 383705: 0.0, 814541: 0.0, 460383: 0.0, 550223: 0.0, 684621: 3.0, 689958: 5.0, 243965: 11.0, 231365: 5.0, 768327: 4.0, 761903: 3.0, 52204: 0.0, 879650: 0.0, 312722: 0.0, 884232: 0.0, 612247: 0.0, 94636: 5.0, 347265: 3.0, 13646: 3.0, 135687: 0.0, 739501: 1.0, 941671: 0.0, 133558: 1.0, 4690: 1.0, 754345: 1.0, 515769: 1.0, 554856: 6.0, 689705: 1.0, 934988: 1.0, 839465: 1.0, 653701: 6.0, 180482: 1.0, 518812: 1.0, 925884: 1.0, 696713: 1.0, 456133: 5.0, 316910: 1.0, 941543: 0.0, 50788: 0.0, 948221: 0.0, 693905: 0.0, 680327: 0.0, 903635: 0.0, 831970: 0.0, 437447: 1.0, 467799: 0.0, 833681: 0.0, 69847: 0.0, 930924: 0.0, 593016: 6.0, 162873: 0.0, 497530: 0.0, 16314: 5.0, 199718: 3.0, 409689: 4.0, 192212: 0.0, 960716: 0.0, 214701: 0.0, 703846: 0.0, 127991: 0.0, 176331: 0.0, 657628: 0.0, 637902: 0.0, 100394: 0.0, 249676: 0.0, 853965: 0.0, 785947: 0.0, 425475: 15.0, 269052: 4.0, 268375: 5.0, 957175: 5.0, 508243: 0.0, 822667: 1.0, 607001: 1.0, 923338: 1.0, 112860: 1.0, 26209: 1.0, 129437: 10.0, 902863: 0.0, 967630: 5.0, 831335: 2.0, 891056: 5.0, 533690: 4.0, 12574: 0.0, 244889: 0.0, 836874: 0.0, 918658: 3.0, 160077: 2.0, 747949: 4.0, 89761: 4.0, 385714: 4.0, 303388: 2.0, 536257: 4.0, 709214: 0.0, 681141: 0.0, 865604: 0.0, 320646: 0.0, 251031: 0.0, 375371: 0.0, 271993: 0.0, 606129: 0.0, 243710: 0.0, 287839: 0.0, 602075: 0.0, 626189: 0.0, 369072: 8.0, 655296: 0.0, 158161: 4.0, 728229: 2.0, 702589: 2.0, 329751: 0.0, 667100: 0.0, 632304: 0.0, 787698: 5.0, 70471: 0.0, 801283: 0.0, 551071: 0.0, 393236: 6.0, 11124: 0.0, 497837: 3.0, 916662: 5.0, 754685: 0.0, 259969: 3.0, 790647: 5.0, 444731: 0.0, 73713: 1.0, 284153: 0.0, 322130: 0.0, 49203: 0.0, 537069: 0.0, 104910: 0.0, 264888: 4.0, 256748: 3.0, 655901: 4.0, 920592: 5.0, 697155: 5.0, 640314: 5.0, 794042: 4.0, 71239: 10.0, 724268: 1.0, 211800: 1.0, 902243: 4.0, 475791: 1.0, 481210: 4.0, 749805: 3.0, 458234: 3.0, 219543: 3.0, 739370: 3.0, 702806: 3.0, 844446: 3.0, 526973: 3.0, 476433: 1.0, 263911: 3.0, 458888: 2.0, 845571: 3.0, 348038: 1.0, 374057: 1.0, 263293: 6.0, 547624: 1.0, 930734: 1.0, 639399: 1.0, 850053: 1.0, 122971: 1.0, 106734: 1.0, 699578: 1.0, 874485: 1.0, 24633: 1.0, 105754: 1.0, 238578: 1.0, 887436: 1.0, 661105: 1.0, 728409: 1.0, 168434: 1.0, 352381: 1.0, 365465: 6.0, 127613: 1.0, 425977: 5.0, 146665: 2.0, 350267: 5.0, 966015: 1.0, 767804: 1.0, 420793: 1.0, 374495: 4.0, 215758: 1.0, 47081: 1.0, 270343: 1.0, 272103: 1.0, 76728: 8.0, 394715: 8.0, 494943: 5.0, 104508: 12.0, 630562: 0.0, 206680: 0.0, 484720: 0.0, 584780: 0.0, 560665: 0.0, 73089: 0.0, 286081: 1.0, 837792: 0.0, 31393: 0.0, 330960: 0.0, 749739: 0.0, 217229: 4.0, 14362: 3.0, 851619: 12.0, 119230: 12.0, 795069: 5.0, 849257: 8.0, 833422: 0.0, 177161: 0.0, 139381: 0.0, 509690: 0.0, 406914: 0.0, 19814: 0.0, 655087: 0.0, 215245: 5.0, 172230: 0.0, 868729: 1.0, 121472: 3.0, 582027: 0.0, 691640: 0.0, 496542: 6.0, 196881: 0.0, 99866: 0.0, 835523: 0.0, 304698: 4.0, 144473: 4.0, 762244: 1.0, 167284: 0.0, 50862: 0.0, 169400: 0.0, 269294: 0.0, 478341: 0.0, 181464: 0.0, 775941: 0.0, 156279: 0.0, 608741: 3.0, 367288: 0.0, 312980: 0.0, 51575: 1.0, 13668: 0.0, 240203: 0.0, 600070: 3.0, 312363: 0.0, 490093: 0.0, 100852: 0.0, 99814: 0.0, 230375: 0.0, 553462: 0.0, 96670: 1.0, 694935: 8.0, 63910: 5.0, 37630: 24.0, 74061: 2.0, 743573: 3.0, 101075: 2.0, 277996: 0.0, 266398: 2.0, 71939: 2.0, 53900: 3.0, 736593: 1.0, 707536: 2.0, 897230: 1.0, 929382: 0.0, 324133: 6.0, 500916: 2.0, 112512: 0.0, 317812: 5.0, 182226: 0.0, 930930: 4.0, 362372: 6.0, 225546: 2.0, 439297: 1.0, 96617: 1.0, 746723: 1.0, 451467: 1.0, 801745: 1.0, 823067: 1.0, 515112: 0.0, 547411: 1.0, 960503: 1.0, 535970: 1.0, 167303: 0.0, 69687: 7.0, 324994: 1.0, 58237: 18.0, 304037: 0.0, 526138: 0.0, 221313: 0.0, 632743: 0.0, 84921: 0.0, 152341: 0.0, 685195: 0.0, 485958: 1.0, 27734: 0.0, 808266: 6.0, 80743: 3.0, 96405: 3.0, 911756: 7.0, 528952: 3.0, 145964: 6.0, 854104: 3.0, 147705: 10.0, 905792: 3.0, 525127: 0.0, 748628: 4.0, 19148: 7.0, 768523: 5.0, 50849: 4.0, 135712: 4.0, 124784: 5.0, 260883: 1.0, 187531: 3.0, 33042: 5.0, 1556: 5.0, 224707: 9.0, 505612: 2.0, 159055: 1.0, 496302: 0.0, 174622: 0.0, 383829: 0.0, 184977: 4.0, 444566: 0.0, 733324: 0.0, 43982: 0.0, 322874: 0.0, 43259: 0.0, 188335: 0.0, 849616: 3.0, 288654: 1.0, 447880: 0.0, 138466: 5.0, 827137: 1.0, 96663: 0.0, 20409: 0.0, 864808: 0.0, 22538: 4.0, 776948: 7.0, 90111: 4.0, 339018: 4.0, 548917: 4.0, 679912: 4.0, 55049: 3.0, 551269: 3.0, 679534: 0.0, 802904: 0.0, 562027: 0.0, 871484: 0.0, 820246: 0.0, 664146: 0.0, 401201: 0.0, 121109: 8.0, 83320: 3.0, 410712: 3.0, 511224: 3.0, 452520: 3.0, 735088: 3.0, 450579: 1.0, 187131: 1.0, 139319: 1.0, 265305: 1.0, 112719: 3.0, 376081: 0.0, 231477: 5.0, 157012: 0.0, 615556: 5.0, 381764: 5.0, 135290: 8.0, 965804: 3.0, 555838: 2.0, 24635: 2.0, 566124: 2.0, 446921: 2.0, 569444: 2.0, 957622: 2.0, 413355: 0.0, 185512: 0.0, 138104: 0.0, 908820: 0.0, 820829: 3.0, 447061: 0.0, 691745: 3.0, 231257: 0.0, 230164: 0.0, 116120: 0.0, 851347: 0.0, 538066: 0.0, 667663: 10.0, 783205: 0.0, 288856: 0.0, 823368: 1.0, 641000: 4.0, 945215: 7.0, 409357: 4.0, 950416: 8.0, 845419: 5.0, 930768: 4.0, 671764: 3.0, 551005: 3.0, 927480: 0.0, 135370: 0.0, 54171: 0.0, 316136: 1.0, 598575: 0.0, 318768: 0.0, 491235: 0.0, 470701: 3.0, 745682: 0.0, 80277: 1.0, 88230: 0.0, 705845: 0.0, 891410: 4.0, 34920: 3.0, 447204: 3.0, 805032: 2.0, 45078: 2.0, 858852: 2.0, 906450: 2.0, 600714: 2.0, 893831: 16.0, 385338: 8.0, 304562: 10.0, 868265: 9.0, 249120: 4.0, 278358: 4.0, 64035: 4.0, 270735: 5.0, 593551: 3.0, 28932: 0.0, 140032: 9.0, 463178: 8.0, 890016: 3.0, 839932: 5.0, 515173: 5.0, 129775: 4.0, 915086: 4.0, 189368: 4.0, 619259: 4.0, 686369: 6.0, 606401: 3.0, 433850: 3.0, 213018: 14.0, 450134: 2.0, 632713: 5.0, 107989: 5.0, 129512: 5.0, 347829: 4.0, 675511: 0.0, 701290: 1.0, 85948: 1.0, 436614: 0.0, 684501: 5.0, 515128: 0.0, 626707: 0.0, 659281: 0.0, 964187: 1.0, 657169: 5.0, 366858: 5.0, 322343: 5.0, 658110: 6.0, 840867: 5.0, 550312: 5.0, 161947: 1.0, 418061: 4.0, 128869: 1.0, 145913: 1.0, 319577: 1.0, 280956: 1.0, 668980: 5.0, 46104: 0.0, 176333: 1.0, 628315: 0.0, 888651: 0.0, 906717: 4.0, 446563: 4.0, 709049: 5.0, 897184: 4.0, 242733: 3.0, 816352: 3.0, 806365: 3.0, 745106: 3.0, 521430: 6.0, 27010: 3.0, 490483: 1.0, 406002: 1.0, 742944: 4.0, 621054: 5.0, 514225: 3.0, 367025: 0.0, 424770: 0.0, 968341: 0.0, 926323: 0.0, 685269: 0.0, 715507: 2.0, 137272: 1.0, 491946: 1.0, 33681: 0.0, 99147: 1.0, 442008: 1.0, 826105: 0.0, 371541: 0.0, 424948: 0.0, 728373: 0.0, 884931: 0.0, 961906: 0.0, 532124: 5.0, 246890: 5.0, 423786: 5.0, 491426: 1.0, 490751: 10.0, 60080: 1.0, 784849: 5.0, 887097: 5.0, 161836: 4.0, 799660: 4.0, 51585: 7.0, 48898: 4.0, 18268: 1.0, 856731: 0.0, 921911: 0.0, 428311: 0.0, 509008: 1.0, 42335: 1.0, 168194: 1.0, 863459: 0.0, 101390: 1.0, 502082: 1.0, 193575: 1.0, 26350: 1.0, 825224: 1.0, 558432: 1.0, 259900: 1.0, 839996: 1.0, 706058: 1.0, 209507: 1.0, 297082: 1.0, 272929: 1.0, 640369: 1.0, 678039: 1.0, 503429: 1.0, 254128: 6.0, 851186: 1.0, 624429: 0.0, 560238: 0.0, 811342: 1.0, 333803: 1.0, 58355: 6.0, 208871: 1.0, 333456: 1.0, 417098: 1.0, 418384: 0.0, 652063: 3.0, 848928: 5.0, 515374: 5.0, 834649: 5.0, 392223: 4.0, 218663: 4.0, 739399: 4.0, 884680: 5.0, 286821: 0.0, 662868: 0.0, 72310: 0.0, 549517: 0.0, 183584: 0.0, 167017: 0.0, 869486: 5.0, 149257: 5.0, 768469: 0.0, 281344: 18.0, 642662: 5.0, 910585: 5.0, 452579: 4.0, 248176: 0.0, 360088: 6.0, 645526: 5.0, 604664: 4.0, 813209: 8.0, 756154: 5.0, 879814: 2.0, 387480: 2.0, 860189: 1.0, 379984: 1.0, 258426: 1.0, 878367: 1.0, 232162: 3.0, 631430: 0.0, 777683: 0.0, 243389: 0.0, 679592: 0.0, 562387: 1.0, 64105: 0.0, 292089: 0.0, 290430: 6.0, 330745: 0.0, 619264: 5.0, 310176: 7.0, 729426: 9.0, 428559: 0.0, 848611: 0.0, 413863: 0.0, 692344: 0.0, 314654: 1.0, 452566: 4.0, 438830: 4.0, 292719: 0.0, 773720: 1.0, 929414: 4.0, 831710: 8.0, 249006: 3.0, 402100: 2.0, 32074: 2.0, 649422: 8.0, 635436: 5.0, 484045: 5.0, 779771: 3.0, 805464: 5.0, 286871: 5.0, 306966: 8.0, 957128: 3.0, 98360: 2.0, 749425: 0.0, 969633: 0.0, 471524: 4.0, 39997: 0.0, 665617: 0.0, 61192: 9.0, 531298: 0.0, 462647: 5.0, 288155: 3.0, 791672: 3.0, 790231: 1.0, 258884: 2.0, 25817: 1.0, 767701: 1.0, 824445: 1.0, 914972: 0.0, 156239: 0.0, 27427: 0.0, 901782: 4.0, 400711: 2.0, 709418: 4.0, 90788: 7.0, 59721: 11.0, 512051: 3.0, 185790: 3.0, 359853: 0.0, 512871: 1.0, 707461: 0.0, 591387: 0.0, 724013: 0.0, 125385: 12.0, 99026: 7.0, 610790: 3.0, 688813: 4.0, 366693: 6.0, 201369: 1.0, 223716: 1.0, 406290: 1.0, 784394: 1.0, 768829: 1.0, 144782: 2.0, 938041: 1.0, 81053: 1.0, 205668: 1.0, 430720: 1.0, 496844: 1.0, 917192: 2.0, 610014: 1.0, 41141: 1.0, 166510: 5.0, 17277: 1.0, 2457: 1.0, 14663: 1.0, 555549: 0.0, 210211: 3.0, 887760: 3.0, 121896: 3.0, 517186: 1.0, 767056: 1.0, 63542: 0.0, 891379: 0.0, 504326: 0.0, 33379: 0.0, 687350: 0.0, 720389: 0.0, 578419: 0.0, 539616: 5.0, 665650: 3.0, 818563: 3.0, 474358: 12.0, 736506: 6.0, 597604: 3.0, 549895: 3.0, 389963: 4.0, 672101: 0.0, 703471: 0.0, 885703: 0.0, 697566: 0.0, 140186: 0.0, 691654: 0.0, 778552: 0.0, 434861: 0.0, 126030: 0.0, 613462: 3.0, 894794: 3.0, 83206: 5.0, 213526: 0.0, 418529: 0.0, 185059: 9.0, 414244: 0.0, 885527: 0.0, 302530: 0.0, 657280: 3.0, 16912: 9.0, 368942: 3.0, 168594: 3.0, 948461: 3.0, 266610: 0.0, 419201: 0.0, 77646: 0.0, 40452: 4.0, 14023: 0.0, 269975: 1.0, 109767: 3.0, 341097: 4.0, 968076: 1.0, 67842: 0.0, 940421: 5.0, 620752: 5.0, 384400: 4.0, 701260: 3.0, 804417: 3.0, 210213: 3.0, 309786: 0.0, 773294: 0.0, 186622: 3.0, 796649: 5.0, 754840: 5.0, 270237: 5.0, 462989: 5.0, 121619: 4.0, 153626: 4.0, 187757: 4.0, 489029: 0.0, 585557: 0.0, 344070: 14.0, 79219: 3.0, 913466: 3.0, 511666: 3.0, 488511: 3.0, 204969: 3.0, 809836: 3.0, 745896: 4.0, 867210: 0.0, 82489: 0.0, 922488: 0.0, 755636: 0.0, 416078: 4.0, 37052: 3.0, 153680: 5.0, 814888: 3.0, 70015: 2.0, 543367: 5.0, 580342: 1.0, 834915: 1.0, 50307: 1.0, 488958: 1.0, 938801: 1.0, 937691: 0.0, 228327: 0.0, 777660: 0.0, 293908: 0.0, 232213: 0.0, 792059: 0.0, 587868: 0.0, 13626: 0.0, 582709: 0.0, 495932: 0.0, 247032: 0.0, 543523: 5.0, 522841: 1.0, 142557: 1.0, 539891: 1.0, 479534: 1.0, 367184: 1.0, 216984: 1.0, 374098: 1.0, 780879: 1.0, 304620: 0.0, 747699: 3.0, 124639: 1.0, 763450: 1.0, 879264: 0.0, 580392: 3.0, 293104: 0.0, 270591: 0.0, 294491: 12.0, 459064: 0.0, 123639: 1.0, 66568: 1.0, 692203: 1.0, 717022: 1.0, 683967: 1.0, 93338: 1.0, 232048: 1.0, 866252: 2.0, 334697: 2.0, 17109: 0.0, 828937: 3.0, 640470: 3.0, 484970: 3.0, 39983: 3.0, 183592: 0.0, 186079: 4.0, 794528: 2.0, 798203: 2.0, 159810: 2.0, 956249: 2.0, 306318: 2.0, 801103: 2.0, 773690: 2.0, 147944: 2.0, 128996: 0.0, 373957: 0.0, 115956: 3.0, 960742: 3.0, 244585: 5.0, 426972: 4.0, 869094: 20.0, 689109: 5.0, 863655: 5.0, 694991: 4.0, 828376: 3.0, 7526: 3.0, 905843: 2.0, 269867: 23.0, 545213: 3.0, 717241: 0.0, 854282: 0.0, 747074: 0.0, 521217: 0.0, 814450: 0.0, 451868: 0.0, 294272: 0.0, 103648: 0.0, 243289: 0.0, 406176: 5.0, 630873: 0.0, 889047: 0.0, 237701: 1.0, 42977: 1.0, 673608: 6.0, 541266: 5.0, 469222: 3.0, 948017: 3.0, 370466: 2.0, 562708: 2.0, 239070: 2.0, 559496: 2.0, 320197: 2.0, 509638: 2.0, 704114: 2.0, 482604: 2.0, 916086: 2.0, 770726: 2.0, 672131: 2.0, 204768: 1.0, 468445: 4.0, 855439: 5.0, 608050: 0.0, 529139: 0.0, 845858: 10.0, 898300: 5.0, 824590: 0.0, 372666: 0.0, 243800: 1.0, 697898: 16.0, 767465: 5.0, 630390: 3.0, 770566: 3.0, 780441: 2.0, 313826: 4.0, 161059: 1.0, 17947: 1.0, 730407: 1.0, 625030: 6.0, 567712: 6.0, 671444: 0.0, 337844: 0.0, 828526: 0.0, 320352: 1.0, 923874: 1.0, 745281: 0.0, 279276: 0.0, 20983: 0.0, 491085: 0.0, 836249: 0.0, 159282: 0.0, 728851: 0.0, 638353: 5.0, 656616: 0.0, 11877: 0.0, 663598: 0.0, 572542: 0.0, 170945: 0.0, 709934: 0.0, 317390: 0.0, 511622: 0.0, 321315: 0.0, 654872: 3.0, 388772: 0.0, 748027: 1.0, 298549: 1.0, 510131: 1.0, 68127: 5.0, 468052: 0.0, 830723: 5.0, 25047: 7.0, 635558: 0.0, 112683: 0.0, 604855: 1.0, 792667: 5.0, 55431: 1.0, 303930: 0.0, 91248: 0.0, 843842: 3.0, 325303: 4.0, 155409: 0.0, 397865: 0.0, 822102: 0.0, 686336: 0.0, 775299: 0.0, 273430: 1.0, 689989: 1.0, 615708: 1.0, 747315: 0.0, 653557: 0.0, 886989: 0.0, 90783: 0.0, 9427: 0.0, 642413: 1.0, 945444: 0.0, 107116: 4.0, 506382: 1.0, 917050: 14.0, 931689: 10.0, 605348: 0.0, 396854: 5.0, 604570: 4.0, 726632: 0.0, 192473: 4.0, 282885: 4.0, 205092: 5.0, 228449: 0.0, 960286: 0.0, 885171: 0.0, 550842: 0.0, 419785: 0.0, 160885: 1.0, 534598: 1.0, 560229: 4.0, 336764: 1.0, 325732: 1.0, 200800: 3.0, 604863: 0.0, 83396: 0.0, 527251: 0.0, 361608: 0.0, 901562: 0.0, 547866: 0.0, 905769: 0.0, 366601: 3.0, 128725: 1.0, 20373: 1.0, 631930: 1.0, 252497: 1.0, 76375: 7.0, 649347: 0.0, 688858: 0.0, 320085: 0.0, 399558: 0.0, 939523: 0.0, 933194: 0.0, 108891: 0.0, 302987: 8.0, 56598: 9.0, 343900: 13.0, 394694: 3.0, 691869: 10.0, 499915: 3.0, 47920: 2.0, 463956: 0.0, 157535: 0.0, 464075: 0.0, 289225: 0.0, 214804: 0.0, 215277: 0.0, 706151: 0.0, 500649: 0.0, 799713: 0.0, 50433: 0.0, 849514: 0.0, 10720: 0.0, 425045: 0.0, 847031: 0.0, 136678: 0.0, 840377: 0.0, 921368: 0.0, 598733: 0.0, 161465: 0.0, 639592: 5.0, 468405: 3.0, 819091: 3.0, 48353: 5.0, 830298: 5.0, 580605: 3.0, 952376: 3.0, 433948: 5.0, 254337: 2.0, 156007: 0.0, 590671: 1.0, 598103: 1.0, 411045: 3.0, 524696: 10.0, 294019: 1.0, 217521: 0.0, 837502: 0.0, 335676: 3.0, 856736: 3.0, 200292: 3.0, 664925: 2.0, 913221: 0.0, 924888: 0.0, 858802: 1.0, 7568: 0.0, 853283: 0.0, 628999: 0.0, 263939: 5.0, 850118: 7.0, 610777: 8.0, 314760: 15.0, 804517: 10.0, 277437: 0.0, 806681: 4.0, 219345: 8.0, 721647: 3.0, 862753: 3.0, 61899: 14.0, 53582: 3.0, 730353: 4.0, 959889: 4.0, 570969: 4.0, 550538: 3.0, 735791: 3.0, 933787: 1.0, 171692: 5.0, 663310: 5.0, 577250: 3.0, 719988: 5.0, 364592: 0.0, 17294: 0.0, 213083: 0.0, 180241: 0.0, 810079: 1.0, 351286: 1.0, 479190: 2.0, 463823: 5.0, 845486: 0.0, 287001: 0.0, 676049: 0.0, 100709: 9.0, 751410: 5.0, 307034: 4.0, 93222: 7.0, 474993: 1.0, 740500: 6.0, 683355: 5.0, 699923: 5.0, 636823: 3.0, 675158: 0.0, 956356: 5.0, 66062: 4.0, 499106: 3.0, 481134: 3.0, 125718: 2.0, 751829: 2.0, 390743: 2.0, 753501: 1.0, 487431: 0.0, 892299: 2.0, 287466: 0.0, 695278: 0.0, 699859: 6.0, 616023: 3.0, 245286: 0.0, 676908: 0.0, 708597: 3.0, 317136: 8.0, 946151: 3.0, 764557: 3.0, 870524: 3.0, 130332: 3.0, 465527: 3.0, 516217: 2.0, 755739: 6.0, 139017: 0.0, 744512: 5.0, 903237: 5.0, 665208: 1.0, 781745: 1.0, 608204: 5.0, 113406: 1.0, 590137: 1.0, 304282: 1.0, 900382: 0.0, 662730: 0.0, 638259: 0.0, 628493: 5.0, 416610: 5.0, 883470: 4.0, 76339: 4.0, 345660: 3.0, 215061: 3.0, 885216: 0.0, 478144: 0.0, 582919: 5.0, 649749: 1.0, 250338: 1.0, 277292: 5.0, 913158: 0.0, 749782: 0.0, 816747: 0.0, 715849: 0.0, 936793: 3.0, 428831: 7.0, 136882: 3.0, 251128: 3.0, 555081: 3.0, 215690: 3.0, 587998: 3.0, 41498: 3.0, 190895: 3.0, 4096: 0.0, 960810: 0.0, 707052: 0.0, 32747: 0.0, 317777: 8.0, 131560: 4.0, 610397: 5.0, 612159: 3.0, 263643: 3.0, 370852: 0.0, 476354: 0.0, 101717: 0.0, 368627: 0.0, 117152: 0.0, 611987: 0.0, 129676: 0.0, 506256: 0.0, 112871: 0.0, 528862: 0.0, 514450: 0.0, 638599: 4.0, 248593: 4.0, 613529: 4.0, 710144: 1.0, 676764: 3.0, 794757: 1.0, 851622: 4.0, 200974: 4.0, 511402: 4.0, 544551: 6.0, 883777: 0.0, 136337: 1.0, 276851: 0.0, 249863: 0.0, 168873: 0.0, 297882: 0.0, 947463: 0.0, 579872: 4.0, 471403: 3.0, 204647: 3.0, 868549: 3.0, 292292: 0.0, 220430: 0.0, 903418: 0.0, 732032: 0.0, 400845: 1.0, 179052: 5.0, 42226: 0.0, 580532: 0.0, 597559: 0.0, 455424: 0.0, 556484: 0.0, 118865: 0.0, 593752: 0.0, 611025: 3.0, 254477: 3.0, 763518: 2.0, 716572: 4.0, 947246: 4.0, 691322: 0.0, 207860: 0.0, 839873: 3.0, 415428: 1.0, 673147: 5.0, 799055: 2.0, 643252: 2.0, 336556: 3.0, 803770: 0.0, 743928: 3.0, 540543: 1.0, 468554: 0.0, 231271: 3.0, 570353: 3.0, 551259: 3.0, 744877: 3.0, 83164: 3.0, 776346: 3.0, 850092: 3.0, 784362: 3.0, 103253: 3.0, 289704: 1.0, 258003: 1.0, 816: 1.0, 714568: 1.0, 428340: 5.0, 679992: 1.0, 914969: 3.0, 667179: 0.0, 68451: 5.0, 198291: 5.0, 600373: 1.0, 947631: 0.0, 265162: 0.0, 241370: 0.0, 83625: 0.0, 56355: 3.0, 898913: 1.0, 25710: 1.0, 99745: 1.0, 105595: 0.0, 73443: 4.0, 550643: 5.0, 574693: 4.0, 138729: 3.0, 814971: 3.0, 621431: 2.0, 418940: 2.0, 948787: 2.0, 293913: 1.0, 674448: 0.0, 964387: 1.0, 291854: 1.0, 666670: 1.0, 558501: 0.0, 170011: 0.0, 8099: 0.0, 351548: 0.0, 456256: 0.0, 11447: 0.0, 13252: 0.0, 534542: 0.0, 127127: 1.0, 104630: 0.0, 782430: 0.0, 85132: 3.0, 472729: 0.0, 714202: 0.0, 661667: 5.0, 109677: 5.0, 19702: 5.0, 34392: 4.0, 759571: 4.0, 99968: 4.0, 161393: 3.0, 370837: 3.0, 401110: 6.0, 644908: 2.0, 229175: 2.0, 860077: 2.0, 580987: 2.0, 272924: 2.0, 399606: 2.0, 131499: 1.0, 627760: 1.0, 637436: 1.0, 462207: 1.0, 425903: 1.0, 817739: 5.0, 30932: 5.0, 751540: 7.0, 829403: 2.0, 436130: 1.0, 749595: 0.0, 97561: 0.0, 241928: 0.0, 780170: 0.0, 580470: 1.0, 39025: 0.0, 52914: 0.0, 743642: 5.0, 381442: 0.0, 899375: 7.0, 710159: 7.0, 469843: 3.0, 743198: 6.0, 776988: 3.0, 105776: 5.0, 845623: 5.0, 743752: 5.0, 174707: 2.0, 464891: 0.0, 815576: 5.0, 487019: 1.0, 884276: 1.0, 605242: 3.0, 446121: 5.0, 420335: 0.0, 161729: 3.0, 155761: 0.0, 591911: 0.0, 610215: 0.0, 965059: 4.0, 715821: 1.0, 347282: 12.0, 440933: 5.0, 559323: 5.0, 34494: 5.0, 143171: 5.0, 680421: 0.0, 332410: 0.0, 758102: 0.0, 486666: 0.0, 520507: 0.0, 529658: 3.0, 417110: 3.0, 547753: 3.0, 395389: 3.0, 525212: 1.0, 549958: 0.0, 457623: 5.0, 315577: 1.0, 785307: 1.0, 130934: 1.0, 757584: 1.0, 245987: 1.0, 624028: 1.0, 676745: 1.0, 688193: 1.0, 477849: 1.0, 921945: 5.0, 681662: 4.0, 558520: 4.0, 834965: 4.0, 760500: 4.0, 591722: 4.0, 791937: 3.0, 647606: 3.0, 526576: 0.0, 376690: 0.0, 586483: 0.0, 242420: 0.0, 952680: 0.0, 509635: 2.0, 823624: 0.0, 686504: 0.0, 402568: 0.0, 885953: 0.0, 199626: 0.0, 779563: 0.0, 67315: 1.0, 751204: 0.0, 790843: 0.0, 357543: 0.0, 790538: 0.0, 278027: 0.0, 537966: 0.0, 187829: 6.0, 623055: 1.0, 579014: 0.0, 354384: 6.0, 884487: 1.0, 252397: 5.0, 388533: 1.0, 586398: 1.0, 343861: 1.0, 912094: 1.0, 84629: 0.0, 933484: 5.0, 453054: 1.0, 119331: 1.0, 327780: 1.0, 135605: 1.0, 328225: 1.0, 329039: 1.0, 240911: 1.0, 188021: 1.0, 692922: 1.0, 914483: 1.0, 2925: 1.0, 732019: 1.0, 387003: 1.0, 729250: 1.0, 574063: 1.0, 346841: 1.0, 620218: 1.0, 220675: 1.0, 489447: 7.0, 113420: 3.0, 541246: 3.0, 468866: 3.0, 829760: 2.0, 781234: 1.0, 199116: 1.0, 370213: 5.0, 582325: 5.0, 303571: 5.0, 790309: 8.0, 613876: 5.0, 327748: 13.0, 61021: 6.0, 536411: 1.0, 151990: 5.0, 13674: 0.0, 802414: 3.0, 432486: 1.0, 536791: 1.0, 590267: 1.0, 591031: 5.0, 129693: 0.0, 224115: 0.0, 499378: 0.0, 502308: 0.0, 778836: 0.0, 63901: 0.0, 866672: 0.0, 255991: 0.0, 153429: 1.0, 316646: 0.0, 559772: 0.0, 384921: 0.0, 890730: 0.0, 781249: 3.0, 105472: 0.0, 287942: 2.0, 237028: 0.0, 105736: 0.0, 24812: 0.0, 140258: 0.0, 98274: 0.0, 98354: 0.0, 675935: 0.0, 451885: 4.0, 407461: 3.0, 56469: 4.0, 281353: 4.0, 715289: 4.0, 253284: 4.0, 162164: 4.0, 860705: 3.0, 464170: 1.0, 867196: 5.0, 858936: 5.0, 888564: 4.0, 463891: 0.0, 499764: 1.0, 385860: 0.0, 401994: 0.0, 672901: 0.0, 287883: 0.0, 58069: 5.0, 891030: 0.0, 745022: 1.0, 444763: 0.0, 248242: 1.0, 103096: 0.0, 139842: 3.0, 640817: 0.0, 294501: 0.0, 437904: 3.0, 697938: 0.0, 620534: 0.0, 435218: 0.0, 137029: 0.0, 584672: 0.0, 346110: 0.0, 363269: 0.0, 533694: 0.0, 117562: 1.0, 841946: 1.0, 156579: 1.0, 934797: 3.0, 19825: 3.0, 858222: 0.0, 151687: 0.0, 872932: 0.0, 810771: 0.0, 493138: 5.0, 429156: 3.0, 522147: 4.0, 951930: 4.0, 700980: 4.0, 581031: 4.0, 595847: 4.0, 268487: 3.0, 948964: 4.0, 434113: 4.0, 859001: 3.0, 508889: 0.0, 634761: 9.0, 383179: 5.0, 391756: 5.0, 530618: 5.0, 710524: 8.0, 789085: 4.0, 546527: 3.0, 696779: 3.0, 650071: 3.0, 693974: 3.0, 336271: 3.0, 959421: 3.0, 595105: 3.0, 340950: 7.0, 109561: 8.0, 607891: 3.0, 19419: 3.0, 596625: 5.0, 549929: 5.0, 136194: 5.0, 492005: 5.0, 26290: 3.0, 695763: 3.0, 469473: 5.0, 859194: 0.0, 445129: 4.0, 619299: 0.0, 738779: 0.0, 821002: 0.0, 206639: 0.0, 924155: 0.0, 251176: 2.0, 113549: 1.0, 199987: 1.0, 847675: 10.0, 170000: 1.0, 632856: 6.0, 209315: 1.0, 946790: 3.0, 825720: 3.0, 620962: 2.0, 402193: 0.0, 125304: 14.0, 168976: 5.0, 775187: 5.0, 12972: 0.0, 416159: 5.0, 954662: 3.0, 132804: 0.0, 345093: 0.0, 193620: 0.0, 664236: 0.0, 289735: 0.0, 794580: 0.0, 360178: 0.0, 349574: 0.0, 390454: 0.0, 436152: 0.0, 396002: 3.0, 681189: 1.0, 327709: 9.0, 257422: 7.0, 128983: 0.0, 930072: 0.0, 822199: 0.0, 897: 0.0, 222348: 0.0, 681193: 0.0, 759787: 10.0, 654898: 0.0, 138087: 13.0, 839101: 3.0, 607927: 0.0, 518786: 0.0, 674120: 0.0, 353849: 5.0, 400920: 5.0, 523337: 0.0, 525015: 0.0, 439798: 1.0, 2865: 0.0, 319969: 4.0, 630482: 6.0, 421661: 4.0, 573612: 3.0, 224151: 3.0, 435798: 3.0, 910390: 8.0, 798996: 0.0, 157625: 0.0, 64776: 0.0, 412695: 0.0, 327705: 0.0, 879005: 0.0, 915719: 0.0, 766131: 0.0, 838563: 0.0, 737546: 0.0, 927193: 0.0, 396985: 4.0, 74172: 0.0, 532466: 0.0, 533620: 0.0, 236861: 0.0, 95233: 0.0, 155317: 0.0, 284521: 0.0, 565588: 4.0, 732755: 3.0, 575890: 3.0, 557489: 5.0, 497822: 2.0, 472804: 0.0, 493740: 1.0, 760696: 1.0, 225630: 1.0, 756429: 2.0, 482419: 1.0, 222937: 1.0, 352960: 1.0, 945686: 1.0, 355121: 1.0, 79578: 1.0, 432460: 1.0, 494229: 6.0, 526436: 1.0, 328609: 1.0, 698813: 1.0, 892547: 0.0, 833991: 0.0, 445419: 0.0, 856941: 5.0, 336902: 8.0, 289245: 5.0, 919883: 5.0, 223459: 5.0, 496337: 9.0, 333536: 3.0, 259269: 3.0, 331604: 3.0, 216238: 4.0, 931352: 9.0, 21490: 0.0, 654205: 0.0, 77047: 0.0, 389804: 3.0, 578884: 1.0, 606371: 1.0, 196521: 1.0, 78619: 0.0, 606653: 1.0, 461882: 0.0, 638292: 0.0, 699026: 0.0, 658674: 0.0, 824608: 1.0, 716470: 9.0, 392171: 0.0, 420333: 0.0, 790621: 0.0, 515308: 0.0, 207870: 0.0, 574263: 0.0, 302638: 0.0, 736490: 0.0, 770604: 4.0, 187690: 4.0, 637135: 0.0, 139084: 0.0, 388715: 3.0, 360962: 0.0, 313079: 0.0, 199894: 0.0, 523094: 0.0, 51605: 0.0, 94364: 0.0, 886267: 0.0, 844748: 0.0, 74585: 0.0, 556662: 0.0, 208140: 0.0, 753166: 0.0, 142482: 0.0, 20215: 0.0, 542060: 0.0, 765717: 0.0, 406788: 0.0, 108368: 2.0, 435354: 1.0, 556660: 1.0, 699142: 1.0, 429105: 5.0, 192845: 0.0, 412471: 0.0, 929457: 3.0, 457591: 0.0, 432314: 4.0, 442654: 17.0, 703328: 4.0, 917747: 2.0, 881116: 3.0, 307572: 8.0, 489871: 1.0, 493907: 1.0, 672995: 1.0, 209831: 1.0, 363230: 1.0, 34619: 1.0, 460725: 1.0, 338357: 5.0, 660840: 1.0, 565334: 1.0, 217091: 1.0, 614135: 1.0, 926621: 1.0, 569849: 2.0, 172169: 1.0, 19834: 1.0, 806372: 1.0, 439171: 1.0, 435069: 1.0, 630036: 1.0, 440936: 1.0, 476289: 3.0, 803915: 3.0, 925286: 5.0, 19346: 0.0, 393831: 0.0, 687995: 4.0, 119860: 0.0, 472599: 0.0, 920043: 1.0, 691954: 1.0, 19215: 1.0, 433994: 1.0, 305867: 4.0, 776145: 5.0, 428411: 1.0, 477140: 4.0, 610662: 4.0, 272589: 3.0, 831362: 2.0, 875958: 4.0, 308869: 6.0, 549878: 3.0, 658349: 0.0, 964672: 0.0, 46222: 0.0, 803661: 0.0, 345564: 2.0, 714520: 0.0, 368021: 2.0, 815731: 2.0, 828161: 5.0, 62963: 1.0, 508037: 1.0, 865330: 1.0, 630992: 0.0, 838994: 1.0, 210031: 7.0, 933546: 4.0, 27327: 0.0, 20098: 0.0, 195284: 0.0, 916882: 2.0, 700017: 2.0, 821830: 2.0, 834266: 2.0, 964063: 1.0, 683968: 1.0, 120383: 1.0, 302781: 1.0, 51108: 1.0, 174413: 1.0, 725467: 0.0, 763376: 0.0, 910675: 5.0, 242615: 0.0, 670371: 1.0, 705636: 1.0, 181344: 3.0, 106718: 3.0, 763958: 2.0, 665397: 2.0, 419366: 2.0, 279639: 5.0, 891860: 4.0, 286537: 4.0, 845320: 5.0, 486759: 5.0, 285618: 16.0, 648781: 0.0, 513214: 0.0, 357107: 4.0, 57696: 0.0, 432286: 0.0, 432201: 0.0, 310398: 0.0, 615590: 0.0, 590818: 0.0, 752915: 0.0, 201273: 0.0, 639126: 0.0, 138551: 0.0, 452780: 0.0, 817890: 0.0, 140541: 0.0, 167290: 0.0, 153502: 0.0, 402995: 0.0, 822554: 0.0, 402454: 5.0, 197541: 4.0, 896257: 4.0, 521534: 0.0, 158840: 0.0, 552198: 0.0, 304217: 0.0, 279251: 0.0, 915886: 0.0, 197207: 4.0, 948931: 0.0, 409439: 0.0, 18924: 0.0, 446795: 0.0, 101170: 0.0, 665121: 0.0, 706031: 0.0, 680822: 0.0, 411995: 0.0, 763073: 5.0, 249014: 5.0, 333842: 9.0, 889096: 0.0, 909724: 1.0, 821946: 1.0, 855264: 2.0, 916374: 0.0, 744144: 0.0, 544112: 0.0, 4759: 0.0, 200926: 0.0, 153273: 0.0, 27355: 0.0, 894413: 0.0, 288329: 0.0, 19388: 0.0, 644649: 0.0, 739736: 0.0, 244768: 0.0, 519572: 0.0, 687897: 0.0, 854993: 0.0, 638327: 0.0, 806504: 1.0, 544450: 0.0, 534984: 0.0, 503200: 5.0, 730787: 5.0, 612356: 4.0, 714482: 10.0, 803843: 7.0, 294210: 10.0, 445527: 0.0, 669729: 1.0, 336801: 0.0, 183420: 3.0, 729011: 2.0, 256431: 4.0, 353232: 3.0, 729744: 4.0, 467608: 12.0, 614209: 4.0, 302060: 1.0, 248617: 1.0, 878870: 1.0, 559644: 1.0, 34599: 1.0, 658097: 0.0, 551190: 0.0, 230430: 4.0, 660523: 3.0, 535151: 0.0, 517483: 0.0, 593113: 0.0, 848298: 0.0, 290103: 0.0, 732147: 0.0, 345184: 0.0, 807652: 0.0, 893803: 0.0, 531364: 0.0, 121417: 0.0, 175277: 0.0, 856998: 0.0, 145741: 0.0, 227789: 0.0, 421757: 0.0, 749075: 0.0, 306570: 0.0, 436672: 5.0, 236614: 0.0, 241389: 0.0, 912346: 0.0, 565488: 0.0, 402344: 0.0, 621837: 0.0, 656314: 3.0, 325443: 0.0, 829845: 0.0, 662943: 5.0, 577126: 4.0, 704326: 4.0, 279329: 4.0, 865230: 0.0, 904674: 0.0, 333442: 0.0, 183097: 5.0, 8702: 0.0, 644030: 1.0, 40300: 0.0, 317615: 5.0, 255378: 5.0, 148193: 1.0, 540965: 1.0, 768136: 5.0, 738551: 5.0, 833008: 5.0, 395581: 1.0, 636020: 4.0, 528894: 0.0, 911898: 0.0, 20299: 0.0, 919063: 0.0, 687549: 2.0, 616245: 0.0, 302006: 0.0, 23759: 0.0, 110782: 0.0, 932519: 0.0, 166271: 0.0, 831849: 0.0, 644548: 0.0, 570186: 0.0, 886060: 0.0, 314897: 0.0, 35436: 0.0, 668239: 0.0, 406801: 0.0, 702402: 0.0, 351755: 0.0, 188366: 0.0, 567409: 0.0, 284547: 0.0, 427499: 0.0, 426676: 0.0, 817849: 5.0, 719333: 3.0, 626185: 3.0, 191584: 3.0, 872606: 5.0, 490923: 0.0, 562604: 0.0, 545339: 0.0, 465462: 4.0, 953372: 0.0, 873986: 5.0, 395249: 5.0, 944547: 5.0, 24439: 4.0, 202963: 2.0, 361842: 2.0, 956037: 0.0, 381807: 0.0, 377706: 8.0, 129638: 0.0, 57165: 5.0, 475171: 5.0, 673939: 0.0, 795204: 0.0, 769833: 1.0, 675047: 1.0, 386489: 1.0, 282766: 0.0, 702235: 0.0, 545564: 3.0, 188321: 3.0, 219374: 5.0, 583157: 5.0, 596509: 0.0, 832260: 2.0, 367784: 2.0, 66773: 2.0, 386686: 3.0, 797542: 3.0, 128794: 8.0, 97681: 3.0, 412347: 9.0, 851821: 5.0, 12488: 3.0, 910319: 5.0, 495701: 5.0, 500358: 3.0, 44778: 0.0, 852270: 4.0, 676890: 4.0, 394725: 4.0, 395815: 4.0, 843442: 3.0, 34617: 3.0, 598468: 3.0, 90464: 2.0, 17799: 2.0, 703249: 2.0, 657506: 2.0, 910367: 2.0, 287154: 2.0, 960504: 3.0, 638189: 0.0, 128003: 0.0, 967967: 0.0, 35619: 0.0, 526828: 0.0, 871837: 0.0, 131128: 0.0, 544462: 0.0, 577279: 10.0, 841622: 1.0, 959552: 5.0, 208991: 4.0, 597033: 7.0, 364557: 10.0, 875032: 1.0, 816044: 1.0, 569558: 1.0, 781475: 1.0, 456204: 1.0, 438027: 6.0, 833464: 3.0, 761835: 2.0, 155379: 2.0, 884500: 2.0, 256805: 5.0, 393892: 5.0, 398492: 3.0, 511379: 3.0, 415591: 3.0, 120566: 2.0, 558027: 2.0, 969447: 0.0, 57714: 5.0, 362645: 0.0, 256246: 0.0, 287878: 0.0, 833934: 0.0, 524509: 3.0, 317995: 0.0, 459172: 0.0, 778650: 0.0, 824064: 5.0, 281309: 3.0, 371168: 0.0, 644943: 2.0, 584237: 5.0, 546761: 5.0, 715741: 4.0, 229739: 0.0, 258421: 0.0, 772071: 0.0, 162772: 0.0, 950395: 0.0, 913339: 0.0, 336034: 0.0, 241221: 0.0, 745653: 3.0, 531360: 0.0, 154258: 5.0, 423863: 0.0, 922729: 0.0, 300465: 3.0, 392615: 3.0, 324164: 3.0, 88403: 3.0, 819054: 3.0, 507055: 3.0, 335475: 0.0, 477470: 0.0, 570623: 3.0, 676388: 0.0, 838042: 1.0, 255606: 1.0, 962351: 1.0, 862471: 1.0, 288322: 1.0, 155363: 2.0, 546086: 2.0, 709306: 2.0, 436160: 1.0, 494362: 1.0, 600761: 0.0, 496010: 0.0, 416991: 0.0, 914971: 0.0, 788908: 1.0, 184525: 0.0, 572650: 4.0, 84913: 3.0, 76248: 3.0, 492755: 8.0, 918002: 5.0, 874921: 5.0, 541503: 5.0, 673000: 5.0, 331807: 5.0, 283301: 5.0, 849363: 4.0, 954156: 1.0, 944749: 0.0, 728809: 0.0, 597214: 1.0, 547326: 0.0, 932369: 3.0, 436508: 3.0, 694587: 3.0, 472577: 3.0, 859332: 3.0, 936119: 2.0, 969281: 2.0, 440175: 5.0, 444161: 3.0, 459332: 3.0, 698136: 5.0, 849772: 0.0, 543282: 1.0, 834004: 0.0, 465695: 1.0, 894673: 1.0, 901170: 1.0, 617830: 0.0, 925713: 0.0, 518487: 0.0, 840614: 0.0, 138188: 0.0, 453090: 0.0, 282858: 0.0, 263751: 0.0, 157881: 0.0, 908103: 4.0, 5179: 0.0, 173154: 0.0, 372303: 0.0, 851037: 0.0, 457753: 0.0, 117414: 0.0, 700840: 0.0, 685410: 3.0, 13858: 0.0, 676385: 0.0, 408621: 0.0, 963027: 1.0, 165754: 1.0, 184343: 2.0, 44555: 2.0, 198141: 2.0, 236412: 5.0, 683245: 0.0, 209436: 0.0, 409113: 0.0, 700926: 0.0, 419121: 1.0, 153441: 1.0, 348962: 0.0, 784576: 0.0, 626905: 0.0, 166039: 1.0, 865568: 1.0, 346010: 1.0, 561128: 1.0, 278917: 2.0, 717398: 9.0, 387262: 0.0, 231114: 5.0, 397180: 1.0, 415016: 9.0, 716035: 3.0, 45031: 3.0, 130835: 5.0, 651843: 4.0, 225108: 1.0, 301277: 0.0, 94738: 5.0, 523422: 0.0, 914251: 3.0, 714365: 4.0, 928341: 4.0, 25674: 3.0, 163644: 3.0, 151655: 3.0, 699714: 3.0, 619250: 0.0, 591014: 7.0, 162810: 2.0, 141665: 4.0, 284465: 4.0, 629914: 3.0, 615861: 4.0, 36583: 5.0, 460769: 3.0, 243675: 5.0, 688420: 5.0, 366506: 5.0, 885908: 5.0, 424102: 4.0, 594289: 4.0, 968239: 3.0, 230000: 3.0, 823902: 3.0, 545284: 3.0, 635605: 3.0, 644891: 2.0, 196111: 2.0, 512802: 2.0, 681994: 2.0, 444467: 2.0, 929340: 2.0, 190431: 2.0, 726609: 5.0, 729442: 6.0, 849824: 0.0, 34020: 0.0, 797141: 0.0, 196483: 0.0, 288600: 5.0, 217785: 5.0, 947192: 3.0, 912674: 5.0, 162131: 5.0, 119874: 0.0, 284428: 0.0, 202199: 4.0, 754010: 4.0, 570644: 5.0, 581360: 4.0, 580372: 4.0, 245380: 4.0, 266927: 4.0, 303342: 1.0, 474277: 4.0, 463234: 5.0, 469544: 3.0, 10183: 3.0, 103471: 1.0, 564970: 1.0, 889469: 1.0, 527225: 5.0, 640777: 5.0, 967188: 11.0, 484575: 6.0, 65451: 20.0, 850348: 3.0, 222494: 3.0, 71191: 3.0, 229346: 3.0, 869006: 3.0, 258388: 3.0, 846526: 1.0, 931153: 1.0, 382421: 2.0, 685462: 1.0, 140009: 0.0, 554677: 1.0, 739492: 1.0, 571430: 1.0, 869951: 1.0, 329200: 1.0, 839546: 0.0, 739351: 0.0, 235593: 4.0, 378254: 0.0, 624815: 2.0, 126755: 2.0, 313744: 2.0, 791335: 2.0, 201725: 2.0, 684069: 2.0, 592737: 2.0, 355795: 0.0, 654736: 0.0, 957994: 0.0, 424706: 0.0, 711627: 7.0, 241586: 3.0, 83097: 3.0, 376583: 0.0, 305647: 0.0, 267409: 0.0, 944523: 0.0, 179679: 0.0, 226634: 0.0, 75981: 0.0, 6163: 0.0, 420148: 0.0, 303362: 0.0, 953368: 0.0, 588813: 0.0, 592950: 0.0, 10051: 0.0, 625419: 0.0, 920599: 0.0, 648387: 0.0, 710040: 0.0, 939645: 0.0, 550388: 0.0, 111633: 0.0, 567870: 0.0, 68506: 0.0, 669523: 0.0, 451008: 0.0, 373108: 0.0, 482628: 0.0, 615133: 0.0, 794064: 0.0, 856093: 0.0, 634437: 0.0, 194198: 0.0, 824094: 0.0, 348830: 0.0, 781426: 0.0, 852431: 0.0, 529376: 0.0, 562612: 0.0, 232153: 0.0, 499501: 0.0, 194819: 0.0, 196355: 0.0, 382558: 0.0, 177212: 0.0, 873318: 0.0, 395634: 0.0, 484549: 0.0, 869561: 0.0, 268971: 0.0, 44195: 0.0, 283193: 0.0, 807615: 0.0, 126033: 0.0, 185703: 0.0, 327922: 0.0, 381939: 0.0, 23396: 0.0, 753478: 0.0, 273928: 0.0, 317922: 0.0, 354776: 5.0, 784118: 9.0, 441590: 4.0, 13757: 8.0, 924946: 0.0, 188676: 0.0, 663702: 0.0, 234332: 0.0, 541010: 0.0, 316654: 0.0, 245322: 0.0, 620507: 0.0, 182767: 0.0, 316663: 0.0, 162649: 0.0, 715871: 0.0, 591418: 0.0, 264645: 0.0, 494134: 0.0, 31044: 0.0, 191907: 5.0, 576919: 1.0, 842023: 5.0, 838731: 22.0, 920266: 14.0, 797922: 8.0, 271085: 12.0, 138368: 5.0, 86781: 0.0, 779961: 0.0, 590655: 0.0, 862051: 0.0, 661123: 0.0, 289355: 0.0, 465915: 0.0, 918902: 0.0, 873702: 0.0, 77371: 0.0, 949078: 0.0, 851401: 0.0, 52116: 4.0, 328351: 1.0, 915410: 3.0, 38943: 4.0, 613517: 3.0, 899575: 5.0, 276963: 5.0, 614398: 5.0, 247869: 4.0, 754246: 3.0, 56041: 5.0, 76701: 2.0, 925307: 5.0, 306204: 2.0, 705835: 2.0, 8598: 2.0, 236890: 2.0, 118543: 2.0, 870511: 2.0, 406239: 4.0, 937602: 2.0, 959441: 1.0, 351915: 1.0, 676064: 1.0, 515508: 1.0, 300545: 1.0, 159097: 1.0, 910915: 1.0, 689453: 1.0, 572180: 4.0, 280126: 3.0, 802755: 3.0, 636454: 3.0, 243508: 3.0, 59664: 0.0, 246410: 5.0, 615640: 5.0, 574643: 9.0, 317290: 0.0, 689636: 0.0, 322305: 5.0, 210571: 1.0, 564008: 1.0, 108743: 1.0, 717349: 6.0, 672985: 6.0, 812033: 4.0, 53336: 5.0, 67144: 5.0, 662195: 5.0, 565601: 0.0, 58373: 1.0, 205207: 1.0, 756163: 5.0, 941414: 4.0, 285170: 3.0, 472768: 2.0, 417241: 0.0, 533683: 0.0, 243854: 3.0, 18171: 3.0, 656817: 4.0, 761374: 1.0, 440399: 0.0, 200954: 5.0, 66308: 5.0, 736121: 5.0, 34568: 5.0, 863137: 0.0, 916936: 0.0, 142302: 0.0, 367571: 0.0, 725757: 0.0, 114449: 0.0, 532763: 5.0, 198943: 0.0, 295054: 0.0, 931351: 3.0, 680443: 3.0, 140939: 3.0, 806888: 2.0, 705858: 3.0, 193344: 3.0, 751546: 3.0, 167738: 8.0, 338387: 2.0, 74885: 5.0, 250196: 1.0, 928952: 1.0, 671307: 1.0, 437567: 1.0, 281125: 2.0, 591052: 1.0, 84348: 2.0, 290507: 2.0, 724115: 2.0, 541537: 1.0, 179012: 2.0, 565952: 1.0, 375995: 1.0, 527847: 1.0, 955644: 1.0, 413845: 1.0, 43241: 1.0, 90278: 1.0, 199194: 1.0, 905694: 2.0, 87430: 13.0, 378312: 0.0, 247699: 4.0, 533594: 5.0, 331471: 5.0, 650837: 4.0, 112919: 4.0, 708112: 1.0, 147575: 3.0, 908315: 3.0, 452326: 5.0, 786234: 5.0, 365506: 8.0, 548096: 5.0, 593337: 5.0, 562969: 5.0, 581169: 3.0, 749999: 3.0, 864549: 3.0, 84777: 3.0, 737277: 3.0, 776522: 3.0, 145518: 13.0, 328612: 3.0, 659395: 3.0, 872177: 3.0, 912115: 2.0, 690530: 2.0, 546712: 2.0, 57646: 10.0, 205830: 5.0, 633476: 0.0, 219565: 0.0, 770572: 4.0, 503355: 9.0, 1129: 0.0, 565121: 0.0, 50173: 4.0, 537656: 0.0, 505823: 0.0, 569325: 0.0, 777171: 0.0, 264291: 0.0, 884469: 1.0, 151266: 4.0, 735908: 1.0, 189270: 3.0, 690672: 5.0, 13711: 3.0, 705566: 3.0, 320687: 5.0, 893044: 2.0, 99953: 3.0, 309361: 3.0, 181755: 3.0, 472827: 3.0, 290158: 3.0, 653292: 0.0, 786288: 0.0, 329018: 0.0, 26538: 0.0, 820400: 0.0, 47974: 0.0, 249000: 1.0, 221893: 1.0, 281959: 5.0, 354911: 1.0, 55750: 3.0, 665336: 0.0, 181886: 0.0, 697391: 13.0, 452876: 5.0, 330704: 6.0, 428704: 5.0, 677453: 5.0, 420024: 5.0, 909953: 5.0, 531984: 5.0, 395494: 3.0, 691694: 3.0, 508961: 2.0, 280545: 1.0, 531608: 1.0, 215712: 5.0, 269064: 4.0, 156268: 4.0, 486853: 4.0, 434545: 3.0, 512432: 3.0, 249646: 3.0, 632146: 3.0, 423435: 3.0, 498305: 3.0, 668517: 3.0, 743737: 3.0, 147456: 3.0, 285768: 3.0, 141541: 0.0, 629841: 0.0, 149282: 0.0, 204021: 0.0, 751250: 1.0, 46185: 0.0, 136493: 0.0, 584543: 0.0, 648723: 0.0, 462206: 9.0, 845256: 3.0, 293819: 3.0, 700999: 3.0, 19953: 3.0, 636561: 3.0, 239488: 3.0, 102574: 3.0, 935140: 3.0, 767858: 2.0, 578104: 2.0, 508726: 4.0, 146562: 3.0, 817583: 3.0, 250463: 3.0, 824565: 3.0, 631329: 3.0, 517375: 3.0, 561156: 3.0, 671813: 3.0, 485015: 3.0, 806779: 3.0, 821886: 3.0, 554599: 3.0, 591819: 3.0, 133775: 3.0, 779913: 3.0, 33873: 5.0, 384553: 3.0, 293815: 7.0, 98822: 6.0, 682709: 0.0, 303842: 0.0, 829231: 0.0, 848968: 0.0, 197658: 6.0, 665384: 5.0, 270130: 2.0, 193305: 2.0, 875773: 0.0, 364729: 0.0, 804740: 3.0, 13656: 2.0, 769553: 0.0, 833193: 1.0, 370818: 5.0, 114634: 5.0, 191263: 2.0, 693618: 4.0, 370428: 2.0, 586452: 2.0, 732855: 2.0, 180086: 2.0, 395911: 2.0, 925213: 2.0, 276630: 2.0, 572803: 2.0, 730431: 2.0, 587057: 2.0, 955100: 5.0, 342382: 4.0, 216970: 1.0, 708581: 0.0, 584685: 0.0, 545804: 0.0, 69243: 0.0, 386891: 0.0, 845052: 0.0, 824618: 0.0, 725994: 5.0, 286219: 4.0, 922636: 4.0, 900488: 3.0, 515481: 3.0, 92311: 3.0, 321281: 4.0, 954764: 3.0, 211458: 3.0, 465393: 3.0, 11249: 3.0, 311878: 3.0, 187981: 3.0, 830222: 3.0, 29882: 3.0, 518985: 2.0, 859208: 2.0, 858946: 4.0, 230489: 0.0, 670721: 0.0, 408758: 0.0, 429418: 4.0, 481481: 4.0, 791155: 3.0, 50271: 3.0, 367945: 5.0, 641023: 6.0, 523171: 3.0, 608593: 3.0, 227945: 3.0, 113263: 3.0, 261469: 4.0, 923715: 4.0, 529367: 3.0, 674074: 0.0, 624981: 0.0, 686542: 0.0, 771829: 0.0, 77256: 0.0, 839061: 5.0, 243586: 5.0, 47567: 10.0, 290496: 0.0, 874818: 4.0, 879549: 5.0, 861471: 5.0, 388493: 5.0, 326903: 4.0, 504052: 4.0, 202804: 4.0, 82605: 3.0, 679458: 3.0, 555141: 3.0, 522149: 3.0, 497655: 3.0, 762747: 3.0, 242907: 3.0, 926680: 1.0, 730163: 1.0, 893952: 1.0, 580675: 4.0, 902115: 4.0, 801126: 4.0, 150111: 8.0, 348550: 4.0, 76133: 4.0, 245236: 4.0, 764253: 3.0, 654184: 3.0, 7147: 0.0, 332105: 0.0, 560416: 0.0, 236885: 0.0, 384569: 4.0, 161954: 0.0, 449162: 0.0, 186225: 0.0, 714309: 0.0, 419447: 0.0, 439835: 0.0, 828318: 0.0, 961322: 5.0, 456687: 4.0, 664868: 4.0, 96954: 4.0, 180736: 4.0, 963057: 1.0, 481837: 1.0, 718853: 5.0, 866430: 1.0, 694662: 1.0, 66652: 1.0, 703366: 1.0, 90467: 0.0, 621921: 0.0, 272179: 5.0, 89424: 3.0, 344510: 3.0, 118655: 3.0, 383890: 5.0, 256198: 1.0, 878664: 4.0, 239490: 1.0, 716720: 1.0, 943181: 1.0, 831241: 1.0, 570354: 4.0, 60600: 3.0, 145973: 3.0, 179554: 3.0, 838597: 3.0, 520435: 1.0, 226903: 3.0, 792420: 3.0, 500171: 1.0, 150454: 1.0, 774857: 1.0, 92811: 1.0, 254532: 0.0, 187235: 4.0, 82225: 0.0, 364338: 5.0, 709811: 5.0, 459: 3.0, 132961: 4.0, 813344: 5.0, 33952: 0.0, 721040: 0.0, 360720: 5.0, 706683: 4.0, 942935: 4.0, 386180: 4.0, 480838: 4.0, 781152: 4.0, 268083: 4.0, 664954: 4.0, 123584: 4.0, 86132: 4.0, 936804: 4.0, 760852: 3.0, 385685: 3.0, 53010: 3.0, 185957: 3.0, 781983: 3.0, 866143: 3.0, 826910: 3.0, 700701: 3.0, 816589: 3.0, 701570: 3.0, 142692: 3.0, 844654: 3.0, 500080: 3.0, 262568: 3.0, 170065: 3.0, 921102: 3.0, 684278: 3.0, 622041: 3.0, 312647: 3.0, 638129: 3.0, 47799: 3.0, 55123: 3.0, 301814: 3.0, 961285: 3.0, 488218: 3.0, 536098: 3.0, 735308: 3.0, 544686: 3.0, 77144: 3.0, 887507: 3.0, 66973: 3.0, 37828: 1.0, 847937: 0.0, 424506: 0.0, 961234: 0.0, 631347: 3.0, 896309: 3.0, 415210: 2.0, 355404: 2.0, 897320: 0.0, 257973: 0.0, 695082: 5.0, 440690: 5.0, 785520: 5.0, 789329: 5.0, 764549: 5.0, 388684: 5.0, 737311: 4.0, 293037: 0.0, 102679: 2.0, 955739: 0.0, 287403: 0.0, 552368: 0.0, 54676: 0.0, 18758: 3.0, 359502: 3.0, 572701: 3.0, 358838: 1.0, 699583: 1.0, 807826: 1.0, 271369: 0.0, 146810: 0.0, 407939: 0.0, 641700: 0.0, 742524: 0.0, 831722: 0.0, 894189: 0.0, 875021: 0.0, 421726: 0.0, 145133: 0.0, 811443: 3.0, 244659: 0.0, 673424: 0.0, 420677: 1.0, 453032: 1.0, 912943: 1.0, 625278: 0.0, 438197: 0.0, 875294: 4.0, 620692: 0.0, 646809: 0.0, 760180: 3.0, 918406: 0.0, 515565: 8.0, 729391: 0.0, 689917: 0.0, 676220: 0.0, 13988: 0.0, 368259: 0.0, 220191: 0.0, 463126: 0.0, 214274: 0.0, 719249: 4.0, 891619: 4.0, 106604: 3.0, 44668: 3.0, 843262: 3.0, 180553: 3.0, 724223: 3.0, 258142: 1.0, 153401: 1.0, 918412: 3.0, 277768: 4.0, 195673: 3.0, 336240: 2.0, 29433: 0.0, 561101: 5.0, 542895: 6.0, 350803: 2.0, 756708: 5.0, 160667: 4.0, 42090: 4.0, 660288: 4.0, 768411: 3.0, 607860: 3.0, 736561: 3.0, 52885: 1.0, 585700: 1.0, 301077: 3.0, 854988: 0.0, 366956: 5.0, 539420: 4.0, 265631: 7.0, 963434: 4.0, 637378: 4.0, 753784: 4.0, 320313: 3.0, 700596: 3.0, 870980: 3.0, 842551: 3.0, 247712: 3.0, 795529: 3.0, 659405: 3.0, 894780: 3.0, 499131: 3.0, 149862: 3.0, 444050: 3.0, 305817: 3.0, 328546: 2.0, 158273: 2.0, 751246: 2.0, 392499: 2.0, 139268: 0.0, 899444: 0.0, 494972: 0.0, 908371: 0.0, 781187: 5.0, 99903: 3.0, 669135: 4.0, 729808: 4.0, 140830: 4.0, 421634: 4.0, 540862: 3.0, 213732: 3.0, 832874: 2.0, 234781: 2.0, 686350: 4.0, 728033: 0.0, 771423: 4.0, 954884: 0.0, 499539: 8.0, 65062: 8.0, 722310: 0.0, 451799: 0.0, 146584: 0.0, 798556: 0.0, 700831: 0.0, 265385: 0.0, 481883: 0.0, 45290: 0.0, 966297: 0.0, 399510: 0.0, 292663: 0.0, 544744: 0.0, 892876: 0.0, 916327: 0.0, 831569: 0.0, 523676: 0.0, 596414: 0.0, 801291: 0.0, 474179: 0.0, 322174: 1.0, 434333: 4.0, 335648: 8.0, 775513: 8.0, 497877: 4.0, 935751: 3.0, 473651: 6.0, 849292: 3.0, 875376: 3.0, 671821: 3.0, 313290: 3.0, 707772: 3.0, 644743: 3.0, 302136: 0.0, 322211: 0.0, 461496: 3.0, 174831: 4.0, 257299: 4.0, 766613: 4.0, 291517: 3.0, 746961: 1.0, 275977: 1.0, 930526: 1.0, 629053: 1.0, 327793: 1.0, 773352: 1.0, 367512: 1.0, 354977: 1.0, 777753: 1.0, 507759: 1.0, 76432: 1.0, 874269: 5.0, 458060: 5.0, 567823: 5.0, 424898: 3.0, 564663: 8.0, 471066: 3.0, 186374: 9.0, 355533: 3.0, 296060: 7.0, 685955: 3.0, 807253: 2.0, 387828: 2.0, 578339: 0.0, 554104: 9.0, 524107: 4.0, 696423: 4.0, 18577: 4.0, 251540: 7.0, 625256: 3.0, 237392: 4.0, 887874: 3.0, 665860: 16.0, 202038: 5.0, 383846: 4.0, 31533: 4.0, 712186: 3.0, 743168: 3.0, 174796: 3.0, 954589: 3.0, 572222: 3.0, 116803: 3.0, 202269: 3.0, 813140: 3.0, 662740: 5.0, 574874: 6.0, 327815: 7.0, 449172: 3.0, 608833: 10.0, 619588: 3.0, 258275: 5.0, 588243: 5.0, 467412: 4.0, 292015: 5.0, 17654: 0.0, 199548: 0.0, 34955: 5.0, 811543: 3.0, 89005: 0.0, 80482: 0.0, 734469: 0.0, 313398: 0.0, 858512: 0.0, 340384: 0.0, 846802: 0.0, 189969: 0.0, 408590: 0.0, 221836: 0.0, 240849: 0.0, 633738: 0.0, 733575: 0.0, 142989: 0.0, 318922: 0.0, 769753: 0.0, 37646: 0.0, 182919: 0.0, 876750: 0.0, 889246: 0.0, 271274: 0.0, 761557: 0.0, 781935: 1.0, 355359: 0.0, 452587: 0.0, 493190: 8.0, 717506: 0.0, 163884: 0.0, 190630: 0.0, 614071: 0.0, 518377: 0.0, 279443: 0.0, 547147: 0.0, 474420: 0.0, 566969: 5.0, 319543: 0.0, 521978: 10.0, 564485: 4.0, 922491: 8.0, 620562: 0.0, 241298: 0.0, 675614: 0.0, 596549: 0.0, 895309: 5.0, 158636: 5.0, 6316: 1.0, 67982: 1.0, 263052: 0.0, 918234: 0.0, 532068: 0.0, 824812: 0.0, 165703: 0.0, 801808: 0.0, 250969: 0.0, 543537: 0.0, 642881: 3.0, 77757: 3.0, 866770: 4.0, 585168: 3.0, 60236: 3.0, 125996: 3.0, 52595: 0.0, 847129: 0.0, 384901: 5.0, 31128: 5.0, 769316: 4.0, 257393: 1.0, 753254: 1.0, 897371: 1.0, 379483: 1.0, 721993: 0.0, 476843: 0.0, 905689: 0.0, 907704: 0.0, 410117: 0.0, 141380: 0.0, 849570: 0.0, 659914: 0.0, 67423: 0.0, 759463: 0.0, 73313: 0.0, 294917: 0.0, 768312: 0.0, 63492: 0.0, 839973: 0.0, 544483: 0.0, 16994: 0.0, 715116: 0.0, 62744: 0.0, 535580: 0.0, 751718: 5.0, 836201: 17.0, 952897: 2.0, 485454: 2.0, 190180: 2.0, 586935: 3.0, 212559: 2.0, 673025: 2.0, 97031: 0.0, 568918: 2.0, 588558: 4.0, 128894: 2.0, 807899: 2.0, 26893: 6.0, 580047: 1.0, 715071: 0.0, 97890: 0.0, 159646: 3.0, 88365: 3.0, 303394: 3.0, 496250: 3.0, 836892: 3.0, 769851: 3.0, 925780: 3.0, 851467: 3.0, 885555: 3.0, 766428: 3.0, 439086: 3.0, 573929: 3.0, 168843: 3.0, 928715: 6.0, 468553: 3.0, 363472: 3.0, 321369: 3.0, 687218: 3.0, 363738: 3.0, 419399: 5.0, 504342: 1.0, 136791: 0.0, 225494: 0.0, 308154: 0.0, 795897: 0.0, 455049: 0.0, 902687: 0.0, 828915: 1.0, 754531: 1.0, 46748: 0.0, 858860: 5.0, 358355: 5.0, 342102: 5.0, 540730: 3.0, 768209: 3.0, 951993: 3.0, 170263: 10.0, 512415: 5.0, 391715: 5.0, 216545: 5.0, 946638: 4.0, 961893: 5.0, 356675: 5.0, 701954: 4.0, 572644: 0.0, 770777: 5.0, 574051: 5.0, 481089: 5.0, 466805: 5.0, 387608: 5.0, 203937: 4.0, 26469: 4.0, 592425: 0.0, 791448: 4.0, 754296: 4.0, 495017: 4.0, 89330: 3.0, 873730: 3.0, 668858: 3.0, 842552: 3.0, 317737: 3.0, 210557: 3.0, 686416: 3.0, 945679: 3.0, 308899: 3.0, 631381: 3.0, 285684: 0.0, 580979: 0.0, 946287: 0.0, 653480: 0.0, 225243: 0.0, 271744: 0.0, 966377: 0.0, 554160: 0.0, 605687: 0.0, 603989: 0.0, 72012: 0.0, 763497: 0.0, 302708: 0.0, 734443: 0.0, 79439: 0.0, 665996: 0.0, 475322: 0.0, 435894: 5.0, 201692: 0.0, 240625: 1.0, 863079: 1.0, 548530: 1.0, 420087: 1.0, 225224: 1.0, 455515: 5.0, 781303: 5.0, 793050: 4.0, 271589: 3.0, 766213: 3.0, 571518: 4.0, 529838: 2.0, 497336: 2.0, 355085: 1.0, 284231: 1.0, 680080: 1.0, 931720: 0.0, 405523: 0.0, 167009: 0.0, 579020: 0.0, 818476: 0.0, 961942: 0.0, 796386: 5.0, 616981: 3.0, 422349: 3.0, 122490: 6.0, 78942: 5.0, 899059: 0.0, 246807: 0.0, 616997: 0.0, 902071: 0.0, 794531: 0.0, 674518: 0.0, 547197: 0.0, 925825: 3.0, 346870: 1.0, 850453: 4.0, 374203: 4.0, 171431: 4.0, 897574: 4.0, 522975: 3.0, 47365: 0.0, 249225: 0.0, 101112: 0.0, 746904: 4.0, 71257: 4.0, 442800: 4.0, 218292: 1.0, 879948: 1.0, 41415: 0.0, 352739: 5.0, 516662: 5.0, 121967: 4.0, 607583: 4.0, 356523: 4.0, 219306: 5.0, 968368: 0.0, 567824: 0.0, 656031: 0.0, 761762: 0.0, 96300: 0.0, 860815: 5.0, 671681: 4.0, 463136: 5.0, 721969: 5.0, 42842: 4.0, 792342: 4.0, 101760: 3.0, 912988: 0.0, 355648: 5.0, 898221: 5.0, 6266: 3.0, 403209: 3.0, 203563: 3.0, 797429: 4.0, 917401: 4.0, 119902: 4.0, 23958: 4.0, 926536: 3.0, 624361: 3.0, 92510: 0.0, 850001: 4.0, 151276: 0.0, 353748: 0.0, 741993: 5.0, 77788: 5.0, 76598: 5.0, 315151: 4.0, 757578: 5.0, 937332: 5.0, 257197: 4.0, 373683: 3.0, 111072: 3.0, 76770: 3.0, 295471: 3.0, 792582: 3.0, 492767: 3.0, 664882: 3.0, 454284: 3.0, 22983: 3.0, 374765: 2.0, 321254: 2.0, 844686: 2.0, 885729: 2.0, 48714: 2.0, 861646: 5.0, 319696: 10.0, 311731: 1.0, 448621: 3.0, 803844: 3.0, 777398: 0.0, 715903: 0.0, 502013: 0.0, 150714: 0.0, 143191: 0.0, 803911: 0.0, 533225: 0.0, 675281: 0.0, 400074: 9.0, 74812: 4.0, 422769: 9.0, 808703: 1.0, 794348: 1.0, 607075: 1.0, 319261: 1.0, 299300: 1.0, 291757: 1.0, 740526: 1.0, 332118: 1.0, 896744: 1.0, 35647: 1.0, 968885: 4.0, 118999: 4.0, 322620: 3.0, 706637: 3.0, 897287: 1.0, 248159: 1.0, 595108: 0.0, 15875: 1.0, 377769: 1.0, 26736: 1.0, 307094: 1.0, 333599: 1.0, 635083: 1.0, 644655: 1.0, 472825: 1.0, 579574: 1.0, 392354: 1.0, 776820: 1.0, 908653: 1.0, 937708: 5.0, 407720: 5.0, 389358: 5.0, 116970: 3.0, 136589: 3.0, 104120: 3.0, 682681: 0.0, 159292: 0.0, 947373: 3.0, 722672: 3.0, 155734: 3.0, 669105: 3.0, 53349: 1.0, 222619: 1.0, 721774: 1.0, 116434: 1.0, 161111: 1.0, 95645: 0.0, 516043: 0.0, 569931: 0.0, 726164: 0.0, 114481: 0.0, 223504: 0.0, 529574: 1.0, 666650: 2.0, 58881: 2.0, 655125: 2.0, 235243: 1.0, 503428: 1.0, 916828: 1.0, 182078: 5.0, 611233: 1.0, 476148: 1.0, 492925: 1.0, 96158: 1.0, 859759: 5.0, 907321: 5.0, 732838: 0.0, 65373: 0.0, 132895: 0.0, 326955: 5.0, 22765: 4.0, 784928: 1.0, 179746: 1.0, 295590: 1.0, 428540: 5.0, 155485: 4.0, 827834: 3.0, 595732: 3.0, 910402: 3.0, 846880: 3.0, 355647: 3.0, 355670: 3.0, 884393: 3.0, 648730: 3.0, 289935: 0.0, 451041: 2.0, 246450: 0.0, 259125: 4.0, 681751: 3.0, 716065: 6.0, 955088: 3.0, 2512: 3.0, 235368: 3.0, 629520: 5.0, 503133: 5.0, 53998: 5.0, 932330: 1.0, 346414: 1.0, 795730: 1.0, 38833: 1.0, 23065: 2.0, 569518: 2.0, 320408: 2.0, 185269: 0.0, 598343: 2.0, 369447: 2.0, 20179: 2.0, 926226: 2.0, 541672: 2.0, 939280: 1.0, 201542: 0.0, 531848: 3.0, 828732: 3.0, 774779: 4.0, 417403: 3.0, 112705: 5.0, 775786: 4.0, 187313: 5.0, 718344: 4.0, 160447: 0.0, 733942: 0.0, 832900: 0.0, 526476: 0.0, 93876: 0.0, 390112: 0.0, 930762: 0.0, 760982: 0.0, 619784: 0.0, 762096: 0.0, 203019: 0.0, 522514: 0.0, 158850: 0.0, 327973: 0.0, 380329: 0.0, 480552: 0.0, 902345: 0.0, 205632: 0.0, 720624: 3.0, 95395: 0.0, 420429: 0.0, 17568: 1.0, 88476: 0.0, 151967: 0.0, 812301: 0.0, 33691: 0.0, 794741: 5.0, 461815: 0.0, 496644: 1.0, 810776: 1.0, 264237: 4.0, 712661: 3.0, 830326: 3.0, 462614: 1.0, 252976: 1.0, 440892: 1.0, 31011: 1.0, 374654: 3.0, 715272: 0.0, 220226: 0.0, 614260: 0.0, 71507: 0.0, 954698: 0.0, 492545: 0.0, 758462: 0.0, 10454: 0.0, 798016: 0.0, 721664: 0.0, 159867: 0.0, 880825: 0.0, 304460: 0.0, 898227: 0.0, 358227: 0.0, 852455: 0.0, 739289: 0.0, 544356: 0.0, 540837: 0.0, 928428: 0.0, 439377: 4.0, 587133: 0.0, 416458: 0.0, 881732: 0.0, 582516: 0.0, 940625: 0.0, 92128: 0.0, 402927: 0.0, 644932: 0.0, 857310: 0.0, 182853: 0.0, 408812: 0.0, 208059: 0.0, 304325: 0.0, 846573: 0.0, 780060: 5.0, 544904: 0.0, 812180: 5.0, 66446: 0.0, 94257: 5.0, 932682: 0.0, 882023: 5.0, 188113: 0.0, 84589: 0.0, 761651: 0.0, 787907: 0.0, 51531: 0.0, 807244: 0.0, 299442: 0.0, 305605: 0.0, 960498: 0.0, 425761: 0.0, 493539: 0.0, 432751: 0.0, 447003: 0.0, 147893: 0.0, 250894: 0.0, 642317: 0.0, 44227: 0.0, 874492: 0.0, 685658: 0.0, 351923: 0.0, 474052: 5.0, 257565: 5.0, 810147: 5.0, 450661: 4.0, 591888: 5.0, 603140: 5.0, 811467: 4.0, 651067: 6.0, 226342: 9.0, 698176: 5.0, 176696: 8.0, 97407: 2.0, 65262: 0.0, 678724: 0.0, 627524: 0.0, 733995: 2.0, 330633: 2.0, 616047: 4.0, 962645: 3.0, 411558: 1.0, 215169: 0.0, 826392: 0.0, 860004: 0.0, 98118: 0.0, 528145: 0.0, 319853: 5.0, 463071: 6.0, 404308: 5.0, 485023: 1.0, 901610: 5.0, 890204: 4.0, 607056: 4.0, 706476: 0.0, 512932: 0.0, 434892: 0.0, 474753: 0.0, 633714: 0.0, 782871: 0.0, 728785: 5.0, 835591: 0.0, 42153: 0.0, 260143: 0.0, 442960: 0.0, 948299: 0.0, 800817: 0.0, 522811: 5.0, 859351: 5.0, 359787: 5.0, 950288: 4.0, 722126: 4.0, 603065: 4.0, 570674: 4.0, 252125: 4.0, 622893: 1.0, 466817: 0.0, 14183: 0.0, 476898: 1.0, 271578: 1.0, 941912: 5.0, 934532: 5.0, 379631: 5.0, 609082: 4.0, 281176: 5.0, 75168: 5.0, 602691: 5.0, 333122: 5.0, 308068: 1.0, 165519: 1.0, 415963: 1.0, 92586: 1.0, 548189: 1.0, 63751: 1.0, 405719: 1.0, 806680: 1.0, 332102: 1.0, 7895: 1.0, 733811: 1.0, 951251: 1.0, 621151: 1.0, 875010: 1.0, 634752: 1.0, 863765: 2.0, 915266: 2.0, 223228: 5.0, 691836: 5.0, 14216: 4.0, 452723: 0.0, 607484: 0.0, 14483: 4.0, 704926: 0.0, 887529: 0.0, 811851: 1.0, 52741: 1.0, 149001: 1.0, 348577: 4.0, 256234: 1.0, 516453: 1.0, 838775: 1.0, 471615: 1.0, 248696: 0.0, 963740: 0.0, 611582: 0.0, 348123: 3.0, 373022: 3.0, 609713: 1.0, 615536: 1.0, 881954: 1.0, 666677: 1.0, 671431: 1.0, 365607: 1.0, 869199: 5.0, 93819: 4.0, 354247: 0.0, 658545: 0.0, 521729: 0.0, 613798: 5.0, 774807: 3.0, 644707: 3.0, 111544: 3.0, 6878: 0.0, 49669: 0.0, 876410: 4.0, 760674: 5.0, 224292: 5.0, 674520: 5.0, 673907: 5.0, 49811: 1.0, 798858: 0.0, 264707: 1.0, 349013: 4.0, 178982: 1.0, 969521: 1.0, 576037: 1.0, 533425: 1.0, 874082: 4.0, 372700: 0.0, 516147: 0.0, 863524: 0.0, 447891: 0.0, 432298: 0.0, 335930: 0.0, 433447: 5.0, 556206: 4.0, 382745: 4.0, 691572: 4.0, 221350: 3.0, 93152: 5.0, 304135: 3.0, 291369: 3.0, 467394: 0.0, 945009: 0.0, 731368: 2.0, 127644: 4.0, 534931: 4.0, 940695: 4.0, 469166: 4.0, 707719: 4.0, 873790: 4.0, 678365: 4.0, 701803: 3.0, 113521: 3.0, 136880: 2.0, 524317: 2.0, 843092: 7.0, 949848: 2.0, 561462: 2.0, 175957: 3.0, 739119: 3.0, 826287: 4.0, 757305: 5.0, 924956: 3.0, 238474: 2.0, 460993: 0.0, 956994: 1.0, 903283: 0.0, 714036: 1.0, 643796: 1.0, 32921: 0.0, 195984: 0.0, 782487: 0.0, 770323: 4.0, 41201: 0.0, 587089: 0.0, 410418: 5.0, 95301: 4.0, 641583: 6.0, 106723: 1.0, 421734: 0.0, 24696: 0.0, 614459: 0.0, 813378: 0.0, 176569: 5.0, 873564: 1.0, 245598: 1.0, 200008: 1.0, 625702: 1.0, 17717: 1.0, 934708: 1.0, 479826: 1.0, 431383: 1.0, 555850: 1.0, 932289: 1.0, 142650: 1.0, 821187: 1.0, 788929: 1.0, 796465: 1.0, 384701: 1.0, 461790: 1.0, 639793: 1.0, 230946: 1.0, 489560: 1.0, 364789: 1.0, 79113: 1.0, 238875: 5.0, 832899: 5.0, 186465: 3.0, 849894: 3.0, 587402: 3.0, 561996: 3.0, 760540: 0.0, 53705: 0.0, 532627: 0.0, 902148: 0.0, 144078: 8.0, 582351: 0.0, 478433: 0.0, 904757: 0.0, 733847: 1.0, 909098: 0.0, 684832: 0.0, 228107: 0.0, 398911: 0.0, 737487: 5.0, 736793: 1.0, 895481: 1.0, 231643: 1.0, 609325: 1.0, 706053: 1.0, 253734: 4.0, 295057: 0.0, 853305: 2.0, 954247: 2.0, 955890: 1.0, 183884: 0.0, 953819: 0.0, 497458: 0.0, 484824: 0.0, 482188: 0.0, 919888: 0.0, 229783: 0.0, 163712: 0.0, 140482: 0.0, 346340: 0.0, 788014: 4.0, 818637: 4.0, 723717: 4.0, 954114: 4.0, 733021: 0.0, 391249: 3.0, 532331: 3.0, 261661: 3.0, 739115: 1.0, 852104: 1.0, 717588: 1.0, 765047: 1.0, 195880: 0.0, 596953: 0.0, 252552: 0.0, 733862: 0.0, 597957: 0.0, 497310: 0.0, 107289: 5.0, 331546: 0.0, 333199: 0.0, 644501: 0.0, 634992: 1.0, 22414: 0.0, 789755: 0.0, 824425: 0.0, 595187: 0.0, 267241: 0.0, 678381: 0.0, 515121: 0.0, 61168: 0.0, 393372: 5.0, 432100: 1.0, 50879: 1.0, 652572: 6.0, 86100: 0.0, 750289: 0.0, 530811: 0.0, 32451: 0.0, 167241: 0.0, 667739: 0.0, 141353: 0.0, 327611: 0.0, 745064: 0.0, 317821: 0.0, 594177: 0.0, 225519: 0.0, 360403: 0.0, 799475: 0.0, 758538: 0.0, 646691: 0.0, 803197: 0.0, 585172: 0.0, 75548: 0.0, 600672: 0.0, 280980: 0.0, 763728: 0.0, 571741: 5.0, 483615: 0.0, 432504: 0.0, 742880: 0.0, 715295: 0.0, 480647: 0.0, 227394: 0.0, 126731: 0.0, 514746: 0.0, 962299: 0.0, 734592: 0.0, 233614: 0.0, 963155: 0.0, 198778: 0.0, 709372: 0.0, 162082: 0.0, 216698: 0.0, 214799: 0.0, 152786: 0.0, 333933: 0.0, 251559: 0.0, 822746: 0.0, 598826: 0.0, 188714: 1.0, 600963: 1.0, 298463: 1.0, 151728: 1.0, 924576: 0.0, 487445: 5.0, 256486: 0.0, 486054: 4.0, 841739: 5.0, 549008: 5.0, 27633: 4.0, 780993: 4.0, 322708: 4.0, 353051: 4.0, 138570: 5.0, 914459: 3.0, 240524: 0.0, 124510: 0.0, 835780: 0.0, 627185: 0.0, 33023: 0.0, 928834: 0.0, 636958: 0.0, 500827: 3.0, 326092: 3.0, 63862: 3.0, 397196: 4.0, 7759: 4.0, 329516: 0.0, 296753: 0.0, 330224: 3.0, 582566: 3.0, 313187: 0.0, 944006: 0.0, 580780: 0.0, 591471: 1.0, 2594: 4.0, 584759: 1.0, 202715: 5.0, 816527: 0.0, 286211: 1.0, 726026: 1.0, 585923: 1.0, 699649: 1.0, 759237: 4.0, 443450: 5.0, 383511: 5.0, 86072: 4.0, 248316: 4.0, 176375: 4.0, 383182: 2.0, 709405: 2.0, 925512: 2.0, 732534: 2.0, 95627: 0.0, 149090: 5.0, 589086: 5.0, 651122: 0.0, 526134: 0.0, 22706: 0.0, 621371: 0.0, 484616: 4.0, 779852: 4.0, 790831: 3.0, 645472: 3.0, 960711: 3.0, 112222: 3.0, 867195: 5.0, 230669: 5.0, 515299: 5.0, 652909: 5.0, 419137: 3.0, 576415: 4.0, 382241: 3.0, 96912: 4.0, 451790: 3.0, 256391: 0.0, 83328: 0.0, 310820: 0.0, 670835: 0.0, 524564: 0.0, 620365: 0.0, 488686: 0.0, 921373: 0.0, 767577: 0.0, 859462: 0.0, 780507: 0.0, 558167: 0.0, 534557: 0.0, 446214: 0.0, 432472: 0.0, 798882: 0.0, 148578: 0.0, 743817: 0.0, 513955: 0.0, 263875: 0.0, 210501: 0.0, 259382: 0.0, 737121: 0.0, 271004: 0.0, 871642: 0.0, 747561: 0.0, 331919: 0.0, 960559: 0.0, 324682: 0.0, 426858: 0.0, 183920: 0.0, 871206: 0.0, 37518: 0.0, 467826: 0.0, 204384: 0.0, 230195: 1.0, 792762: 1.0, 951417: 0.0, 316353: 0.0, 48201: 0.0, 458885: 0.0, 368769: 0.0, 307120: 0.0, 312847: 0.0, 479278: 0.0, 930063: 0.0, 239628: 0.0, 837156: 0.0, 739631: 0.0, 642606: 0.0, 495432: 0.0, 393299: 0.0, 767825: 0.0, 41543: 0.0, 888380: 0.0, 71908: 0.0, 183981: 0.0, 804509: 0.0, 760063: 0.0, 595766: 0.0, 173631: 0.0, 936995: 0.0, 132346: 3.0, 201120: 2.0, 768408: 0.0, 193658: 0.0, 666415: 1.0, 641916: 4.0, 577166: 4.0, 288151: 2.0, 862352: 2.0, 100630: 2.0, 160959: 2.0, 840649: 1.0, 216914: 1.0, 112391: 1.0, 242016: 3.0, 486079: 3.0, 930573: 3.0, 803120: 2.0, 741294: 2.0, 292377: 1.0, 322524: 2.0, 51142: 2.0, 740662: 2.0, 358138: 2.0, 171607: 5.0, 318637: 4.0, 786245: 2.0, 818004: 2.0, 809767: 0.0, 685763: 0.0, 774966: 0.0, 906534: 0.0, 747457: 0.0, 341542: 1.0, 671548: 1.0, 891716: 1.0, 547206: 1.0, 428446: 1.0, 788897: 0.0, 655127: 1.0, 472069: 0.0, 65732: 0.0, 251270: 0.0, 311589: 4.0, 226879: 4.0, 489275: 4.0, 678542: 3.0, 927119: 2.0, 547164: 4.0, 21134: 3.0, 214964: 3.0, 496343: 3.0, 115221: 3.0, 660778: 3.0, 687330: 3.0, 413761: 3.0, 748402: 3.0, 851941: 3.0, 322409: 3.0, 589362: 3.0, 288150: 3.0, 51287: 2.0, 46225: 1.0, 637038: 4.0, 770479: 5.0, 429587: 0.0, 278802: 0.0, 548225: 0.0, 886323: 0.0, 225045: 0.0, 374854: 0.0, 965871: 0.0, 151747: 0.0, 368678: 0.0, 326140: 0.0, 689921: 0.0, 964978: 0.0, 441502: 0.0, 263095: 0.0, 201681: 0.0, 839143: 0.0, 140702: 0.0, 643685: 0.0, 580011: 0.0, 81751: 0.0, 308240: 0.0, 505925: 5.0, 729430: 1.0, 464607: 0.0, 402687: 0.0, 603630: 0.0, 500968: 0.0, 558443: 0.0, 605819: 0.0, 822337: 0.0, 342706: 0.0, 938568: 0.0, 418340: 0.0, 887152: 0.0, 27025: 5.0, 647934: 0.0, 466746: 0.0, 381353: 0.0, 431306: 0.0, 669042: 0.0, 173098: 0.0, 397754: 0.0, 838997: 0.0, 966872: 2.0, 821517: 5.0, 221894: 4.0, 513361: 4.0, 335262: 3.0, 802275: 3.0, 255414: 3.0, 427160: 3.0, 55532: 3.0, 734910: 3.0, 138373: 3.0, 17733: 3.0, 389894: 3.0, 275695: 3.0, 812811: 3.0, 861166: 3.0, 414212: 5.0, 568045: 5.0, 903419: 5.0, 914201: 1.0, 105835: 1.0, 840892: 0.0, 564773: 0.0, 153019: 0.0, 337404: 1.0, 294790: 0.0, 473775: 0.0, 862886: 1.0, 874188: 0.0, 482305: 0.0, 378686: 0.0, 742391: 0.0, 169759: 0.0, 835363: 5.0, 531238: 0.0, 828279: 0.0, 281955: 0.0, 777155: 0.0, 80455: 0.0, 336582: 2.0, 821923: 0.0, 781045: 0.0, 334047: 0.0, 363965: 3.0, 601814: 3.0, 850124: 0.0, 89632: 0.0, 689025: 4.0, 799062: 8.0, 740227: 3.0, 243489: 3.0, 405250: 3.0, 41112: 1.0, 716287: 1.0, 542822: 5.0, 71168: 4.0, 930342: 3.0, 361110: 3.0, 253424: 0.0, 32540: 4.0, 38209: 4.0, 116624: 1.0, 937546: 0.0, 380106: 0.0, 756890: 0.0, 642046: 0.0, 849427: 0.0, 418152: 0.0, 35993: 0.0, 151722: 0.0, 151298: 0.0, 53580: 0.0, 373333: 0.0, 471268: 0.0, 784839: 0.0, 788193: 0.0, 388903: 0.0, 287090: 0.0, 662321: 0.0, 197743: 0.0, 700923: 0.0, 839835: 0.0, 889785: 1.0, 174030: 0.0, 443993: 1.0, 603190: 5.0, 231320: 3.0, 397736: 3.0, 963895: 3.0, 307677: 5.0, 855964: 5.0, 610065: 5.0, 964902: 5.0, 219724: 4.0, 551990: 3.0, 131399: 2.0, 77363: 2.0, 588117: 2.0, 552104: 2.0, 351792: 2.0, 358344: 2.0, 496878: 2.0, 563650: 0.0, 637691: 0.0, 293981: 1.0, 834473: 1.0, 735441: 1.0, 112185: 1.0, 88944: 1.0, 783128: 1.0, 237911: 1.0, 729347: 1.0, 718301: 1.0, 432996: 1.0, 665357: 1.0, 153059: 1.0, 600767: 1.0, 341941: 1.0, 960467: 1.0, 396871: 1.0, 371122: 1.0, 160169: 1.0, 341221: 1.0, 912235: 1.0, 604685: 0.0, 129493: 0.0, 364526: 0.0, 656562: 0.0, 347870: 0.0, 157986: 0.0, 617911: 0.0, 903850: 0.0, 614861: 0.0, 326817: 0.0, 859551: 0.0, 892277: 0.0, 426397: 1.0, 457624: 5.0, 785098: 1.0, 119072: 1.0, 463634: 0.0, 69378: 0.0, 942475: 5.0, 27882: 1.0, 771014: 0.0, 505421: 0.0, 924210: 1.0, 180208: 1.0, 14754: 0.0, 420997: 0.0, 494560: 1.0, 846959: 1.0, 361679: 1.0, 610454: 1.0, 106424: 1.0, 357396: 0.0, 674286: 5.0, 49768: 4.0, 618703: 4.0, 330995: 3.0, 693654: 3.0, 259146: 3.0, 678369: 6.0, 46990: 5.0, 601308: 5.0, 212482: 4.0, 510062: 4.0, 954134: 4.0, 11715: 4.0, 32104: 4.0, 277192: 4.0, 344667: 3.0, 264475: 3.0, 899779: 3.0, 970034: 3.0, 215344: 3.0, 819712: 3.0, 208328: 0.0, 45466: 0.0, 320489: 0.0, 210628: 0.0, 359328: 0.0, 651498: 0.0, 142455: 0.0, 351121: 0.0, 159604: 0.0, 710974: 0.0, 969850: 0.0, 813767: 0.0, 339696: 0.0, 539981: 3.0, 860265: 3.0, 61472: 3.0, 264944: 3.0, 80820: 3.0, 369097: 4.0, 263326: 4.0, 811669: 4.0, 618854: 3.0, 864088: 3.0, 299725: 3.0, 670744: 3.0, 939878: 3.0, 536194: 3.0, 7382: 1.0, 624197: 2.0, 392256: 5.0, 288120: 5.0, 691500: 0.0, 167006: 0.0, 614168: 0.0, 530293: 0.0, 679490: 4.0, 362706: 4.0, 705585: 4.0, 93734: 3.0, 299914: 3.0, 944011: 3.0, 216553: 3.0, 118986: 3.0, 561348: 0.0, 956515: 5.0, 329808: 5.0, 198656: 3.0, 37287: 2.0, 835434: 2.0, 215084: 2.0, 705537: 4.0, 78272: 0.0, 446060: 0.0, 256858: 0.0, 621563: 0.0, 222313: 0.0, 112132: 0.0, 414342: 3.0, 866361: 3.0, 452057: 0.0, 307463: 0.0, 807402: 0.0, 244096: 4.0, 790201: 5.0, 405774: 0.0, 509656: 0.0, 488137: 0.0, 130611: 5.0, 445651: 5.0, 768780: 4.0, 367924: 4.0, 835174: 3.0, 610556: 3.0, 528450: 3.0, 305163: 3.0, 38142: 5.0, 150294: 2.0, 852907: 2.0, 56909: 2.0, 70955: 0.0, 347245: 3.0, 821750: 3.0, 278019: 2.0, 540175: 2.0, 333211: 2.0, 407081: 2.0, 599510: 1.0, 174594: 1.0, 857830: 4.0, 295273: 2.0, 400245: 4.0, 615903: 5.0, 809561: 2.0, 262229: 1.0, 767618: 1.0, 579597: 1.0, 187929: 0.0, 580338: 0.0, 541588: 0.0, 320422: 0.0, 650014: 0.0, 937086: 0.0, 780344: 0.0, 654511: 0.0, 166563: 5.0, 832526: 5.0, 213759: 11.0, 189043: 5.0, 769213: 5.0, 543980: 4.0, 814293: 4.0, 33505: 4.0, 838185: 4.0, 725968: 4.0, 581249: 4.0, 630261: 4.0, 252757: 4.0, 447666: 4.0, 709960: 4.0, 504343: 0.0, 33722: 2.0, 734047: 2.0, 302360: 2.0, 40612: 2.0, 103858: 0.0, 790257: 0.0, 616855: 0.0, 785253: 0.0, 548886: 0.0, 219393: 0.0, 949741: 0.0, 647449: 0.0, 606614: 0.0, 342355: 0.0, 197098: 0.0, 776047: 0.0, 481439: 0.0, 918011: 0.0, 770858: 0.0, 78651: 0.0, 10673: 0.0, 86997: 0.0, 763434: 5.0, 48537: 5.0, 223217: 5.0, 744885: 0.0, 646527: 0.0, 955632: 0.0, 123847: 0.0, 938459: 3.0, 710627: 3.0, 346455: 3.0, 300832: 0.0, 598256: 1.0, 864884: 1.0, 178834: 0.0, 2764: 0.0, 97868: 0.0, 700710: 2.0, 15591: 0.0, 231299: 0.0, 534891: 0.0, 133837: 0.0, 639938: 0.0, 375660: 0.0, 337866: 0.0, 31971: 5.0, 180740: 1.0, 135035: 1.0, 156090: 1.0, 332474: 1.0, 409936: 1.0, 450129: 0.0, 607910: 4.0, 453016: 4.0, 342553: 4.0, 335019: 3.0, 381454: 3.0, 549911: 3.0, 219681: 3.0, 437414: 3.0, 914190: 3.0, 549244: 3.0, 751842: 3.0, 956104: 8.0, 700542: 3.0, 695771: 3.0, 659713: 2.0, 559266: 2.0, 57682: 2.0, 125945: 2.0, 247537: 2.0, 767190: 5.0, 339997: 1.0, 393506: 5.0, 848159: 3.0, 347107: 3.0, 938610: 0.0, 16969: 0.0, 97057: 0.0, 179601: 1.0, 528963: 1.0, 305665: 1.0, 304931: 1.0, 578546: 1.0, 230253: 1.0, 535772: 1.0, 782285: 1.0, 661158: 1.0, 201384: 1.0, 646634: 1.0, 414809: 1.0, 330619: 1.0, 954045: 1.0, 841779: 0.0, 135131: 0.0, 731837: 4.0, 276860: 4.0, 965237: 5.0, 476908: 0.0, 962230: 0.0, 952830: 0.0, 145695: 2.0, 71338: 2.0, 651299: 2.0, 873946: 2.0, 961235: 2.0, 563479: 1.0, 284199: 1.0, 284174: 1.0, 865574: 1.0, 140641: 1.0, 395740: 1.0, 284036: 1.0, 650695: 1.0, 880952: 1.0, 309103: 3.0, 960415: 4.0, 206288: 3.0, 173446: 3.0, 883769: 3.0, 547254: 3.0, 920853: 3.0, 452475: 3.0, 917031: 5.0, 10078: 5.0, 904983: 0.0, 849014: 5.0, 392953: 5.0, 925629: 5.0, 558203: 5.0, 514830: 5.0, 662690: 5.0, 683384: 5.0, 523276: 5.0, 441058: 5.0, 18806: 5.0, 367557: 4.0, 235349: 1.0, 289525: 1.0, 165653: 1.0, 881861: 4.0, 542045: 4.0, 426194: 4.0, 579796: 4.0, 8641: 3.0, 52227: 1.0, 318685: 4.0, 549924: 4.0, 942268: 3.0, 29332: 3.0, 6717: 3.0, 403565: 3.0, 681436: 4.0, 471636: 3.0, 153162: 3.0, 631901: 3.0, 705668: 3.0, 336066: 3.0, 285302: 3.0, 179678: 3.0, 31985: 4.0, 573868: 3.0, 466033: 5.0, 18988: 5.0, 138741: 4.0, 780670: 3.0, 704161: 3.0, 944017: 3.0, 604940: 3.0, 787650: 3.0, 931508: 2.0})"
            ]
          },
          "metadata": {},
          "execution_count": 53
        }
      ]
    },
    {
      "cell_type": "code",
      "execution_count": 53,
      "outputs": [
        {
          "output_type": "error",
          "ename": "NameError",
          "evalue": "ignored",
          "traceback": [
            "\u001b[0;31m---------------------------------------------------------------------------\u001b[0m",
            "\u001b[0;31mNameError\u001b[0m                                 Traceback (most recent call last)",
            "\u001b[0;32m<ipython-input-53-29274948f804>\u001b[0m in \u001b[0;36m<module>\u001b[0;34m\u001b[0m\n\u001b[1;32m      2\u001b[0m \u001b[0mitem_df\u001b[0m \u001b[0;34m=\u001b[0m \u001b[0mpd\u001b[0m\u001b[0;34m.\u001b[0m\u001b[0mDataFrame\u001b[0m\u001b[0;34m(\u001b[0m\u001b[0mlist\u001b[0m\u001b[0;34m(\u001b[0m\u001b[0mitem_names_table\u001b[0m\u001b[0;34m.\u001b[0m\u001b[0mitems\u001b[0m\u001b[0;34m(\u001b[0m\u001b[0;34m)\u001b[0m\u001b[0;34m)\u001b[0m\u001b[0;34m,\u001b[0m\u001b[0mcolumns\u001b[0m \u001b[0;34m=\u001b[0m \u001b[0;34m[\u001b[0m\u001b[0;34m'item_id'\u001b[0m\u001b[0;34m,\u001b[0m\u001b[0;34m'text'\u001b[0m\u001b[0;34m]\u001b[0m\u001b[0;34m)\u001b[0m\u001b[0;34m\u001b[0m\u001b[0;34m\u001b[0m\u001b[0m\n\u001b[1;32m      3\u001b[0m \u001b[0mitem_df\u001b[0m\u001b[0;34m[\u001b[0m\u001b[0;34m'text_re'\u001b[0m\u001b[0;34m]\u001b[0m \u001b[0;34m=\u001b[0m \u001b[0;34m[\u001b[0m\u001b[0mre\u001b[0m\u001b[0;34m.\u001b[0m\u001b[0msub\u001b[0m\u001b[0;34m(\u001b[0m\u001b[0;34m'[^A-Za-z0-9가-힣]'\u001b[0m\u001b[0;34m,\u001b[0m \u001b[0;34m' '\u001b[0m\u001b[0;34m,\u001b[0m \u001b[0ms\u001b[0m\u001b[0;34m)\u001b[0m \u001b[0;32mfor\u001b[0m \u001b[0ms\u001b[0m \u001b[0;32min\u001b[0m \u001b[0mitem_df\u001b[0m\u001b[0;34m[\u001b[0m\u001b[0;34m'text'\u001b[0m\u001b[0;34m]\u001b[0m\u001b[0;34m]\u001b[0m\u001b[0;34m\u001b[0m\u001b[0;34m\u001b[0m\u001b[0m\n\u001b[0;32m----> 4\u001b[0;31m \u001b[0mtem_df\u001b[0m\u001b[0;34m.\u001b[0m\u001b[0mmemory_usage\u001b[0m\u001b[0;34m(\u001b[0m\u001b[0;34m)\u001b[0m\u001b[0;34m\u001b[0m\u001b[0;34m\u001b[0m\u001b[0m\n\u001b[0m",
            "\u001b[0;31mNameError\u001b[0m: name 'tem_df' is not defined"
          ]
        }
      ],
      "source": [
        "\n",
        "item_names_table = load_json('/gdrive/MyDrive/data/item_names_table.json')\n",
        "item_df = pd.DataFrame(list(item_names_table.items()),columns = ['item_id','text'])\n",
        "item_df['text_re'] = [re.sub('[^A-Za-z0-9가-힣]', ' ', s) for s in item_df['text']]\n",
        "item_df.memory_usage()"
      ],
      "metadata": {
        "pycharm": {
          "name": "#%%\n"
        },
        "id": "cD3f1igJtuX1",
        "colab": {
          "base_uri": "https://localhost:8080/",
          "height": 211
        },
        "outputId": "db93c029-53a8-4cc3-e43d-a789dd55b779"
      }
    },
    {
      "cell_type": "code",
      "source": [
        "\n",
        "bag_of_words  ={}"
      ],
      "metadata": {
        "id": "QaXhiT7ql7cs"
      },
      "execution_count": 54,
      "outputs": []
    },
    {
      "cell_type": "code",
      "source": [],
      "metadata": {
        "id": "7Yrl9Zapl83g"
      },
      "execution_count": 54,
      "outputs": []
    },
    {
      "cell_type": "code",
      "source": [
        "\n",
        "\n",
        "bag_of_words = {}\n",
        "def get_bag_of_words(row,bag_of_words):\n",
        "  for word in row.split(\" \"):\n",
        "    if word in bag_of_words.keys():\n",
        "      continue\n",
        "    else:\n",
        "      bag_of_words[word]  = len(bag_of_words)\n"
      ],
      "metadata": {
        "id": "qc2VWiZOlgT4"
      },
      "execution_count": 55,
      "outputs": []
    },
    {
      "cell_type": "code",
      "source": [
        "len(bag_of_words)"
      ],
      "metadata": {
        "colab": {
          "base_uri": "https://localhost:8080/"
        },
        "id": "laAMScVbmOLD",
        "outputId": "8dc8d81f-833b-427b-bc1d-7c8ce0a104f0"
      },
      "execution_count": 56,
      "outputs": [
        {
          "output_type": "execute_result",
          "data": {
            "text/plain": [
              "0"
            ]
          },
          "metadata": {},
          "execution_count": 56
        }
      ]
    },
    {
      "cell_type": "code",
      "source": [
        "%%bash\n",
        "apt-get update\n",
        "apt-get install g++ openjdk-8-jdk python-dev python3-dev\n",
        "pip3 install JPype1\n",
        "pip3 install konlpy"
      ],
      "metadata": {
        "colab": {
          "base_uri": "https://localhost:8080/"
        },
        "id": "9Gy1nyTingnR",
        "outputId": "1fed3a7c-5bcf-4711-e591-c29589907e0a"
      },
      "execution_count": 57,
      "outputs": [
        {
          "output_type": "stream",
          "name": "stdout",
          "text": [
            "Hit:1 https://cloud.r-project.org/bin/linux/ubuntu bionic-cran40/ InRelease\n",
            "Ign:2 https://developer.download.nvidia.com/compute/machine-learning/repos/ubuntu1804/x86_64  InRelease\n",
            "Hit:3 https://developer.download.nvidia.com/compute/cuda/repos/ubuntu1804/x86_64  InRelease\n",
            "Hit:4 https://developer.download.nvidia.com/compute/machine-learning/repos/ubuntu1804/x86_64  Release\n",
            "Hit:5 http://ppa.launchpad.net/c2d4u.team/c2d4u4.0+/ubuntu bionic InRelease\n",
            "Hit:7 http://security.ubuntu.com/ubuntu bionic-security InRelease\n",
            "Hit:8 http://archive.ubuntu.com/ubuntu bionic InRelease\n",
            "Hit:9 http://ppa.launchpad.net/cran/libgit2/ubuntu bionic InRelease\n",
            "Get:10 http://archive.ubuntu.com/ubuntu bionic-updates InRelease [88.7 kB]\n",
            "Hit:11 http://ppa.launchpad.net/deadsnakes/ppa/ubuntu bionic InRelease\n",
            "Hit:12 http://ppa.launchpad.net/graphics-drivers/ppa/ubuntu bionic InRelease\n",
            "Get:13 http://archive.ubuntu.com/ubuntu bionic-backports InRelease [83.3 kB]\n",
            "Get:14 http://archive.ubuntu.com/ubuntu bionic-updates/main amd64 Packages [3,519 kB]\n",
            "Fetched 3,691 kB in 4s (919 kB/s)\n",
            "Reading package lists...\n",
            "Reading package lists...\n",
            "Building dependency tree...\n",
            "Reading state information...\n",
            "python-dev is already the newest version (2.7.15~rc1-1).\n",
            "g++ is already the newest version (4:7.4.0-1ubuntu2.3).\n",
            "python3-dev is already the newest version (3.6.7-1~18.04).\n",
            "openjdk-8-jdk is already the newest version (8u352-ga-1~18.04).\n",
            "The following package was automatically installed and is no longer required:\n",
            "  libnvidia-common-460\n",
            "Use 'apt autoremove' to remove it.\n",
            "0 upgraded, 0 newly installed, 0 to remove and 14 not upgraded.\n",
            "Looking in indexes: https://pypi.org/simple, https://us-python.pkg.dev/colab-wheels/public/simple/\n",
            "Requirement already satisfied: JPype1 in /usr/local/lib/python3.8/dist-packages (1.4.1)\n",
            "Requirement already satisfied: packaging in /usr/local/lib/python3.8/dist-packages (from JPype1) (21.3)\n",
            "Requirement already satisfied: pyparsing!=3.0.5,>=2.0.2 in /usr/local/lib/python3.8/dist-packages (from packaging->JPype1) (3.0.9)\n",
            "Looking in indexes: https://pypi.org/simple, https://us-python.pkg.dev/colab-wheels/public/simple/\n",
            "Requirement already satisfied: konlpy in /usr/local/lib/python3.8/dist-packages (0.6.0)\n",
            "Requirement already satisfied: lxml>=4.1.0 in /usr/local/lib/python3.8/dist-packages (from konlpy) (4.9.1)\n",
            "Requirement already satisfied: JPype1>=0.7.0 in /usr/local/lib/python3.8/dist-packages (from konlpy) (1.4.1)\n",
            "Requirement already satisfied: numpy>=1.6 in /usr/local/lib/python3.8/dist-packages (from konlpy) (1.21.6)\n",
            "Requirement already satisfied: packaging in /usr/local/lib/python3.8/dist-packages (from JPype1>=0.7.0->konlpy) (21.3)\n",
            "Requirement already satisfied: pyparsing!=3.0.5,>=2.0.2 in /usr/local/lib/python3.8/dist-packages (from packaging->JPype1>=0.7.0->konlpy) (3.0.9)\n"
          ]
        }
      ]
    },
    {
      "cell_type": "code",
      "source": [
        "!sudo apt-get install curl git\n",
        "!bash <(curl -s https://raw.githubusercontent.com/konlpy/konlpy/master/scripts/mecab.sh)"
      ],
      "metadata": {
        "colab": {
          "base_uri": "https://localhost:8080/"
        },
        "id": "jMmt6e__o1bm",
        "outputId": "f01c1e09-67f5-4e69-ddee-aeace53d686a"
      },
      "execution_count": 58,
      "outputs": [
        {
          "output_type": "stream",
          "name": "stdout",
          "text": [
            "Reading package lists... Done\n",
            "Building dependency tree       \n",
            "Reading state information... Done\n",
            "curl is already the newest version (7.58.0-2ubuntu3.21).\n",
            "git is already the newest version (1:2.17.1-1ubuntu0.13).\n",
            "The following package was automatically installed and is no longer required:\n",
            "  libnvidia-common-460\n",
            "Use 'sudo apt autoremove' to remove it.\n",
            "0 upgraded, 0 newly installed, 0 to remove and 14 not upgraded.\n",
            "mecab-ko is already installed\n",
            "mecab-ko-dic is already installed\n",
            "mecab-python is already installed\n",
            "Done.\n"
          ]
        }
      ]
    },
    {
      "cell_type": "code",
      "source": [
        "%env JAVA_HOME \"/usr/lib/jvm/java-8-openjdk-amd64\""
      ],
      "metadata": {
        "colab": {
          "base_uri": "https://localhost:8080/"
        },
        "id": "FPwS8q7pnhGT",
        "outputId": "87108ff6-3fc6-4e04-d894-65dde3b921e2"
      },
      "execution_count": 59,
      "outputs": [
        {
          "output_type": "stream",
          "name": "stdout",
          "text": [
            "env: JAVA_HOME=\"/usr/lib/jvm/java-8-openjdk-amd64\"\n"
          ]
        }
      ]
    },
    {
      "cell_type": "code",
      "source": [
        "%%bash\n",
        "bash <(curl -s https://raw.githubusercontent.com/konlpy/konlpy/master/scripts/mecab.sh)\n",
        "pip3 install /tmp/mecab-python-0.996"
      ],
      "metadata": {
        "colab": {
          "base_uri": "https://localhost:8080/"
        },
        "id": "MNRnCtzznk4z",
        "outputId": "b84d2bde-2577-4c79-ea09-68fedbe08293"
      },
      "execution_count": 60,
      "outputs": [
        {
          "output_type": "stream",
          "name": "stdout",
          "text": [
            "mecab-ko is already installed\n",
            "mecab-ko-dic is already installed\n",
            "mecab-python is already installed\n",
            "Done.\n",
            "Looking in indexes: https://pypi.org/simple, https://us-python.pkg.dev/colab-wheels/public/simple/\n",
            "Processing /tmp/mecab-python-0.996\n",
            "Building wheels for collected packages: mecab-python\n",
            "  Building wheel for mecab-python (setup.py): started\n",
            "  Building wheel for mecab-python (setup.py): finished with status 'done'\n",
            "  Created wheel for mecab-python: filename=mecab_python-0.996_ko_0.9.2-cp38-cp38-linux_x86_64.whl size=142140 sha256=d9aff078468333b89dfea46613a893d1b487175aaf89cbb61a6fbc9405506d3e\n",
            "  Stored in directory: /root/.cache/pip/wheels/e3/88/e7/a947778cce3c142d5721c0629e05db7b09979d3a973277ec2f\n",
            "Failed to build mecab-python\n",
            "Installing collected packages: mecab-python\n",
            "  Attempting uninstall: mecab-python\n",
            "    Found existing installation: mecab-python 0.996-ko-0.9.2\n",
            "    Uninstalling mecab-python-0.996-ko-0.9.2:\n",
            "      Successfully uninstalled mecab-python-0.996-ko-0.9.2\n",
            "    Running setup.py install for mecab-python: started\n",
            "    Running setup.py install for mecab-python: finished with status 'done'\n",
            "Successfully installed mecab-python-0.996-ko-0.9.2\n"
          ]
        },
        {
          "output_type": "stream",
          "name": "stderr",
          "text": [
            "  DEPRECATION: A future pip version will change local packages to be built in-place without first copying to a temporary directory. We recommend you use --use-feature=in-tree-build to test your packages with this new behavior before it becomes the default.\n",
            "   pip 21.3 will remove support for this functionality. You can find discussion regarding this at https://github.com/pypa/pip/issues/7555.\n",
            "  WARNING: Built wheel for mecab-python is invalid: Metadata 1.2 mandates PEP 440 version, but '0.996-ko-0.9.2' is not\n",
            "  DEPRECATION: mecab-python was installed using the legacy 'setup.py install' method, because a wheel could not be built for it. A possible replacement is to fix the wheel build issue reported above. You can find discussion regarding this at https://github.com/pypa/pip/issues/8368.\n"
          ]
        }
      ]
    },
    {
      "cell_type": "code",
      "source": [
        "\n",
        "import konlpy\n",
        "from konlpy.tag import Kkma, Komoran, Hannanum, Okt\n",
        "from konlpy.utils import pprint \n",
        "okt = Okt()\n",
        "sentence = \"안녕하세요 저는 천재입니다.\"\n",
        "temp_X = okt.nouns(sentence)\n",
        "temp_X"
      ],
      "metadata": {
        "colab": {
          "base_uri": "https://localhost:8080/"
        },
        "id": "6_dwD7u-no6K",
        "outputId": "104ae824-799c-4cd9-bcb3-999572399dae"
      },
      "execution_count": 61,
      "outputs": [
        {
          "output_type": "execute_result",
          "data": {
            "text/plain": [
              "['저', '천재']"
            ]
          },
          "metadata": {},
          "execution_count": 61
        }
      ]
    },
    {
      "cell_type": "code",
      "source": [
        "del df"
      ],
      "metadata": {
        "id": "mYcY7Q3CnSvI"
      },
      "execution_count": 93,
      "outputs": []
    },
    {
      "cell_type": "code",
      "source": [
        "del train_db"
      ],
      "metadata": {
        "id": "RsnVxyYppkIS"
      },
      "execution_count": 94,
      "outputs": []
    },
    {
      "cell_type": "code",
      "source": [
        "gc.collect()"
      ],
      "metadata": {
        "colab": {
          "base_uri": "https://localhost:8080/"
        },
        "id": "4fKbddO1plKq",
        "outputId": "187cecf1-911d-45d5-9181-0716ab9f9801"
      },
      "execution_count": 95,
      "outputs": [
        {
          "output_type": "execute_result",
          "data": {
            "text/plain": [
              "76"
            ]
          },
          "metadata": {},
          "execution_count": 95
        }
      ]
    },
    {
      "cell_type": "code",
      "source": [
        "for i in item_df['text_re'].values:\n",
        "  break"
      ],
      "metadata": {
        "id": "0fkzh9vCoH66"
      },
      "execution_count": 96,
      "outputs": []
    },
    {
      "cell_type": "code",
      "source": [
        "bag_of_words['빅사이즈']"
      ],
      "metadata": {
        "colab": {
          "base_uri": "https://localhost:8080/"
        },
        "id": "3wo6P8DFpxOE",
        "outputId": "1ea686ff-53ac-4a19-de50-0a06d1409277"
      },
      "execution_count": 102,
      "outputs": [
        {
          "output_type": "execute_result",
          "data": {
            "text/plain": [
              "2"
            ]
          },
          "metadata": {},
          "execution_count": 102
        }
      ]
    },
    {
      "cell_type": "code",
      "source": [
        "\n",
        "sentence = i.split(\" \")"
      ],
      "metadata": {
        "id": "9Q3gliYcqG41"
      },
      "execution_count": 103,
      "outputs": []
    },
    {
      "cell_type": "code",
      "source": [
        "temp"
      ],
      "metadata": {
        "colab": {
          "base_uri": "https://localhost:8080/"
        },
        "id": "k3T0VrH_qYlE",
        "outputId": "8dae137a-511f-4f83-8235-c67b28e87763"
      },
      "execution_count": 111,
      "outputs": [
        {
          "output_type": "execute_result",
          "data": {
            "text/plain": [
              "[]"
            ]
          },
          "metadata": {},
          "execution_count": 111
        }
      ]
    },
    {
      "cell_type": "code",
      "source": [
        "token"
      ],
      "metadata": {
        "id": "GxDsC_RVqnct"
      },
      "execution_count": null,
      "outputs": []
    },
    {
      "cell_type": "code",
      "source": [
        " \n",
        "token = []\n",
        "embeddingmodel = []\n",
        "size = 0\n",
        "for i in item_df['text_re'].values:\n",
        "    size += 1\n",
        "    sentence = i.split(\" \")\n",
        "    temp = []\n",
        "    temp_embedding = []\n",
        "    all_temp = []\n",
        "    for k in range(len(sentence)):\n",
        "        if sentence[k] == '':\n",
        "          continue\n",
        "        temp_embedding.append(sentence[k])\n",
        "        temp.append(sentence[k])\n",
        "    all_temp.append(temp)\n",
        "    embeddingmodel.append(temp_embedding)\n",
        "    # category = i[1]  # csv에서 category column으로 변경\n",
        "    # category_number_dic = {'IT과학': 0, '경제': 1, '정치': 2, '사회': 3, '스포츠': 4, '오피니언': 5, '세계': 6, '한국야구': 4, '해외야구': 4,\n",
        "    #                        '해외축구': 4, '한국축구': 4, '농구': 4, '배구': 4, '일반 스포츠': 4, 'e스포츠': 4}\n",
        "\n",
        "    # config 안쓰고 명시하는 것도 괜찮을 듯\n",
        "    # category_number_dic = config.Config.category_num_dict\n",
        "    token.append(all_temp)\n",
        "print(\"토큰 처리 완료\")"
      ],
      "metadata": {
        "colab": {
          "base_uri": "https://localhost:8080/"
        },
        "id": "YowIfTvIqJyr",
        "outputId": "606b31cc-8fe5-4518-81b8-d65e3ffea4ba"
      },
      "execution_count": 62,
      "outputs": [
        {
          "output_type": "stream",
          "name": "stdout",
          "text": [
            "토큰 처리 완료\n"
          ]
        }
      ]
    },
    {
      "cell_type": "code",
      "source": [],
      "metadata": {
        "id": "-87IOZNbqSgk"
      },
      "execution_count": 131,
      "outputs": []
    },
    {
      "cell_type": "code",
      "source": [
        "embeddingmodel = []\n",
        "for i in range(len(token)):\n",
        "    temp_embeddingmodel = []\n",
        "    for k in range(len(token[i][0])):\n",
        "        temp_embeddingmodel.append(token[i][0][k])\n",
        "    embeddingmodel.append(temp_embeddingmodel)\n",
        "# 3.8 gensim vesion sg =1 skip-gram54\n",
        "# word 2 vec hyper parameters \n"
      ],
      "metadata": {
        "id": "aOdIR0WYr2C7"
      },
      "execution_count": 63,
      "outputs": []
    },
    {
      "cell_type": "code",
      "source": [
        "from gensim.models import Word2Vec,Doc2Vec"
      ],
      "metadata": {
        "id": "GI0EUdpCsKi_"
      },
      "execution_count": 101,
      "outputs": []
    },
    {
      "cell_type": "code",
      "source": [
        " "
      ],
      "metadata": {
        "id": "4AbZlVTnsSoI"
      },
      "execution_count": 65,
      "outputs": []
    },
    {
      "cell_type": "code",
      "source": [
        "gc.collect()"
      ],
      "metadata": {
        "colab": {
          "base_uri": "https://localhost:8080/"
        },
        "id": "BlSovhby2tXW",
        "outputId": "b0933fe4-b5f8-41d6-a2b7-a8fe59815536"
      },
      "execution_count": 71,
      "outputs": [
        {
          "output_type": "execute_result",
          "data": {
            "text/plain": [
              "602"
            ]
          },
          "metadata": {},
          "execution_count": 71
        }
      ]
    },
    {
      "cell_type": "code",
      "source": [
        "from gensim.test.utils import common_texts"
      ],
      "metadata": {
        "id": "78nnfeY89n72"
      },
      "execution_count": 108,
      "outputs": []
    },
    {
      "cell_type": "code",
      "source": [
        "common_texts_and_tags = [\n",
        "    (text, [f\"str_{i}\",]) for i, text in enumerate(common_texts)\n",
        "]"
      ],
      "metadata": {
        "id": "Qbvkx2l09mnq"
      },
      "execution_count": 109,
      "outputs": []
    },
    {
      "cell_type": "code",
      "source": [
        "print(\"##\"*20)\n",
        "print(\"tags and its texts\")\n",
        "print(\"##\"*20)\n",
        "for text, tags in common_texts_and_tags:\n",
        "    print(f\"tags: {tags}, text: {text}\")"
      ],
      "metadata": {
        "colab": {
          "base_uri": "https://localhost:8080/"
        },
        "id": "eFpmEARy9nJ_",
        "outputId": "28c6d598-e925-4261-f879-712b1dbefb24"
      },
      "execution_count": 110,
      "outputs": [
        {
          "output_type": "stream",
          "name": "stdout",
          "text": [
            "########################################\n",
            "tags and its texts\n",
            "########################################\n",
            "tags: ['str_0'], text: ['human', 'interface', 'computer']\n",
            "tags: ['str_1'], text: ['survey', 'user', 'computer', 'system', 'response', 'time']\n",
            "tags: ['str_2'], text: ['eps', 'user', 'interface', 'system']\n",
            "tags: ['str_3'], text: ['system', 'human', 'system', 'eps']\n",
            "tags: ['str_4'], text: ['user', 'response', 'time']\n",
            "tags: ['str_5'], text: ['trees']\n",
            "tags: ['str_6'], text: ['graph', 'trees']\n",
            "tags: ['str_7'], text: ['graph', 'minors', 'trees']\n",
            "tags: ['str_8'], text: ['graph', 'minors', 'survey']\n"
          ]
        }
      ]
    },
    {
      "cell_type": "code",
      "source": [],
      "metadata": {
        "id": "uXvnZ8yg9uKW"
      },
      "execution_count": 132,
      "outputs": []
    },
    {
      "cell_type": "code",
      "source": [
        "item_texts_and_tags = item_df[['text_re','item_id']].values"
      ],
      "metadata": {
        "id": "9deHneE6_KXu"
      },
      "execution_count": 144,
      "outputs": []
    },
    {
      "cell_type": "code",
      "source": [
        "def remove_whitespace(text):\n",
        "  result = []\n",
        "  for value in text:\n",
        "      if value =='':\n",
        "        continue\n",
        "      if value not in result:\n",
        "          result.append(value)\n",
        "  return result\n"
      ],
      "metadata": {
        "id": "h-uVegY5_8yj"
      },
      "execution_count": 164,
      "outputs": []
    },
    {
      "cell_type": "code",
      "source": [
        "item_texts_and_tags_tuning = list(map(lambda x: (remove_whitespace(x[0].split(\" \")),[x[1]]) , item_texts_and_tags))"
      ],
      "metadata": {
        "id": "Posa8En7939m"
      },
      "execution_count": 165,
      "outputs": []
    },
    {
      "cell_type": "code",
      "source": [
        "from gensim.models.doc2vec import Doc2Vec"
      ],
      "metadata": {
        "id": "rUj8J8Dr9HNm"
      },
      "execution_count": 127,
      "outputs": []
    },
    {
      "cell_type": "code",
      "source": [
        "from gensim.models.doc2vec import Doc2Vec, TaggedDocument"
      ],
      "metadata": {
        "id": "HIaKadcw9gWu"
      },
      "execution_count": 104,
      "outputs": []
    },
    {
      "cell_type": "code",
      "source": [],
      "metadata": {
        "colab": {
          "base_uri": "https://localhost:8080/"
        },
        "id": "J6IoAeSwBQuy",
        "outputId": "cb7a8aef-0f65-411f-ca57-f4b32f79de3f"
      },
      "execution_count": 154,
      "outputs": [
        {
          "output_type": "execute_result",
          "data": {
            "text/plain": [
              "['텐피엠', '카시오', 'MTP', 'V005L', '남성가죽시계', '블랙', '나토밴드', '']"
            ]
          },
          "metadata": {},
          "execution_count": 154
        }
      ]
    },
    {
      "cell_type": "code",
      "source": [
        " "
      ],
      "metadata": {
        "colab": {
          "base_uri": "https://localhost:8080/"
        },
        "id": "wqPlEBhs_vrH",
        "outputId": "229189fc-324a-4c18-df06-3b7da8f801e5"
      },
      "execution_count": 143,
      "outputs": [
        {
          "output_type": "execute_result",
          "data": {
            "text/plain": [
              "[(['human', 'interface', 'computer'], ['str_0']),\n",
              " (['survey', 'user', 'computer', 'system', 'response', 'time'], ['str_1']),\n",
              " (['eps', 'user', 'interface', 'system'], ['str_2'])]"
            ]
          },
          "metadata": {},
          "execution_count": 143
        }
      ]
    },
    {
      "cell_type": "code",
      "source": [
        "[TaggedDocument(words=text, tags=tags) for text, tags in common_texts_and_tags]"
      ],
      "metadata": {
        "colab": {
          "base_uri": "https://localhost:8080/"
        },
        "id": "rdZ-__uU-jG7",
        "outputId": "baac33e7-bdca-4842-b87b-d9b71be31d05"
      },
      "execution_count": 138,
      "outputs": [
        {
          "output_type": "execute_result",
          "data": {
            "text/plain": [
              "[TaggedDocument(words=['human', 'interface', 'computer'], tags=['str_0']),\n",
              " TaggedDocument(words=['survey', 'user', 'computer', 'system', 'response', 'time'], tags=['str_1']),\n",
              " TaggedDocument(words=['eps', 'user', 'interface', 'system'], tags=['str_2']),\n",
              " TaggedDocument(words=['system', 'human', 'system', 'eps'], tags=['str_3']),\n",
              " TaggedDocument(words=['user', 'response', 'time'], tags=['str_4']),\n",
              " TaggedDocument(words=['trees'], tags=['str_5']),\n",
              " TaggedDocument(words=['graph', 'trees'], tags=['str_6']),\n",
              " TaggedDocument(words=['graph', 'minors', 'trees'], tags=['str_7']),\n",
              " TaggedDocument(words=['graph', 'minors', 'survey'], tags=['str_8'])]"
            ]
          },
          "metadata": {},
          "execution_count": 138
        }
      ]
    },
    {
      "cell_type": "code",
      "source": [
        "\n",
        "# text: 단어별로 분할되어 있는 리스트 \n",
        "# tags: 해당 문서를 의미하는 태그. 여기서, tags를 unique id로 넣기는 했는데, 그렇지 않게 넣어서 학습시키는 것도 가능할 것으로 보임. \n",
        "TRAIN_documents = [TaggedDocument(words=text, tags=tags) for text, tags in item_texts_and_tags_tuning]"
      ],
      "metadata": {
        "id": "WYljpesz9Fgp"
      },
      "execution_count": 167,
      "outputs": []
    },
    {
      "cell_type": "code",
      "source": [],
      "metadata": {
        "colab": {
          "base_uri": "https://localhost:8080/"
        },
        "id": "YHCWKvT4_mcG",
        "outputId": "034e38c1-f6ac-4989-c85e-5089875f413f"
      },
      "execution_count": 168,
      "outputs": [
        {
          "output_type": "execute_result",
          "data": {
            "text/plain": [
              "[TaggedDocument(words=['DA', '남자', '빅사이즈', '절개', '맨투맨', '트레이닝팬츠', 'SET'], tags=['item_0']),\n",
              " TaggedDocument(words=['텐피엠', '카시오', 'MTP', 'V005L', '남성가죽시계', '블랙', '나토밴드'], tags=['item_1']),\n",
              " TaggedDocument(words=['바보사랑', '여성', '옥스퍼드', '로퍼', '주', '태블리스'], tags=['item_2']),\n",
              " TaggedDocument(words=['해외', '블랙모어스', '리프리놀', '초록홍합', '100캡슐', 'X', '3'], tags=['item_3']),\n",
              " TaggedDocument(words=['백화점', 'SAY', '크로커다일', '경량덕', '다운', '점퍼', 'CL9WDW901'], tags=['item_4'])]"
            ]
          },
          "metadata": {},
          "execution_count": 168
        }
      ]
    },
    {
      "cell_type": "code",
      "source": [
        "#https://frhyme.github.io/python-libs/nlp_doc2vec_gensim/\n",
        "#https://radimrehurek.com/gensim/similarities/docsim.html\n",
        "model = Doc2Vec(TRAIN_documents, vector_size=5, window=3, epochs=5, min_count=1, workers=4)"
      ],
      "metadata": {
        "colab": {
          "base_uri": "https://localhost:8080/"
        },
        "id": "ssHV4mCk8xDt",
        "outputId": "17e8505d-f1d6-45dc-fe2a-d5f0fdd48fe3"
      },
      "execution_count": 169,
      "outputs": [
        {
          "output_type": "stream",
          "name": "stderr",
          "text": [
            "WARNING:gensim.models.base_any2vec:consider setting layer size to a multiple of 4 for greater performance\n"
          ]
        }
      ]
    },
    {
      "cell_type": "code",
      "source": [
        "model.docvecs['item_0']"
      ],
      "metadata": {
        "id": "21ABfq6BGAum"
      },
      "execution_count": null,
      "outputs": []
    },
    {
      "cell_type": "code",
      "source": [
        "vec = model.docvecs['item_0']"
      ],
      "metadata": {
        "id": "II-KRgH7F-Oq"
      },
      "execution_count": 183,
      "outputs": []
    },
    {
      "cell_type": "code",
      "source": [
        "inferred_v = model.infer_vector(['DA', '남자', '빅사이즈', '절개', '맨투맨', '트레이닝팬츠', 'SET'])"
      ],
      "metadata": {
        "id": "4CpvIElZGcy8"
      },
      "execution_count": 177,
      "outputs": []
    },
    {
      "cell_type": "code",
      "source": [
        "# 하나도 안비슷한데 흠 뭐가 잘못된듯\n",
        "\n",
        "item_df[item_df.item_id.isin(['item_0','item_883996','item_54712','item_851321'])]"
      ],
      "metadata": {
        "colab": {
          "base_uri": "https://localhost:8080/",
          "height": 175
        },
        "id": "4dy1vQ9FGgd0",
        "outputId": "213357b9-bf1e-4614-829e-dc6655e48bdc"
      },
      "execution_count": 185,
      "outputs": [
        {
          "output_type": "execute_result",
          "data": {
            "text/plain": [
              "            item_id                                        text  \\\n",
              "0            item_0             DA 남자 빅사이즈 절개 맨투맨 절개 트레이닝팬츠 SET   \n",
              "54712    item_54712               리스트 탈착 타이넥 솔리드 셔츠_TWWSTJ82010   \n",
              "851321  item_851321     리스트 [리스트]프릴 슬리브 스트라이프 코튼 셔츠_TWWSTJ70140   \n",
              "883996  item_883996  [대구백화점 II관][르피타]울 단추 니트 베스트 조끼(L204UVTB51)   \n",
              "\n",
              "                                           text_re  \n",
              "0                  DA 남자 빅사이즈 절개 맨투맨 절개 트레이닝팬츠 SET  \n",
              "54712                리스트 탈착 타이넥 솔리드 셔츠 TWWSTJ82010  \n",
              "851321     리스트  리스트 프릴 슬리브 스트라이프 코튼 셔츠 TWWSTJ70140  \n",
              "883996   대구백화점 II관  르피타 울 단추 니트 베스트 조끼 L204UVTB51   "
            ],
            "text/html": [
              "\n",
              "  <div id=\"df-e4214948-f9a4-4a32-b7c1-73390d916928\">\n",
              "    <div class=\"colab-df-container\">\n",
              "      <div>\n",
              "<style scoped>\n",
              "    .dataframe tbody tr th:only-of-type {\n",
              "        vertical-align: middle;\n",
              "    }\n",
              "\n",
              "    .dataframe tbody tr th {\n",
              "        vertical-align: top;\n",
              "    }\n",
              "\n",
              "    .dataframe thead th {\n",
              "        text-align: right;\n",
              "    }\n",
              "</style>\n",
              "<table border=\"1\" class=\"dataframe\">\n",
              "  <thead>\n",
              "    <tr style=\"text-align: right;\">\n",
              "      <th></th>\n",
              "      <th>item_id</th>\n",
              "      <th>text</th>\n",
              "      <th>text_re</th>\n",
              "    </tr>\n",
              "  </thead>\n",
              "  <tbody>\n",
              "    <tr>\n",
              "      <th>0</th>\n",
              "      <td>item_0</td>\n",
              "      <td>DA 남자 빅사이즈 절개 맨투맨 절개 트레이닝팬츠 SET</td>\n",
              "      <td>DA 남자 빅사이즈 절개 맨투맨 절개 트레이닝팬츠 SET</td>\n",
              "    </tr>\n",
              "    <tr>\n",
              "      <th>54712</th>\n",
              "      <td>item_54712</td>\n",
              "      <td>리스트 탈착 타이넥 솔리드 셔츠_TWWSTJ82010</td>\n",
              "      <td>리스트 탈착 타이넥 솔리드 셔츠 TWWSTJ82010</td>\n",
              "    </tr>\n",
              "    <tr>\n",
              "      <th>851321</th>\n",
              "      <td>item_851321</td>\n",
              "      <td>리스트 [리스트]프릴 슬리브 스트라이프 코튼 셔츠_TWWSTJ70140</td>\n",
              "      <td>리스트  리스트 프릴 슬리브 스트라이프 코튼 셔츠 TWWSTJ70140</td>\n",
              "    </tr>\n",
              "    <tr>\n",
              "      <th>883996</th>\n",
              "      <td>item_883996</td>\n",
              "      <td>[대구백화점 II관][르피타]울 단추 니트 베스트 조끼(L204UVTB51)</td>\n",
              "      <td>대구백화점 II관  르피타 울 단추 니트 베스트 조끼 L204UVTB51</td>\n",
              "    </tr>\n",
              "  </tbody>\n",
              "</table>\n",
              "</div>\n",
              "      <button class=\"colab-df-convert\" onclick=\"convertToInteractive('df-e4214948-f9a4-4a32-b7c1-73390d916928')\"\n",
              "              title=\"Convert this dataframe to an interactive table.\"\n",
              "              style=\"display:none;\">\n",
              "        \n",
              "  <svg xmlns=\"http://www.w3.org/2000/svg\" height=\"24px\"viewBox=\"0 0 24 24\"\n",
              "       width=\"24px\">\n",
              "    <path d=\"M0 0h24v24H0V0z\" fill=\"none\"/>\n",
              "    <path d=\"M18.56 5.44l.94 2.06.94-2.06 2.06-.94-2.06-.94-.94-2.06-.94 2.06-2.06.94zm-11 1L8.5 8.5l.94-2.06 2.06-.94-2.06-.94L8.5 2.5l-.94 2.06-2.06.94zm10 10l.94 2.06.94-2.06 2.06-.94-2.06-.94-.94-2.06-.94 2.06-2.06.94z\"/><path d=\"M17.41 7.96l-1.37-1.37c-.4-.4-.92-.59-1.43-.59-.52 0-1.04.2-1.43.59L10.3 9.45l-7.72 7.72c-.78.78-.78 2.05 0 2.83L4 21.41c.39.39.9.59 1.41.59.51 0 1.02-.2 1.41-.59l7.78-7.78 2.81-2.81c.8-.78.8-2.07 0-2.86zM5.41 20L4 18.59l7.72-7.72 1.47 1.35L5.41 20z\"/>\n",
              "  </svg>\n",
              "      </button>\n",
              "      \n",
              "  <style>\n",
              "    .colab-df-container {\n",
              "      display:flex;\n",
              "      flex-wrap:wrap;\n",
              "      gap: 12px;\n",
              "    }\n",
              "\n",
              "    .colab-df-convert {\n",
              "      background-color: #E8F0FE;\n",
              "      border: none;\n",
              "      border-radius: 50%;\n",
              "      cursor: pointer;\n",
              "      display: none;\n",
              "      fill: #1967D2;\n",
              "      height: 32px;\n",
              "      padding: 0 0 0 0;\n",
              "      width: 32px;\n",
              "    }\n",
              "\n",
              "    .colab-df-convert:hover {\n",
              "      background-color: #E2EBFA;\n",
              "      box-shadow: 0px 1px 2px rgba(60, 64, 67, 0.3), 0px 1px 3px 1px rgba(60, 64, 67, 0.15);\n",
              "      fill: #174EA6;\n",
              "    }\n",
              "\n",
              "    [theme=dark] .colab-df-convert {\n",
              "      background-color: #3B4455;\n",
              "      fill: #D2E3FC;\n",
              "    }\n",
              "\n",
              "    [theme=dark] .colab-df-convert:hover {\n",
              "      background-color: #434B5C;\n",
              "      box-shadow: 0px 1px 3px 1px rgba(0, 0, 0, 0.15);\n",
              "      filter: drop-shadow(0px 1px 2px rgba(0, 0, 0, 0.3));\n",
              "      fill: #FFFFFF;\n",
              "    }\n",
              "  </style>\n",
              "\n",
              "      <script>\n",
              "        const buttonEl =\n",
              "          document.querySelector('#df-e4214948-f9a4-4a32-b7c1-73390d916928 button.colab-df-convert');\n",
              "        buttonEl.style.display =\n",
              "          google.colab.kernel.accessAllowed ? 'block' : 'none';\n",
              "\n",
              "        async function convertToInteractive(key) {\n",
              "          const element = document.querySelector('#df-e4214948-f9a4-4a32-b7c1-73390d916928');\n",
              "          const dataTable =\n",
              "            await google.colab.kernel.invokeFunction('convertToInteractive',\n",
              "                                                     [key], {});\n",
              "          if (!dataTable) return;\n",
              "\n",
              "          const docLinkHtml = 'Like what you see? Visit the ' +\n",
              "            '<a target=\"_blank\" href=https://colab.research.google.com/notebooks/data_table.ipynb>data table notebook</a>'\n",
              "            + ' to learn more about interactive tables.';\n",
              "          element.innerHTML = '';\n",
              "          dataTable['output_type'] = 'display_data';\n",
              "          await google.colab.output.renderOutput(dataTable, element);\n",
              "          const docLink = document.createElement('div');\n",
              "          docLink.innerHTML = docLinkHtml;\n",
              "          element.appendChild(docLink);\n",
              "        }\n",
              "      </script>\n",
              "    </div>\n",
              "  </div>\n",
              "  "
            ]
          },
          "metadata": {},
          "execution_count": 185
        }
      ]
    },
    {
      "cell_type": "code",
      "source": [
        " # 오케이 많이 비슷하다, 탈착과 절개도 비슷하다고 판단하네\n",
        " # 이렇게 most_similar item을 찾는 건 알았는데 \n",
        "# 특정 아이템과의 유사도도 계산해보자 ,이름이비슷하다고다음검색으로 이어지진않으니까 그게 벡터화된 값이라 해도 \n",
        "# 드디어 cls token같은 doc2vec 을 해봤고 해보니까 또 연구하듯이 생각드는건 이 압축된정보가 정보를 더 잘 포함할까? cls token이 그랬떤것처럼 거기에 더 잘 담을려면 어떻게해야되는거고 이렇게 유사도가 잘나오는데 그러면 word token vector는 필요없나\n",
        "\n",
        " model.docvecs.most_similar([vec], topn=3)"
      ],
      "metadata": {
        "colab": {
          "base_uri": "https://localhost:8080/"
        },
        "id": "e0Zva4EOF_9W",
        "outputId": "6880a914-a6f9-46b7-8a70-43ac58505c54"
      },
      "execution_count": 184,
      "outputs": [
        {
          "output_type": "execute_result",
          "data": {
            "text/plain": [
              "[('item_0', 1.0),\n",
              " ('item_883996', 0.9996147155761719),\n",
              " ('item_54712', 0.9981741309165955)]"
            ]
          },
          "metadata": {},
          "execution_count": 184
        }
      ]
    },
    {
      "cell_type": "code",
      "source": [
        "#https://hanshuginn.blogspot.com/2019/03/python-doc2vec.html\n",
        "model.g"
      ],
      "metadata": {
        "id": "kBplK_MZIR0m"
      },
      "execution_count": null,
      "outputs": []
    },
    {
      "cell_type": "code",
      "source": [
        "\n",
        "# 코사인유사도"
      ],
      "metadata": {
        "id": "omle_O62JGXt"
      },
      "execution_count": null,
      "outputs": []
    },
    {
      "cell_type": "code",
      "source": [
        "\n",
        "#https://kmikey1004.tistory.com/2"
      ],
      "metadata": {
        "id": "XLZD54qSJHGk"
      },
      "execution_count": null,
      "outputs": []
    },
    {
      "cell_type": "code",
      "source": [
        "# document의 vector를 구하는 방법은, 기 학습된 docvec을 가져오거나, 해당 단어를 넣고 다시 예측하는 것. \n",
        "# 단, tag로 접근이 가능할 뿐, 학습한 doc를 그대로 가져오는 것은 어려운 것으로 보임. \n",
        "# 또한, 여기서, 학습된 vector와 inferring한 vector가 미묘하게 다른데, 이것은 현재 train set이 적어서 그런 것으로 보임. \n",
        " #역시 이사람이 잘못안거고 model.infer_vector는 없는 문서일 경우에 랜덤으로 벡터값을 초기화하는 메서드이다\n",
        " # model.docvecs[{tag_id}] 로 가져와야함\n",
        "# model.docvecs.most_similar([vec], topn=3) 이게 그증거\n",
        "# [('item_0', 1.0),\n",
        "#  ('item_883996', 0.9996147155761719),\n",
        "#  ('item_54712', 0.9981741309165955)]"
      ],
      "metadata": {
        "id": "fMj98xqkHpcK"
      },
      "execution_count": null,
      "outputs": []
    },
    {
      "cell_type": "code",
      "source": [
        " model.docvecs.most_similar([inferred_v], topn=3)\n"
      ],
      "metadata": {
        "id": "KFBB5fIaGYq1"
      },
      "execution_count": null,
      "outputs": []
    },
    {
      "cell_type": "code",
      "source": [
        "for text, tags in common_texts_and_tags:\n",
        "    trained_doc_vec = model.docvecs[tags[0]]\n",
        "    inferred_doc_vec = model.infer_vector(text)\n",
        "    print(f\"tags: {tags}, text: {text}\")\n",
        "    print(f\"trained_doc_vec: {trained_doc_vec}\")\n",
        "    print(f\"inferred_doc_vec: {inferred_doc_vec}\")\n",
        "    print(\"--\"*20)"
      ],
      "metadata": {
        "id": "6TEk2hWZCkvE"
      },
      "execution_count": null,
      "outputs": []
    },
    {
      "cell_type": "code",
      "source": [
        "embedding.save(f\"doc2vec.embedding\")"
      ],
      "metadata": {
        "colab": {
          "base_uri": "https://localhost:8080/",
          "height": 174
        },
        "id": "SDDc48fS8-Cg",
        "outputId": "ff16f345-f15e-4908-fe9b-c7e6d0ebf90b"
      },
      "execution_count": 170,
      "outputs": [
        {
          "output_type": "error",
          "ename": "NameError",
          "evalue": "ignored",
          "traceback": [
            "\u001b[0;31m---------------------------------------------------------------------------\u001b[0m",
            "\u001b[0;31mNameError\u001b[0m                                 Traceback (most recent call last)",
            "\u001b[0;32m<ipython-input-170-9c495032aefc>\u001b[0m in \u001b[0;36m<module>\u001b[0;34m\u001b[0m\n\u001b[0;32m----> 1\u001b[0;31m \u001b[0membedding\u001b[0m\u001b[0;34m.\u001b[0m\u001b[0msave\u001b[0m\u001b[0;34m(\u001b[0m\u001b[0;34mf\"doc2vec.embedding\"\u001b[0m\u001b[0;34m)\u001b[0m\u001b[0;34m\u001b[0m\u001b[0;34m\u001b[0m\u001b[0m\n\u001b[0m",
            "\u001b[0;31mNameError\u001b[0m: name 'embedding' is not defined"
          ]
        }
      ]
    },
    {
      "cell_type": "code",
      "source": [
        "# https://frhyme.github.io/python-libs/nlp_doc2vec_gensim/ doc2vec"
      ],
      "metadata": {
        "id": "B9wbT2ZgCi5l"
      },
      "execution_count": null,
      "outputs": []
    },
    {
      "cell_type": "code",
      "source": [
        "for text, tags in common_texts_and_tags:\n",
        "    trained_doc_vec = model.docvecs[tags[0]]\n",
        "    inferred_doc_vec = model.infer_vector(text)\n",
        "    print(f\"tags: {tags}, text: {text}\")\n",
        "    print(f\"trained_doc_vec: {trained_doc_vec}\")\n",
        "    print(f\"inferred_doc_vec: {inferred_doc_vec}\")\n",
        "    print(\"--\"*20)\n",
        "    \n",
        "print(\"##\"*20)\n",
        "print(\"predicting Document vector\")\n",
        "print(\"##\"*20)\n",
        "\n",
        "new_documents = [\n",
        "    [\"computer\", \"interface\"], \n",
        "    [\"I\", \"am\", \"a\", \"boy\"]\n",
        "]\n",
        "# predict training set with its infering vector)\n",
        "for text in new_documents:\n",
        "    inferred_v = model.infer_vector(text)\n",
        "    # 현재 doc를 모델을 사용하여 벡터화할때의 값 \n",
        "    print(f\"vector of {text}: {inferred_v}\")\n",
        "    # 기학습된 문서중에서 현재 벡터와 가장 유사한 벡터를 가지는 문서를 topn만큼 추출합니다. \n",
        "    most_similar_docs = model.docvecs.most_similar([inferred_v], topn=3)\n",
        "    # index와 그 유사도를 함께 보여줍니다. \n",
        "    # index(tag)가 아닌 문서를 바로 보여주기는 어려운 것 같고, \n",
        "    for index, similarity in most_similar_docs:\n",
        "        print(f\"{index}, similarity: {similarity}\")\n",
        "    #print(most_similar_docs)\n",
        "    print(\"==\"*20)\n"
      ],
      "metadata": {
        "id": "6cXtiVICCaWk"
      },
      "execution_count": null,
      "outputs": []
    },
    {
      "cell_type": "code",
      "source": [
        "embedding = Word2Vec(embeddingmodel,size=vector_size, window=3, min_count=5, iter=5, sg=1, max_vocab_size=360000000)\n",
        "# 4.0.1 gensim version\n",
        "# embedding = Word2Vec(embeddingmodel, vector_size=300, window=5, min_count=10, epochs=5, sg=1, max_vocab_size=360000000)\n",
        "#embedding.save(f\"embedding/{portal_site}_portal_post.embedding\")\n",
        "\n",
        "#\n",
        "embedding.save(f\"product.embedding\")\n",
        "\n",
        "print('word embedding 저장 완료')\n",
        "\n",
        "\n"
      ],
      "metadata": {
        "colab": {
          "base_uri": "https://localhost:8080/"
        },
        "id": "edWkuMEfmZJT",
        "outputId": "520bdfe2-efe0-4a04-9ee8-c4b8dc15eaff"
      },
      "execution_count": 66,
      "outputs": [
        {
          "output_type": "stream",
          "name": "stdout",
          "text": [
            "word embedding 저장 완료\n"
          ]
        }
      ]
    },
    {
      "cell_type": "code",
      "source": [],
      "metadata": {
        "colab": {
          "base_uri": "https://localhost:8080/"
        },
        "id": "cOrc9i6b3G6n",
        "outputId": "b34f8b7a-1201-4dda-dddb-fa57b836f20e"
      },
      "execution_count": 77,
      "outputs": [
        {
          "output_type": "execute_result",
          "data": {
            "text/plain": [
              "585"
            ]
          },
          "metadata": {},
          "execution_count": 77
        }
      ]
    },
    {
      "cell_type": "code",
      "source": [
        "\n"
      ],
      "metadata": {
        "id": "Bv-WPLVE3Ick"
      },
      "execution_count": null,
      "outputs": []
    },
    {
      "cell_type": "code",
      "source": [
        "import gensim\n",
        "model_name = 'product.embedding'"
      ],
      "metadata": {
        "id": "W9S8SFBOtnPJ"
      },
      "execution_count": 78,
      "outputs": []
    },
    {
      "cell_type": "code",
      "source": [
        "# ram 이 부족하다 아무래도\n",
        "model = gensim.models.word2vec.Word2Vec.load(model_name)\n"
      ],
      "metadata": {
        "id": "pK3zv2CftJJ7"
      },
      "execution_count": 79,
      "outputs": []
    },
    {
      "cell_type": "code",
      "source": [
        "item_df"
      ],
      "metadata": {
        "colab": {
          "base_uri": "https://localhost:8080/",
          "height": 423
        },
        "id": "dJJ5dArM3Vnw",
        "outputId": "06fc1ff0-99bf-4a74-cf2c-ae4a5ce0f01b"
      },
      "execution_count": 84,
      "outputs": [
        {
          "output_type": "execute_result",
          "data": {
            "text/plain": [
              "            item_id                                               text  \\\n",
              "0            item_0                    DA 남자 빅사이즈 절개 맨투맨 절개 트레이닝팬츠 SET   \n",
              "1            item_1               텐피엠 [카시오] MTP-V005L 남성가죽시계+ 블랙 나토밴드.   \n",
              "2            item_2                           [바보사랑]여성 옥스퍼드 로퍼-(주)태블리스   \n",
              "3            item_3                   [해외][블랙모어스] 리프리놀/ 초록홍합 100캡슐 X 3   \n",
              "4            item_4               [백화점 SAY][크로커다일]경량덕 다운 점퍼(CL9WDW901)   \n",
              "...             ...                                                ...   \n",
              "970240  item_970240                      접이식 벤치의자 스툴 스탠드 의자 홈바 인테리어 카페   \n",
              "970241  item_970241                [오너클랜]기획 신발정리대 소형 6단 1P 현관신발장 오픈신발장   \n",
              "970242  item_970242           [피우다][피우다 (PIUDA)] 여름바다 상자 3p 세트 (수납함/수납   \n",
              "970243  item_970243                 [지큐][지큐/쿨제이][빅사이즈 추가] 모자이크 롱 숄 가디건   \n",
              "970244  item_970244  가바바 여성 빅사이즈 반팔 블라우스 단색의 컬러와 블랙 버튼으로 강조한 오피스룩 셔...   \n",
              "\n",
              "                                                  text_re  \n",
              "0                         DA 남자 빅사이즈 절개 맨투맨 절개 트레이닝팬츠 SET  \n",
              "1                    텐피엠  카시오  MTP V005L 남성가죽시계  블랙 나토밴드   \n",
              "2                                 바보사랑 여성 옥스퍼드 로퍼  주 태블리스  \n",
              "3                         해외  블랙모어스  리프리놀  초록홍합 100캡슐 X 3  \n",
              "4                     백화점 SAY  크로커다일 경량덕 다운 점퍼 CL9WDW901   \n",
              "...                                                   ...  \n",
              "970240                      접이식 벤치의자 스툴 스탠드 의자 홈바 인테리어 카페  \n",
              "970241                 오너클랜 기획 신발정리대 소형 6단 1P 현관신발장 오픈신발장  \n",
              "970242            피우다  피우다  PIUDA   여름바다 상자 3p 세트  수납함 수납  \n",
              "970243                  지큐  지큐 쿨제이  빅사이즈 추가  모자이크 롱 숄 가디건  \n",
              "970244  가바바 여성 빅사이즈 반팔 블라우스 단색의 컬러와 블랙 버튼으로 강조한 오피스룩 셔...  \n",
              "\n",
              "[970245 rows x 3 columns]"
            ],
            "text/html": [
              "\n",
              "  <div id=\"df-2c4967d6-da6a-4ac0-9f22-6c0992e05923\">\n",
              "    <div class=\"colab-df-container\">\n",
              "      <div>\n",
              "<style scoped>\n",
              "    .dataframe tbody tr th:only-of-type {\n",
              "        vertical-align: middle;\n",
              "    }\n",
              "\n",
              "    .dataframe tbody tr th {\n",
              "        vertical-align: top;\n",
              "    }\n",
              "\n",
              "    .dataframe thead th {\n",
              "        text-align: right;\n",
              "    }\n",
              "</style>\n",
              "<table border=\"1\" class=\"dataframe\">\n",
              "  <thead>\n",
              "    <tr style=\"text-align: right;\">\n",
              "      <th></th>\n",
              "      <th>item_id</th>\n",
              "      <th>text</th>\n",
              "      <th>text_re</th>\n",
              "    </tr>\n",
              "  </thead>\n",
              "  <tbody>\n",
              "    <tr>\n",
              "      <th>0</th>\n",
              "      <td>item_0</td>\n",
              "      <td>DA 남자 빅사이즈 절개 맨투맨 절개 트레이닝팬츠 SET</td>\n",
              "      <td>DA 남자 빅사이즈 절개 맨투맨 절개 트레이닝팬츠 SET</td>\n",
              "    </tr>\n",
              "    <tr>\n",
              "      <th>1</th>\n",
              "      <td>item_1</td>\n",
              "      <td>텐피엠 [카시오] MTP-V005L 남성가죽시계+ 블랙 나토밴드.</td>\n",
              "      <td>텐피엠  카시오  MTP V005L 남성가죽시계  블랙 나토밴드</td>\n",
              "    </tr>\n",
              "    <tr>\n",
              "      <th>2</th>\n",
              "      <td>item_2</td>\n",
              "      <td>[바보사랑]여성 옥스퍼드 로퍼-(주)태블리스</td>\n",
              "      <td>바보사랑 여성 옥스퍼드 로퍼  주 태블리스</td>\n",
              "    </tr>\n",
              "    <tr>\n",
              "      <th>3</th>\n",
              "      <td>item_3</td>\n",
              "      <td>[해외][블랙모어스] 리프리놀/ 초록홍합 100캡슐 X 3</td>\n",
              "      <td>해외  블랙모어스  리프리놀  초록홍합 100캡슐 X 3</td>\n",
              "    </tr>\n",
              "    <tr>\n",
              "      <th>4</th>\n",
              "      <td>item_4</td>\n",
              "      <td>[백화점 SAY][크로커다일]경량덕 다운 점퍼(CL9WDW901)</td>\n",
              "      <td>백화점 SAY  크로커다일 경량덕 다운 점퍼 CL9WDW901</td>\n",
              "    </tr>\n",
              "    <tr>\n",
              "      <th>...</th>\n",
              "      <td>...</td>\n",
              "      <td>...</td>\n",
              "      <td>...</td>\n",
              "    </tr>\n",
              "    <tr>\n",
              "      <th>970240</th>\n",
              "      <td>item_970240</td>\n",
              "      <td>접이식 벤치의자 스툴 스탠드 의자 홈바 인테리어 카페</td>\n",
              "      <td>접이식 벤치의자 스툴 스탠드 의자 홈바 인테리어 카페</td>\n",
              "    </tr>\n",
              "    <tr>\n",
              "      <th>970241</th>\n",
              "      <td>item_970241</td>\n",
              "      <td>[오너클랜]기획 신발정리대 소형 6단 1P 현관신발장 오픈신발장</td>\n",
              "      <td>오너클랜 기획 신발정리대 소형 6단 1P 현관신발장 오픈신발장</td>\n",
              "    </tr>\n",
              "    <tr>\n",
              "      <th>970242</th>\n",
              "      <td>item_970242</td>\n",
              "      <td>[피우다][피우다 (PIUDA)] 여름바다 상자 3p 세트 (수납함/수납</td>\n",
              "      <td>피우다  피우다  PIUDA   여름바다 상자 3p 세트  수납함 수납</td>\n",
              "    </tr>\n",
              "    <tr>\n",
              "      <th>970243</th>\n",
              "      <td>item_970243</td>\n",
              "      <td>[지큐][지큐/쿨제이][빅사이즈 추가] 모자이크 롱 숄 가디건</td>\n",
              "      <td>지큐  지큐 쿨제이  빅사이즈 추가  모자이크 롱 숄 가디건</td>\n",
              "    </tr>\n",
              "    <tr>\n",
              "      <th>970244</th>\n",
              "      <td>item_970244</td>\n",
              "      <td>가바바 여성 빅사이즈 반팔 블라우스 단색의 컬러와 블랙 버튼으로 강조한 오피스룩 셔...</td>\n",
              "      <td>가바바 여성 빅사이즈 반팔 블라우스 단색의 컬러와 블랙 버튼으로 강조한 오피스룩 셔...</td>\n",
              "    </tr>\n",
              "  </tbody>\n",
              "</table>\n",
              "<p>970245 rows × 3 columns</p>\n",
              "</div>\n",
              "      <button class=\"colab-df-convert\" onclick=\"convertToInteractive('df-2c4967d6-da6a-4ac0-9f22-6c0992e05923')\"\n",
              "              title=\"Convert this dataframe to an interactive table.\"\n",
              "              style=\"display:none;\">\n",
              "        \n",
              "  <svg xmlns=\"http://www.w3.org/2000/svg\" height=\"24px\"viewBox=\"0 0 24 24\"\n",
              "       width=\"24px\">\n",
              "    <path d=\"M0 0h24v24H0V0z\" fill=\"none\"/>\n",
              "    <path d=\"M18.56 5.44l.94 2.06.94-2.06 2.06-.94-2.06-.94-.94-2.06-.94 2.06-2.06.94zm-11 1L8.5 8.5l.94-2.06 2.06-.94-2.06-.94L8.5 2.5l-.94 2.06-2.06.94zm10 10l.94 2.06.94-2.06 2.06-.94-2.06-.94-.94-2.06-.94 2.06-2.06.94z\"/><path d=\"M17.41 7.96l-1.37-1.37c-.4-.4-.92-.59-1.43-.59-.52 0-1.04.2-1.43.59L10.3 9.45l-7.72 7.72c-.78.78-.78 2.05 0 2.83L4 21.41c.39.39.9.59 1.41.59.51 0 1.02-.2 1.41-.59l7.78-7.78 2.81-2.81c.8-.78.8-2.07 0-2.86zM5.41 20L4 18.59l7.72-7.72 1.47 1.35L5.41 20z\"/>\n",
              "  </svg>\n",
              "      </button>\n",
              "      \n",
              "  <style>\n",
              "    .colab-df-container {\n",
              "      display:flex;\n",
              "      flex-wrap:wrap;\n",
              "      gap: 12px;\n",
              "    }\n",
              "\n",
              "    .colab-df-convert {\n",
              "      background-color: #E8F0FE;\n",
              "      border: none;\n",
              "      border-radius: 50%;\n",
              "      cursor: pointer;\n",
              "      display: none;\n",
              "      fill: #1967D2;\n",
              "      height: 32px;\n",
              "      padding: 0 0 0 0;\n",
              "      width: 32px;\n",
              "    }\n",
              "\n",
              "    .colab-df-convert:hover {\n",
              "      background-color: #E2EBFA;\n",
              "      box-shadow: 0px 1px 2px rgba(60, 64, 67, 0.3), 0px 1px 3px 1px rgba(60, 64, 67, 0.15);\n",
              "      fill: #174EA6;\n",
              "    }\n",
              "\n",
              "    [theme=dark] .colab-df-convert {\n",
              "      background-color: #3B4455;\n",
              "      fill: #D2E3FC;\n",
              "    }\n",
              "\n",
              "    [theme=dark] .colab-df-convert:hover {\n",
              "      background-color: #434B5C;\n",
              "      box-shadow: 0px 1px 3px 1px rgba(0, 0, 0, 0.15);\n",
              "      filter: drop-shadow(0px 1px 2px rgba(0, 0, 0, 0.3));\n",
              "      fill: #FFFFFF;\n",
              "    }\n",
              "  </style>\n",
              "\n",
              "      <script>\n",
              "        const buttonEl =\n",
              "          document.querySelector('#df-2c4967d6-da6a-4ac0-9f22-6c0992e05923 button.colab-df-convert');\n",
              "        buttonEl.style.display =\n",
              "          google.colab.kernel.accessAllowed ? 'block' : 'none';\n",
              "\n",
              "        async function convertToInteractive(key) {\n",
              "          const element = document.querySelector('#df-2c4967d6-da6a-4ac0-9f22-6c0992e05923');\n",
              "          const dataTable =\n",
              "            await google.colab.kernel.invokeFunction('convertToInteractive',\n",
              "                                                     [key], {});\n",
              "          if (!dataTable) return;\n",
              "\n",
              "          const docLinkHtml = 'Like what you see? Visit the ' +\n",
              "            '<a target=\"_blank\" href=https://colab.research.google.com/notebooks/data_table.ipynb>data table notebook</a>'\n",
              "            + ' to learn more about interactive tables.';\n",
              "          element.innerHTML = '';\n",
              "          dataTable['output_type'] = 'display_data';\n",
              "          await google.colab.output.renderOutput(dataTable, element);\n",
              "          const docLink = document.createElement('div');\n",
              "          docLink.innerHTML = docLinkHtml;\n",
              "          element.appendChild(docLink);\n",
              "        }\n",
              "      </script>\n",
              "    </div>\n",
              "  </div>\n",
              "  "
            ]
          },
          "metadata": {},
          "execution_count": 84
        }
      ]
    },
    {
      "cell_type": "code",
      "source": [
        "\n",
        "model.wv.most_similar('로퍼')\n"
      ],
      "metadata": {
        "id": "3gI0IqWn5mVo"
      },
      "execution_count": null,
      "outputs": []
    },
    {
      "cell_type": "code",
      "source": [],
      "metadata": {
        "id": "gVu7CHjB6o1D"
      },
      "execution_count": null,
      "outputs": []
    },
    {
      "cell_type": "code",
      "source": [
        "from gensim.similarities import Similarity\n",
        "from gensim.test.utils import common_corpus, common_dictionary, get_tmpfile\n",
        "\n",
        "index_tmpfile = get_tmpfile(\"index\")\n",
        "# query = [(1, 2), (6, 1), (7, 2)]\n",
        "query = [(0,1), (1,1), (2, 1)]\n",
        "\n",
        "index = Similarity(index_tmpfile, common_corpus, num_features=len(common_dictionary))  # build the index\n",
        "similarities = index[query]"
      ],
      "metadata": {
        "colab": {
          "base_uri": "https://localhost:8080/"
        },
        "id": "H1NXS8b251pq",
        "outputId": "cce97aa7-1c2e-4d91-ef1b-7fb10de30386"
      },
      "execution_count": 89,
      "outputs": [
        {
          "output_type": "stream",
          "name": "stderr",
          "text": [
            "/usr/local/lib/python3.8/dist-packages/gensim/similarities/docsim.py:518: FutureWarning: arrays to stack must be passed as a \"sequence\" type such as list or tuple. Support for non-sequence iterables such as generators is deprecated as of NumPy 1.16 and will raise an error in the future.\n",
            "  result = numpy.hstack(shard_results)\n"
          ]
        }
      ]
    },
    {
      "cell_type": "code",
      "source": [
        "common_corpus_2 = [[ 1,2,3,4,5 ], [5,6,7,8,9]]"
      ],
      "metadata": {
        "id": "s2Fg4ZLr7msj"
      },
      "execution_count": 93,
      "outputs": []
    },
    {
      "cell_type": "code",
      "source": [
        "\n",
        "common_corpus_2 = [(1,2,3,4,5 ), (5,6,7,8,9)]"
      ],
      "metadata": {
        "id": "Rwf06m3F7rxo"
      },
      "execution_count": 98,
      "outputs": []
    },
    {
      "cell_type": "code",
      "source": [
        "query= [(1,2,3,4,5)]"
      ],
      "metadata": {
        "id": "-2ekASpx6pDR"
      },
      "execution_count": 97,
      "outputs": []
    },
    {
      "cell_type": "code",
      "source": [
        "index = Similarity(index_tmpfile, common_corpus, num_features=len(common_dictionary))  # build the index\n",
        "similarities = index[query]"
      ],
      "metadata": {
        "colab": {
          "base_uri": "https://localhost:8080/",
          "height": 383
        },
        "id": "v9ocqfiX7zVr",
        "outputId": "ecd085bf-25db-47fb-cc15-63e3711c706d"
      },
      "execution_count": 99,
      "outputs": [
        {
          "output_type": "error",
          "ename": "ValueError",
          "evalue": "ignored",
          "traceback": [
            "\u001b[0;31m---------------------------------------------------------------------------\u001b[0m",
            "\u001b[0;31mValueError\u001b[0m                                Traceback (most recent call last)",
            "\u001b[0;32m<ipython-input-99-f48a4ecf88a5>\u001b[0m in \u001b[0;36m<module>\u001b[0;34m\u001b[0m\n\u001b[1;32m      1\u001b[0m \u001b[0mindex\u001b[0m \u001b[0;34m=\u001b[0m \u001b[0mSimilarity\u001b[0m\u001b[0;34m(\u001b[0m\u001b[0mindex_tmpfile\u001b[0m\u001b[0;34m,\u001b[0m \u001b[0mcommon_corpus\u001b[0m\u001b[0;34m,\u001b[0m \u001b[0mnum_features\u001b[0m\u001b[0;34m=\u001b[0m\u001b[0mlen\u001b[0m\u001b[0;34m(\u001b[0m\u001b[0mcommon_dictionary\u001b[0m\u001b[0;34m)\u001b[0m\u001b[0;34m)\u001b[0m  \u001b[0;31m# build the index\u001b[0m\u001b[0;34m\u001b[0m\u001b[0;34m\u001b[0m\u001b[0m\n\u001b[0;32m----> 2\u001b[0;31m \u001b[0msimilarities\u001b[0m \u001b[0;34m=\u001b[0m \u001b[0mindex\u001b[0m\u001b[0;34m[\u001b[0m\u001b[0mquery\u001b[0m\u001b[0;34m]\u001b[0m\u001b[0;34m\u001b[0m\u001b[0;34m\u001b[0m\u001b[0m\n\u001b[0m",
            "\u001b[0;32m/usr/local/lib/python3.8/dist-packages/gensim/similarities/docsim.py\u001b[0m in \u001b[0;36m__getitem__\u001b[0;34m(self, query)\u001b[0m\n\u001b[1;32m    516\u001b[0m             \u001b[0;31m# user asked for all documents => just stack the sub-results into a single matrix\u001b[0m\u001b[0;34m\u001b[0m\u001b[0;34m\u001b[0m\u001b[0;34m\u001b[0m\u001b[0m\n\u001b[1;32m    517\u001b[0m             \u001b[0;31m# (works for both corpus / single doc query)\u001b[0m\u001b[0;34m\u001b[0m\u001b[0;34m\u001b[0m\u001b[0;34m\u001b[0m\u001b[0m\n\u001b[0;32m--> 518\u001b[0;31m             \u001b[0mresult\u001b[0m \u001b[0;34m=\u001b[0m \u001b[0mnumpy\u001b[0m\u001b[0;34m.\u001b[0m\u001b[0mhstack\u001b[0m\u001b[0;34m(\u001b[0m\u001b[0mshard_results\u001b[0m\u001b[0;34m)\u001b[0m\u001b[0;34m\u001b[0m\u001b[0;34m\u001b[0m\u001b[0m\n\u001b[0m\u001b[1;32m    519\u001b[0m         \u001b[0;32melse\u001b[0m\u001b[0;34m:\u001b[0m\u001b[0;34m\u001b[0m\u001b[0;34m\u001b[0m\u001b[0m\n\u001b[1;32m    520\u001b[0m             \u001b[0;31m# the following uses a lot of lazy evaluation and (optionally) parallel\u001b[0m\u001b[0;34m\u001b[0m\u001b[0;34m\u001b[0m\u001b[0;34m\u001b[0m\u001b[0m\n",
            "\u001b[0;32m<__array_function__ internals>\u001b[0m in \u001b[0;36mhstack\u001b[0;34m(*args, **kwargs)\u001b[0m\n",
            "\u001b[0;32m/usr/local/lib/python3.8/dist-packages/numpy/core/shape_base.py\u001b[0m in \u001b[0;36mhstack\u001b[0;34m(tup)\u001b[0m\n\u001b[1;32m    336\u001b[0m         \u001b[0m_arrays_for_stack_dispatcher\u001b[0m\u001b[0;34m(\u001b[0m\u001b[0mtup\u001b[0m\u001b[0;34m,\u001b[0m \u001b[0mstacklevel\u001b[0m\u001b[0;34m=\u001b[0m\u001b[0;36m2\u001b[0m\u001b[0;34m)\u001b[0m\u001b[0;34m\u001b[0m\u001b[0;34m\u001b[0m\u001b[0m\n\u001b[1;32m    337\u001b[0m \u001b[0;34m\u001b[0m\u001b[0m\n\u001b[0;32m--> 338\u001b[0;31m     \u001b[0marrs\u001b[0m \u001b[0;34m=\u001b[0m \u001b[0matleast_1d\u001b[0m\u001b[0;34m(\u001b[0m\u001b[0;34m*\u001b[0m\u001b[0mtup\u001b[0m\u001b[0;34m)\u001b[0m\u001b[0;34m\u001b[0m\u001b[0;34m\u001b[0m\u001b[0m\n\u001b[0m\u001b[1;32m    339\u001b[0m     \u001b[0;32mif\u001b[0m \u001b[0;32mnot\u001b[0m \u001b[0misinstance\u001b[0m\u001b[0;34m(\u001b[0m\u001b[0marrs\u001b[0m\u001b[0;34m,\u001b[0m \u001b[0mlist\u001b[0m\u001b[0;34m)\u001b[0m\u001b[0;34m:\u001b[0m\u001b[0;34m\u001b[0m\u001b[0;34m\u001b[0m\u001b[0m\n\u001b[1;32m    340\u001b[0m         \u001b[0marrs\u001b[0m \u001b[0;34m=\u001b[0m \u001b[0;34m[\u001b[0m\u001b[0marrs\u001b[0m\u001b[0;34m]\u001b[0m\u001b[0;34m\u001b[0m\u001b[0;34m\u001b[0m\u001b[0m\n",
            "\u001b[0;32m/usr/local/lib/python3.8/dist-packages/gensim/similarities/docsim.py\u001b[0m in \u001b[0;36mquery_shard\u001b[0;34m(args)\u001b[0m\n\u001b[1;32m    222\u001b[0m     \u001b[0mquery\u001b[0m\u001b[0;34m,\u001b[0m \u001b[0mshard\u001b[0m \u001b[0;34m=\u001b[0m \u001b[0margs\u001b[0m  \u001b[0;31m# simulate starmap (not part of multiprocessing in older Pythons)\u001b[0m\u001b[0;34m\u001b[0m\u001b[0;34m\u001b[0m\u001b[0m\n\u001b[1;32m    223\u001b[0m     \u001b[0mlogger\u001b[0m\u001b[0;34m.\u001b[0m\u001b[0mdebug\u001b[0m\u001b[0;34m(\u001b[0m\u001b[0;34m\"querying shard %s num_best=%s in process %s\"\u001b[0m\u001b[0;34m,\u001b[0m \u001b[0mshard\u001b[0m\u001b[0;34m,\u001b[0m \u001b[0mshard\u001b[0m\u001b[0;34m.\u001b[0m\u001b[0mnum_best\u001b[0m\u001b[0;34m,\u001b[0m \u001b[0mos\u001b[0m\u001b[0;34m.\u001b[0m\u001b[0mgetpid\u001b[0m\u001b[0;34m(\u001b[0m\u001b[0;34m)\u001b[0m\u001b[0;34m)\u001b[0m\u001b[0;34m\u001b[0m\u001b[0;34m\u001b[0m\u001b[0m\n\u001b[0;32m--> 224\u001b[0;31m     \u001b[0mresult\u001b[0m \u001b[0;34m=\u001b[0m \u001b[0mshard\u001b[0m\u001b[0;34m[\u001b[0m\u001b[0mquery\u001b[0m\u001b[0;34m]\u001b[0m\u001b[0;34m\u001b[0m\u001b[0;34m\u001b[0m\u001b[0m\n\u001b[0m\u001b[1;32m    225\u001b[0m     \u001b[0mlogger\u001b[0m\u001b[0;34m.\u001b[0m\u001b[0mdebug\u001b[0m\u001b[0;34m(\u001b[0m\u001b[0;34m\"finished querying shard %s in process %s\"\u001b[0m\u001b[0;34m,\u001b[0m \u001b[0mshard\u001b[0m\u001b[0;34m,\u001b[0m \u001b[0mos\u001b[0m\u001b[0;34m.\u001b[0m\u001b[0mgetpid\u001b[0m\u001b[0;34m(\u001b[0m\u001b[0;34m)\u001b[0m\u001b[0;34m)\u001b[0m\u001b[0;34m\u001b[0m\u001b[0;34m\u001b[0m\u001b[0m\n\u001b[1;32m    226\u001b[0m     \u001b[0;32mreturn\u001b[0m \u001b[0mresult\u001b[0m\u001b[0;34m\u001b[0m\u001b[0;34m\u001b[0m\u001b[0m\n",
            "\u001b[0;32m/usr/local/lib/python3.8/dist-packages/gensim/similarities/docsim.py\u001b[0m in \u001b[0;36m__getitem__\u001b[0;34m(self, query)\u001b[0m\n\u001b[1;32m    203\u001b[0m         \u001b[0;32mexcept\u001b[0m \u001b[0mException\u001b[0m\u001b[0;34m:\u001b[0m\u001b[0;34m\u001b[0m\u001b[0;34m\u001b[0m\u001b[0m\n\u001b[1;32m    204\u001b[0m             \u001b[0;32mraise\u001b[0m \u001b[0mValueError\u001b[0m\u001b[0;34m(\u001b[0m\u001b[0;34m\"num_best and normalize have to be set before querying a proxy Shard object\"\u001b[0m\u001b[0;34m)\u001b[0m\u001b[0;34m\u001b[0m\u001b[0;34m\u001b[0m\u001b[0m\n\u001b[0;32m--> 205\u001b[0;31m         \u001b[0;32mreturn\u001b[0m \u001b[0mindex\u001b[0m\u001b[0;34m[\u001b[0m\u001b[0mquery\u001b[0m\u001b[0;34m]\u001b[0m\u001b[0;34m\u001b[0m\u001b[0;34m\u001b[0m\u001b[0m\n\u001b[0m\u001b[1;32m    206\u001b[0m \u001b[0;34m\u001b[0m\u001b[0m\n\u001b[1;32m    207\u001b[0m \u001b[0;34m\u001b[0m\u001b[0m\n",
            "\u001b[0;32m/usr/local/lib/python3.8/dist-packages/gensim/interfaces.py\u001b[0m in \u001b[0;36m__getitem__\u001b[0;34m(self, query)\u001b[0m\n\u001b[1;32m    327\u001b[0m                     \u001b[0mquery\u001b[0m \u001b[0;34m=\u001b[0m \u001b[0;34m[\u001b[0m\u001b[0mmatutils\u001b[0m\u001b[0;34m.\u001b[0m\u001b[0munitvec\u001b[0m\u001b[0;34m(\u001b[0m\u001b[0mv\u001b[0m\u001b[0;34m)\u001b[0m \u001b[0;32mfor\u001b[0m \u001b[0mv\u001b[0m \u001b[0;32min\u001b[0m \u001b[0mquery\u001b[0m\u001b[0;34m]\u001b[0m\u001b[0;34m\u001b[0m\u001b[0;34m\u001b[0m\u001b[0m\n\u001b[1;32m    328\u001b[0m                 \u001b[0;32melse\u001b[0m\u001b[0;34m:\u001b[0m\u001b[0;34m\u001b[0m\u001b[0;34m\u001b[0m\u001b[0m\n\u001b[0;32m--> 329\u001b[0;31m                     \u001b[0mquery\u001b[0m \u001b[0;34m=\u001b[0m \u001b[0mmatutils\u001b[0m\u001b[0;34m.\u001b[0m\u001b[0munitvec\u001b[0m\u001b[0;34m(\u001b[0m\u001b[0mquery\u001b[0m\u001b[0;34m)\u001b[0m\u001b[0;34m\u001b[0m\u001b[0;34m\u001b[0m\u001b[0m\n\u001b[0m\u001b[1;32m    330\u001b[0m         \u001b[0mresult\u001b[0m \u001b[0;34m=\u001b[0m \u001b[0mself\u001b[0m\u001b[0;34m.\u001b[0m\u001b[0mget_similarities\u001b[0m\u001b[0;34m(\u001b[0m\u001b[0mquery\u001b[0m\u001b[0;34m)\u001b[0m\u001b[0;34m\u001b[0m\u001b[0;34m\u001b[0m\u001b[0m\n\u001b[1;32m    331\u001b[0m \u001b[0;34m\u001b[0m\u001b[0m\n",
            "\u001b[0;32m/usr/local/lib/python3.8/dist-packages/gensim/matutils.py\u001b[0m in \u001b[0;36munitvec\u001b[0;34m(vec, norm, return_norm)\u001b[0m\n\u001b[1;32m    763\u001b[0m             \u001b[0;32mreturn\u001b[0m \u001b[0mret_normalized_vec\u001b[0m\u001b[0;34m(\u001b[0m\u001b[0mvec\u001b[0m\u001b[0;34m,\u001b[0m \u001b[0mlength\u001b[0m\u001b[0;34m)\u001b[0m\u001b[0;34m\u001b[0m\u001b[0;34m\u001b[0m\u001b[0m\n\u001b[1;32m    764\u001b[0m     \u001b[0;32melse\u001b[0m\u001b[0;34m:\u001b[0m\u001b[0;34m\u001b[0m\u001b[0;34m\u001b[0m\u001b[0m\n\u001b[0;32m--> 765\u001b[0;31m         \u001b[0;32mraise\u001b[0m \u001b[0mValueError\u001b[0m\u001b[0;34m(\u001b[0m\u001b[0;34m\"unknown input type\"\u001b[0m\u001b[0;34m)\u001b[0m\u001b[0;34m\u001b[0m\u001b[0;34m\u001b[0m\u001b[0m\n\u001b[0m\u001b[1;32m    766\u001b[0m \u001b[0;34m\u001b[0m\u001b[0m\n\u001b[1;32m    767\u001b[0m \u001b[0;34m\u001b[0m\u001b[0m\n",
            "\u001b[0;31mValueError\u001b[0m: unknown input type"
          ]
        }
      ]
    },
    {
      "cell_type": "code",
      "source": [
        "# query 를 보내고, index로 표현해서 similarity 를 보자\n",
        "similarities"
      ],
      "metadata": {
        "colab": {
          "base_uri": "https://localhost:8080/"
        },
        "id": "Q3qkgQCw6Aoy",
        "outputId": "549b1ce8-1262-4c10-87f9-d62f85bba15d"
      },
      "execution_count": 90,
      "outputs": [
        {
          "output_type": "execute_result",
          "data": {
            "text/plain": [
              "array([0.99999994, 0.23570226, 0.28867513, 0.23570226, 0.        ,\n",
              "       0.        , 0.        , 0.        , 0.        ], dtype=float32)"
            ]
          },
          "metadata": {},
          "execution_count": 90
        }
      ]
    },
    {
      "cell_type": "code",
      "source": [
        "common_corpus"
      ],
      "metadata": {
        "colab": {
          "base_uri": "https://localhost:8080/"
        },
        "id": "LR3qpOBB5_-d",
        "outputId": "227c8174-6408-41f2-a6c9-6c5fdda93413"
      },
      "execution_count": 88,
      "outputs": [
        {
          "output_type": "execute_result",
          "data": {
            "text/plain": [
              "[[(0, 1), (1, 1), (2, 1)],\n",
              " [(0, 1), (3, 1), (4, 1), (5, 1), (6, 1), (7, 1)],\n",
              " [(2, 1), (5, 1), (7, 1), (8, 1)],\n",
              " [(1, 1), (5, 2), (8, 1)],\n",
              " [(3, 1), (6, 1), (7, 1)],\n",
              " [(9, 1)],\n",
              " [(9, 1), (10, 1)],\n",
              " [(9, 1), (10, 1), (11, 1)],\n",
              " [(4, 1), (10, 1), (11, 1)]]"
            ]
          },
          "metadata": {},
          "execution_count": 88
        }
      ]
    },
    {
      "cell_type": "code",
      "source": [
        "similarities"
      ],
      "metadata": {
        "colab": {
          "base_uri": "https://localhost:8080/"
        },
        "id": "y_zemg2P53MT",
        "outputId": "923c4684-4594-4d45-92ec-9bf9325571ec"
      },
      "execution_count": 87,
      "outputs": [
        {
          "output_type": "execute_result",
          "data": {
            "text/plain": [
              "array([0.38490018, 0.4082483 , 0.33333334, 0.27216554, 0.57735026,\n",
              "       0.        , 0.        , 0.        , 0.        ], dtype=float32)"
            ]
          },
          "metadata": {},
          "execution_count": 87
        }
      ]
    },
    {
      "cell_type": "code",
      "source": [
        "\n",
        "model.wv.most_similar('로퍼')\n"
      ],
      "metadata": {
        "colab": {
          "base_uri": "https://localhost:8080/"
        },
        "id": "1c_b9Jrn5k9A",
        "outputId": "60c5fc16-e86e-4dbe-f1ab-51fab9b8a757"
      },
      "execution_count": 85,
      "outputs": [
        {
          "output_type": "execute_result",
          "data": {
            "text/plain": [
              "[('드라이빙', 0.8247734308242798),\n",
              " ('블로퍼', 0.8132685422897339),\n",
              " ('드라이빙슈즈', 0.8063546419143677),\n",
              " ('페니', 0.7777316570281982),\n",
              " ('페니로퍼', 0.7719422578811646),\n",
              " ('플랫슈즈', 0.770158052444458),\n",
              " ('단화', 0.7659959197044373),\n",
              " ('옥스포드화', 0.760817289352417),\n",
              " ('여성로퍼', 0.7542648911476135),\n",
              " ('moyhea', 0.7501505613327026)]"
            ]
          },
          "metadata": {},
          "execution_count": 85
        }
      ]
    },
    {
      "cell_type": "code",
      "source": [
        "\n",
        "model.wv.most_similar('치마')\n"
      ],
      "metadata": {
        "colab": {
          "base_uri": "https://localhost:8080/"
        },
        "id": "jjaAhowV3S_A",
        "outputId": "09c25e59-d3da-4d18-a006-387b9db2dcd6"
      },
      "execution_count": 81,
      "outputs": [
        {
          "output_type": "execute_result",
          "data": {
            "text/plain": [
              "[('주름치마', 0.7885022163391113),\n",
              " ('여성치마', 0.7832591533660889),\n",
              " ('롱스커트', 0.7804417014122009),\n",
              " ('스커트', 0.7798577547073364),\n",
              " ('여성스커트', 0.7776222229003906),\n",
              " ('롱치마', 0.7768256068229675),\n",
              " ('치마반바지', 0.7752245664596558),\n",
              " ('랩스커트', 0.774721622467041),\n",
              " ('밴드치마', 0.7703984975814819),\n",
              " ('전통무용', 0.7697372436523438)]"
            ]
          },
          "metadata": {},
          "execution_count": 81
        }
      ]
    },
    {
      "cell_type": "code",
      "source": [
        "model.wv.most_similar('섹스')\n"
      ],
      "metadata": {
        "colab": {
          "base_uri": "https://localhost:8080/"
        },
        "id": "dZuqwhNmtpjh",
        "outputId": "2615a05c-534c-4aed-d99e-1135ada21b30"
      },
      "execution_count": 83,
      "outputs": [
        {
          "output_type": "execute_result",
          "data": {
            "text/plain": [
              "[('32ml', 0.9487873315811157),\n",
              " ('세비엄', 0.9381943941116333),\n",
              " ('식물나라', 0.9376633763313293),\n",
              " ('윤활제', 0.9373548030853271),\n",
              " ('러브젤', 0.9371756315231323),\n",
              " ('메디렌즈', 0.9337586164474487),\n",
              " ('립테라피', 0.9335440993309021),\n",
              " ('흑설탕', 0.9328588247299194),\n",
              " ('10mL', 0.9317175149917603),\n",
              " ('딥클렌징폼', 0.9315555095672607)]"
            ]
          },
          "metadata": {},
          "execution_count": 83
        }
      ]
    },
    {
      "cell_type": "code",
      "source": [],
      "metadata": {
        "id": "ypnLA-0r3fEo"
      },
      "execution_count": null,
      "outputs": []
    },
    {
      "cell_type": "code",
      "source": [],
      "metadata": {
        "id": "0hIWC-f63c_p"
      },
      "execution_count": null,
      "outputs": []
    },
    {
      "cell_type": "code",
      "source": [
        "model = gensim.models.word2vec.Word2Vec.load(model_name)\n",
        "    # model = spacy.load(model_name)\n",
        "    #    for sentence in sentences:\n",
        "    if len(sentences) == 1:\n",
        "        for word in sentences:\n",
        "\n",
        "            word_cnt += 1\n",
        "            # model.wv.vocab delete -> model.wv.key_to_index\n",
        "            # model 값에서 단어가 품사와 같이 코딩되어 있는 지 check하기\n",
        "            if (word in model.wv.key_to_index):\n",
        "                sub.append(model.wv[word])\n",
        "                coverage_cnt +=1\n",
        "            else:\n",
        "                sub.append(np.random.uniform(-0.25, 0.25, 300))  # used for OOV words\n",
        "            # if len(sub) > max_seq_length:\n",
        "            #    max_seq_length = len(sub)\n",
        "        word_vec.append(sub)\n",
        "        print(f\"coverage rate : {coverage_cnt / word_cnt} \")\n",
        "        # word_vec.append(sub)\n",
        "        #    except Exception as e:\n",
        "        #        print(e)\n",
        "        # total_batch = len(word_vec)\n",
        "        total_batch = len(word_vec)\n",
        "        return word_vec, max_seq_length, total_batch\n",
        "    else:\n",
        "        for sentence in sentences:\n",
        "            sub = []\n",
        "\n",
        "            for word in sentence:\n",
        "                word_cnt += 1\n",
        "                # model.wv.vocab delete -> model.wv.key_to_index\n",
        "                # model 값에서 단어가 품사와 같이 코딩되어 있는 지 check하기\n",
        "                if (word in model.wv.key_to_index):\n",
        "                    sub.append(model.wv[word])\n",
        "                    coverage_cnt += 1\n",
        "                else:\n",
        "                    sub.append(np.random.uniform(-0.25, 0.25, 300))  # used for OOV words\n",
        "                if len(sub) == 1190:\n",
        "                    print(len(sub))\n",
        "            word_vec.append(sub)\n",
        "        total_batch = len(word_vec)\n",
        "        print(f\"coverage rate : {coverage_cnt / word_cnt} \")\n",
        "        return word_vec, max_seq_length, total_batch"
      ],
      "metadata": {
        "id": "IoLSiZ2fsXg-"
      },
      "execution_count": null,
      "outputs": []
    },
    {
      "cell_type": "code",
      "source": [],
      "metadata": {
        "id": "xpdR8Ja73bGM"
      },
      "execution_count": null,
      "outputs": []
    },
    {
      "cell_type": "code",
      "source": [
        "item_df['text_re'].apply(lambda x : get_bag_of_words(x,bag_of_words))"
      ],
      "metadata": {
        "colab": {
          "base_uri": "https://localhost:8080/"
        },
        "id": "4RkC6fhN05Kb",
        "outputId": "c5cd8cab-e8d0-48a0-d768-3f577ef15859"
      },
      "execution_count": 82,
      "outputs": [
        {
          "output_type": "execute_result",
          "data": {
            "text/plain": [
              "0         None\n",
              "1         None\n",
              "2         None\n",
              "3         None\n",
              "4         None\n",
              "          ... \n",
              "970240    None\n",
              "970241    None\n",
              "970242    None\n",
              "970243    None\n",
              "970244    None\n",
              "Name: text_re, Length: 970245, dtype: object"
            ]
          },
          "metadata": {},
          "execution_count": 82
        }
      ]
    },
    {
      "cell_type": "code",
      "source": [
        "\n"
      ],
      "metadata": {
        "id": "YGj6Ud9q09Yo"
      },
      "execution_count": null,
      "outputs": []
    },
    {
      "cell_type": "code",
      "source": [
        "np.linspace(0.1 , 1 , 20)"
      ],
      "metadata": {
        "colab": {
          "base_uri": "https://localhost:8080/"
        },
        "id": "NDLAtn343grd",
        "outputId": "1df491a9-9286-42f6-a5f2-7e547b5da8ec"
      },
      "execution_count": null,
      "outputs": [
        {
          "output_type": "execute_result",
          "data": {
            "text/plain": [
              "array([0.1       , 0.14736842, 0.19473684, 0.24210526, 0.28947368,\n",
              "       0.33684211, 0.38421053, 0.43157895, 0.47894737, 0.52631579,\n",
              "       0.57368421, 0.62105263, 0.66842105, 0.71578947, 0.76315789,\n",
              "       0.81052632, 0.85789474, 0.90526316, 0.95263158, 1.        ])"
            ]
          },
          "metadata": {},
          "execution_count": 66
        }
      ]
    },
    {
      "cell_type": "markdown",
      "source": [],
      "metadata": {
        "id": "-JTCynDn5_dV"
      }
    },
    {
      "cell_type": "code",
      "source": [
        "# sequence_weight\n",
        "np.power(2, np.linspace(0.1 , 1 , 20))[::-1] -1"
      ],
      "metadata": {
        "colab": {
          "base_uri": "https://localhost:8080/"
        },
        "id": "JIBNB3NO3v2o",
        "outputId": "36ea0bc0-76d2-4ffc-d54c-624c3f7fa1cf"
      },
      "execution_count": null,
      "outputs": [
        {
          "output_type": "execute_result",
          "data": {
            "text/plain": [
              "array([1.        , 0.93539975, 0.87288609, 0.81239163, 0.75385116,\n",
              "       0.69720154, 0.64238172, 0.58933258, 0.53799694, 0.48831944,\n",
              "       0.44024654, 0.39372639, 0.34870885, 0.30514539, 0.26298903,\n",
              "       0.22219432, 0.18271729, 0.14451537, 0.10754738, 0.07177346])"
            ]
          },
          "metadata": {},
          "execution_count": 69
        }
      ]
    },
    {
      "cell_type": "code",
      "source": [],
      "metadata": {
        "id": "qwKZpPLzoO00"
      },
      "execution_count": null,
      "outputs": []
    },
    {
      "cell_type": "code",
      "execution_count": 60,
      "outputs": [],
      "source": [
        "recs ={}\n",
        "# del cnts\n",
        "# del test_user_label\n",
        "# del topk\n",
        "# 만들기 전 메모리 관리 \n",
        "for user in test_user_seq_log['user_id'].values: \n",
        "  str_user = 'user_'+str(user)\n",
        "  recs[str_user] = {'recs' :list(map(lambda x: 'item_'+str(x), result_clicks[user])), 'gt' : test_user_label[str_user][0] }\n",
        "hit_20  = hit(recs,20)"
      ],
      "metadata": {
        "pycharm": {
          "name": "#%%\n"
        },
        "id": "ylqYUPx6tuX2"
      }
    },
    {
      "cell_type": "code",
      "source": [
        "# no time-weighted only last 20 \n",
        "# 0.16 , only popularity\n",
        "hit_20"
      ],
      "metadata": {
        "colab": {
          "base_uri": "https://localhost:8080/"
        },
        "id": "uCJXjyB8zkfN",
        "outputId": "1e023ef2-bfac-471f-9185-462b117430d5"
      },
      "execution_count": 61,
      "outputs": [
        {
          "output_type": "execute_result",
          "data": {
            "text/plain": [
              "0.16606863823137913"
            ]
          },
          "metadata": {},
          "execution_count": 61
        }
      ]
    },
    {
      "cell_type": "code",
      "source": [
        "# no time-weighted only last 20 \n",
        "# 0.16 , only popularity\n",
        "hit_10  = hit(recs,10)"
      ],
      "metadata": {
        "id": "TrzZxGXjzqbc"
      },
      "execution_count": 62,
      "outputs": []
    },
    {
      "cell_type": "code",
      "source": [
        "hit_10"
      ],
      "metadata": {
        "colab": {
          "base_uri": "https://localhost:8080/"
        },
        "id": "zlI-Ju770s_h",
        "outputId": "b1630637-f134-4842-80d6-c18171a99fc2"
      },
      "execution_count": 63,
      "outputs": [
        {
          "output_type": "execute_result",
          "data": {
            "text/plain": [
              "0.15580796818988027"
            ]
          },
          "metadata": {},
          "execution_count": 63
        }
      ]
    },
    {
      "cell_type": "code",
      "source": [],
      "metadata": {
        "id": "8ZyNdQcR0u5d"
      },
      "execution_count": null,
      "outputs": []
    },
    {
      "cell_type": "code",
      "source": [
        "# 0.24 , baseline metric 의 경우에는 hit_10이 0.19로 많이 떨어지는 편이다\n",
        "# time weighted 는 \n",
        "# if 0 <= time_diff <= 300: w = 5\n",
        "# elif 300< time_diff <= 600: w = 4\n",
        "# elif 600< time_diff <=1800: w = 3\n",
        "# elif 1800 < time_diff <=3600: w = 2\n",
        "# elif 3600 < time_diff <= 3600 * 6: w = 1 이렇게 줬을 때의 결과값\n",
        "\n",
        "hit_20"
      ],
      "metadata": {
        "colab": {
          "base_uri": "https://localhost:8080/"
        },
        "id": "gtVjSbGDrwsT",
        "outputId": "e7333ac3-d4e8-4d0d-ee91-abea006fc505"
      },
      "execution_count": 56,
      "outputs": [
        {
          "output_type": "execute_result",
          "data": {
            "text/plain": [
              "0.242431309001406"
            ]
          },
          "metadata": {},
          "execution_count": 56
        }
      ]
    },
    {
      "cell_type": "code",
      "source": [
        "hit_1  = hit(recs,1)"
      ],
      "metadata": {
        "id": "oXIct481r4EV"
      },
      "execution_count": 57,
      "outputs": []
    },
    {
      "cell_type": "code",
      "source": [
        "hit_1"
      ],
      "metadata": {
        "colab": {
          "base_uri": "https://localhost:8080/"
        },
        "id": "UV3p31cksGeE",
        "outputId": "a38c28e0-bcc6-44d2-91d8-12693b2d0c28"
      },
      "execution_count": 58,
      "outputs": [
        {
          "output_type": "execute_result",
          "data": {
            "text/plain": [
              "0.0"
            ]
          },
          "metadata": {},
          "execution_count": 58
        }
      ]
    },
    {
      "cell_type": "code",
      "source": [
        "ndcg_10  = ndcg(recs,10)"
      ],
      "metadata": {
        "id": "aJAKov5HsHAy"
      },
      "execution_count": 59,
      "outputs": []
    },
    {
      "cell_type": "code",
      "source": [
        "ndcg_10"
      ],
      "metadata": {
        "colab": {
          "base_uri": "https://localhost:8080/"
        },
        "id": "ZLwRaVcwsI_v",
        "outputId": "528def71-a4de-4f3e-d14a-25c2dcb5fe0b"
      },
      "execution_count": 60,
      "outputs": [
        {
          "output_type": "execute_result",
          "data": {
            "text/plain": [
              "0.09579339900110684"
            ]
          },
          "metadata": {},
          "execution_count": 60
        }
      ]
    },
    {
      "cell_type": "code",
      "source": [],
      "metadata": {
        "id": "FTqDyemgsLKV"
      },
      "execution_count": null,
      "outputs": []
    }
  ],
  "metadata": {
    "kernelspec": {
      "display_name": "Python 3",
      "language": "python",
      "name": "python3"
    },
    "language_info": {
      "codemirror_mode": {
        "name": "ipython",
        "version": 2
      },
      "file_extension": ".py",
      "mimetype": "text/x-python",
      "name": "python",
      "nbconvert_exporter": "python",
      "pygments_lexer": "ipython2",
      "version": "2.7.6"
    },
    "colab": {
      "provenance": [],
      "machine_shape": "hm",
      "include_colab_link": true
    },
    "accelerator": "GPU",
    "gpuClass": "standard"
  },
  "nbformat": 4,
  "nbformat_minor": 0
}
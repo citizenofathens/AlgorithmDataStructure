{
 "cells": [
  {
   "cell_type": "code",
   "execution_count": 1,
   "metadata": {},
   "outputs": [],
   "source": [
    "list(map(int,input().split()))"
   ]
  },
  {
   "cell_type": "code",
   "execution_count": null,
   "metadata": {},
   "outputs": [],
   "source": [
    "\n",
    "문자열에서\n",
    "\n",
    "탐색을 그러면 어떻게 해야하지?"
   ]
  },
  {
   "cell_type": "markdown",
   "metadata": {},
   "source": [
    "행동의 최소 횟수\n",
    "\n",
    "결국  000100100\n",
    "\n",
    "연속된 게 적은 문자열을 뒤집는 게 좋다\n",
    "\n",
    "그 카운트를 어떻게하지  ?\n",
    "\n",
    "\n",
    "\n",
    "해쉬로? \n",
    "문자열 count? \n",
    "\n"
   ]
  },
  {
   "cell_type": "code",
   "execution_count": 13,
   "metadata": {},
   "outputs": [],
   "source": [
    "cards = '11101101'"
   ]
  },
  {
   "cell_type": "code",
   "execution_count": 15,
   "metadata": {},
   "outputs": [
    {
     "data": {
      "text/plain": [
       "2"
      ]
     },
     "execution_count": 15,
     "metadata": {},
     "output_type": "execute_result"
    }
   ],
   "source": [
    "#split하고 개수 찾는 건 당연히 틀리다\n",
    "# 그리디는 만족하는 적합한 해를 찾는 알고리즘이지 최적의 해 를 찾는 건 아니다\n",
    "#정당성 분석을 통해 최적의 해를 찾으려고만 하지 않는 사고를 할 것 \n",
    "# 바뀌는 횟수를 https://runa-nam.tistory.com/57\n",
    "cards.split(\"1\")\n",
    "\n",
    "# 알고리즘 마다 키워드 문장 필요하다,\n",
    "\n",
    "# 그리디는 정당성 분석을 통해 최적의 알고리즘 찾기\n",
    "# 500원이 나머지의 배수니까 다른 해가 안나온다. 이런 것\n",
    "\n",
    "# dp는 바킹독 알고리즘 참고\n",
    "# 초기값 정의하고 점화식 찾기ㅣ\n",
    "# 그저 묵묵히 하는 건 역시 나랑 안맞는다 그건 최적의 해를 찾으려고 완벽해지려느 ㄴ것 너무\n",
    "\n",
    "# 진짜 실력을 보여줘야하고 화내야하는 데 화못내는상황에서나그렇게, ; 열받는데 이상하게해가지고\n",
    "\n",
    "\n",
    "\n",
    "# "
   ]
  },
  {
   "cell_type": "code",
   "execution_count": null,
   "metadata": {},
   "outputs": [],
   "source": [
    "cards.split('')"
   ]
  },
  {
   "cell_type": "code",
   "execution_count": null,
   "metadata": {},
   "outputs": [],
   "source": [
    "\n"
   ]
  }
 ],
 "metadata": {
  "kernelspec": {
   "display_name": "Python 3",
   "language": "python",
   "name": "python3"
  },
  "language_info": {
   "codemirror_mode": {
    "name": "ipython",
    "version": 3
   },
   "file_extension": ".py",
   "mimetype": "text/x-python",
   "name": "python",
   "nbconvert_exporter": "python",
   "pygments_lexer": "ipython3",
   "version": "3.11.3"
  },
  "orig_nbformat": 4
 },
 "nbformat": 4,
 "nbformat_minor": 2
}

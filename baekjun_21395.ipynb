{
 "cells": [
  {
   "cell_type": "code",
   "execution_count": null,
   "metadata": {},
   "outputs": [],
   "source": [
    "# 최소한의 벌점 출력하기 위해서 greedy 알고리즘을 사용해서 해결한다\n",
    "# greddy 는 뭐였지 ? \n",
    "\n",
    "# \n",
    "\n",
    "input_list =list(map(int, input().split()))"
   ]
  },
  {
   "cell_type": "code",
   "execution_count": 1,
   "metadata": {},
   "outputs": [
    {
     "ename": "NameError",
     "evalue": "name 'input_list' is not defined",
     "output_type": "error",
     "traceback": [
      "\u001b[1;31m---------------------------------------------------------------------------\u001b[0m",
      "\u001b[1;31mNameError\u001b[0m                                 Traceback (most recent call last)",
      "Cell \u001b[1;32mIn[1], line 7\u001b[0m\n\u001b[0;32m      1\u001b[0m \u001b[39m# 전체 테스트케이스 4\u001b[39;00m\n\u001b[0;32m      2\u001b[0m \u001b[39m# 가장 가까운 소수를 찾는다\u001b[39;00m\n\u001b[0;32m      3\u001b[0m \n\u001b[0;32m      4\u001b[0m \u001b[39m# 3은 숫자의 개수\u001b[39;00m\n\u001b[1;32m----> 7\u001b[0m \u001b[39mfor\u001b[39;00m test \u001b[39min\u001b[39;00m input_list:\n\u001b[0;32m      8\u001b[0m     \u001b[39mprint\u001b[39m(test)\n\u001b[0;32m      9\u001b[0m \u001b[39m# 이미 있는 소수라면?\u001b[39;00m\n",
      "\u001b[1;31mNameError\u001b[0m: name 'input_list' is not defined"
     ]
    }
   ],
   "source": [
    "\n",
    "# 전체 테스트케이스 4\n",
    "# 가장 가까운 소수를 찾는다\n",
    "\n",
    "# 3은 숫자의 개수\n",
    "\n",
    "\n",
    "for test in input_list:\n",
    "    print(test)\n",
    "# 이미 있는 소수라면?\n",
    "\n"
   ]
  },
  {
   "cell_type": "code",
   "execution_count": 5,
   "metadata": {},
   "outputs": [],
   "source": [
    "# 소수인지 검색을 한다\n",
    "def is_prime(number):\n",
    "    for i in range(2,number //2+1):\n",
    "        if number%i == 0:\n",
    "            return False    \n",
    "    return True"
   ]
  },
  {
   "cell_type": "code",
   "execution_count": null,
   "metadata": {},
   "outputs": [],
   "source": [
    "# 하나씩 순회하면서 소수인지 체크하고, 정렬을 한다\n",
    "\n",
    "# 연속한 소수라면? 가장 최소의 벌점을 받으면서 연속한 소수로 만들려면\n",
    "# 정렬하고 나서 작은 수부터 가까운 소수로 만들어야 한다\n",
    "\n",
    "number_list = sort(number_list)"
   ]
  },
  {
   "cell_type": "code",
   "execution_count": 6,
   "metadata": {},
   "outputs": [],
   "source": [
    "# 가장 가까우 소수를 찾는 함수\n",
    "def get_prime_list(): # 이걸 만드는 걸 좀 아니다 싶다고 생각했다\n",
    "    primes = [i for i in range(1, 100001) if is_prime(i)]\n",
    "    return primes"
   ]
  },
  {
   "cell_type": "code",
   "execution_count": null,
   "metadata": {},
   "outputs": [],
   "source": [
    "\n",
    "def make_prime(number):\n",
    "    "
   ]
  }
 ],
 "metadata": {
  "kernelspec": {
   "display_name": "Python 3",
   "language": "python",
   "name": "python3"
  },
  "language_info": {
   "codemirror_mode": {
    "name": "ipython",
    "version": 3
   },
   "file_extension": ".py",
   "mimetype": "text/x-python",
   "name": "python",
   "nbconvert_exporter": "python",
   "pygments_lexer": "ipython3",
   "version": "3.11.4"
  },
  "orig_nbformat": 4
 },
 "nbformat": 4,
 "nbformat_minor": 2
}

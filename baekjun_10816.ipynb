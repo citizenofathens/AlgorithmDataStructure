{
 "cells": [
  {
   "cell_type": "code",
   "execution_count": 1,
   "metadata": {},
   "outputs": [
    {
     "name": "stderr",
     "output_type": "stream",
     "text": [
      "\n",
      "KeyboardInterrupt\n",
      "\n"
     ]
    }
   ],
   "source": [
    "int(map(input.split()))"
   ]
  },
  {
   "cell_type": "code",
   "execution_count": 3,
   "metadata": {},
   "outputs": [
    {
     "ename": "SyntaxError",
     "evalue": "invalid syntax (553665169.py, line 6)",
     "output_type": "error",
     "traceback": [
      "\u001b[1;36m  Cell \u001b[1;32mIn[3], line 6\u001b[1;36m\u001b[0m\n\u001b[1;33m    몇 개나 가지고 있을까\u001b[0m\n\u001b[1;37m      ^\u001b[0m\n\u001b[1;31mSyntaxError\u001b[0m\u001b[1;31m:\u001b[0m invalid syntax\n"
     ]
    }
   ],
   "source": [
    "#숫자 카드 n개 에서 정수 M개 주어졌을때 이 정수 M개를 몇개나 가지고 있나\n",
    "#\n",
    "# 숫자 ㅏㅋ드 개수는 1부터 50만\n",
    "# \n",
    "# M : [13,23,2,33,]\n",
    "몇 개나 가지고 있을까\n",
    "\n",
    "# 각 숫자를 순회하면서 상근이가 몇개 가지고 있는지 체크? \n",
    "# 50만 x 50만이다\n",
    "\n",
    "# Counter 를 써야 되나\n",
    "\n",
    "#50만을 ?\n",
    "## \n",
    "from collections import Counter\n",
    "\n"
   ]
  },
  {
   "cell_type": "code",
   "execution_count": 4,
   "metadata": {},
   "outputs": [],
   "source": [
    "from collections import"
   ]
  },
  {
   "cell_type": "code",
   "execution_count": null,
   "metadata": {},
   "outputs": [],
   "source": [
    "# 완전탐색? 그걸 왜내, 아니 완전탐색하려면\n",
    "# 그래 이분탐색이란 게 있었찌 , 이거같다, 해시는 counter고, 해시값으로 저장하는\n",
    "# 첫번째부터 상근이가 가지고 있는걸 다찾아야하잖아\n",
    "# 찾을 때 어떻게 찾을껀지, 별찍기할때 공간을 본것처럼\n",
    "# 리스트를 하나하나 검사 앞에서부터?\n",
    "# 일단 값을 정렬하고\n",
    "# 그냥 카운터에 각각을 더하고 겹치는 거 counting 해야하면되지않나\n",
    "\n",
    "#이게 내 고민\n",
    "\n",
    "#그래 역시 정렬을 하고나서 \n",
    "\n",
    "#이분탐색을 하려면 값의 범위를 줄여나간다\n",
    "target_value를 중간값으로 해서\n",
    "# 해당 리스트에\n",
    "\n",
    "#"
   ]
  },
  {
   "cell_type": "code",
   "execution_count": 3,
   "metadata": {},
   "outputs": [],
   "source": []
  },
  {
   "cell_type": "code",
   "execution_count": 7,
   "metadata": {},
   "outputs": [],
   "source": [
    "card_set = set([6,3,2,3])"
   ]
  },
  {
   "cell_type": "code",
   "execution_count": 8,
   "metadata": {},
   "outputs": [
    {
     "data": {
      "text/plain": [
       "{2, 3, 6}"
      ]
     },
     "execution_count": 8,
     "metadata": {},
     "output_type": "execute_result"
    }
   ],
   "source": [
    "card_set"
   ]
  },
  {
   "cell_type": "code",
   "execution_count": null,
   "metadata": {},
   "outputs": [],
   "source": []
  },
  {
   "cell_type": "code",
   "execution_count": null,
   "metadata": {},
   "outputs": [],
   "source": []
  },
  {
   "cell_type": "code",
   "execution_count": 1,
   "metadata": {},
   "outputs": [],
   "source": [
    "a = input()"
   ]
  },
  {
   "cell_type": "code",
   "execution_count": 4,
   "metadata": {},
   "outputs": [],
   "source": [
    "from sys import stdin\n",
    "import sys"
   ]
  },
  {
   "cell_type": "code",
   "execution_count": 5,
   "metadata": {},
   "outputs": [],
   "source": [
    "M=int(sys.stdin.readline())"
   ]
  },
  {
   "cell_type": "code",
   "execution_count": 1,
   "metadata": {},
   "outputs": [],
   "source": [
    "n,m = map(int, input().split()) # 앞의 글자는 n, 뒤의 글자는 m으로 할당됨."
   ]
  },
  {
   "cell_type": "code",
   "execution_count": null,
   "metadata": {},
   "outputs": [],
   "source": []
  },
  {
   "cell_type": "code",
   "execution_count": null,
   "metadata": {},
   "outputs": [],
   "source": [
    "N = stdin.readline()"
   ]
  },
  {
   "cell_type": "code",
   "execution_count": null,
   "metadata": {},
   "outputs": [],
   "source": [
    "\n",
    "def binary_search(arr,start,end,number):\n",
    "    # 개발 하다 보면  예외 사항이나 영향도 고려해야하는데 이런 조건문 생각하는게그렇다\n",
    "    if start > end:\n",
    "        return 0 # error\n",
    "    \n",
    "    # 중간 값을 따로 찾아야 된다 그래야 빨리 찾으니까\n",
    "    # 이분을 해서 계속 탐색해나가는 것 ,하나씩 찾을 수 없으니 \n",
    "    m = (start+end)//2\n",
    "    \n",
    "    \n",
    "\n",
    "    if n < arr[mid]:\n",
    "        binary_search(n, N,start,m-1)\n",
    "    elif n > arr[mid]:\n",
    "        binary_search(n,N, m+1,end)\n",
    "    elif n == arr[mid]:\n",
    "        return N[start:end+1].count(m)\n",
    "    \n",
    "\n",
    "for n in N:\n",
    "    start = 0\n",
    "    end = len(arr)- 1\n",
    "    n_dic[n] = binary_search(n,N,start,end)."
   ]
  },
  {
   "cell_type": "code",
   "execution_count": null,
   "metadata": {},
   "outputs": [],
   "source": []
  }
 ],
 "metadata": {
  "kernelspec": {
   "display_name": "Python 3",
   "language": "python",
   "name": "python3"
  },
  "language_info": {
   "codemirror_mode": {
    "name": "ipython",
    "version": 3
   },
   "file_extension": ".py",
   "mimetype": "text/x-python",
   "name": "python",
   "nbconvert_exporter": "python",
   "pygments_lexer": "ipython3",
   "version": "3.11.3"
  },
  "orig_nbformat": 4
 },
 "nbformat": 4,
 "nbformat_minor": 2
}

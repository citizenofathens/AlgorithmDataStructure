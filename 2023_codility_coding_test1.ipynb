{
 "cells": [
  {
   "cell_type": "code",
   "execution_count": null,
   "metadata": {
    "collapsed": true
   },
   "outputs": [],
   "source": [
    "def solution(S):\n",
    "    # Convert string to list of integers\n",
    "    S = [int(i) for i in S]\n",
    "\n",
    "    # Initialize stack\n",
    "    stack = []\n",
    "\n",
    "    # Iterate over the list\n",
    "    for num in S:\n",
    "        while stack and stack[-1] + num <= 9:\n",
    "            top = stack.pop()\n",
    "            num += top\n",
    "        stack.append(num)\n",
    "\n",
    "    # Convert result list back to string and return it\n",
    "    return ''.join(str(i) for i in stack)\n",
    "# 좀 더 잘하려고 하기 자유자재로, 영어처럼 그렇게 문제해결하고나서는\n",
    "#\n",
    "#"
   ]
  },
  {
   "cell_type": "code",
   "execution_count": null,
   "outputs": [],
   "source": [],
   "metadata": {
    "collapsed": false
   }
  },
  {
   "cell_type": "code",
   "execution_count": null,
   "outputs": [],
   "source": [],
   "metadata": {
    "collapsed": false
   }
  },
  {
   "cell_type": "markdown",
   "source": [],
   "metadata": {
    "collapsed": false
   }
  },
  {
   "cell_type": "markdown",
   "source": [],
   "metadata": {
    "collapsed": false
   }
  },
  {
   "cell_type": "code",
   "execution_count": null,
   "outputs": [],
   "source": [],
   "metadata": {
    "collapsed": false
   }
  },
  {
   "cell_type": "code",
   "execution_count": 2,
   "outputs": [],
   "source": [
    "S = \"1119812\""
   ],
   "metadata": {
    "collapsed": false,
    "ExecuteTime": {
     "end_time": "2023-09-25T10:35:25.665676100Z",
     "start_time": "2023-09-25T10:35:25.660322Z"
    }
   }
  },
  {
   "cell_type": "code",
   "execution_count": 3,
   "outputs": [],
   "source": [
    "stack = [1,2,3,4]"
   ],
   "metadata": {
    "collapsed": false,
    "ExecuteTime": {
     "end_time": "2023-09-25T10:35:25.803581500Z",
     "start_time": "2023-09-25T10:35:25.790541100Z"
    }
   }
  },
  {
   "cell_type": "code",
   "execution_count": 4,
   "outputs": [
    {
     "data": {
      "text/plain": "4"
     },
     "execution_count": 4,
     "metadata": {},
     "output_type": "execute_result"
    }
   ],
   "source": [
    "stack.pop()"
   ],
   "metadata": {
    "collapsed": false,
    "ExecuteTime": {
     "end_time": "2023-09-25T10:35:25.979935400Z",
     "start_time": "2023-09-25T10:35:25.933316300Z"
    }
   }
  },
  {
   "cell_type": "code",
   "execution_count": 4,
   "outputs": [],
   "source": [],
   "metadata": {
    "collapsed": false,
    "ExecuteTime": {
     "end_time": "2023-09-25T10:35:26.100803500Z",
     "start_time": "2023-09-25T10:35:26.079802400Z"
    }
   }
  },
  {
   "cell_type": "code",
   "execution_count": 5,
   "outputs": [],
   "source": [
    "S = \"1119812\""
   ],
   "metadata": {
    "collapsed": false,
    "ExecuteTime": {
     "end_time": "2023-09-25T10:35:26.246940300Z",
     "start_time": "2023-09-25T10:35:26.231522Z"
    }
   }
  },
  {
   "cell_type": "code",
   "execution_count": 43,
   "outputs": [],
   "source": [
    "def solution(S):\n",
    "    stack = [0]\n",
    "    i = 0\n",
    "     #근데 핵심근본은 천천히 생각하니 내가 뭐가문제인지 따져보고들어갈수있었고\n",
    "    # 정확한 내문제점을 파악하고 (잘못된사고습관, 알아도, 구현을 못하는 구현능력이 문제 ,\n",
    "    # 그리고 나서 올바른 사고과정을 갖고 문제를 해결해서 내적 문제점이 해소되는 단계에 이른다. 하지만 이 단계에서 첫 근본은 천천히 생각하고하다보니\n",
    "    # 왜 못푸는가 , 어떻게 풀어야하는가에 대한 생각을 계속해도 왜 안되는가 했는데\n",
    "    # 1.천천히 생각해도 안되고\n",
    "    #  2. 멈춰서 생각해서 개념이론이해하면 될것같은 느낌인데 그러면 다시 천천히 생각해보니까\n",
    "     # 그래서 둘 중 어느사고방식이 더 옳은가 싶었는데 2번이 맞다면 풀 수 있어야지, 직접 해보자!\n",
    "    # 가 결론이 나왔고 직접해보자니 구현을 역시 잘 못한다\n",
    "    # 그럼 다시 돌아왔다 구현을 잘하려면? 유튜브 보니 문제해결할떄 부분부분을 나누어서 생각하라고 했다\n",
    "    # 그런게 될까 싶어서 안했는데 잘못된 사고습관과 올바른 사고과정을 안따르는구나라는걸 스스로 좀 더 꺠닫고 한번 해보니까 확실히\n",
    "    # 부분 부분 나누자마자 구현할 때 더 생각이 잘 나서 구현하게 됐다\n",
    "    # 잘못된사고습관으로 인한 올바른 사고과정을 밟지않고 해결하려는 게 문제였다\n",
    "    # 올바른 사고과정은\n",
    "\n",
    "    # 이렇게 나누자마자 실전에서 해결하고 떠올릴 수 있고 구현 능력이 상승한다 -> 조금이라도 낫다 막히던 떄와 달리 , 그걸 느끼 는게 ,진짜네\n",
    "    # 문제 해결할 때 나누어서 사고 하도록 나눠보고 그 다음 핵심적으로 나노단위에 집중,0.1초에 집중 ,4점문제하나로대학이 갈리듯이 집중하면 된다\n",
    "\n",
    "    # 구현 능력 상승시키는 올바른 사고 과정-> 큰돌의 터전 네이버유튜브\n",
    "    # 그리고 나서  아래의 이런 방법적인 부분은 배우는 것 유튜브나 책을 통해\n",
    "    #\n",
    "    # 방법적인 부분 =================나눠라\n",
    "    #1. 인덱스 탐색하는 부분 -> i+=1 을 생각하게 했다\n",
    "    # 이렇ㄱ ㅔ나누니까 구현할 부분을 좀 더 수월하게 생각나서 구현하게 되었다 자연스레\n",
    "\n",
    "    #2. 두 숫자를 더하는 부분\n",
    "\n",
    "    # 3. 종료하는 부분\n",
    "    i=0\n",
    "\n",
    "    # i< len(S) -1 이면  len 이 5일때 4 보다 작은 3일때 4인덱스에도 접근못하므로 i< 조건은 틀리다\n",
    "    while i <= len(S)-1:\n",
    "        # 꺼내면 안된다\n",
    "        num = int(S[i])\n",
    "      #  stack.pop()\n",
    "        # 9 이하라면\n",
    "        # 가장 마지막에 더해지는 값이 계속 9보다 작다면\n",
    "        # 처음에 바로 stack에서 빼고 더하면 안된다\n",
    "\n",
    "        if i <= len(S) -1 and stack[-1]+num <=9:\n",
    "            val = stack.pop()\n",
    "            stack.append(val+num)\n",
    "        else:\n",
    "            stack.append(int(num))\n",
    "        i+=1\n",
    "    stack =  list(map(str,stack))\n",
    "    return ''.join(stack)"
   ],
   "metadata": {
    "collapsed": false,
    "ExecuteTime": {
     "end_time": "2023-09-25T10:39:38.603594400Z",
     "start_time": "2023-09-25T10:39:38.588613Z"
    }
   }
  },
  {
   "cell_type": "code",
   "execution_count": 44,
   "outputs": [],
   "source": [
    "S='32581'"
   ],
   "metadata": {
    "collapsed": false,
    "ExecuteTime": {
     "end_time": "2023-09-25T10:39:38.727805Z",
     "start_time": "2023-09-25T10:39:38.707902300Z"
    }
   }
  },
  {
   "cell_type": "code",
   "execution_count": 45,
   "outputs": [
    {
     "data": {
      "text/plain": "'559'"
     },
     "execution_count": 45,
     "metadata": {},
     "output_type": "execute_result"
    }
   ],
   "source": [
    "solution(S)"
   ],
   "metadata": {
    "collapsed": false,
    "ExecuteTime": {
     "end_time": "2023-09-25T10:39:38.847422900Z",
     "start_time": "2023-09-25T10:39:38.838188900Z"
    }
   }
  },
  {
   "cell_type": "code",
   "execution_count": 46,
   "outputs": [],
   "source": [
    "S=\"1119812\""
   ],
   "metadata": {
    "collapsed": false,
    "ExecuteTime": {
     "end_time": "2023-09-25T10:39:39.288898900Z",
     "start_time": "2023-09-25T10:39:39.273994900Z"
    }
   }
  },
  {
   "cell_type": "code",
   "execution_count": 47,
   "outputs": [
    {
     "data": {
      "text/plain": "'3992'"
     },
     "execution_count": 47,
     "metadata": {},
     "output_type": "execute_result"
    }
   ],
   "source": [
    "solution(S) # 스스로 풀었다"
   ],
   "metadata": {
    "collapsed": false,
    "ExecuteTime": {
     "end_time": "2023-09-25T10:39:40.416440300Z",
     "start_time": "2023-09-25T10:39:40.407963100Z"
    }
   }
  },
  {
   "cell_type": "code",
   "execution_count": 48,
   "outputs": [],
   "source": [
    "S = \"32581\""
   ],
   "metadata": {
    "collapsed": false,
    "ExecuteTime": {
     "end_time": "2023-09-25T10:39:40.557102300Z",
     "start_time": "2023-09-25T10:39:40.531737800Z"
    }
   }
  },
  {
   "cell_type": "code",
   "execution_count": 49,
   "outputs": [
    {
     "data": {
      "text/plain": "'559'"
     },
     "execution_count": 49,
     "metadata": {},
     "output_type": "execute_result"
    }
   ],
   "source": [
    "solution(S) # 스스로 풀었다\n"
   ],
   "metadata": {
    "collapsed": false,
    "ExecuteTime": {
     "end_time": "2023-09-25T10:39:40.690393700Z",
     "start_time": "2023-09-25T10:39:40.680591800Z"
    }
   }
  },
  {
   "cell_type": "code",
   "execution_count": 31,
   "outputs": [],
   "source": [
    "S = \"226228\""
   ],
   "metadata": {
    "collapsed": false,
    "ExecuteTime": {
     "end_time": "2023-09-25T10:37:11.921830300Z",
     "start_time": "2023-09-25T10:37:11.908235200Z"
    }
   }
  },
  {
   "cell_type": "code",
   "execution_count": 32,
   "outputs": [
    {
     "data": {
      "text/plain": "'4828'"
     },
     "execution_count": 32,
     "metadata": {},
     "output_type": "execute_result"
    }
   ],
   "source": [
    "solution(S) # 스스로 풀었다\n"
   ],
   "metadata": {
    "collapsed": false,
    "ExecuteTime": {
     "end_time": "2023-09-25T10:37:12.058032700Z",
     "start_time": "2023-09-25T10:37:12.038025400Z"
    }
   }
  },
  {
   "cell_type": "code",
   "execution_count": 33,
   "outputs": [
    {
     "data": {
      "text/plain": "'4828'"
     },
     "execution_count": 33,
     "metadata": {},
     "output_type": "execute_result"
    }
   ],
   "source": [
    "solution(S) # 스스로 풀었다"
   ],
   "metadata": {
    "collapsed": false,
    "ExecuteTime": {
     "end_time": "2023-09-25T10:37:12.273861100Z",
     "start_time": "2023-09-25T10:37:12.257511700Z"
    }
   }
  },
  {
   "cell_type": "code",
   "execution_count": null,
   "outputs": [],
   "source": [],
   "metadata": {
    "collapsed": false
   }
  }
 ],
 "metadata": {
  "kernelspec": {
   "display_name": "Python 3",
   "language": "python",
   "name": "python3"
  },
  "language_info": {
   "codemirror_mode": {
    "name": "ipython",
    "version": 2
   },
   "file_extension": ".py",
   "mimetype": "text/x-python",
   "name": "python",
   "nbconvert_exporter": "python",
   "pygments_lexer": "ipython2",
   "version": "2.7.6"
  }
 },
 "nbformat": 4,
 "nbformat_minor": 0
}

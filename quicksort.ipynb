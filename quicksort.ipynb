{
 "cells": [
  {
   "cell_type": "code",
   "execution_count": 12,
   "metadata": {},
   "outputs": [],
   "source": [
    "def quicksort(partition):\n",
    "\n",
    "    if len(partition) <= 1:\n",
    "        return partition\n",
    "    \n",
    "    pivot =   partition[len(partition)//2]\n",
    "    \n",
    "    left_partition = []\n",
    "    right_parittion = []\n",
    "    equal_partition =[]\n",
    "    for el in partition:\n",
    "        if el < pivot:\n",
    "            left_partition.append(el)\n",
    "        elif el > pivot:\n",
    "            right_parittion.append(el)\n",
    "        else:\n",
    "            equal_partition.append(el)\n",
    "    return  quicksort(left_partition)+equal_partition+quicksort(right_parittion)\n",
    "    # left partition 을 따로 만드는 게 아니\n",
    "    # 숫자를 넘긴다 \n",
    "    # 분할 정복\n",
    "    \n",
    " \n",
    "\n",
    "    quicksort(left,right)\n",
    "\n",
    "    \n",
    "# c코드랑 너무 다르긴 한데 파이썬으로 리스트로도 짤 수 있다\n",
    "#https://gmlwjd9405.github.io/2018/05/10/algorithm-quick-sort.html "
   ]
  },
  {
   "cell_type": "code",
   "execution_count": 13,
   "metadata": {},
   "outputs": [
    {
     "data": {
      "text/plain": [
       "[1, 1, 5, 6, 7, 8, 24, 674]"
      ]
     },
     "execution_count": 13,
     "metadata": {},
     "output_type": "execute_result"
    }
   ],
   "source": [
    "quicksort([1,5,674,1,24,6,7,8])"
   ]
  },
  {
   "cell_type": "code",
   "execution_count": 10,
   "metadata": {},
   "outputs": [],
   "source": [
    "def quick_sort(arr):\n",
    "    if len(arr) <= 1:\n",
    "        return arr\n",
    "    pivot = arr[len(arr) // 2]\n",
    "    lesser_arr, equal_arr, greater_arr = [], [], []\n",
    "    for num in arr:\n",
    "        if num < pivot:\n",
    "            lesser_arr.append(num)\n",
    "        elif num > pivot:\n",
    "            greater_arr.append(num)\n",
    "        else:\n",
    "            equal_arr.append(num)\n",
    "    return quick_sort(lesser_arr) + equal_arr + quick_sort(greater_arr)"
   ]
  },
  {
   "cell_type": "code",
   "execution_count": 11,
   "metadata": {},
   "outputs": [
    {
     "data": {
      "text/plain": [
       "[1, 1, 5, 6, 7, 8, 24, 674]"
      ]
     },
     "execution_count": 11,
     "metadata": {},
     "output_type": "execute_result"
    }
   ],
   "source": [
    "quick_sort([1,5,674,1,24,6,7,8])"
   ]
  },
  {
   "cell_type": "code",
   "execution_count": null,
   "metadata": {},
   "outputs": [],
   "source": []
  }
 ],
 "metadata": {
  "kernelspec": {
   "display_name": "Python 3",
   "language": "python",
   "name": "python3"
  },
  "language_info": {
   "codemirror_mode": {
    "name": "ipython",
    "version": 3
   },
   "file_extension": ".py",
   "mimetype": "text/x-python",
   "name": "python",
   "nbconvert_exporter": "python",
   "pygments_lexer": "ipython3",
   "version": "3.11.3"
  },
  "orig_nbformat": 4
 },
 "nbformat": 4,
 "nbformat_minor": 2
}
